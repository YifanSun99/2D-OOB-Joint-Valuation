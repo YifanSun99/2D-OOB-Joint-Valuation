{
 "cells": [
  {
   "cell_type": "code",
   "execution_count": 1,
   "id": "9b7a64cb",
   "metadata": {},
   "outputs": [
    {
     "name": "stdout",
     "output_type": "stream",
     "text": [
      "36\n",
      "------------------------------\n",
      "{'n_data_to_be_valued': 5000, 'n_val': 500, 'n_test': 3000, 'n_trees': 800, 'masked_ratio': 0.5, 'is_noisy': 0.9, 'model_family': 'Tree', 'input_dim': 20, 'run_id': 0, 'rho': 0}\n",
      "--------------------------------------------------\n",
      "GAUSSIAN-C\n",
      "--------------------------------------------------\n",
      "Train X: (5000, 20)\n",
      "Val X: (500, 20)\n",
      "Test X: (3000, 20)\n",
      "------------------------------\n"
     ]
    }
   ],
   "source": [
    "import numpy as np\n",
    "import pandas as pd\n",
    "import tqdm\n",
    "from time import time\n",
    "import os\n",
    "\n",
    "import datasets\n",
    "from ensemble_DV_core import RandomForestClassifierDV, RandomForestRegressorDV\n",
    "from ensemble_DV_core_original import RandomForestClassifierDV_original, RandomForestRegressorDV_original\n",
    "from data_valuation import DataValuation\n",
    "import utils_eval\n",
    "import configs\n",
    "\n",
    "from sklearn.model_selection import train_test_split\n",
    "from sklearn import preprocessing\n",
    "import matplotlib.pyplot as plt\n",
    "import sage\n",
    "import shap\n",
    "import xgboost as xgb\n",
    "from scipy.stats import rankdata, ttest_ind\n",
    "\n",
    "import configs\n",
    "config = configs.config000CR()[1][0]\n",
    "problem = config['problem']\n",
    "dataset = config['dataset']\n",
    "dargs_list = config['dargs_list']\n",
    "dargs_ind = 0\n",
    "dargs = dargs_list[dargs_ind]\n",
    "\n",
    "if dataset != 'gaussian':\n",
    "    loo_run=True\n",
    "    betashap_run=True\n",
    "    AME_run=True \n",
    "    lasso_run=True\n",
    "    boosting_run=True\n",
    "    treeshap_run=True\n",
    "    removal_run=True\n",
    "    simple_run=False\n",
    "else:\n",
    "    loo_run=False\n",
    "    betashap_run=False\n",
    "    AME_run=False\n",
    "    lasso_run=False\n",
    "    boosting_run=False\n",
    "    treeshap_run=False\n",
    "    removal_run=False\n",
    "    simple_run=False\n",
    "\n",
    "print(len(dargs_list))\n",
    "(X, y), (X_val, y_val), (X_test, y_test), noisy_index, beta_true = datasets.load_data('clf','gaussian',**dargs)"
   ]
  },
  {
   "cell_type": "markdown",
   "id": "6be6e259",
   "metadata": {},
   "source": [
    "# loop"
   ]
  },
  {
   "cell_type": "code",
   "execution_count": 2,
   "id": "2c0cf2ea",
   "metadata": {},
   "outputs": [],
   "source": [
    "n_sim = 10\n",
    "\n",
    "n_dargs_ind_list = []\n",
    "for n in range(n_sim):\n",
    "    for dargs_ind in range(len(dargs_list)):\n",
    "        n_dargs_ind_list.append((n,dargs_ind))"
   ]
  },
  {
   "cell_type": "code",
   "execution_count": null,
   "id": "5d05aae4",
   "metadata": {},
   "outputs": [
    {
     "name": "stdout",
     "output_type": "stream",
     "text": [
      "**************************************************\n",
      "round:0\n",
      "--------------------------------------------------\n",
      "current dargs: 0 {'n_data_to_be_valued': 5000, 'n_val': 500, 'n_test': 3000, 'n_trees': 800, 'masked_ratio': 0.5, 'is_noisy': 0.1, 'model_family': 'Tree', 'input_dim': 20, 'run_id': 0, 'rho': 0}\n",
      "------------------------------\n",
      "{'n_data_to_be_valued': 5000, 'n_val': 500, 'n_test': 3000, 'n_trees': 800, 'masked_ratio': 0.5, 'is_noisy': 0.1, 'model_family': 'Tree', 'input_dim': 20, 'run_id': 0, 'rho': 0}\n",
      "--------------------------------------------------\n",
      "GAUSSIAN-C\n",
      "--------------------------------------------------\n",
      "Train X: (5000, 20)\n",
      "Val X: (500, 20)\n",
      "Test X: (3000, 20)\n",
      "------------------------------\n",
      "Start: Data-OOB computation\n",
      "Done: Data-OOB computation\n",
      "Start: DF-OOB computation\n",
      "Done: DF-OOB computation\n",
      "Start: SHAP computation\n"
     ]
    },
    {
     "name": "stderr",
     "output_type": "stream",
     "text": [
      "100%|===================| 9999/10000 [35:16<00:00]        "
     ]
    },
    {
     "name": "stdout",
     "output_type": "stream",
     "text": [
      "Done: SHAP computation\n",
      "--------------------------------------------------\n",
      "Save results\n",
      "--------------------------------------------------\n",
      "Done! path: C:\\Users\\yf-su\\Desktop\\XAI\\run_path_0, run_id: 0.\n",
      "**************************************************\n",
      "round:0\n",
      "--------------------------------------------------\n",
      "current dargs: 1 {'n_data_to_be_valued': 5000, 'n_val': 500, 'n_test': 3000, 'n_trees': 800, 'masked_ratio': 0.5, 'is_noisy': 0.1, 'model_family': 'Tree', 'input_dim': 20, 'run_id': 0, 'rho': 0.2}\n",
      "------------------------------\n",
      "{'n_data_to_be_valued': 5000, 'n_val': 500, 'n_test': 3000, 'n_trees': 800, 'masked_ratio': 0.5, 'is_noisy': 0.1, 'model_family': 'Tree', 'input_dim': 20, 'run_id': 0, 'rho': 0.2}\n",
      "--------------------------------------------------\n",
      "GAUSSIAN-C\n",
      "--------------------------------------------------\n",
      "Train X: (5000, 20)\n",
      "Val X: (500, 20)\n",
      "Test X: (3000, 20)\n",
      "------------------------------\n",
      "Start: Data-OOB computation\n",
      "Done: Data-OOB computation\n",
      "Start: DF-OOB computation\n",
      "Done: DF-OOB computation\n",
      "Start: SHAP computation\n"
     ]
    },
    {
     "name": "stderr",
     "output_type": "stream",
     "text": [
      "100%|===================| 9997/10000 [37:52<00:00]        "
     ]
    },
    {
     "name": "stdout",
     "output_type": "stream",
     "text": [
      "Done: SHAP computation\n",
      "--------------------------------------------------\n",
      "Save results\n",
      "--------------------------------------------------\n",
      "Done! path: C:\\Users\\yf-su\\Desktop\\XAI\\run_path_0, run_id: 0.\n",
      "**************************************************\n",
      "round:0\n",
      "--------------------------------------------------\n",
      "current dargs: 2 {'n_data_to_be_valued': 5000, 'n_val': 500, 'n_test': 3000, 'n_trees': 800, 'masked_ratio': 0.5, 'is_noisy': 0.1, 'model_family': 'Tree', 'input_dim': 20, 'run_id': 0, 'rho': 0.6}\n",
      "------------------------------\n",
      "{'n_data_to_be_valued': 5000, 'n_val': 500, 'n_test': 3000, 'n_trees': 800, 'masked_ratio': 0.5, 'is_noisy': 0.1, 'model_family': 'Tree', 'input_dim': 20, 'run_id': 0, 'rho': 0.6}\n",
      "--------------------------------------------------\n",
      "GAUSSIAN-C\n",
      "--------------------------------------------------\n",
      "Train X: (5000, 20)\n",
      "Val X: (500, 20)\n",
      "Test X: (3000, 20)\n",
      "------------------------------\n",
      "Start: Data-OOB computation\n",
      "Done: Data-OOB computation\n",
      "Start: DF-OOB computation\n",
      "Done: DF-OOB computation\n",
      "Start: SHAP computation\n"
     ]
    },
    {
     "name": "stderr",
     "output_type": "stream",
     "text": [
      " 39%|========            | 3882/10000 [16:47<26:27]       "
     ]
    }
   ],
   "source": [
    "for idx in range(len(n_dargs_ind_list)):\n",
    "    n_dargs_ind = n_dargs_ind_list[idx]\n",
    "    print('*'*50)\n",
    "    n,dargs_ind = n_dargs_ind\n",
    "    print(\"round:%s\"%n)\n",
    "    runpath = r'C:\\Users\\yf-su\\Desktop\\XAI\\run_path_%s'%n\n",
    "    if not os.path.exists(runpath):\n",
    "        os.makedirs(runpath)\n",
    "    print('-'*50)\n",
    "    dargs = dargs_list[dargs_ind]\n",
    "    print(\"current dargs:\",dargs_ind, dargs)\n",
    "    np.random.seed()\n",
    "\n",
    "    (X, y), (X_val, y_val), (X_test, y_test), noisy_index, beta_true = datasets.load_data('clf','gaussian',**dargs)\n",
    "\n",
    "    # engine initialization\n",
    "    data_valuation_engine=DataValuation(X=X, y=y, \n",
    "                                        X_val=X_val, y_val=y_val, \n",
    "                                        problem=problem, dargs=dargs)\n",
    "\n",
    "    # data_shap, feature_shap\n",
    "    data_valuation_engine.compute_data_shap(loo_run=loo_run, \n",
    "                                                betashap_run=betashap_run)\n",
    "    data_valuation_engine.compute_feature_shap(AME_run=AME_run,\n",
    "                                           lasso_run=lasso_run, \n",
    "                                           boosting_run=boosting_run,\n",
    "                                           treeshap_run=treeshap_run,\n",
    "                                           simple_run=simple_run)\n",
    "\n",
    "    data_valuation_engine.evaluate_data_values(noisy_index, beta_true, X_test, y_test, removal_run=removal_run)\n",
    "    data_valuation_engine.save_results(runpath, dataset, dargs_ind, noisy_index, beta_true)\n",
    "    \n",
    "    # check for replicate\n",
    "    if idx >= (len(dargs_list)):\n",
    "        n,dargs_ind = n_dargs_ind_list[idx - (len(dargs_list))]\n",
    "        past = np.load(r\"C:\\Users\\yf-su\\Desktop\\XAI\\run_path_%d\\run_id0_%d.pkl\"%(n,dargs_ind), allow_pickle = True)\n",
    "        if (data_valuation_engine.feature_value_dict['Base'] == past['feature_value']['Base']).all():\n",
    "            raise\n",
    "    del X, y, X_val, y_val, X_test, y_test"
   ]
  },
  {
   "cell_type": "code",
   "execution_count": null,
   "id": "0a86cc81",
   "metadata": {},
   "outputs": [],
   "source": []
  },
  {
   "cell_type": "code",
   "execution_count": null,
   "id": "872cfb3e",
   "metadata": {},
   "outputs": [],
   "source": []
  },
  {
   "cell_type": "code",
   "execution_count": null,
   "id": "94104c03",
   "metadata": {},
   "outputs": [],
   "source": []
  },
  {
   "cell_type": "code",
   "execution_count": null,
   "id": "15f4b2e2",
   "metadata": {},
   "outputs": [],
   "source": []
  },
  {
   "cell_type": "code",
   "execution_count": null,
   "id": "b37558f3",
   "metadata": {},
   "outputs": [],
   "source": []
  },
  {
   "cell_type": "code",
   "execution_count": null,
   "id": "c763b08b",
   "metadata": {},
   "outputs": [],
   "source": []
  },
  {
   "cell_type": "code",
   "execution_count": null,
   "id": "5356c22f",
   "metadata": {},
   "outputs": [],
   "source": []
  },
  {
   "cell_type": "code",
   "execution_count": null,
   "id": "ed2e74e8",
   "metadata": {},
   "outputs": [],
   "source": []
  }
 ],
 "metadata": {
  "kernelspec": {
   "display_name": "Python 3",
   "language": "python",
   "name": "python3"
  },
  "language_info": {
   "codemirror_mode": {
    "name": "ipython",
    "version": 3
   },
   "file_extension": ".py",
   "mimetype": "text/x-python",
   "name": "python",
   "nbconvert_exporter": "python",
   "pygments_lexer": "ipython3",
   "version": "3.8.8"
  }
 },
 "nbformat": 4,
 "nbformat_minor": 5
}
