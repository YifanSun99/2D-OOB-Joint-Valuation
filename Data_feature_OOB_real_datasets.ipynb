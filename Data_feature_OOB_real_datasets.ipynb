{
 "cells": [
  {
   "cell_type": "code",
   "execution_count": 1,
   "id": "9b7a64cb",
   "metadata": {},
   "outputs": [],
   "source": [
    "import numpy as np\n",
    "import pandas as pd\n",
    "import tqdm\n",
    "from time import time\n",
    "import os\n",
    "\n",
    "import configs\n",
    "import datasets\n",
    "from ensemble_DV_core_subset import RandomForestClassifierDV_subset, RandomForestRegressorDV_subset\n",
    "from ensemble_DV_core_original import RandomForestClassifierDV_original, RandomForestRegressorDV_original\n",
    "from data_valuation import DataValuation\n",
    "import utils_eval\n",
    "import matplotlib.pyplot as plt\n",
    "\n",
    "all_datasets = [\n",
    "#     configs.config000CR,\n",
    "    configs.config006CR,\n",
    "    configs.config001CR,\n",
    "    configs.config002CR,\n",
    "    configs.config003CR,\n",
    "    configs.config004CR,\n",
    "    configs.config005CR,\n",
    "    configs.config007CR,\n",
    "    configs.config008CR,\n",
    "    configs.config010CR,\n",
    "    configs.config011CR,\n",
    "    configs.config012CR]\n",
    "\n",
    "dataset_names = ['electricity','pol','jannis','lawschool','fried',\n",
    "                  'vehicle_sensIT','2dplanes','creditcard',\n",
    "                 'nomao','webdata_wXa','MiniBooNE']"
   ]
  },
  {
   "cell_type": "code",
   "execution_count": null,
   "id": "c73b0895",
   "metadata": {},
   "outputs": [],
   "source": []
  },
  {
   "cell_type": "code",
   "execution_count": 2,
   "id": "a0bc1330",
   "metadata": {},
   "outputs": [
    {
     "name": "stdout",
     "output_type": "stream",
     "text": [
      "0\n",
      "------------------------------\n",
      "{'experiment': 'feature_removal', 'n_train': 1000, 'n_val': 100, 'n_test': 3000, 'n_trees': 1000, 'clf_path': 'C:\\\\Users\\\\yf-su\\\\Desktop\\\\XAI\\\\df_oob\\\\openml_dataset', 'openml_clf_path': 'C:\\\\Users\\\\yf-su\\\\Desktop\\\\XAI\\\\df_oob\\\\openml_dataset', 'openml_reg_path': 'C:\\\\Users\\\\yf-su\\\\Desktop\\\\XAI\\\\df_oob\\\\openml_dataset', 'is_noisy': None, 'model_family': 'Tree', 'run_id': 0}\n",
      "--------------------------------------------------\n",
      "electricity\n",
      "--------------------------------------------------\n",
      "Train X: (1000, 6)\n",
      "Val X: (100, 6)\n",
      "Test X: (3000, 6)\n",
      "------------------------------\n",
      "Start: Data-OOB computation\n",
      "Done: Data-OOB computation\n",
      "Start: DF-OOB computation\n",
      "Done: DF-OOB computation\n",
      "Start: Learn-OOB computation\n",
      "Done: Learn-OOB computation\n",
      "Start: SHAP computation\n"
     ]
    },
    {
     "name": "stderr",
     "output_type": "stream",
     "text": [
      "\r",
      "  0%|                                                                                            | 0/5 [00:00<?, ?it/s]"
     ]
    },
    {
     "name": "stdout",
     "output_type": "stream",
     "text": [
      "Done: SHAP computation\n"
     ]
    },
    {
     "name": "stderr",
     "output_type": "stream",
     "text": [
      "100%|████████████████████████████████████████████████████████████████████████████████████| 5/5 [00:13<00:00,  2.75s/it]\n",
      "100%|████████████████████████████████████████████████████████████████████████████████████| 5/5 [00:15<00:00,  3.00s/it]\n",
      "100%|████████████████████████████████████████████████████████████████████████████████████| 5/5 [00:14<00:00,  3.00s/it]\n",
      "100%|████████████████████████████████████████████████████████████████████████████████████| 5/5 [00:11<00:00,  2.21s/it]"
     ]
    },
    {
     "name": "stdout",
     "output_type": "stream",
     "text": [
      "--------------------------------------------------\n",
      "Save results\n",
      "--------------------------------------------------\n",
      "Done! path: C:\\Users\\yf-su\\Desktop\\XAI\\experiments\\feature_removal_experiments_electricity, run_id: 0.\n"
     ]
    },
    {
     "name": "stderr",
     "output_type": "stream",
     "text": [
      "\n"
     ]
    },
    {
     "name": "stdout",
     "output_type": "stream",
     "text": [
      "1\n",
      "------------------------------\n",
      "{'experiment': 'feature_removal', 'n_train': 1000, 'n_val': 100, 'n_test': 3000, 'n_trees': 1000, 'clf_path': 'C:\\\\Users\\\\yf-su\\\\Desktop\\\\XAI\\\\df_oob\\\\openml_dataset', 'openml_clf_path': 'C:\\\\Users\\\\yf-su\\\\Desktop\\\\XAI\\\\df_oob\\\\openml_dataset', 'openml_reg_path': 'C:\\\\Users\\\\yf-su\\\\Desktop\\\\XAI\\\\df_oob\\\\openml_dataset', 'is_noisy': None, 'model_family': 'Tree', 'run_id': 1}\n",
      "--------------------------------------------------\n",
      "electricity\n",
      "--------------------------------------------------\n",
      "Train X: (1000, 6)\n",
      "Val X: (100, 6)\n",
      "Test X: (3000, 6)\n",
      "------------------------------\n",
      "Start: Data-OOB computation\n",
      "Done: Data-OOB computation\n",
      "Start: DF-OOB computation\n",
      "Done: DF-OOB computation\n",
      "Start: Learn-OOB computation\n",
      "Done: Learn-OOB computation\n",
      "Start: SHAP computation\n"
     ]
    },
    {
     "name": "stderr",
     "output_type": "stream",
     "text": [
      "\r",
      "  0%|                                                                                            | 0/5 [00:00<?, ?it/s]"
     ]
    },
    {
     "name": "stdout",
     "output_type": "stream",
     "text": [
      "Done: SHAP computation\n"
     ]
    },
    {
     "name": "stderr",
     "output_type": "stream",
     "text": [
      "100%|████████████████████████████████████████████████████████████████████████████████████| 5/5 [00:10<00:00,  2.15s/it]\n",
      "100%|████████████████████████████████████████████████████████████████████████████████████| 5/5 [00:09<00:00,  1.97s/it]\n",
      "100%|████████████████████████████████████████████████████████████████████████████████████| 5/5 [00:10<00:00,  2.05s/it]\n",
      "100%|████████████████████████████████████████████████████████████████████████████████████| 5/5 [00:11<00:00,  2.21s/it]"
     ]
    },
    {
     "name": "stdout",
     "output_type": "stream",
     "text": [
      "--------------------------------------------------\n",
      "Save results\n",
      "--------------------------------------------------\n",
      "Done! path: C:\\Users\\yf-su\\Desktop\\XAI\\experiments\\feature_removal_experiments_electricity, run_id: 1.\n"
     ]
    },
    {
     "name": "stderr",
     "output_type": "stream",
     "text": [
      "\n"
     ]
    },
    {
     "name": "stdout",
     "output_type": "stream",
     "text": [
      "2\n",
      "------------------------------\n",
      "{'experiment': 'feature_removal', 'n_train': 1000, 'n_val': 100, 'n_test': 3000, 'n_trees': 1000, 'clf_path': 'C:\\\\Users\\\\yf-su\\\\Desktop\\\\XAI\\\\df_oob\\\\openml_dataset', 'openml_clf_path': 'C:\\\\Users\\\\yf-su\\\\Desktop\\\\XAI\\\\df_oob\\\\openml_dataset', 'openml_reg_path': 'C:\\\\Users\\\\yf-su\\\\Desktop\\\\XAI\\\\df_oob\\\\openml_dataset', 'is_noisy': None, 'model_family': 'Tree', 'run_id': 2}\n",
      "--------------------------------------------------\n",
      "electricity\n",
      "--------------------------------------------------\n",
      "Train X: (1000, 6)\n",
      "Val X: (100, 6)\n",
      "Test X: (3000, 6)\n",
      "------------------------------\n",
      "Start: Data-OOB computation\n",
      "Done: Data-OOB computation\n",
      "Start: DF-OOB computation\n",
      "Done: DF-OOB computation\n",
      "Start: Learn-OOB computation\n",
      "Done: Learn-OOB computation\n",
      "Start: SHAP computation\n"
     ]
    },
    {
     "name": "stderr",
     "output_type": "stream",
     "text": [
      "\r",
      "  0%|                                                                                            | 0/5 [00:00<?, ?it/s]"
     ]
    },
    {
     "name": "stdout",
     "output_type": "stream",
     "text": [
      "Done: SHAP computation\n"
     ]
    },
    {
     "name": "stderr",
     "output_type": "stream",
     "text": [
      "100%|████████████████████████████████████████████████████████████████████████████████████| 5/5 [00:19<00:00,  3.87s/it]\n",
      "100%|████████████████████████████████████████████████████████████████████████████████████| 5/5 [00:16<00:00,  3.39s/it]\n",
      "100%|████████████████████████████████████████████████████████████████████████████████████| 5/5 [00:26<00:00,  5.28s/it]\n",
      "100%|████████████████████████████████████████████████████████████████████████████████████| 5/5 [00:29<00:00,  5.80s/it]"
     ]
    },
    {
     "name": "stdout",
     "output_type": "stream",
     "text": [
      "--------------------------------------------------\n",
      "Save results\n",
      "--------------------------------------------------\n",
      "Done! path: C:\\Users\\yf-su\\Desktop\\XAI\\experiments\\feature_removal_experiments_electricity, run_id: 2.\n"
     ]
    },
    {
     "name": "stderr",
     "output_type": "stream",
     "text": [
      "\n"
     ]
    },
    {
     "name": "stdout",
     "output_type": "stream",
     "text": [
      "3\n",
      "------------------------------\n",
      "{'experiment': 'feature_removal', 'n_train': 1000, 'n_val': 100, 'n_test': 3000, 'n_trees': 1000, 'clf_path': 'C:\\\\Users\\\\yf-su\\\\Desktop\\\\XAI\\\\df_oob\\\\openml_dataset', 'openml_clf_path': 'C:\\\\Users\\\\yf-su\\\\Desktop\\\\XAI\\\\df_oob\\\\openml_dataset', 'openml_reg_path': 'C:\\\\Users\\\\yf-su\\\\Desktop\\\\XAI\\\\df_oob\\\\openml_dataset', 'is_noisy': None, 'model_family': 'Tree', 'run_id': 3}\n",
      "--------------------------------------------------\n",
      "electricity\n",
      "--------------------------------------------------\n",
      "Train X: (1000, 6)\n",
      "Val X: (100, 6)\n",
      "Test X: (3000, 6)\n",
      "------------------------------\n",
      "Start: Data-OOB computation\n",
      "Done: Data-OOB computation\n",
      "Start: DF-OOB computation\n",
      "Done: DF-OOB computation\n",
      "Start: Learn-OOB computation\n",
      "Done: Learn-OOB computation\n",
      "Start: SHAP computation\n"
     ]
    },
    {
     "name": "stderr",
     "output_type": "stream",
     "text": [
      "\r",
      "  0%|                                                                                            | 0/5 [00:00<?, ?it/s]"
     ]
    },
    {
     "name": "stdout",
     "output_type": "stream",
     "text": [
      "Done: SHAP computation\n"
     ]
    },
    {
     "name": "stderr",
     "output_type": "stream",
     "text": [
      "100%|████████████████████████████████████████████████████████████████████████████████████| 5/5 [00:25<00:00,  5.19s/it]\n",
      "100%|████████████████████████████████████████████████████████████████████████████████████| 5/5 [00:19<00:00,  3.80s/it]\n",
      "100%|████████████████████████████████████████████████████████████████████████████████████| 5/5 [00:20<00:00,  4.08s/it]\n",
      "100%|████████████████████████████████████████████████████████████████████████████████████| 5/5 [00:17<00:00,  3.52s/it]"
     ]
    },
    {
     "name": "stdout",
     "output_type": "stream",
     "text": [
      "--------------------------------------------------\n",
      "Save results\n",
      "--------------------------------------------------\n",
      "Done! path: C:\\Users\\yf-su\\Desktop\\XAI\\experiments\\feature_removal_experiments_electricity, run_id: 3.\n"
     ]
    },
    {
     "name": "stderr",
     "output_type": "stream",
     "text": [
      "\n"
     ]
    },
    {
     "name": "stdout",
     "output_type": "stream",
     "text": [
      "4\n",
      "------------------------------\n",
      "{'experiment': 'feature_removal', 'n_train': 1000, 'n_val': 100, 'n_test': 3000, 'n_trees': 1000, 'clf_path': 'C:\\\\Users\\\\yf-su\\\\Desktop\\\\XAI\\\\df_oob\\\\openml_dataset', 'openml_clf_path': 'C:\\\\Users\\\\yf-su\\\\Desktop\\\\XAI\\\\df_oob\\\\openml_dataset', 'openml_reg_path': 'C:\\\\Users\\\\yf-su\\\\Desktop\\\\XAI\\\\df_oob\\\\openml_dataset', 'is_noisy': None, 'model_family': 'Tree', 'run_id': 4}\n",
      "--------------------------------------------------\n",
      "electricity\n",
      "--------------------------------------------------\n",
      "Train X: (1000, 6)\n",
      "Val X: (100, 6)\n",
      "Test X: (3000, 6)\n",
      "------------------------------\n",
      "Start: Data-OOB computation\n",
      "Done: Data-OOB computation\n",
      "Start: DF-OOB computation\n",
      "Done: DF-OOB computation\n",
      "Start: Learn-OOB computation\n",
      "Done: Learn-OOB computation\n",
      "Start: SHAP computation\n"
     ]
    },
    {
     "name": "stderr",
     "output_type": "stream",
     "text": [
      "\r",
      "  0%|                                                                                            | 0/5 [00:00<?, ?it/s]"
     ]
    },
    {
     "name": "stdout",
     "output_type": "stream",
     "text": [
      "Done: SHAP computation\n"
     ]
    },
    {
     "name": "stderr",
     "output_type": "stream",
     "text": [
      "100%|████████████████████████████████████████████████████████████████████████████████████| 5/5 [00:19<00:00,  3.97s/it]\n",
      "100%|████████████████████████████████████████████████████████████████████████████████████| 5/5 [00:17<00:00,  3.52s/it]\n",
      "100%|████████████████████████████████████████████████████████████████████████████████████| 5/5 [00:18<00:00,  3.76s/it]\n",
      "100%|████████████████████████████████████████████████████████████████████████████████████| 5/5 [00:18<00:00,  3.71s/it]"
     ]
    },
    {
     "name": "stdout",
     "output_type": "stream",
     "text": [
      "--------------------------------------------------\n",
      "Save results\n",
      "--------------------------------------------------\n",
      "Done! path: C:\\Users\\yf-su\\Desktop\\XAI\\experiments\\feature_removal_experiments_electricity, run_id: 4.\n"
     ]
    },
    {
     "name": "stderr",
     "output_type": "stream",
     "text": [
      "\n"
     ]
    },
    {
     "name": "stdout",
     "output_type": "stream",
     "text": [
      "5\n",
      "------------------------------\n",
      "{'experiment': 'feature_removal', 'n_train': 1000, 'n_val': 100, 'n_test': 3000, 'n_trees': 1000, 'clf_path': 'C:\\\\Users\\\\yf-su\\\\Desktop\\\\XAI\\\\df_oob\\\\openml_dataset', 'openml_clf_path': 'C:\\\\Users\\\\yf-su\\\\Desktop\\\\XAI\\\\df_oob\\\\openml_dataset', 'openml_reg_path': 'C:\\\\Users\\\\yf-su\\\\Desktop\\\\XAI\\\\df_oob\\\\openml_dataset', 'is_noisy': None, 'model_family': 'Tree', 'run_id': 5}\n",
      "--------------------------------------------------\n",
      "electricity\n",
      "--------------------------------------------------\n",
      "Train X: (1000, 6)\n",
      "Val X: (100, 6)\n",
      "Test X: (3000, 6)\n",
      "------------------------------\n",
      "Start: Data-OOB computation\n",
      "Done: Data-OOB computation\n",
      "Start: DF-OOB computation\n",
      "Done: DF-OOB computation\n",
      "Start: Learn-OOB computation\n",
      "Done: Learn-OOB computation\n",
      "Start: SHAP computation\n"
     ]
    },
    {
     "name": "stderr",
     "output_type": "stream",
     "text": [
      "\r",
      "  0%|                                                                                            | 0/5 [00:00<?, ?it/s]"
     ]
    },
    {
     "name": "stdout",
     "output_type": "stream",
     "text": [
      "Done: SHAP computation\n"
     ]
    },
    {
     "name": "stderr",
     "output_type": "stream",
     "text": [
      "100%|████████████████████████████████████████████████████████████████████████████████████| 5/5 [00:18<00:00,  3.77s/it]\n",
      "100%|████████████████████████████████████████████████████████████████████████████████████| 5/5 [00:16<00:00,  3.28s/it]\n",
      "100%|████████████████████████████████████████████████████████████████████████████████████| 5/5 [00:18<00:00,  3.69s/it]\n",
      "100%|████████████████████████████████████████████████████████████████████████████████████| 5/5 [00:15<00:00,  3.14s/it]"
     ]
    },
    {
     "name": "stdout",
     "output_type": "stream",
     "text": [
      "--------------------------------------------------\n",
      "Save results\n",
      "--------------------------------------------------\n",
      "Done! path: C:\\Users\\yf-su\\Desktop\\XAI\\experiments\\feature_removal_experiments_electricity, run_id: 5.\n"
     ]
    },
    {
     "name": "stderr",
     "output_type": "stream",
     "text": [
      "\n"
     ]
    },
    {
     "name": "stdout",
     "output_type": "stream",
     "text": [
      "6\n",
      "------------------------------\n",
      "{'experiment': 'feature_removal', 'n_train': 1000, 'n_val': 100, 'n_test': 3000, 'n_trees': 1000, 'clf_path': 'C:\\\\Users\\\\yf-su\\\\Desktop\\\\XAI\\\\df_oob\\\\openml_dataset', 'openml_clf_path': 'C:\\\\Users\\\\yf-su\\\\Desktop\\\\XAI\\\\df_oob\\\\openml_dataset', 'openml_reg_path': 'C:\\\\Users\\\\yf-su\\\\Desktop\\\\XAI\\\\df_oob\\\\openml_dataset', 'is_noisy': None, 'model_family': 'Tree', 'run_id': 6}\n",
      "--------------------------------------------------\n",
      "electricity\n",
      "--------------------------------------------------\n",
      "Train X: (1000, 6)\n",
      "Val X: (100, 6)\n",
      "Test X: (3000, 6)\n",
      "------------------------------\n",
      "Start: Data-OOB computation\n",
      "Done: Data-OOB computation\n",
      "Start: DF-OOB computation\n",
      "Done: DF-OOB computation\n",
      "Start: Learn-OOB computation\n",
      "Done: Learn-OOB computation\n",
      "Start: SHAP computation\n"
     ]
    },
    {
     "name": "stderr",
     "output_type": "stream",
     "text": [
      "\r",
      "  0%|                                                                                            | 0/5 [00:00<?, ?it/s]"
     ]
    },
    {
     "name": "stdout",
     "output_type": "stream",
     "text": [
      "Done: SHAP computation\n"
     ]
    },
    {
     "name": "stderr",
     "output_type": "stream",
     "text": [
      "100%|████████████████████████████████████████████████████████████████████████████████████| 5/5 [00:12<00:00,  2.50s/it]\n",
      "100%|████████████████████████████████████████████████████████████████████████████████████| 5/5 [00:15<00:00,  3.02s/it]\n",
      "100%|████████████████████████████████████████████████████████████████████████████████████| 5/5 [00:12<00:00,  2.59s/it]\n",
      "100%|████████████████████████████████████████████████████████████████████████████████████| 5/5 [00:14<00:00,  2.97s/it]"
     ]
    },
    {
     "name": "stdout",
     "output_type": "stream",
     "text": [
      "--------------------------------------------------\n",
      "Save results\n",
      "--------------------------------------------------\n",
      "Done! path: C:\\Users\\yf-su\\Desktop\\XAI\\experiments\\feature_removal_experiments_electricity, run_id: 6.\n"
     ]
    },
    {
     "name": "stderr",
     "output_type": "stream",
     "text": [
      "\n"
     ]
    },
    {
     "name": "stdout",
     "output_type": "stream",
     "text": [
      "7\n",
      "------------------------------\n",
      "{'experiment': 'feature_removal', 'n_train': 1000, 'n_val': 100, 'n_test': 3000, 'n_trees': 1000, 'clf_path': 'C:\\\\Users\\\\yf-su\\\\Desktop\\\\XAI\\\\df_oob\\\\openml_dataset', 'openml_clf_path': 'C:\\\\Users\\\\yf-su\\\\Desktop\\\\XAI\\\\df_oob\\\\openml_dataset', 'openml_reg_path': 'C:\\\\Users\\\\yf-su\\\\Desktop\\\\XAI\\\\df_oob\\\\openml_dataset', 'is_noisy': None, 'model_family': 'Tree', 'run_id': 7}\n",
      "--------------------------------------------------\n",
      "electricity\n",
      "--------------------------------------------------\n",
      "Train X: (1000, 6)\n",
      "Val X: (100, 6)\n",
      "Test X: (3000, 6)\n",
      "------------------------------\n",
      "Start: Data-OOB computation\n",
      "Done: Data-OOB computation\n",
      "Start: DF-OOB computation\n",
      "Done: DF-OOB computation\n",
      "Start: Learn-OOB computation\n",
      "Done: Learn-OOB computation\n",
      "Start: SHAP computation\n"
     ]
    },
    {
     "name": "stderr",
     "output_type": "stream",
     "text": [
      "\r",
      "  0%|                                                                                            | 0/5 [00:00<?, ?it/s]"
     ]
    },
    {
     "name": "stdout",
     "output_type": "stream",
     "text": [
      "Done: SHAP computation\n"
     ]
    },
    {
     "name": "stderr",
     "output_type": "stream",
     "text": [
      "100%|████████████████████████████████████████████████████████████████████████████████████| 5/5 [00:10<00:00,  2.18s/it]\n",
      "100%|████████████████████████████████████████████████████████████████████████████████████| 5/5 [00:10<00:00,  2.10s/it]\n",
      "100%|████████████████████████████████████████████████████████████████████████████████████| 5/5 [00:10<00:00,  2.18s/it]\n",
      "100%|████████████████████████████████████████████████████████████████████████████████████| 5/5 [00:16<00:00,  3.40s/it]"
     ]
    },
    {
     "name": "stdout",
     "output_type": "stream",
     "text": [
      "--------------------------------------------------\n",
      "Save results\n",
      "--------------------------------------------------\n",
      "Done! path: C:\\Users\\yf-su\\Desktop\\XAI\\experiments\\feature_removal_experiments_electricity, run_id: 7.\n"
     ]
    },
    {
     "name": "stderr",
     "output_type": "stream",
     "text": [
      "\n"
     ]
    },
    {
     "name": "stdout",
     "output_type": "stream",
     "text": [
      "8\n",
      "------------------------------\n",
      "{'experiment': 'feature_removal', 'n_train': 1000, 'n_val': 100, 'n_test': 3000, 'n_trees': 1000, 'clf_path': 'C:\\\\Users\\\\yf-su\\\\Desktop\\\\XAI\\\\df_oob\\\\openml_dataset', 'openml_clf_path': 'C:\\\\Users\\\\yf-su\\\\Desktop\\\\XAI\\\\df_oob\\\\openml_dataset', 'openml_reg_path': 'C:\\\\Users\\\\yf-su\\\\Desktop\\\\XAI\\\\df_oob\\\\openml_dataset', 'is_noisy': None, 'model_family': 'Tree', 'run_id': 8}\n",
      "--------------------------------------------------\n",
      "electricity\n",
      "--------------------------------------------------\n",
      "Train X: (1000, 6)\n",
      "Val X: (100, 6)\n",
      "Test X: (3000, 6)\n",
      "------------------------------\n",
      "Start: Data-OOB computation\n",
      "Done: Data-OOB computation\n",
      "Start: DF-OOB computation\n",
      "Done: DF-OOB computation\n",
      "Start: Learn-OOB computation\n",
      "Done: Learn-OOB computation\n",
      "Start: SHAP computation\n"
     ]
    },
    {
     "name": "stderr",
     "output_type": "stream",
     "text": [
      "\r",
      "  0%|                                                                                            | 0/5 [00:00<?, ?it/s]"
     ]
    },
    {
     "name": "stdout",
     "output_type": "stream",
     "text": [
      "Done: SHAP computation\n"
     ]
    },
    {
     "name": "stderr",
     "output_type": "stream",
     "text": [
      "100%|████████████████████████████████████████████████████████████████████████████████████| 5/5 [00:11<00:00,  2.31s/it]\n",
      "100%|████████████████████████████████████████████████████████████████████████████████████| 5/5 [00:11<00:00,  2.20s/it]\n",
      "100%|████████████████████████████████████████████████████████████████████████████████████| 5/5 [00:12<00:00,  2.42s/it]\n",
      "100%|████████████████████████████████████████████████████████████████████████████████████| 5/5 [00:12<00:00,  2.42s/it]"
     ]
    },
    {
     "name": "stdout",
     "output_type": "stream",
     "text": [
      "--------------------------------------------------\n",
      "Save results\n",
      "--------------------------------------------------\n",
      "Done! path: C:\\Users\\yf-su\\Desktop\\XAI\\experiments\\feature_removal_experiments_electricity, run_id: 8.\n"
     ]
    },
    {
     "name": "stderr",
     "output_type": "stream",
     "text": [
      "\n"
     ]
    },
    {
     "name": "stdout",
     "output_type": "stream",
     "text": [
      "9\n",
      "------------------------------\n",
      "{'experiment': 'feature_removal', 'n_train': 1000, 'n_val': 100, 'n_test': 3000, 'n_trees': 1000, 'clf_path': 'C:\\\\Users\\\\yf-su\\\\Desktop\\\\XAI\\\\df_oob\\\\openml_dataset', 'openml_clf_path': 'C:\\\\Users\\\\yf-su\\\\Desktop\\\\XAI\\\\df_oob\\\\openml_dataset', 'openml_reg_path': 'C:\\\\Users\\\\yf-su\\\\Desktop\\\\XAI\\\\df_oob\\\\openml_dataset', 'is_noisy': None, 'model_family': 'Tree', 'run_id': 9}\n",
      "--------------------------------------------------\n",
      "electricity\n",
      "--------------------------------------------------\n",
      "Train X: (1000, 6)\n",
      "Val X: (100, 6)\n",
      "Test X: (3000, 6)\n",
      "------------------------------\n",
      "Start: Data-OOB computation\n",
      "Done: Data-OOB computation\n",
      "Start: DF-OOB computation\n",
      "Done: DF-OOB computation\n",
      "Start: Learn-OOB computation\n",
      "Done: Learn-OOB computation\n",
      "Start: SHAP computation\n"
     ]
    },
    {
     "name": "stderr",
     "output_type": "stream",
     "text": [
      "\r",
      "  0%|                                                                                            | 0/5 [00:00<?, ?it/s]"
     ]
    },
    {
     "name": "stdout",
     "output_type": "stream",
     "text": [
      "Done: SHAP computation\n"
     ]
    },
    {
     "name": "stderr",
     "output_type": "stream",
     "text": [
      "100%|████████████████████████████████████████████████████████████████████████████████████| 5/5 [00:11<00:00,  2.27s/it]\n",
      "100%|████████████████████████████████████████████████████████████████████████████████████| 5/5 [00:11<00:00,  2.26s/it]\n",
      "100%|████████████████████████████████████████████████████████████████████████████████████| 5/5 [00:11<00:00,  2.28s/it]\n",
      "100%|████████████████████████████████████████████████████████████████████████████████████| 5/5 [00:11<00:00,  2.32s/it]"
     ]
    },
    {
     "name": "stdout",
     "output_type": "stream",
     "text": [
      "--------------------------------------------------\n",
      "Save results\n",
      "--------------------------------------------------\n",
      "Done! path: C:\\Users\\yf-su\\Desktop\\XAI\\experiments\\feature_removal_experiments_electricity, run_id: 9.\n"
     ]
    },
    {
     "name": "stderr",
     "output_type": "stream",
     "text": [
      "\n"
     ]
    },
    {
     "name": "stdout",
     "output_type": "stream",
     "text": [
      "0\n",
      "------------------------------\n",
      "{'experiment': 'feature_removal', 'n_train': 1000, 'n_val': 100, 'n_test': 3000, 'n_trees': 1000, 'clf_path': 'C:\\\\Users\\\\yf-su\\\\Desktop\\\\XAI\\\\df_oob\\\\openml_dataset', 'openml_clf_path': 'C:\\\\Users\\\\yf-su\\\\Desktop\\\\XAI\\\\df_oob\\\\openml_dataset', 'openml_reg_path': 'C:\\\\Users\\\\yf-su\\\\Desktop\\\\XAI\\\\df_oob\\\\openml_dataset', 'is_noisy': None, 'model_family': 'Tree', 'run_id': 0}\n",
      "--------------------------------------------------\n",
      "pol\n",
      "--------------------------------------------------\n",
      "Train X: (1000, 48)\n",
      "Val X: (100, 48)\n",
      "Test X: (3000, 48)\n",
      "------------------------------\n",
      "Start: Data-OOB computation\n",
      "Done: Data-OOB computation\n",
      "Start: DF-OOB computation\n",
      "Done: DF-OOB computation\n",
      "Start: Learn-OOB computation\n",
      "Done: Learn-OOB computation\n",
      "Start: SHAP computation\n"
     ]
    },
    {
     "name": "stderr",
     "output_type": "stream",
     "text": [
      "\r",
      "  0%|                                                                                           | 0/47 [00:00<?, ?it/s]"
     ]
    },
    {
     "name": "stdout",
     "output_type": "stream",
     "text": [
      "Done: SHAP computation\n"
     ]
    },
    {
     "name": "stderr",
     "output_type": "stream",
     "text": [
      "100%|██████████████████████████████████████████████████████████████████████████████████| 47/47 [01:36<00:00,  2.06s/it]\n",
      "100%|██████████████████████████████████████████████████████████████████████████████████| 47/47 [01:34<00:00,  2.02s/it]\n",
      "100%|██████████████████████████████████████████████████████████████████████████████████| 47/47 [01:32<00:00,  1.97s/it]\n",
      "100%|██████████████████████████████████████████████████████████████████████████████████| 47/47 [01:30<00:00,  1.92s/it]"
     ]
    },
    {
     "name": "stdout",
     "output_type": "stream",
     "text": [
      "--------------------------------------------------\n",
      "Save results\n",
      "--------------------------------------------------\n",
      "Done! path: C:\\Users\\yf-su\\Desktop\\XAI\\experiments\\feature_removal_experiments_pol, run_id: 0.\n"
     ]
    },
    {
     "name": "stderr",
     "output_type": "stream",
     "text": [
      "\n"
     ]
    },
    {
     "name": "stdout",
     "output_type": "stream",
     "text": [
      "1\n",
      "------------------------------\n",
      "{'experiment': 'feature_removal', 'n_train': 1000, 'n_val': 100, 'n_test': 3000, 'n_trees': 1000, 'clf_path': 'C:\\\\Users\\\\yf-su\\\\Desktop\\\\XAI\\\\df_oob\\\\openml_dataset', 'openml_clf_path': 'C:\\\\Users\\\\yf-su\\\\Desktop\\\\XAI\\\\df_oob\\\\openml_dataset', 'openml_reg_path': 'C:\\\\Users\\\\yf-su\\\\Desktop\\\\XAI\\\\df_oob\\\\openml_dataset', 'is_noisy': None, 'model_family': 'Tree', 'run_id': 1}\n",
      "--------------------------------------------------\n",
      "pol\n",
      "--------------------------------------------------\n",
      "Train X: (1000, 48)\n",
      "Val X: (100, 48)\n",
      "Test X: (3000, 48)\n",
      "------------------------------\n",
      "Start: Data-OOB computation\n",
      "Done: Data-OOB computation\n",
      "Start: DF-OOB computation\n",
      "Done: DF-OOB computation\n",
      "Start: Learn-OOB computation\n",
      "Done: Learn-OOB computation\n",
      "Start: SHAP computation\n"
     ]
    },
    {
     "name": "stderr",
     "output_type": "stream",
     "text": [
      "\r",
      "  0%|                                                                                           | 0/47 [00:00<?, ?it/s]"
     ]
    },
    {
     "name": "stdout",
     "output_type": "stream",
     "text": [
      "Done: SHAP computation\n"
     ]
    },
    {
     "name": "stderr",
     "output_type": "stream",
     "text": [
      "100%|██████████████████████████████████████████████████████████████████████████████████| 47/47 [01:33<00:00,  1.99s/it]\n",
      "100%|██████████████████████████████████████████████████████████████████████████████████| 47/47 [01:40<00:00,  2.15s/it]\n",
      "100%|██████████████████████████████████████████████████████████████████████████████████| 47/47 [01:39<00:00,  2.12s/it]\n",
      "100%|██████████████████████████████████████████████████████████████████████████████████| 47/47 [01:42<00:00,  2.17s/it]"
     ]
    },
    {
     "name": "stdout",
     "output_type": "stream",
     "text": [
      "--------------------------------------------------\n",
      "Save results\n",
      "--------------------------------------------------\n",
      "Done! path: C:\\Users\\yf-su\\Desktop\\XAI\\experiments\\feature_removal_experiments_pol, run_id: 1.\n"
     ]
    },
    {
     "name": "stderr",
     "output_type": "stream",
     "text": [
      "\n"
     ]
    },
    {
     "name": "stdout",
     "output_type": "stream",
     "text": [
      "2\n",
      "------------------------------\n",
      "{'experiment': 'feature_removal', 'n_train': 1000, 'n_val': 100, 'n_test': 3000, 'n_trees': 1000, 'clf_path': 'C:\\\\Users\\\\yf-su\\\\Desktop\\\\XAI\\\\df_oob\\\\openml_dataset', 'openml_clf_path': 'C:\\\\Users\\\\yf-su\\\\Desktop\\\\XAI\\\\df_oob\\\\openml_dataset', 'openml_reg_path': 'C:\\\\Users\\\\yf-su\\\\Desktop\\\\XAI\\\\df_oob\\\\openml_dataset', 'is_noisy': None, 'model_family': 'Tree', 'run_id': 2}\n",
      "--------------------------------------------------\n",
      "pol\n",
      "--------------------------------------------------\n",
      "Train X: (1000, 48)\n",
      "Val X: (100, 48)\n",
      "Test X: (3000, 48)\n",
      "------------------------------\n",
      "Start: Data-OOB computation\n",
      "Done: Data-OOB computation\n",
      "Start: DF-OOB computation\n",
      "Done: DF-OOB computation\n",
      "Start: Learn-OOB computation\n",
      "Done: Learn-OOB computation\n",
      "Start: SHAP computation\n"
     ]
    },
    {
     "name": "stderr",
     "output_type": "stream",
     "text": [
      "\r",
      "  0%|                                                                                           | 0/47 [00:00<?, ?it/s]"
     ]
    },
    {
     "name": "stdout",
     "output_type": "stream",
     "text": [
      "Done: SHAP computation\n"
     ]
    },
    {
     "name": "stderr",
     "output_type": "stream",
     "text": [
      "100%|██████████████████████████████████████████████████████████████████████████████████| 47/47 [01:37<00:00,  2.07s/it]\n",
      "100%|██████████████████████████████████████████████████████████████████████████████████| 47/47 [01:31<00:00,  1.95s/it]\n",
      "100%|██████████████████████████████████████████████████████████████████████████████████| 47/47 [01:32<00:00,  1.97s/it]\n",
      "100%|██████████████████████████████████████████████████████████████████████████████████| 47/47 [01:37<00:00,  2.07s/it]"
     ]
    },
    {
     "name": "stdout",
     "output_type": "stream",
     "text": [
      "--------------------------------------------------\n",
      "Save results\n",
      "--------------------------------------------------\n",
      "Done! path: C:\\Users\\yf-su\\Desktop\\XAI\\experiments\\feature_removal_experiments_pol, run_id: 2.\n"
     ]
    },
    {
     "name": "stderr",
     "output_type": "stream",
     "text": [
      "\n"
     ]
    },
    {
     "name": "stdout",
     "output_type": "stream",
     "text": [
      "3\n",
      "------------------------------\n",
      "{'experiment': 'feature_removal', 'n_train': 1000, 'n_val': 100, 'n_test': 3000, 'n_trees': 1000, 'clf_path': 'C:\\\\Users\\\\yf-su\\\\Desktop\\\\XAI\\\\df_oob\\\\openml_dataset', 'openml_clf_path': 'C:\\\\Users\\\\yf-su\\\\Desktop\\\\XAI\\\\df_oob\\\\openml_dataset', 'openml_reg_path': 'C:\\\\Users\\\\yf-su\\\\Desktop\\\\XAI\\\\df_oob\\\\openml_dataset', 'is_noisy': None, 'model_family': 'Tree', 'run_id': 3}\n",
      "--------------------------------------------------\n",
      "pol\n",
      "--------------------------------------------------\n",
      "Train X: (1000, 48)\n",
      "Val X: (100, 48)\n",
      "Test X: (3000, 48)\n",
      "------------------------------\n",
      "Start: Data-OOB computation\n",
      "Done: Data-OOB computation\n",
      "Start: DF-OOB computation\n",
      "Done: DF-OOB computation\n",
      "Start: Learn-OOB computation\n",
      "Done: Learn-OOB computation\n",
      "Start: SHAP computation\n"
     ]
    },
    {
     "name": "stderr",
     "output_type": "stream",
     "text": [
      "\r",
      "  0%|                                                                                           | 0/47 [00:00<?, ?it/s]"
     ]
    },
    {
     "name": "stdout",
     "output_type": "stream",
     "text": [
      "Done: SHAP computation\n"
     ]
    },
    {
     "name": "stderr",
     "output_type": "stream",
     "text": [
      "100%|██████████████████████████████████████████████████████████████████████████████████| 47/47 [01:42<00:00,  2.17s/it]\n",
      "100%|██████████████████████████████████████████████████████████████████████████████████| 47/47 [01:39<00:00,  2.12s/it]\n",
      "100%|██████████████████████████████████████████████████████████████████████████████████| 47/47 [01:33<00:00,  1.99s/it]\n",
      "100%|██████████████████████████████████████████████████████████████████████████████████| 47/47 [01:23<00:00,  1.78s/it]"
     ]
    },
    {
     "name": "stdout",
     "output_type": "stream",
     "text": [
      "--------------------------------------------------\n",
      "Save results\n",
      "--------------------------------------------------\n",
      "Done! path: C:\\Users\\yf-su\\Desktop\\XAI\\experiments\\feature_removal_experiments_pol, run_id: 3.\n"
     ]
    },
    {
     "name": "stderr",
     "output_type": "stream",
     "text": [
      "\n"
     ]
    },
    {
     "name": "stdout",
     "output_type": "stream",
     "text": [
      "4\n",
      "------------------------------\n",
      "{'experiment': 'feature_removal', 'n_train': 1000, 'n_val': 100, 'n_test': 3000, 'n_trees': 1000, 'clf_path': 'C:\\\\Users\\\\yf-su\\\\Desktop\\\\XAI\\\\df_oob\\\\openml_dataset', 'openml_clf_path': 'C:\\\\Users\\\\yf-su\\\\Desktop\\\\XAI\\\\df_oob\\\\openml_dataset', 'openml_reg_path': 'C:\\\\Users\\\\yf-su\\\\Desktop\\\\XAI\\\\df_oob\\\\openml_dataset', 'is_noisy': None, 'model_family': 'Tree', 'run_id': 4}\n",
      "--------------------------------------------------\n",
      "pol\n",
      "--------------------------------------------------\n",
      "Train X: (1000, 48)\n",
      "Val X: (100, 48)\n",
      "Test X: (3000, 48)\n",
      "------------------------------\n",
      "Start: Data-OOB computation\n",
      "Done: Data-OOB computation\n",
      "Start: DF-OOB computation\n",
      "Done: DF-OOB computation\n",
      "Start: Learn-OOB computation\n",
      "Done: Learn-OOB computation\n",
      "Start: SHAP computation\n"
     ]
    },
    {
     "name": "stderr",
     "output_type": "stream",
     "text": [
      "\r",
      "  0%|                                                                                           | 0/47 [00:00<?, ?it/s]"
     ]
    },
    {
     "name": "stdout",
     "output_type": "stream",
     "text": [
      "Done: SHAP computation\n"
     ]
    },
    {
     "name": "stderr",
     "output_type": "stream",
     "text": [
      "100%|██████████████████████████████████████████████████████████████████████████████████| 47/47 [01:31<00:00,  1.94s/it]\n",
      "100%|██████████████████████████████████████████████████████████████████████████████████| 47/47 [01:19<00:00,  1.69s/it]\n",
      "100%|██████████████████████████████████████████████████████████████████████████████████| 47/47 [01:29<00:00,  1.91s/it]\n",
      "100%|██████████████████████████████████████████████████████████████████████████████████| 47/47 [01:22<00:00,  1.76s/it]"
     ]
    },
    {
     "name": "stdout",
     "output_type": "stream",
     "text": [
      "--------------------------------------------------\n",
      "Save results\n",
      "--------------------------------------------------\n",
      "Done! path: C:\\Users\\yf-su\\Desktop\\XAI\\experiments\\feature_removal_experiments_pol, run_id: 4.\n"
     ]
    },
    {
     "name": "stderr",
     "output_type": "stream",
     "text": [
      "\n"
     ]
    },
    {
     "name": "stdout",
     "output_type": "stream",
     "text": [
      "5\n",
      "------------------------------\n",
      "{'experiment': 'feature_removal', 'n_train': 1000, 'n_val': 100, 'n_test': 3000, 'n_trees': 1000, 'clf_path': 'C:\\\\Users\\\\yf-su\\\\Desktop\\\\XAI\\\\df_oob\\\\openml_dataset', 'openml_clf_path': 'C:\\\\Users\\\\yf-su\\\\Desktop\\\\XAI\\\\df_oob\\\\openml_dataset', 'openml_reg_path': 'C:\\\\Users\\\\yf-su\\\\Desktop\\\\XAI\\\\df_oob\\\\openml_dataset', 'is_noisy': None, 'model_family': 'Tree', 'run_id': 5}\n",
      "--------------------------------------------------\n",
      "pol\n",
      "--------------------------------------------------\n",
      "Train X: (1000, 48)\n",
      "Val X: (100, 48)\n",
      "Test X: (3000, 48)\n",
      "------------------------------\n",
      "Start: Data-OOB computation\n",
      "Done: Data-OOB computation\n",
      "Start: DF-OOB computation\n",
      "Done: DF-OOB computation\n",
      "Start: Learn-OOB computation\n",
      "Done: Learn-OOB computation\n",
      "Start: SHAP computation\n"
     ]
    },
    {
     "name": "stderr",
     "output_type": "stream",
     "text": [
      "\r",
      "  0%|                                                                                           | 0/47 [00:00<?, ?it/s]"
     ]
    },
    {
     "name": "stdout",
     "output_type": "stream",
     "text": [
      "Done: SHAP computation\n"
     ]
    },
    {
     "name": "stderr",
     "output_type": "stream",
     "text": [
      "100%|██████████████████████████████████████████████████████████████████████████████████| 47/47 [01:28<00:00,  1.87s/it]\n",
      "100%|██████████████████████████████████████████████████████████████████████████████████| 47/47 [01:20<00:00,  1.71s/it]\n",
      "100%|██████████████████████████████████████████████████████████████████████████████████| 47/47 [01:31<00:00,  1.95s/it]\n",
      "100%|██████████████████████████████████████████████████████████████████████████████████| 47/47 [01:24<00:00,  1.79s/it]"
     ]
    },
    {
     "name": "stdout",
     "output_type": "stream",
     "text": [
      "--------------------------------------------------\n",
      "Save results\n",
      "--------------------------------------------------\n",
      "Done! path: C:\\Users\\yf-su\\Desktop\\XAI\\experiments\\feature_removal_experiments_pol, run_id: 5.\n"
     ]
    },
    {
     "name": "stderr",
     "output_type": "stream",
     "text": [
      "\n"
     ]
    },
    {
     "name": "stdout",
     "output_type": "stream",
     "text": [
      "6\n",
      "------------------------------\n",
      "{'experiment': 'feature_removal', 'n_train': 1000, 'n_val': 100, 'n_test': 3000, 'n_trees': 1000, 'clf_path': 'C:\\\\Users\\\\yf-su\\\\Desktop\\\\XAI\\\\df_oob\\\\openml_dataset', 'openml_clf_path': 'C:\\\\Users\\\\yf-su\\\\Desktop\\\\XAI\\\\df_oob\\\\openml_dataset', 'openml_reg_path': 'C:\\\\Users\\\\yf-su\\\\Desktop\\\\XAI\\\\df_oob\\\\openml_dataset', 'is_noisy': None, 'model_family': 'Tree', 'run_id': 6}\n",
      "--------------------------------------------------\n",
      "pol\n",
      "--------------------------------------------------\n",
      "Train X: (1000, 48)\n",
      "Val X: (100, 48)\n",
      "Test X: (3000, 48)\n",
      "------------------------------\n",
      "Start: Data-OOB computation\n",
      "Done: Data-OOB computation\n",
      "Start: DF-OOB computation\n",
      "Done: DF-OOB computation\n",
      "Start: Learn-OOB computation\n",
      "Done: Learn-OOB computation\n",
      "Start: SHAP computation\n"
     ]
    },
    {
     "name": "stderr",
     "output_type": "stream",
     "text": [
      "\r",
      "  0%|                                                                                           | 0/47 [00:00<?, ?it/s]"
     ]
    },
    {
     "name": "stdout",
     "output_type": "stream",
     "text": [
      "Done: SHAP computation\n"
     ]
    },
    {
     "name": "stderr",
     "output_type": "stream",
     "text": [
      "100%|██████████████████████████████████████████████████████████████████████████████████| 47/47 [01:27<00:00,  1.87s/it]\n",
      "100%|██████████████████████████████████████████████████████████████████████████████████| 47/47 [01:24<00:00,  1.80s/it]\n",
      "100%|██████████████████████████████████████████████████████████████████████████████████| 47/47 [01:30<00:00,  1.92s/it]\n",
      "100%|██████████████████████████████████████████████████████████████████████████████████| 47/47 [01:21<00:00,  1.74s/it]"
     ]
    },
    {
     "name": "stdout",
     "output_type": "stream",
     "text": [
      "--------------------------------------------------\n",
      "Save results\n",
      "--------------------------------------------------\n",
      "Done! path: C:\\Users\\yf-su\\Desktop\\XAI\\experiments\\feature_removal_experiments_pol, run_id: 6.\n"
     ]
    },
    {
     "name": "stderr",
     "output_type": "stream",
     "text": [
      "\n"
     ]
    },
    {
     "name": "stdout",
     "output_type": "stream",
     "text": [
      "7\n",
      "------------------------------\n",
      "{'experiment': 'feature_removal', 'n_train': 1000, 'n_val': 100, 'n_test': 3000, 'n_trees': 1000, 'clf_path': 'C:\\\\Users\\\\yf-su\\\\Desktop\\\\XAI\\\\df_oob\\\\openml_dataset', 'openml_clf_path': 'C:\\\\Users\\\\yf-su\\\\Desktop\\\\XAI\\\\df_oob\\\\openml_dataset', 'openml_reg_path': 'C:\\\\Users\\\\yf-su\\\\Desktop\\\\XAI\\\\df_oob\\\\openml_dataset', 'is_noisy': None, 'model_family': 'Tree', 'run_id': 7}\n",
      "--------------------------------------------------\n",
      "pol\n",
      "--------------------------------------------------\n",
      "Train X: (1000, 48)\n",
      "Val X: (100, 48)\n",
      "Test X: (3000, 48)\n",
      "------------------------------\n",
      "Start: Data-OOB computation\n",
      "Done: Data-OOB computation\n",
      "Start: DF-OOB computation\n",
      "Done: DF-OOB computation\n",
      "Start: Learn-OOB computation\n",
      "Done: Learn-OOB computation\n",
      "Start: SHAP computation\n"
     ]
    },
    {
     "name": "stderr",
     "output_type": "stream",
     "text": [
      "\r",
      "  0%|                                                                                           | 0/47 [00:00<?, ?it/s]"
     ]
    },
    {
     "name": "stdout",
     "output_type": "stream",
     "text": [
      "Done: SHAP computation\n"
     ]
    },
    {
     "name": "stderr",
     "output_type": "stream",
     "text": [
      "100%|██████████████████████████████████████████████████████████████████████████████████| 47/47 [01:25<00:00,  1.82s/it]\n",
      "100%|██████████████████████████████████████████████████████████████████████████████████| 47/47 [01:18<00:00,  1.67s/it]\n",
      "100%|██████████████████████████████████████████████████████████████████████████████████| 47/47 [01:21<00:00,  1.72s/it]\n",
      "100%|██████████████████████████████████████████████████████████████████████████████████| 47/47 [01:22<00:00,  1.76s/it]"
     ]
    },
    {
     "name": "stdout",
     "output_type": "stream",
     "text": [
      "--------------------------------------------------\n",
      "Save results\n",
      "--------------------------------------------------\n",
      "Done! path: C:\\Users\\yf-su\\Desktop\\XAI\\experiments\\feature_removal_experiments_pol, run_id: 7.\n"
     ]
    },
    {
     "name": "stderr",
     "output_type": "stream",
     "text": [
      "\n"
     ]
    },
    {
     "name": "stdout",
     "output_type": "stream",
     "text": [
      "8\n",
      "------------------------------\n",
      "{'experiment': 'feature_removal', 'n_train': 1000, 'n_val': 100, 'n_test': 3000, 'n_trees': 1000, 'clf_path': 'C:\\\\Users\\\\yf-su\\\\Desktop\\\\XAI\\\\df_oob\\\\openml_dataset', 'openml_clf_path': 'C:\\\\Users\\\\yf-su\\\\Desktop\\\\XAI\\\\df_oob\\\\openml_dataset', 'openml_reg_path': 'C:\\\\Users\\\\yf-su\\\\Desktop\\\\XAI\\\\df_oob\\\\openml_dataset', 'is_noisy': None, 'model_family': 'Tree', 'run_id': 8}\n",
      "--------------------------------------------------\n",
      "pol\n",
      "--------------------------------------------------\n",
      "Train X: (1000, 48)\n",
      "Val X: (100, 48)\n",
      "Test X: (3000, 48)\n",
      "------------------------------\n",
      "Start: Data-OOB computation\n",
      "Done: Data-OOB computation\n",
      "Start: DF-OOB computation\n",
      "Done: DF-OOB computation\n",
      "Start: Learn-OOB computation\n",
      "Done: Learn-OOB computation\n",
      "Start: SHAP computation\n"
     ]
    },
    {
     "name": "stderr",
     "output_type": "stream",
     "text": [
      "\r",
      "  0%|                                                                                           | 0/47 [00:00<?, ?it/s]"
     ]
    },
    {
     "name": "stdout",
     "output_type": "stream",
     "text": [
      "Done: SHAP computation\n"
     ]
    },
    {
     "name": "stderr",
     "output_type": "stream",
     "text": [
      "100%|██████████████████████████████████████████████████████████████████████████████████| 47/47 [01:22<00:00,  1.76s/it]\n",
      "100%|██████████████████████████████████████████████████████████████████████████████████| 47/47 [01:21<00:00,  1.73s/it]\n",
      "100%|██████████████████████████████████████████████████████████████████████████████████| 47/47 [01:30<00:00,  1.92s/it]\n",
      "100%|██████████████████████████████████████████████████████████████████████████████████| 47/47 [01:26<00:00,  1.84s/it]"
     ]
    },
    {
     "name": "stdout",
     "output_type": "stream",
     "text": [
      "--------------------------------------------------\n",
      "Save results\n",
      "--------------------------------------------------\n",
      "Done! path: C:\\Users\\yf-su\\Desktop\\XAI\\experiments\\feature_removal_experiments_pol, run_id: 8.\n"
     ]
    },
    {
     "name": "stderr",
     "output_type": "stream",
     "text": [
      "\n"
     ]
    },
    {
     "name": "stdout",
     "output_type": "stream",
     "text": [
      "9\n",
      "------------------------------\n",
      "{'experiment': 'feature_removal', 'n_train': 1000, 'n_val': 100, 'n_test': 3000, 'n_trees': 1000, 'clf_path': 'C:\\\\Users\\\\yf-su\\\\Desktop\\\\XAI\\\\df_oob\\\\openml_dataset', 'openml_clf_path': 'C:\\\\Users\\\\yf-su\\\\Desktop\\\\XAI\\\\df_oob\\\\openml_dataset', 'openml_reg_path': 'C:\\\\Users\\\\yf-su\\\\Desktop\\\\XAI\\\\df_oob\\\\openml_dataset', 'is_noisy': None, 'model_family': 'Tree', 'run_id': 9}\n",
      "--------------------------------------------------\n",
      "pol\n",
      "--------------------------------------------------\n",
      "Train X: (1000, 48)\n",
      "Val X: (100, 48)\n",
      "Test X: (3000, 48)\n",
      "------------------------------\n",
      "Start: Data-OOB computation\n",
      "Done: Data-OOB computation\n",
      "Start: DF-OOB computation\n",
      "Done: DF-OOB computation\n",
      "Start: Learn-OOB computation\n",
      "Done: Learn-OOB computation\n",
      "Start: SHAP computation\n"
     ]
    },
    {
     "name": "stderr",
     "output_type": "stream",
     "text": [
      "\r",
      "  0%|                                                                                           | 0/47 [00:00<?, ?it/s]"
     ]
    },
    {
     "name": "stdout",
     "output_type": "stream",
     "text": [
      "Done: SHAP computation\n"
     ]
    },
    {
     "name": "stderr",
     "output_type": "stream",
     "text": [
      "100%|██████████████████████████████████████████████████████████████████████████████████| 47/47 [01:21<00:00,  1.73s/it]\n",
      "100%|██████████████████████████████████████████████████████████████████████████████████| 47/47 [01:21<00:00,  1.73s/it]\n",
      "100%|██████████████████████████████████████████████████████████████████████████████████| 47/47 [01:21<00:00,  1.73s/it]\n",
      "100%|██████████████████████████████████████████████████████████████████████████████████| 47/47 [01:23<00:00,  1.77s/it]"
     ]
    },
    {
     "name": "stdout",
     "output_type": "stream",
     "text": [
      "--------------------------------------------------\n",
      "Save results\n",
      "--------------------------------------------------\n",
      "Done! path: C:\\Users\\yf-su\\Desktop\\XAI\\experiments\\feature_removal_experiments_pol, run_id: 9.\n"
     ]
    },
    {
     "name": "stderr",
     "output_type": "stream",
     "text": [
      "\n"
     ]
    },
    {
     "name": "stdout",
     "output_type": "stream",
     "text": [
      "0\n",
      "------------------------------\n",
      "{'experiment': 'feature_removal', 'n_train': 1000, 'n_val': 100, 'n_test': 3000, 'n_trees': 1000, 'clf_path': 'C:\\\\Users\\\\yf-su\\\\Desktop\\\\XAI\\\\df_oob\\\\openml_dataset', 'openml_clf_path': 'C:\\\\Users\\\\yf-su\\\\Desktop\\\\XAI\\\\df_oob\\\\openml_dataset', 'openml_reg_path': 'C:\\\\Users\\\\yf-su\\\\Desktop\\\\XAI\\\\df_oob\\\\openml_dataset', 'is_noisy': None, 'model_family': 'Tree', 'run_id': 0}\n",
      "--------------------------------------------------\n",
      "jannis\n",
      "--------------------------------------------------\n",
      "Train X: (1000, 54)\n",
      "Val X: (100, 54)\n",
      "Test X: (3000, 54)\n",
      "------------------------------\n",
      "Start: Data-OOB computation\n",
      "Done: Data-OOB computation\n",
      "Start: DF-OOB computation\n",
      "Done: DF-OOB computation\n",
      "Start: Learn-OOB computation\n",
      "Done: Learn-OOB computation\n",
      "Start: SHAP computation\n"
     ]
    },
    {
     "name": "stderr",
     "output_type": "stream",
     "text": [
      "\r",
      "  0%|                                                                                           | 0/53 [00:00<?, ?it/s]"
     ]
    },
    {
     "name": "stdout",
     "output_type": "stream",
     "text": [
      "Done: SHAP computation\n"
     ]
    },
    {
     "name": "stderr",
     "output_type": "stream",
     "text": [
      "100%|██████████████████████████████████████████████████████████████████████████████████| 53/53 [03:17<00:00,  3.72s/it]\n",
      "100%|██████████████████████████████████████████████████████████████████████████████████| 53/53 [03:20<00:00,  3.79s/it]\n",
      "100%|██████████████████████████████████████████████████████████████████████████████████| 53/53 [03:12<00:00,  3.63s/it]\n",
      "100%|██████████████████████████████████████████████████████████████████████████████████| 53/53 [03:19<00:00,  3.76s/it]"
     ]
    },
    {
     "name": "stdout",
     "output_type": "stream",
     "text": [
      "--------------------------------------------------\n",
      "Save results\n",
      "--------------------------------------------------\n",
      "Done! path: C:\\Users\\yf-su\\Desktop\\XAI\\experiments\\feature_removal_experiments_jannis, run_id: 0.\n"
     ]
    },
    {
     "name": "stderr",
     "output_type": "stream",
     "text": [
      "\n"
     ]
    },
    {
     "name": "stdout",
     "output_type": "stream",
     "text": [
      "1\n",
      "------------------------------\n",
      "{'experiment': 'feature_removal', 'n_train': 1000, 'n_val': 100, 'n_test': 3000, 'n_trees': 1000, 'clf_path': 'C:\\\\Users\\\\yf-su\\\\Desktop\\\\XAI\\\\df_oob\\\\openml_dataset', 'openml_clf_path': 'C:\\\\Users\\\\yf-su\\\\Desktop\\\\XAI\\\\df_oob\\\\openml_dataset', 'openml_reg_path': 'C:\\\\Users\\\\yf-su\\\\Desktop\\\\XAI\\\\df_oob\\\\openml_dataset', 'is_noisy': None, 'model_family': 'Tree', 'run_id': 1}\n",
      "--------------------------------------------------\n",
      "jannis\n",
      "--------------------------------------------------\n",
      "Train X: (1000, 54)\n",
      "Val X: (100, 54)\n",
      "Test X: (3000, 54)\n",
      "------------------------------\n",
      "Start: Data-OOB computation\n",
      "Done: Data-OOB computation\n",
      "Start: DF-OOB computation\n",
      "Done: DF-OOB computation\n",
      "Start: Learn-OOB computation\n",
      "Done: Learn-OOB computation\n",
      "Start: SHAP computation\n"
     ]
    },
    {
     "name": "stderr",
     "output_type": "stream",
     "text": [
      "\r",
      "  0%|                                                                                           | 0/53 [00:00<?, ?it/s]"
     ]
    },
    {
     "name": "stdout",
     "output_type": "stream",
     "text": [
      "Done: SHAP computation\n"
     ]
    },
    {
     "name": "stderr",
     "output_type": "stream",
     "text": [
      "100%|██████████████████████████████████████████████████████████████████████████████████| 53/53 [03:05<00:00,  3.49s/it]\n",
      "100%|██████████████████████████████████████████████████████████████████████████████████| 53/53 [03:01<00:00,  3.42s/it]\n",
      "100%|██████████████████████████████████████████████████████████████████████████████████| 53/53 [02:58<00:00,  3.37s/it]\n",
      "100%|██████████████████████████████████████████████████████████████████████████████████| 53/53 [03:06<00:00,  3.52s/it]"
     ]
    },
    {
     "name": "stdout",
     "output_type": "stream",
     "text": [
      "--------------------------------------------------\n",
      "Save results\n",
      "--------------------------------------------------\n",
      "Done! path: C:\\Users\\yf-su\\Desktop\\XAI\\experiments\\feature_removal_experiments_jannis, run_id: 1.\n"
     ]
    },
    {
     "name": "stderr",
     "output_type": "stream",
     "text": [
      "\n"
     ]
    },
    {
     "name": "stdout",
     "output_type": "stream",
     "text": [
      "2\n",
      "------------------------------\n",
      "{'experiment': 'feature_removal', 'n_train': 1000, 'n_val': 100, 'n_test': 3000, 'n_trees': 1000, 'clf_path': 'C:\\\\Users\\\\yf-su\\\\Desktop\\\\XAI\\\\df_oob\\\\openml_dataset', 'openml_clf_path': 'C:\\\\Users\\\\yf-su\\\\Desktop\\\\XAI\\\\df_oob\\\\openml_dataset', 'openml_reg_path': 'C:\\\\Users\\\\yf-su\\\\Desktop\\\\XAI\\\\df_oob\\\\openml_dataset', 'is_noisy': None, 'model_family': 'Tree', 'run_id': 2}\n",
      "--------------------------------------------------\n",
      "jannis\n",
      "--------------------------------------------------\n",
      "Train X: (1000, 54)\n",
      "Val X: (100, 54)\n",
      "Test X: (3000, 54)\n",
      "------------------------------\n",
      "Start: Data-OOB computation\n",
      "Done: Data-OOB computation\n",
      "Start: DF-OOB computation\n",
      "Done: DF-OOB computation\n",
      "Start: Learn-OOB computation\n",
      "Done: Learn-OOB computation\n",
      "Start: SHAP computation\n"
     ]
    },
    {
     "name": "stderr",
     "output_type": "stream",
     "text": [
      "\r",
      "  0%|                                                                                           | 0/53 [00:00<?, ?it/s]"
     ]
    },
    {
     "name": "stdout",
     "output_type": "stream",
     "text": [
      "Done: SHAP computation\n"
     ]
    },
    {
     "name": "stderr",
     "output_type": "stream",
     "text": [
      "100%|██████████████████████████████████████████████████████████████████████████████████| 53/53 [03:05<00:00,  3.50s/it]\n",
      "100%|██████████████████████████████████████████████████████████████████████████████████| 53/53 [03:04<00:00,  3.47s/it]\n",
      "100%|██████████████████████████████████████████████████████████████████████████████████| 53/53 [03:03<00:00,  3.47s/it]\n",
      "100%|██████████████████████████████████████████████████████████████████████████████████| 53/53 [03:01<00:00,  3.42s/it]"
     ]
    },
    {
     "name": "stdout",
     "output_type": "stream",
     "text": [
      "--------------------------------------------------\n",
      "Save results\n",
      "--------------------------------------------------\n",
      "Done! path: C:\\Users\\yf-su\\Desktop\\XAI\\experiments\\feature_removal_experiments_jannis, run_id: 2.\n"
     ]
    },
    {
     "name": "stderr",
     "output_type": "stream",
     "text": [
      "\n"
     ]
    },
    {
     "name": "stdout",
     "output_type": "stream",
     "text": [
      "3\n",
      "------------------------------\n",
      "{'experiment': 'feature_removal', 'n_train': 1000, 'n_val': 100, 'n_test': 3000, 'n_trees': 1000, 'clf_path': 'C:\\\\Users\\\\yf-su\\\\Desktop\\\\XAI\\\\df_oob\\\\openml_dataset', 'openml_clf_path': 'C:\\\\Users\\\\yf-su\\\\Desktop\\\\XAI\\\\df_oob\\\\openml_dataset', 'openml_reg_path': 'C:\\\\Users\\\\yf-su\\\\Desktop\\\\XAI\\\\df_oob\\\\openml_dataset', 'is_noisy': None, 'model_family': 'Tree', 'run_id': 3}\n",
      "--------------------------------------------------\n",
      "jannis\n",
      "--------------------------------------------------\n",
      "Train X: (1000, 54)\n",
      "Val X: (100, 54)\n",
      "Test X: (3000, 54)\n",
      "------------------------------\n",
      "Start: Data-OOB computation\n",
      "Done: Data-OOB computation\n",
      "Start: DF-OOB computation\n",
      "Done: DF-OOB computation\n",
      "Start: Learn-OOB computation\n",
      "Done: Learn-OOB computation\n",
      "Start: SHAP computation\n"
     ]
    },
    {
     "name": "stderr",
     "output_type": "stream",
     "text": [
      "\r",
      "  0%|                                                                                           | 0/53 [00:00<?, ?it/s]"
     ]
    },
    {
     "name": "stdout",
     "output_type": "stream",
     "text": [
      "Done: SHAP computation\n"
     ]
    },
    {
     "name": "stderr",
     "output_type": "stream",
     "text": [
      "100%|██████████████████████████████████████████████████████████████████████████████████| 53/53 [03:03<00:00,  3.46s/it]\n",
      "100%|██████████████████████████████████████████████████████████████████████████████████| 53/53 [03:06<00:00,  3.52s/it]\n",
      "100%|██████████████████████████████████████████████████████████████████████████████████| 53/53 [02:58<00:00,  3.36s/it]\n",
      "100%|██████████████████████████████████████████████████████████████████████████████████| 53/53 [02:56<00:00,  3.33s/it]"
     ]
    },
    {
     "name": "stdout",
     "output_type": "stream",
     "text": [
      "--------------------------------------------------\n",
      "Save results\n",
      "--------------------------------------------------\n",
      "Done! path: C:\\Users\\yf-su\\Desktop\\XAI\\experiments\\feature_removal_experiments_jannis, run_id: 3.\n"
     ]
    },
    {
     "name": "stderr",
     "output_type": "stream",
     "text": [
      "\n"
     ]
    },
    {
     "name": "stdout",
     "output_type": "stream",
     "text": [
      "4\n",
      "------------------------------\n",
      "{'experiment': 'feature_removal', 'n_train': 1000, 'n_val': 100, 'n_test': 3000, 'n_trees': 1000, 'clf_path': 'C:\\\\Users\\\\yf-su\\\\Desktop\\\\XAI\\\\df_oob\\\\openml_dataset', 'openml_clf_path': 'C:\\\\Users\\\\yf-su\\\\Desktop\\\\XAI\\\\df_oob\\\\openml_dataset', 'openml_reg_path': 'C:\\\\Users\\\\yf-su\\\\Desktop\\\\XAI\\\\df_oob\\\\openml_dataset', 'is_noisy': None, 'model_family': 'Tree', 'run_id': 4}\n",
      "--------------------------------------------------\n",
      "jannis\n",
      "--------------------------------------------------\n",
      "Train X: (1000, 54)\n",
      "Val X: (100, 54)\n",
      "Test X: (3000, 54)\n",
      "------------------------------\n",
      "Start: Data-OOB computation\n",
      "Done: Data-OOB computation\n",
      "Start: DF-OOB computation\n",
      "Done: DF-OOB computation\n",
      "Start: Learn-OOB computation\n",
      "Done: Learn-OOB computation\n",
      "Start: SHAP computation\n"
     ]
    },
    {
     "name": "stderr",
     "output_type": "stream",
     "text": [
      "\r",
      "  0%|                                                                                           | 0/53 [00:00<?, ?it/s]"
     ]
    },
    {
     "name": "stdout",
     "output_type": "stream",
     "text": [
      "Done: SHAP computation\n"
     ]
    },
    {
     "name": "stderr",
     "output_type": "stream",
     "text": [
      "100%|██████████████████████████████████████████████████████████████████████████████████| 53/53 [03:07<00:00,  3.54s/it]\n",
      "100%|██████████████████████████████████████████████████████████████████████████████████| 53/53 [03:03<00:00,  3.46s/it]\n",
      "100%|██████████████████████████████████████████████████████████████████████████████████| 53/53 [03:06<00:00,  3.53s/it]\n",
      "100%|██████████████████████████████████████████████████████████████████████████████████| 53/53 [03:00<00:00,  3.40s/it]"
     ]
    },
    {
     "name": "stdout",
     "output_type": "stream",
     "text": [
      "--------------------------------------------------\n",
      "Save results\n",
      "--------------------------------------------------\n",
      "Done! path: C:\\Users\\yf-su\\Desktop\\XAI\\experiments\\feature_removal_experiments_jannis, run_id: 4.\n"
     ]
    },
    {
     "name": "stderr",
     "output_type": "stream",
     "text": [
      "\n"
     ]
    },
    {
     "name": "stdout",
     "output_type": "stream",
     "text": [
      "5\n",
      "------------------------------\n",
      "{'experiment': 'feature_removal', 'n_train': 1000, 'n_val': 100, 'n_test': 3000, 'n_trees': 1000, 'clf_path': 'C:\\\\Users\\\\yf-su\\\\Desktop\\\\XAI\\\\df_oob\\\\openml_dataset', 'openml_clf_path': 'C:\\\\Users\\\\yf-su\\\\Desktop\\\\XAI\\\\df_oob\\\\openml_dataset', 'openml_reg_path': 'C:\\\\Users\\\\yf-su\\\\Desktop\\\\XAI\\\\df_oob\\\\openml_dataset', 'is_noisy': None, 'model_family': 'Tree', 'run_id': 5}\n",
      "--------------------------------------------------\n",
      "jannis\n",
      "--------------------------------------------------\n",
      "Train X: (1000, 54)\n",
      "Val X: (100, 54)\n",
      "Test X: (3000, 54)\n",
      "------------------------------\n",
      "Start: Data-OOB computation\n",
      "Done: Data-OOB computation\n",
      "Start: DF-OOB computation\n",
      "Done: DF-OOB computation\n",
      "Start: Learn-OOB computation\n",
      "Done: Learn-OOB computation\n",
      "Start: SHAP computation\n"
     ]
    },
    {
     "name": "stderr",
     "output_type": "stream",
     "text": [
      "\r",
      "  0%|                                                                                           | 0/53 [00:00<?, ?it/s]"
     ]
    },
    {
     "name": "stdout",
     "output_type": "stream",
     "text": [
      "Done: SHAP computation\n"
     ]
    },
    {
     "name": "stderr",
     "output_type": "stream",
     "text": [
      "100%|██████████████████████████████████████████████████████████████████████████████████| 53/53 [02:59<00:00,  3.39s/it]\n",
      "100%|██████████████████████████████████████████████████████████████████████████████████| 53/53 [03:00<00:00,  3.40s/it]\n",
      "100%|██████████████████████████████████████████████████████████████████████████████████| 53/53 [02:56<00:00,  3.33s/it]\n",
      "100%|██████████████████████████████████████████████████████████████████████████████████| 53/53 [02:45<00:00,  3.12s/it]"
     ]
    },
    {
     "name": "stdout",
     "output_type": "stream",
     "text": [
      "--------------------------------------------------\n",
      "Save results\n",
      "--------------------------------------------------\n",
      "Done! path: C:\\Users\\yf-su\\Desktop\\XAI\\experiments\\feature_removal_experiments_jannis, run_id: 5.\n"
     ]
    },
    {
     "name": "stderr",
     "output_type": "stream",
     "text": [
      "\n"
     ]
    },
    {
     "name": "stdout",
     "output_type": "stream",
     "text": [
      "6\n",
      "------------------------------\n",
      "{'experiment': 'feature_removal', 'n_train': 1000, 'n_val': 100, 'n_test': 3000, 'n_trees': 1000, 'clf_path': 'C:\\\\Users\\\\yf-su\\\\Desktop\\\\XAI\\\\df_oob\\\\openml_dataset', 'openml_clf_path': 'C:\\\\Users\\\\yf-su\\\\Desktop\\\\XAI\\\\df_oob\\\\openml_dataset', 'openml_reg_path': 'C:\\\\Users\\\\yf-su\\\\Desktop\\\\XAI\\\\df_oob\\\\openml_dataset', 'is_noisy': None, 'model_family': 'Tree', 'run_id': 6}\n",
      "--------------------------------------------------\n",
      "jannis\n",
      "--------------------------------------------------\n",
      "Train X: (1000, 54)\n",
      "Val X: (100, 54)\n",
      "Test X: (3000, 54)\n",
      "------------------------------\n",
      "Start: Data-OOB computation\n",
      "Done: Data-OOB computation\n",
      "Start: DF-OOB computation\n",
      "Done: DF-OOB computation\n",
      "Start: Learn-OOB computation\n",
      "Done: Learn-OOB computation\n",
      "Start: SHAP computation\n"
     ]
    },
    {
     "name": "stderr",
     "output_type": "stream",
     "text": [
      "\r",
      "  0%|                                                                                           | 0/53 [00:00<?, ?it/s]"
     ]
    },
    {
     "name": "stdout",
     "output_type": "stream",
     "text": [
      "Done: SHAP computation\n"
     ]
    },
    {
     "name": "stderr",
     "output_type": "stream",
     "text": [
      "100%|██████████████████████████████████████████████████████████████████████████████████| 53/53 [02:51<00:00,  3.23s/it]\n",
      "100%|██████████████████████████████████████████████████████████████████████████████████| 53/53 [02:57<00:00,  3.35s/it]\n",
      "100%|██████████████████████████████████████████████████████████████████████████████████| 53/53 [03:05<00:00,  3.50s/it]\n",
      "100%|██████████████████████████████████████████████████████████████████████████████████| 53/53 [03:17<00:00,  3.73s/it]"
     ]
    },
    {
     "name": "stdout",
     "output_type": "stream",
     "text": [
      "--------------------------------------------------\n",
      "Save results\n",
      "--------------------------------------------------\n",
      "Done! path: C:\\Users\\yf-su\\Desktop\\XAI\\experiments\\feature_removal_experiments_jannis, run_id: 6.\n"
     ]
    },
    {
     "name": "stderr",
     "output_type": "stream",
     "text": [
      "\n"
     ]
    },
    {
     "name": "stdout",
     "output_type": "stream",
     "text": [
      "7\n",
      "------------------------------\n",
      "{'experiment': 'feature_removal', 'n_train': 1000, 'n_val': 100, 'n_test': 3000, 'n_trees': 1000, 'clf_path': 'C:\\\\Users\\\\yf-su\\\\Desktop\\\\XAI\\\\df_oob\\\\openml_dataset', 'openml_clf_path': 'C:\\\\Users\\\\yf-su\\\\Desktop\\\\XAI\\\\df_oob\\\\openml_dataset', 'openml_reg_path': 'C:\\\\Users\\\\yf-su\\\\Desktop\\\\XAI\\\\df_oob\\\\openml_dataset', 'is_noisy': None, 'model_family': 'Tree', 'run_id': 7}\n",
      "--------------------------------------------------\n",
      "jannis\n",
      "--------------------------------------------------\n",
      "Train X: (1000, 54)\n",
      "Val X: (100, 54)\n",
      "Test X: (3000, 54)\n",
      "------------------------------\n",
      "Start: Data-OOB computation\n",
      "Done: Data-OOB computation\n",
      "Start: DF-OOB computation\n",
      "Done: DF-OOB computation\n",
      "Start: Learn-OOB computation\n",
      "Done: Learn-OOB computation\n",
      "Start: SHAP computation\n"
     ]
    },
    {
     "name": "stderr",
     "output_type": "stream",
     "text": [
      "\r",
      "  0%|                                                                                           | 0/53 [00:00<?, ?it/s]"
     ]
    },
    {
     "name": "stdout",
     "output_type": "stream",
     "text": [
      "Done: SHAP computation\n"
     ]
    },
    {
     "name": "stderr",
     "output_type": "stream",
     "text": [
      "100%|██████████████████████████████████████████████████████████████████████████████████| 53/53 [03:19<00:00,  3.77s/it]\n",
      "100%|██████████████████████████████████████████████████████████████████████████████████| 53/53 [03:25<00:00,  3.88s/it]\n",
      "100%|██████████████████████████████████████████████████████████████████████████████████| 53/53 [03:29<00:00,  3.95s/it]\n",
      "100%|██████████████████████████████████████████████████████████████████████████████████| 53/53 [03:26<00:00,  3.89s/it]"
     ]
    },
    {
     "name": "stdout",
     "output_type": "stream",
     "text": [
      "--------------------------------------------------\n",
      "Save results\n",
      "--------------------------------------------------\n",
      "Done! path: C:\\Users\\yf-su\\Desktop\\XAI\\experiments\\feature_removal_experiments_jannis, run_id: 7.\n"
     ]
    },
    {
     "name": "stderr",
     "output_type": "stream",
     "text": [
      "\n"
     ]
    },
    {
     "name": "stdout",
     "output_type": "stream",
     "text": [
      "8\n",
      "------------------------------\n",
      "{'experiment': 'feature_removal', 'n_train': 1000, 'n_val': 100, 'n_test': 3000, 'n_trees': 1000, 'clf_path': 'C:\\\\Users\\\\yf-su\\\\Desktop\\\\XAI\\\\df_oob\\\\openml_dataset', 'openml_clf_path': 'C:\\\\Users\\\\yf-su\\\\Desktop\\\\XAI\\\\df_oob\\\\openml_dataset', 'openml_reg_path': 'C:\\\\Users\\\\yf-su\\\\Desktop\\\\XAI\\\\df_oob\\\\openml_dataset', 'is_noisy': None, 'model_family': 'Tree', 'run_id': 8}\n",
      "--------------------------------------------------\n",
      "jannis\n",
      "--------------------------------------------------\n",
      "Train X: (1000, 54)\n",
      "Val X: (100, 54)\n",
      "Test X: (3000, 54)\n",
      "------------------------------\n",
      "Start: Data-OOB computation\n",
      "Done: Data-OOB computation\n",
      "Start: DF-OOB computation\n",
      "Done: DF-OOB computation\n",
      "Start: Learn-OOB computation\n",
      "Done: Learn-OOB computation\n",
      "Start: SHAP computation\n"
     ]
    },
    {
     "name": "stderr",
     "output_type": "stream",
     "text": [
      "\r",
      "  0%|                                                                                           | 0/53 [00:00<?, ?it/s]"
     ]
    },
    {
     "name": "stdout",
     "output_type": "stream",
     "text": [
      "Done: SHAP computation\n"
     ]
    },
    {
     "name": "stderr",
     "output_type": "stream",
     "text": [
      "100%|██████████████████████████████████████████████████████████████████████████████████| 53/53 [03:33<00:00,  4.03s/it]\n",
      "100%|██████████████████████████████████████████████████████████████████████████████████| 53/53 [03:31<00:00,  3.99s/it]\n",
      "100%|██████████████████████████████████████████████████████████████████████████████████| 53/53 [03:33<00:00,  4.03s/it]\n",
      "100%|██████████████████████████████████████████████████████████████████████████████████| 53/53 [03:35<00:00,  4.06s/it]"
     ]
    },
    {
     "name": "stdout",
     "output_type": "stream",
     "text": [
      "--------------------------------------------------\n",
      "Save results\n",
      "--------------------------------------------------\n",
      "Done! path: C:\\Users\\yf-su\\Desktop\\XAI\\experiments\\feature_removal_experiments_jannis, run_id: 8.\n"
     ]
    },
    {
     "name": "stderr",
     "output_type": "stream",
     "text": [
      "\n"
     ]
    },
    {
     "name": "stdout",
     "output_type": "stream",
     "text": [
      "9\n",
      "------------------------------\n",
      "{'experiment': 'feature_removal', 'n_train': 1000, 'n_val': 100, 'n_test': 3000, 'n_trees': 1000, 'clf_path': 'C:\\\\Users\\\\yf-su\\\\Desktop\\\\XAI\\\\df_oob\\\\openml_dataset', 'openml_clf_path': 'C:\\\\Users\\\\yf-su\\\\Desktop\\\\XAI\\\\df_oob\\\\openml_dataset', 'openml_reg_path': 'C:\\\\Users\\\\yf-su\\\\Desktop\\\\XAI\\\\df_oob\\\\openml_dataset', 'is_noisy': None, 'model_family': 'Tree', 'run_id': 9}\n",
      "--------------------------------------------------\n",
      "jannis\n",
      "--------------------------------------------------\n",
      "Train X: (1000, 54)\n",
      "Val X: (100, 54)\n",
      "Test X: (3000, 54)\n",
      "------------------------------\n",
      "Start: Data-OOB computation\n",
      "Done: Data-OOB computation\n",
      "Start: DF-OOB computation\n",
      "Done: DF-OOB computation\n",
      "Start: Learn-OOB computation\n",
      "Done: Learn-OOB computation\n",
      "Start: SHAP computation\n"
     ]
    },
    {
     "name": "stderr",
     "output_type": "stream",
     "text": [
      "\r",
      "  0%|                                                                                           | 0/53 [00:00<?, ?it/s]"
     ]
    },
    {
     "name": "stdout",
     "output_type": "stream",
     "text": [
      "Done: SHAP computation\n"
     ]
    },
    {
     "name": "stderr",
     "output_type": "stream",
     "text": [
      "100%|██████████████████████████████████████████████████████████████████████████████████| 53/53 [03:16<00:00,  3.71s/it]\n",
      "100%|██████████████████████████████████████████████████████████████████████████████████| 53/53 [02:10<00:00,  2.45s/it]\n",
      "100%|██████████████████████████████████████████████████████████████████████████████████| 53/53 [02:14<00:00,  2.53s/it]\n",
      "100%|██████████████████████████████████████████████████████████████████████████████████| 53/53 [02:12<00:00,  2.50s/it]"
     ]
    },
    {
     "name": "stdout",
     "output_type": "stream",
     "text": [
      "--------------------------------------------------\n",
      "Save results\n",
      "--------------------------------------------------\n",
      "Done! path: C:\\Users\\yf-su\\Desktop\\XAI\\experiments\\feature_removal_experiments_jannis, run_id: 9.\n"
     ]
    },
    {
     "name": "stderr",
     "output_type": "stream",
     "text": [
      "\n"
     ]
    },
    {
     "name": "stdout",
     "output_type": "stream",
     "text": [
      "0\n",
      "------------------------------\n",
      "{'experiment': 'feature_removal', 'n_train': 1000, 'n_val': 100, 'n_test': 3000, 'n_trees': 1000, 'clf_path': 'C:\\\\Users\\\\yf-su\\\\Desktop\\\\XAI\\\\df_oob\\\\openml_dataset', 'openml_clf_path': 'C:\\\\Users\\\\yf-su\\\\Desktop\\\\XAI\\\\df_oob\\\\openml_dataset', 'openml_reg_path': 'C:\\\\Users\\\\yf-su\\\\Desktop\\\\XAI\\\\df_oob\\\\openml_dataset', 'is_noisy': None, 'model_family': 'Tree', 'run_id': 0}\n",
      "--------------------------------------------------\n",
      "law-school-admission-bianry\n",
      "--------------------------------------------------\n",
      "Train X: (1000, 6)\n",
      "Val X: (100, 6)\n",
      "Test X: (3000, 6)\n",
      "------------------------------\n",
      "Start: Data-OOB computation\n",
      "Done: Data-OOB computation\n",
      "Start: DF-OOB computation\n",
      "Done: DF-OOB computation\n",
      "Start: Learn-OOB computation\n",
      "Done: Learn-OOB computation\n",
      "Start: SHAP computation\n"
     ]
    },
    {
     "name": "stderr",
     "output_type": "stream",
     "text": [
      "\r",
      "  0%|                                                                                            | 0/5 [00:00<?, ?it/s]"
     ]
    },
    {
     "name": "stdout",
     "output_type": "stream",
     "text": [
      "Done: SHAP computation\n"
     ]
    },
    {
     "name": "stderr",
     "output_type": "stream",
     "text": [
      "100%|████████████████████████████████████████████████████████████████████████████████████| 5/5 [00:09<00:00,  1.98s/it]\n",
      "100%|████████████████████████████████████████████████████████████████████████████████████| 5/5 [00:09<00:00,  1.91s/it]\n",
      "100%|████████████████████████████████████████████████████████████████████████████████████| 5/5 [00:09<00:00,  1.94s/it]\n",
      "100%|████████████████████████████████████████████████████████████████████████████████████| 5/5 [00:08<00:00,  1.79s/it]"
     ]
    },
    {
     "name": "stdout",
     "output_type": "stream",
     "text": [
      "--------------------------------------------------\n",
      "Save results\n",
      "--------------------------------------------------\n",
      "Done! path: C:\\Users\\yf-su\\Desktop\\XAI\\experiments\\feature_removal_experiments_lawschool, run_id: 0.\n"
     ]
    },
    {
     "name": "stderr",
     "output_type": "stream",
     "text": [
      "\n"
     ]
    },
    {
     "name": "stdout",
     "output_type": "stream",
     "text": [
      "1\n",
      "------------------------------\n",
      "{'experiment': 'feature_removal', 'n_train': 1000, 'n_val': 100, 'n_test': 3000, 'n_trees': 1000, 'clf_path': 'C:\\\\Users\\\\yf-su\\\\Desktop\\\\XAI\\\\df_oob\\\\openml_dataset', 'openml_clf_path': 'C:\\\\Users\\\\yf-su\\\\Desktop\\\\XAI\\\\df_oob\\\\openml_dataset', 'openml_reg_path': 'C:\\\\Users\\\\yf-su\\\\Desktop\\\\XAI\\\\df_oob\\\\openml_dataset', 'is_noisy': None, 'model_family': 'Tree', 'run_id': 1}\n",
      "--------------------------------------------------\n",
      "law-school-admission-bianry\n",
      "--------------------------------------------------\n",
      "Train X: (1000, 6)\n",
      "Val X: (100, 6)\n",
      "Test X: (3000, 6)\n",
      "------------------------------\n",
      "Start: Data-OOB computation\n",
      "Done: Data-OOB computation\n",
      "Start: DF-OOB computation\n",
      "Done: DF-OOB computation\n",
      "Start: Learn-OOB computation\n",
      "Done: Learn-OOB computation\n",
      "Start: SHAP computation\n"
     ]
    },
    {
     "name": "stderr",
     "output_type": "stream",
     "text": [
      "\r",
      "  0%|                                                                                            | 0/5 [00:00<?, ?it/s]"
     ]
    },
    {
     "name": "stdout",
     "output_type": "stream",
     "text": [
      "Done: SHAP computation\n"
     ]
    },
    {
     "name": "stderr",
     "output_type": "stream",
     "text": [
      "100%|████████████████████████████████████████████████████████████████████████████████████| 5/5 [00:09<00:00,  1.98s/it]\n",
      "100%|████████████████████████████████████████████████████████████████████████████████████| 5/5 [00:09<00:00,  1.87s/it]\n",
      "100%|████████████████████████████████████████████████████████████████████████████████████| 5/5 [00:09<00:00,  1.87s/it]\n",
      "100%|████████████████████████████████████████████████████████████████████████████████████| 5/5 [00:08<00:00,  1.74s/it]"
     ]
    },
    {
     "name": "stdout",
     "output_type": "stream",
     "text": [
      "--------------------------------------------------\n",
      "Save results\n",
      "--------------------------------------------------\n",
      "Done! path: C:\\Users\\yf-su\\Desktop\\XAI\\experiments\\feature_removal_experiments_lawschool, run_id: 1.\n"
     ]
    },
    {
     "name": "stderr",
     "output_type": "stream",
     "text": [
      "\n"
     ]
    },
    {
     "name": "stdout",
     "output_type": "stream",
     "text": [
      "2\n",
      "------------------------------\n",
      "{'experiment': 'feature_removal', 'n_train': 1000, 'n_val': 100, 'n_test': 3000, 'n_trees': 1000, 'clf_path': 'C:\\\\Users\\\\yf-su\\\\Desktop\\\\XAI\\\\df_oob\\\\openml_dataset', 'openml_clf_path': 'C:\\\\Users\\\\yf-su\\\\Desktop\\\\XAI\\\\df_oob\\\\openml_dataset', 'openml_reg_path': 'C:\\\\Users\\\\yf-su\\\\Desktop\\\\XAI\\\\df_oob\\\\openml_dataset', 'is_noisy': None, 'model_family': 'Tree', 'run_id': 2}\n",
      "--------------------------------------------------\n",
      "law-school-admission-bianry\n",
      "--------------------------------------------------\n",
      "Train X: (1000, 6)\n",
      "Val X: (100, 6)\n",
      "Test X: (3000, 6)\n",
      "------------------------------\n",
      "Start: Data-OOB computation\n",
      "Done: Data-OOB computation\n",
      "Start: DF-OOB computation\n",
      "Done: DF-OOB computation\n",
      "Start: Learn-OOB computation\n",
      "Done: Learn-OOB computation\n",
      "Start: SHAP computation\n"
     ]
    },
    {
     "name": "stderr",
     "output_type": "stream",
     "text": [
      "\r",
      "  0%|                                                                                            | 0/5 [00:00<?, ?it/s]"
     ]
    },
    {
     "name": "stdout",
     "output_type": "stream",
     "text": [
      "Done: SHAP computation\n"
     ]
    },
    {
     "name": "stderr",
     "output_type": "stream",
     "text": [
      "100%|████████████████████████████████████████████████████████████████████████████████████| 5/5 [00:09<00:00,  1.92s/it]\n",
      "100%|████████████████████████████████████████████████████████████████████████████████████| 5/5 [00:09<00:00,  1.92s/it]\n",
      "100%|████████████████████████████████████████████████████████████████████████████████████| 5/5 [00:09<00:00,  1.87s/it]\n",
      "100%|████████████████████████████████████████████████████████████████████████████████████| 5/5 [00:08<00:00,  1.74s/it]"
     ]
    },
    {
     "name": "stdout",
     "output_type": "stream",
     "text": [
      "--------------------------------------------------\n",
      "Save results\n",
      "--------------------------------------------------\n",
      "Done! path: C:\\Users\\yf-su\\Desktop\\XAI\\experiments\\feature_removal_experiments_lawschool, run_id: 2.\n"
     ]
    },
    {
     "name": "stderr",
     "output_type": "stream",
     "text": [
      "\n"
     ]
    },
    {
     "name": "stdout",
     "output_type": "stream",
     "text": [
      "3\n",
      "------------------------------\n",
      "{'experiment': 'feature_removal', 'n_train': 1000, 'n_val': 100, 'n_test': 3000, 'n_trees': 1000, 'clf_path': 'C:\\\\Users\\\\yf-su\\\\Desktop\\\\XAI\\\\df_oob\\\\openml_dataset', 'openml_clf_path': 'C:\\\\Users\\\\yf-su\\\\Desktop\\\\XAI\\\\df_oob\\\\openml_dataset', 'openml_reg_path': 'C:\\\\Users\\\\yf-su\\\\Desktop\\\\XAI\\\\df_oob\\\\openml_dataset', 'is_noisy': None, 'model_family': 'Tree', 'run_id': 3}\n",
      "--------------------------------------------------\n",
      "law-school-admission-bianry\n",
      "--------------------------------------------------\n",
      "Train X: (1000, 6)\n",
      "Val X: (100, 6)\n",
      "Test X: (3000, 6)\n",
      "------------------------------\n",
      "Start: Data-OOB computation\n",
      "Done: Data-OOB computation\n",
      "Start: DF-OOB computation\n",
      "Done: DF-OOB computation\n",
      "Start: Learn-OOB computation\n",
      "Done: Learn-OOB computation\n",
      "Start: SHAP computation\n"
     ]
    },
    {
     "name": "stderr",
     "output_type": "stream",
     "text": [
      "\r",
      "  0%|                                                                                            | 0/5 [00:00<?, ?it/s]"
     ]
    },
    {
     "name": "stdout",
     "output_type": "stream",
     "text": [
      "Done: SHAP computation\n"
     ]
    },
    {
     "name": "stderr",
     "output_type": "stream",
     "text": [
      "100%|████████████████████████████████████████████████████████████████████████████████████| 5/5 [00:09<00:00,  1.90s/it]\n",
      "100%|████████████████████████████████████████████████████████████████████████████████████| 5/5 [00:09<00:00,  1.86s/it]\n",
      "100%|████████████████████████████████████████████████████████████████████████████████████| 5/5 [00:09<00:00,  1.85s/it]\n",
      "100%|████████████████████████████████████████████████████████████████████████████████████| 5/5 [00:08<00:00,  1.75s/it]"
     ]
    },
    {
     "name": "stdout",
     "output_type": "stream",
     "text": [
      "--------------------------------------------------\n",
      "Save results\n",
      "--------------------------------------------------\n",
      "Done! path: C:\\Users\\yf-su\\Desktop\\XAI\\experiments\\feature_removal_experiments_lawschool, run_id: 3.\n"
     ]
    },
    {
     "name": "stderr",
     "output_type": "stream",
     "text": [
      "\n"
     ]
    },
    {
     "name": "stdout",
     "output_type": "stream",
     "text": [
      "4\n",
      "------------------------------\n",
      "{'experiment': 'feature_removal', 'n_train': 1000, 'n_val': 100, 'n_test': 3000, 'n_trees': 1000, 'clf_path': 'C:\\\\Users\\\\yf-su\\\\Desktop\\\\XAI\\\\df_oob\\\\openml_dataset', 'openml_clf_path': 'C:\\\\Users\\\\yf-su\\\\Desktop\\\\XAI\\\\df_oob\\\\openml_dataset', 'openml_reg_path': 'C:\\\\Users\\\\yf-su\\\\Desktop\\\\XAI\\\\df_oob\\\\openml_dataset', 'is_noisy': None, 'model_family': 'Tree', 'run_id': 4}\n",
      "--------------------------------------------------\n",
      "law-school-admission-bianry\n",
      "--------------------------------------------------\n",
      "Train X: (1000, 6)\n",
      "Val X: (100, 6)\n",
      "Test X: (3000, 6)\n",
      "------------------------------\n",
      "Start: Data-OOB computation\n",
      "Done: Data-OOB computation\n",
      "Start: DF-OOB computation\n",
      "Done: DF-OOB computation\n",
      "Start: Learn-OOB computation\n",
      "Done: Learn-OOB computation\n",
      "Start: SHAP computation\n"
     ]
    },
    {
     "name": "stderr",
     "output_type": "stream",
     "text": [
      "\r",
      "  0%|                                                                                            | 0/5 [00:00<?, ?it/s]"
     ]
    },
    {
     "name": "stdout",
     "output_type": "stream",
     "text": [
      "Done: SHAP computation\n"
     ]
    },
    {
     "name": "stderr",
     "output_type": "stream",
     "text": [
      "100%|████████████████████████████████████████████████████████████████████████████████████| 5/5 [00:10<00:00,  2.03s/it]\n",
      "100%|████████████████████████████████████████████████████████████████████████████████████| 5/5 [00:09<00:00,  1.88s/it]\n",
      "100%|████████████████████████████████████████████████████████████████████████████████████| 5/5 [00:09<00:00,  1.96s/it]\n",
      "100%|████████████████████████████████████████████████████████████████████████████████████| 5/5 [00:08<00:00,  1.71s/it]"
     ]
    },
    {
     "name": "stdout",
     "output_type": "stream",
     "text": [
      "--------------------------------------------------\n",
      "Save results\n",
      "--------------------------------------------------\n",
      "Done! path: C:\\Users\\yf-su\\Desktop\\XAI\\experiments\\feature_removal_experiments_lawschool, run_id: 4.\n"
     ]
    },
    {
     "name": "stderr",
     "output_type": "stream",
     "text": [
      "\n"
     ]
    },
    {
     "name": "stdout",
     "output_type": "stream",
     "text": [
      "5\n",
      "------------------------------\n",
      "{'experiment': 'feature_removal', 'n_train': 1000, 'n_val': 100, 'n_test': 3000, 'n_trees': 1000, 'clf_path': 'C:\\\\Users\\\\yf-su\\\\Desktop\\\\XAI\\\\df_oob\\\\openml_dataset', 'openml_clf_path': 'C:\\\\Users\\\\yf-su\\\\Desktop\\\\XAI\\\\df_oob\\\\openml_dataset', 'openml_reg_path': 'C:\\\\Users\\\\yf-su\\\\Desktop\\\\XAI\\\\df_oob\\\\openml_dataset', 'is_noisy': None, 'model_family': 'Tree', 'run_id': 5}\n",
      "--------------------------------------------------\n",
      "law-school-admission-bianry\n",
      "--------------------------------------------------\n",
      "Train X: (1000, 6)\n",
      "Val X: (100, 6)\n",
      "Test X: (3000, 6)\n",
      "------------------------------\n",
      "Start: Data-OOB computation\n",
      "Done: Data-OOB computation\n",
      "Start: DF-OOB computation\n",
      "Done: DF-OOB computation\n",
      "Start: Learn-OOB computation\n",
      "Done: Learn-OOB computation\n",
      "Start: SHAP computation\n"
     ]
    },
    {
     "name": "stderr",
     "output_type": "stream",
     "text": [
      "\r",
      "  0%|                                                                                            | 0/5 [00:00<?, ?it/s]"
     ]
    },
    {
     "name": "stdout",
     "output_type": "stream",
     "text": [
      "Done: SHAP computation\n"
     ]
    },
    {
     "name": "stderr",
     "output_type": "stream",
     "text": [
      "100%|████████████████████████████████████████████████████████████████████████████████████| 5/5 [00:09<00:00,  1.97s/it]\n",
      "100%|████████████████████████████████████████████████████████████████████████████████████| 5/5 [00:09<00:00,  1.91s/it]\n",
      "100%|████████████████████████████████████████████████████████████████████████████████████| 5/5 [00:09<00:00,  1.94s/it]\n",
      "100%|████████████████████████████████████████████████████████████████████████████████████| 5/5 [00:08<00:00,  1.71s/it]"
     ]
    },
    {
     "name": "stdout",
     "output_type": "stream",
     "text": [
      "--------------------------------------------------\n",
      "Save results\n",
      "--------------------------------------------------\n",
      "Done! path: C:\\Users\\yf-su\\Desktop\\XAI\\experiments\\feature_removal_experiments_lawschool, run_id: 5.\n"
     ]
    },
    {
     "name": "stderr",
     "output_type": "stream",
     "text": [
      "\n"
     ]
    },
    {
     "name": "stdout",
     "output_type": "stream",
     "text": [
      "6\n",
      "------------------------------\n",
      "{'experiment': 'feature_removal', 'n_train': 1000, 'n_val': 100, 'n_test': 3000, 'n_trees': 1000, 'clf_path': 'C:\\\\Users\\\\yf-su\\\\Desktop\\\\XAI\\\\df_oob\\\\openml_dataset', 'openml_clf_path': 'C:\\\\Users\\\\yf-su\\\\Desktop\\\\XAI\\\\df_oob\\\\openml_dataset', 'openml_reg_path': 'C:\\\\Users\\\\yf-su\\\\Desktop\\\\XAI\\\\df_oob\\\\openml_dataset', 'is_noisy': None, 'model_family': 'Tree', 'run_id': 6}\n",
      "--------------------------------------------------\n",
      "law-school-admission-bianry\n",
      "--------------------------------------------------\n",
      "Train X: (1000, 6)\n",
      "Val X: (100, 6)\n",
      "Test X: (3000, 6)\n",
      "------------------------------\n",
      "Start: Data-OOB computation\n",
      "Done: Data-OOB computation\n",
      "Start: DF-OOB computation\n",
      "Done: DF-OOB computation\n",
      "Start: Learn-OOB computation\n",
      "Done: Learn-OOB computation\n",
      "Start: SHAP computation\n"
     ]
    },
    {
     "name": "stderr",
     "output_type": "stream",
     "text": [
      "\r",
      "  0%|                                                                                            | 0/5 [00:00<?, ?it/s]"
     ]
    },
    {
     "name": "stdout",
     "output_type": "stream",
     "text": [
      "Done: SHAP computation\n"
     ]
    },
    {
     "name": "stderr",
     "output_type": "stream",
     "text": [
      "100%|████████████████████████████████████████████████████████████████████████████████████| 5/5 [00:09<00:00,  1.94s/it]\n",
      "100%|████████████████████████████████████████████████████████████████████████████████████| 5/5 [00:09<00:00,  1.92s/it]\n",
      "100%|████████████████████████████████████████████████████████████████████████████████████| 5/5 [00:09<00:00,  1.92s/it]\n",
      "100%|████████████████████████████████████████████████████████████████████████████████████| 5/5 [00:09<00:00,  1.84s/it]"
     ]
    },
    {
     "name": "stdout",
     "output_type": "stream",
     "text": [
      "--------------------------------------------------\n",
      "Save results\n",
      "--------------------------------------------------\n",
      "Done! path: C:\\Users\\yf-su\\Desktop\\XAI\\experiments\\feature_removal_experiments_lawschool, run_id: 6.\n"
     ]
    },
    {
     "name": "stderr",
     "output_type": "stream",
     "text": [
      "\n"
     ]
    },
    {
     "name": "stdout",
     "output_type": "stream",
     "text": [
      "7\n",
      "------------------------------\n",
      "{'experiment': 'feature_removal', 'n_train': 1000, 'n_val': 100, 'n_test': 3000, 'n_trees': 1000, 'clf_path': 'C:\\\\Users\\\\yf-su\\\\Desktop\\\\XAI\\\\df_oob\\\\openml_dataset', 'openml_clf_path': 'C:\\\\Users\\\\yf-su\\\\Desktop\\\\XAI\\\\df_oob\\\\openml_dataset', 'openml_reg_path': 'C:\\\\Users\\\\yf-su\\\\Desktop\\\\XAI\\\\df_oob\\\\openml_dataset', 'is_noisy': None, 'model_family': 'Tree', 'run_id': 7}\n",
      "--------------------------------------------------\n",
      "law-school-admission-bianry\n",
      "--------------------------------------------------\n",
      "Train X: (1000, 6)\n",
      "Val X: (100, 6)\n",
      "Test X: (3000, 6)\n",
      "------------------------------\n",
      "Start: Data-OOB computation\n",
      "Done: Data-OOB computation\n",
      "Start: DF-OOB computation\n",
      "Done: DF-OOB computation\n",
      "Start: Learn-OOB computation\n",
      "Done: Learn-OOB computation\n",
      "Start: SHAP computation\n"
     ]
    },
    {
     "name": "stderr",
     "output_type": "stream",
     "text": [
      "\r",
      "  0%|                                                                                            | 0/5 [00:00<?, ?it/s]"
     ]
    },
    {
     "name": "stdout",
     "output_type": "stream",
     "text": [
      "Done: SHAP computation\n"
     ]
    },
    {
     "name": "stderr",
     "output_type": "stream",
     "text": [
      "100%|████████████████████████████████████████████████████████████████████████████████████| 5/5 [00:09<00:00,  1.93s/it]\n",
      "100%|████████████████████████████████████████████████████████████████████████████████████| 5/5 [00:09<00:00,  1.88s/it]\n",
      "100%|████████████████████████████████████████████████████████████████████████████████████| 5/5 [00:09<00:00,  1.89s/it]\n",
      "100%|████████████████████████████████████████████████████████████████████████████████████| 5/5 [00:09<00:00,  1.80s/it]"
     ]
    },
    {
     "name": "stdout",
     "output_type": "stream",
     "text": [
      "--------------------------------------------------\n",
      "Save results\n",
      "--------------------------------------------------\n",
      "Done! path: C:\\Users\\yf-su\\Desktop\\XAI\\experiments\\feature_removal_experiments_lawschool, run_id: 7.\n"
     ]
    },
    {
     "name": "stderr",
     "output_type": "stream",
     "text": [
      "\n"
     ]
    },
    {
     "name": "stdout",
     "output_type": "stream",
     "text": [
      "8\n",
      "------------------------------\n",
      "{'experiment': 'feature_removal', 'n_train': 1000, 'n_val': 100, 'n_test': 3000, 'n_trees': 1000, 'clf_path': 'C:\\\\Users\\\\yf-su\\\\Desktop\\\\XAI\\\\df_oob\\\\openml_dataset', 'openml_clf_path': 'C:\\\\Users\\\\yf-su\\\\Desktop\\\\XAI\\\\df_oob\\\\openml_dataset', 'openml_reg_path': 'C:\\\\Users\\\\yf-su\\\\Desktop\\\\XAI\\\\df_oob\\\\openml_dataset', 'is_noisy': None, 'model_family': 'Tree', 'run_id': 8}\n",
      "--------------------------------------------------\n",
      "law-school-admission-bianry\n",
      "--------------------------------------------------\n",
      "Train X: (1000, 6)\n",
      "Val X: (100, 6)\n",
      "Test X: (3000, 6)\n",
      "------------------------------\n",
      "Start: Data-OOB computation\n",
      "Done: Data-OOB computation\n",
      "Start: DF-OOB computation\n",
      "Done: DF-OOB computation\n",
      "Start: Learn-OOB computation\n",
      "Done: Learn-OOB computation\n",
      "Start: SHAP computation\n"
     ]
    },
    {
     "name": "stderr",
     "output_type": "stream",
     "text": [
      "\r",
      "  0%|                                                                                            | 0/5 [00:00<?, ?it/s]"
     ]
    },
    {
     "name": "stdout",
     "output_type": "stream",
     "text": [
      "Done: SHAP computation\n"
     ]
    },
    {
     "name": "stderr",
     "output_type": "stream",
     "text": [
      "100%|████████████████████████████████████████████████████████████████████████████████████| 5/5 [00:09<00:00,  1.95s/it]\n",
      "100%|████████████████████████████████████████████████████████████████████████████████████| 5/5 [00:08<00:00,  1.80s/it]\n",
      "100%|████████████████████████████████████████████████████████████████████████████████████| 5/5 [00:09<00:00,  1.93s/it]\n",
      "100%|████████████████████████████████████████████████████████████████████████████████████| 5/5 [00:08<00:00,  1.69s/it]"
     ]
    },
    {
     "name": "stdout",
     "output_type": "stream",
     "text": [
      "--------------------------------------------------\n",
      "Save results\n",
      "--------------------------------------------------\n",
      "Done! path: C:\\Users\\yf-su\\Desktop\\XAI\\experiments\\feature_removal_experiments_lawschool, run_id: 8.\n"
     ]
    },
    {
     "name": "stderr",
     "output_type": "stream",
     "text": [
      "\n"
     ]
    },
    {
     "name": "stdout",
     "output_type": "stream",
     "text": [
      "9\n",
      "------------------------------\n",
      "{'experiment': 'feature_removal', 'n_train': 1000, 'n_val': 100, 'n_test': 3000, 'n_trees': 1000, 'clf_path': 'C:\\\\Users\\\\yf-su\\\\Desktop\\\\XAI\\\\df_oob\\\\openml_dataset', 'openml_clf_path': 'C:\\\\Users\\\\yf-su\\\\Desktop\\\\XAI\\\\df_oob\\\\openml_dataset', 'openml_reg_path': 'C:\\\\Users\\\\yf-su\\\\Desktop\\\\XAI\\\\df_oob\\\\openml_dataset', 'is_noisy': None, 'model_family': 'Tree', 'run_id': 9}\n",
      "--------------------------------------------------\n",
      "law-school-admission-bianry\n",
      "--------------------------------------------------\n",
      "Train X: (1000, 6)\n",
      "Val X: (100, 6)\n",
      "Test X: (3000, 6)\n",
      "------------------------------\n",
      "Start: Data-OOB computation\n",
      "Done: Data-OOB computation\n",
      "Start: DF-OOB computation\n",
      "Done: DF-OOB computation\n",
      "Start: Learn-OOB computation\n",
      "Done: Learn-OOB computation\n",
      "Start: SHAP computation\n"
     ]
    },
    {
     "name": "stderr",
     "output_type": "stream",
     "text": [
      "\r",
      "  0%|                                                                                            | 0/5 [00:00<?, ?it/s]"
     ]
    },
    {
     "name": "stdout",
     "output_type": "stream",
     "text": [
      "Done: SHAP computation\n"
     ]
    },
    {
     "name": "stderr",
     "output_type": "stream",
     "text": [
      "100%|████████████████████████████████████████████████████████████████████████████████████| 5/5 [00:09<00:00,  1.95s/it]\n",
      "100%|████████████████████████████████████████████████████████████████████████████████████| 5/5 [00:09<00:00,  1.95s/it]\n",
      "100%|████████████████████████████████████████████████████████████████████████████████████| 5/5 [00:09<00:00,  1.90s/it]\n",
      "100%|████████████████████████████████████████████████████████████████████████████████████| 5/5 [00:08<00:00,  1.65s/it]"
     ]
    },
    {
     "name": "stdout",
     "output_type": "stream",
     "text": [
      "--------------------------------------------------\n",
      "Save results\n",
      "--------------------------------------------------\n",
      "Done! path: C:\\Users\\yf-su\\Desktop\\XAI\\experiments\\feature_removal_experiments_lawschool, run_id: 9.\n"
     ]
    },
    {
     "name": "stderr",
     "output_type": "stream",
     "text": [
      "\n"
     ]
    },
    {
     "name": "stdout",
     "output_type": "stream",
     "text": [
      "0\n",
      "------------------------------\n",
      "{'experiment': 'feature_removal', 'n_train': 1000, 'n_val': 100, 'n_test': 3000, 'n_trees': 1000, 'clf_path': 'C:\\\\Users\\\\yf-su\\\\Desktop\\\\XAI\\\\df_oob\\\\openml_dataset', 'openml_clf_path': 'C:\\\\Users\\\\yf-su\\\\Desktop\\\\XAI\\\\df_oob\\\\openml_dataset', 'openml_reg_path': 'C:\\\\Users\\\\yf-su\\\\Desktop\\\\XAI\\\\df_oob\\\\openml_dataset', 'is_noisy': None, 'model_family': 'Tree', 'run_id': 0}\n",
      "--------------------------------------------------\n",
      "fried\n",
      "--------------------------------------------------\n",
      "Train X: (1000, 10)\n",
      "Val X: (100, 10)\n",
      "Test X: (3000, 10)\n",
      "------------------------------\n",
      "Start: Data-OOB computation\n",
      "Done: Data-OOB computation\n",
      "Start: DF-OOB computation\n",
      "Done: DF-OOB computation\n",
      "Start: Learn-OOB computation\n",
      "Done: Learn-OOB computation\n",
      "Start: SHAP computation\n"
     ]
    },
    {
     "name": "stderr",
     "output_type": "stream",
     "text": [
      "\r",
      "  0%|                                                                                            | 0/9 [00:00<?, ?it/s]"
     ]
    },
    {
     "name": "stdout",
     "output_type": "stream",
     "text": [
      "Done: SHAP computation\n"
     ]
    },
    {
     "name": "stderr",
     "output_type": "stream",
     "text": [
      "100%|████████████████████████████████████████████████████████████████████████████████████| 9/9 [00:27<00:00,  3.09s/it]\n",
      "100%|████████████████████████████████████████████████████████████████████████████████████| 9/9 [00:25<00:00,  2.84s/it]\n",
      "100%|████████████████████████████████████████████████████████████████████████████████████| 9/9 [00:25<00:00,  2.83s/it]\n",
      "100%|████████████████████████████████████████████████████████████████████████████████████| 9/9 [00:21<00:00,  2.40s/it]"
     ]
    },
    {
     "name": "stdout",
     "output_type": "stream",
     "text": [
      "--------------------------------------------------\n",
      "Save results\n",
      "--------------------------------------------------\n",
      "Done! path: C:\\Users\\yf-su\\Desktop\\XAI\\experiments\\feature_removal_experiments_fried, run_id: 0.\n"
     ]
    },
    {
     "name": "stderr",
     "output_type": "stream",
     "text": [
      "\n"
     ]
    },
    {
     "name": "stdout",
     "output_type": "stream",
     "text": [
      "1\n",
      "------------------------------\n",
      "{'experiment': 'feature_removal', 'n_train': 1000, 'n_val': 100, 'n_test': 3000, 'n_trees': 1000, 'clf_path': 'C:\\\\Users\\\\yf-su\\\\Desktop\\\\XAI\\\\df_oob\\\\openml_dataset', 'openml_clf_path': 'C:\\\\Users\\\\yf-su\\\\Desktop\\\\XAI\\\\df_oob\\\\openml_dataset', 'openml_reg_path': 'C:\\\\Users\\\\yf-su\\\\Desktop\\\\XAI\\\\df_oob\\\\openml_dataset', 'is_noisy': None, 'model_family': 'Tree', 'run_id': 1}\n",
      "--------------------------------------------------\n",
      "fried\n",
      "--------------------------------------------------\n",
      "Train X: (1000, 10)\n",
      "Val X: (100, 10)\n",
      "Test X: (3000, 10)\n",
      "------------------------------\n",
      "Start: Data-OOB computation\n",
      "Done: Data-OOB computation\n",
      "Start: DF-OOB computation\n",
      "Done: DF-OOB computation\n",
      "Start: Learn-OOB computation\n",
      "Done: Learn-OOB computation\n",
      "Start: SHAP computation\n"
     ]
    },
    {
     "name": "stderr",
     "output_type": "stream",
     "text": [
      "\r",
      "  0%|                                                                                            | 0/9 [00:00<?, ?it/s]"
     ]
    },
    {
     "name": "stdout",
     "output_type": "stream",
     "text": [
      "Done: SHAP computation\n"
     ]
    },
    {
     "name": "stderr",
     "output_type": "stream",
     "text": [
      "100%|████████████████████████████████████████████████████████████████████████████████████| 9/9 [00:24<00:00,  2.77s/it]\n",
      "100%|████████████████████████████████████████████████████████████████████████████████████| 9/9 [00:26<00:00,  2.96s/it]\n",
      "100%|████████████████████████████████████████████████████████████████████████████████████| 9/9 [00:24<00:00,  2.77s/it]\n",
      "100%|████████████████████████████████████████████████████████████████████████████████████| 9/9 [00:20<00:00,  2.32s/it]"
     ]
    },
    {
     "name": "stdout",
     "output_type": "stream",
     "text": [
      "--------------------------------------------------\n",
      "Save results\n",
      "--------------------------------------------------\n",
      "Done! path: C:\\Users\\yf-su\\Desktop\\XAI\\experiments\\feature_removal_experiments_fried, run_id: 1.\n"
     ]
    },
    {
     "name": "stderr",
     "output_type": "stream",
     "text": [
      "\n"
     ]
    },
    {
     "name": "stdout",
     "output_type": "stream",
     "text": [
      "2\n",
      "------------------------------\n",
      "{'experiment': 'feature_removal', 'n_train': 1000, 'n_val': 100, 'n_test': 3000, 'n_trees': 1000, 'clf_path': 'C:\\\\Users\\\\yf-su\\\\Desktop\\\\XAI\\\\df_oob\\\\openml_dataset', 'openml_clf_path': 'C:\\\\Users\\\\yf-su\\\\Desktop\\\\XAI\\\\df_oob\\\\openml_dataset', 'openml_reg_path': 'C:\\\\Users\\\\yf-su\\\\Desktop\\\\XAI\\\\df_oob\\\\openml_dataset', 'is_noisy': None, 'model_family': 'Tree', 'run_id': 2}\n",
      "--------------------------------------------------\n",
      "fried\n",
      "--------------------------------------------------\n",
      "Train X: (1000, 10)\n",
      "Val X: (100, 10)\n",
      "Test X: (3000, 10)\n",
      "------------------------------\n",
      "Start: Data-OOB computation\n",
      "Done: Data-OOB computation\n",
      "Start: DF-OOB computation\n",
      "Done: DF-OOB computation\n",
      "Start: Learn-OOB computation\n",
      "Done: Learn-OOB computation\n",
      "Start: SHAP computation\n"
     ]
    },
    {
     "name": "stderr",
     "output_type": "stream",
     "text": [
      "\r",
      "  0%|                                                                                            | 0/9 [00:00<?, ?it/s]"
     ]
    },
    {
     "name": "stdout",
     "output_type": "stream",
     "text": [
      "Done: SHAP computation\n"
     ]
    },
    {
     "name": "stderr",
     "output_type": "stream",
     "text": [
      "100%|████████████████████████████████████████████████████████████████████████████████████| 9/9 [00:26<00:00,  2.93s/it]\n",
      "100%|████████████████████████████████████████████████████████████████████████████████████| 9/9 [00:25<00:00,  2.82s/it]\n",
      "100%|████████████████████████████████████████████████████████████████████████████████████| 9/9 [00:26<00:00,  2.94s/it]\n",
      "100%|████████████████████████████████████████████████████████████████████████████████████| 9/9 [00:20<00:00,  2.22s/it]"
     ]
    },
    {
     "name": "stdout",
     "output_type": "stream",
     "text": [
      "--------------------------------------------------\n",
      "Save results\n",
      "--------------------------------------------------\n",
      "Done! path: C:\\Users\\yf-su\\Desktop\\XAI\\experiments\\feature_removal_experiments_fried, run_id: 2.\n"
     ]
    },
    {
     "name": "stderr",
     "output_type": "stream",
     "text": [
      "\n"
     ]
    },
    {
     "name": "stdout",
     "output_type": "stream",
     "text": [
      "3\n",
      "------------------------------\n",
      "{'experiment': 'feature_removal', 'n_train': 1000, 'n_val': 100, 'n_test': 3000, 'n_trees': 1000, 'clf_path': 'C:\\\\Users\\\\yf-su\\\\Desktop\\\\XAI\\\\df_oob\\\\openml_dataset', 'openml_clf_path': 'C:\\\\Users\\\\yf-su\\\\Desktop\\\\XAI\\\\df_oob\\\\openml_dataset', 'openml_reg_path': 'C:\\\\Users\\\\yf-su\\\\Desktop\\\\XAI\\\\df_oob\\\\openml_dataset', 'is_noisy': None, 'model_family': 'Tree', 'run_id': 3}\n",
      "--------------------------------------------------\n",
      "fried\n",
      "--------------------------------------------------\n",
      "Train X: (1000, 10)\n",
      "Val X: (100, 10)\n",
      "Test X: (3000, 10)\n",
      "------------------------------\n",
      "Start: Data-OOB computation\n",
      "Done: Data-OOB computation\n",
      "Start: DF-OOB computation\n",
      "Done: DF-OOB computation\n",
      "Start: Learn-OOB computation\n",
      "Done: Learn-OOB computation\n",
      "Start: SHAP computation\n"
     ]
    },
    {
     "name": "stderr",
     "output_type": "stream",
     "text": [
      "\r",
      "  0%|                                                                                            | 0/9 [00:00<?, ?it/s]"
     ]
    },
    {
     "name": "stdout",
     "output_type": "stream",
     "text": [
      "Done: SHAP computation\n"
     ]
    },
    {
     "name": "stderr",
     "output_type": "stream",
     "text": [
      "100%|████████████████████████████████████████████████████████████████████████████████████| 9/9 [00:26<00:00,  2.98s/it]\n",
      "100%|████████████████████████████████████████████████████████████████████████████████████| 9/9 [00:24<00:00,  2.67s/it]\n",
      "100%|████████████████████████████████████████████████████████████████████████████████████| 9/9 [00:25<00:00,  2.88s/it]\n",
      "100%|████████████████████████████████████████████████████████████████████████████████████| 9/9 [00:22<00:00,  2.53s/it]"
     ]
    },
    {
     "name": "stdout",
     "output_type": "stream",
     "text": [
      "--------------------------------------------------\n",
      "Save results\n",
      "--------------------------------------------------\n",
      "Done! path: C:\\Users\\yf-su\\Desktop\\XAI\\experiments\\feature_removal_experiments_fried, run_id: 3.\n"
     ]
    },
    {
     "name": "stderr",
     "output_type": "stream",
     "text": [
      "\n"
     ]
    },
    {
     "name": "stdout",
     "output_type": "stream",
     "text": [
      "4\n",
      "------------------------------\n",
      "{'experiment': 'feature_removal', 'n_train': 1000, 'n_val': 100, 'n_test': 3000, 'n_trees': 1000, 'clf_path': 'C:\\\\Users\\\\yf-su\\\\Desktop\\\\XAI\\\\df_oob\\\\openml_dataset', 'openml_clf_path': 'C:\\\\Users\\\\yf-su\\\\Desktop\\\\XAI\\\\df_oob\\\\openml_dataset', 'openml_reg_path': 'C:\\\\Users\\\\yf-su\\\\Desktop\\\\XAI\\\\df_oob\\\\openml_dataset', 'is_noisy': None, 'model_family': 'Tree', 'run_id': 4}\n",
      "--------------------------------------------------\n",
      "fried\n",
      "--------------------------------------------------\n",
      "Train X: (1000, 10)\n",
      "Val X: (100, 10)\n",
      "Test X: (3000, 10)\n",
      "------------------------------\n",
      "Start: Data-OOB computation\n",
      "Done: Data-OOB computation\n",
      "Start: DF-OOB computation\n",
      "Done: DF-OOB computation\n",
      "Start: Learn-OOB computation\n",
      "Done: Learn-OOB computation\n",
      "Start: SHAP computation\n"
     ]
    },
    {
     "name": "stderr",
     "output_type": "stream",
     "text": [
      "\r",
      "  0%|                                                                                            | 0/9 [00:00<?, ?it/s]"
     ]
    },
    {
     "name": "stdout",
     "output_type": "stream",
     "text": [
      "Done: SHAP computation\n"
     ]
    },
    {
     "name": "stderr",
     "output_type": "stream",
     "text": [
      "100%|████████████████████████████████████████████████████████████████████████████████████| 9/9 [00:25<00:00,  2.84s/it]\n",
      "100%|████████████████████████████████████████████████████████████████████████████████████| 9/9 [00:26<00:00,  2.95s/it]\n",
      "100%|████████████████████████████████████████████████████████████████████████████████████| 9/9 [00:26<00:00,  2.92s/it]\n",
      "100%|████████████████████████████████████████████████████████████████████████████████████| 9/9 [00:23<00:00,  2.62s/it]"
     ]
    },
    {
     "name": "stdout",
     "output_type": "stream",
     "text": [
      "--------------------------------------------------\n",
      "Save results\n",
      "--------------------------------------------------\n",
      "Done! path: C:\\Users\\yf-su\\Desktop\\XAI\\experiments\\feature_removal_experiments_fried, run_id: 4.\n"
     ]
    },
    {
     "name": "stderr",
     "output_type": "stream",
     "text": [
      "\n"
     ]
    },
    {
     "name": "stdout",
     "output_type": "stream",
     "text": [
      "5\n",
      "------------------------------\n",
      "{'experiment': 'feature_removal', 'n_train': 1000, 'n_val': 100, 'n_test': 3000, 'n_trees': 1000, 'clf_path': 'C:\\\\Users\\\\yf-su\\\\Desktop\\\\XAI\\\\df_oob\\\\openml_dataset', 'openml_clf_path': 'C:\\\\Users\\\\yf-su\\\\Desktop\\\\XAI\\\\df_oob\\\\openml_dataset', 'openml_reg_path': 'C:\\\\Users\\\\yf-su\\\\Desktop\\\\XAI\\\\df_oob\\\\openml_dataset', 'is_noisy': None, 'model_family': 'Tree', 'run_id': 5}\n",
      "--------------------------------------------------\n",
      "fried\n",
      "--------------------------------------------------\n",
      "Train X: (1000, 10)\n",
      "Val X: (100, 10)\n",
      "Test X: (3000, 10)\n",
      "------------------------------\n",
      "Start: Data-OOB computation\n",
      "Done: Data-OOB computation\n",
      "Start: DF-OOB computation\n",
      "Done: DF-OOB computation\n",
      "Start: Learn-OOB computation\n",
      "Done: Learn-OOB computation\n",
      "Start: SHAP computation\n"
     ]
    },
    {
     "name": "stderr",
     "output_type": "stream",
     "text": [
      "\r",
      "  0%|                                                                                            | 0/9 [00:00<?, ?it/s]"
     ]
    },
    {
     "name": "stdout",
     "output_type": "stream",
     "text": [
      "Done: SHAP computation\n"
     ]
    },
    {
     "name": "stderr",
     "output_type": "stream",
     "text": [
      "100%|████████████████████████████████████████████████████████████████████████████████████| 9/9 [00:26<00:00,  2.94s/it]\n",
      "100%|████████████████████████████████████████████████████████████████████████████████████| 9/9 [00:25<00:00,  2.83s/it]\n",
      "100%|████████████████████████████████████████████████████████████████████████████████████| 9/9 [00:25<00:00,  2.84s/it]\n",
      "100%|████████████████████████████████████████████████████████████████████████████████████| 9/9 [00:23<00:00,  2.61s/it]"
     ]
    },
    {
     "name": "stdout",
     "output_type": "stream",
     "text": [
      "--------------------------------------------------\n",
      "Save results\n",
      "--------------------------------------------------\n",
      "Done! path: C:\\Users\\yf-su\\Desktop\\XAI\\experiments\\feature_removal_experiments_fried, run_id: 5.\n"
     ]
    },
    {
     "name": "stderr",
     "output_type": "stream",
     "text": [
      "\n"
     ]
    },
    {
     "name": "stdout",
     "output_type": "stream",
     "text": [
      "6\n",
      "------------------------------\n",
      "{'experiment': 'feature_removal', 'n_train': 1000, 'n_val': 100, 'n_test': 3000, 'n_trees': 1000, 'clf_path': 'C:\\\\Users\\\\yf-su\\\\Desktop\\\\XAI\\\\df_oob\\\\openml_dataset', 'openml_clf_path': 'C:\\\\Users\\\\yf-su\\\\Desktop\\\\XAI\\\\df_oob\\\\openml_dataset', 'openml_reg_path': 'C:\\\\Users\\\\yf-su\\\\Desktop\\\\XAI\\\\df_oob\\\\openml_dataset', 'is_noisy': None, 'model_family': 'Tree', 'run_id': 6}\n",
      "--------------------------------------------------\n",
      "fried\n",
      "--------------------------------------------------\n",
      "Train X: (1000, 10)\n",
      "Val X: (100, 10)\n",
      "Test X: (3000, 10)\n",
      "------------------------------\n",
      "Start: Data-OOB computation\n",
      "Done: Data-OOB computation\n",
      "Start: DF-OOB computation\n",
      "Done: DF-OOB computation\n",
      "Start: Learn-OOB computation\n",
      "Done: Learn-OOB computation\n",
      "Start: SHAP computation\n"
     ]
    },
    {
     "name": "stderr",
     "output_type": "stream",
     "text": [
      "\r",
      "  0%|                                                                                            | 0/9 [00:00<?, ?it/s]"
     ]
    },
    {
     "name": "stdout",
     "output_type": "stream",
     "text": [
      "Done: SHAP computation\n"
     ]
    },
    {
     "name": "stderr",
     "output_type": "stream",
     "text": [
      "100%|████████████████████████████████████████████████████████████████████████████████████| 9/9 [00:21<00:00,  2.37s/it]\n",
      "100%|████████████████████████████████████████████████████████████████████████████████████| 9/9 [00:25<00:00,  2.81s/it]\n",
      "100%|████████████████████████████████████████████████████████████████████████████████████| 9/9 [00:25<00:00,  2.81s/it]\n",
      "100%|████████████████████████████████████████████████████████████████████████████████████| 9/9 [00:22<00:00,  2.48s/it]"
     ]
    },
    {
     "name": "stdout",
     "output_type": "stream",
     "text": [
      "--------------------------------------------------\n",
      "Save results\n",
      "--------------------------------------------------\n",
      "Done! path: C:\\Users\\yf-su\\Desktop\\XAI\\experiments\\feature_removal_experiments_fried, run_id: 6.\n"
     ]
    },
    {
     "name": "stderr",
     "output_type": "stream",
     "text": [
      "\n"
     ]
    },
    {
     "name": "stdout",
     "output_type": "stream",
     "text": [
      "7\n",
      "------------------------------\n",
      "{'experiment': 'feature_removal', 'n_train': 1000, 'n_val': 100, 'n_test': 3000, 'n_trees': 1000, 'clf_path': 'C:\\\\Users\\\\yf-su\\\\Desktop\\\\XAI\\\\df_oob\\\\openml_dataset', 'openml_clf_path': 'C:\\\\Users\\\\yf-su\\\\Desktop\\\\XAI\\\\df_oob\\\\openml_dataset', 'openml_reg_path': 'C:\\\\Users\\\\yf-su\\\\Desktop\\\\XAI\\\\df_oob\\\\openml_dataset', 'is_noisy': None, 'model_family': 'Tree', 'run_id': 7}\n",
      "--------------------------------------------------\n",
      "fried\n",
      "--------------------------------------------------\n",
      "Train X: (1000, 10)\n",
      "Val X: (100, 10)\n",
      "Test X: (3000, 10)\n",
      "------------------------------\n",
      "Start: Data-OOB computation\n",
      "Done: Data-OOB computation\n",
      "Start: DF-OOB computation\n",
      "Done: DF-OOB computation\n",
      "Start: Learn-OOB computation\n",
      "Done: Learn-OOB computation\n",
      "Start: SHAP computation\n"
     ]
    },
    {
     "name": "stderr",
     "output_type": "stream",
     "text": [
      "\r",
      "  0%|                                                                                            | 0/9 [00:00<?, ?it/s]"
     ]
    },
    {
     "name": "stdout",
     "output_type": "stream",
     "text": [
      "Done: SHAP computation\n"
     ]
    },
    {
     "name": "stderr",
     "output_type": "stream",
     "text": [
      "100%|████████████████████████████████████████████████████████████████████████████████████| 9/9 [00:25<00:00,  2.88s/it]\n",
      "100%|████████████████████████████████████████████████████████████████████████████████████| 9/9 [00:26<00:00,  2.90s/it]\n",
      "100%|████████████████████████████████████████████████████████████████████████████████████| 9/9 [00:33<00:00,  3.73s/it]\n",
      "100%|████████████████████████████████████████████████████████████████████████████████████| 9/9 [00:31<00:00,  3.47s/it]"
     ]
    },
    {
     "name": "stdout",
     "output_type": "stream",
     "text": [
      "--------------------------------------------------\n",
      "Save results\n",
      "--------------------------------------------------\n",
      "Done! path: C:\\Users\\yf-su\\Desktop\\XAI\\experiments\\feature_removal_experiments_fried, run_id: 7.\n"
     ]
    },
    {
     "name": "stderr",
     "output_type": "stream",
     "text": [
      "\n"
     ]
    },
    {
     "name": "stdout",
     "output_type": "stream",
     "text": [
      "8\n",
      "------------------------------\n",
      "{'experiment': 'feature_removal', 'n_train': 1000, 'n_val': 100, 'n_test': 3000, 'n_trees': 1000, 'clf_path': 'C:\\\\Users\\\\yf-su\\\\Desktop\\\\XAI\\\\df_oob\\\\openml_dataset', 'openml_clf_path': 'C:\\\\Users\\\\yf-su\\\\Desktop\\\\XAI\\\\df_oob\\\\openml_dataset', 'openml_reg_path': 'C:\\\\Users\\\\yf-su\\\\Desktop\\\\XAI\\\\df_oob\\\\openml_dataset', 'is_noisy': None, 'model_family': 'Tree', 'run_id': 8}\n",
      "--------------------------------------------------\n",
      "fried\n",
      "--------------------------------------------------\n",
      "Train X: (1000, 10)\n",
      "Val X: (100, 10)\n",
      "Test X: (3000, 10)\n",
      "------------------------------\n",
      "Start: Data-OOB computation\n",
      "Done: Data-OOB computation\n",
      "Start: DF-OOB computation\n",
      "Done: DF-OOB computation\n",
      "Start: Learn-OOB computation\n",
      "Done: Learn-OOB computation\n",
      "Start: SHAP computation\n"
     ]
    },
    {
     "name": "stderr",
     "output_type": "stream",
     "text": [
      "\r",
      "  0%|                                                                                            | 0/9 [00:00<?, ?it/s]"
     ]
    },
    {
     "name": "stdout",
     "output_type": "stream",
     "text": [
      "Done: SHAP computation\n"
     ]
    },
    {
     "name": "stderr",
     "output_type": "stream",
     "text": [
      "100%|████████████████████████████████████████████████████████████████████████████████████| 9/9 [00:34<00:00,  3.80s/it]\n",
      "100%|████████████████████████████████████████████████████████████████████████████████████| 9/9 [00:30<00:00,  3.44s/it]\n",
      "100%|████████████████████████████████████████████████████████████████████████████████████| 9/9 [00:29<00:00,  3.25s/it]\n",
      "100%|████████████████████████████████████████████████████████████████████████████████████| 9/9 [00:29<00:00,  3.30s/it]"
     ]
    },
    {
     "name": "stdout",
     "output_type": "stream",
     "text": [
      "--------------------------------------------------\n",
      "Save results\n",
      "--------------------------------------------------\n",
      "Done! path: C:\\Users\\yf-su\\Desktop\\XAI\\experiments\\feature_removal_experiments_fried, run_id: 8.\n"
     ]
    },
    {
     "name": "stderr",
     "output_type": "stream",
     "text": [
      "\n"
     ]
    },
    {
     "name": "stdout",
     "output_type": "stream",
     "text": [
      "9\n",
      "------------------------------\n",
      "{'experiment': 'feature_removal', 'n_train': 1000, 'n_val': 100, 'n_test': 3000, 'n_trees': 1000, 'clf_path': 'C:\\\\Users\\\\yf-su\\\\Desktop\\\\XAI\\\\df_oob\\\\openml_dataset', 'openml_clf_path': 'C:\\\\Users\\\\yf-su\\\\Desktop\\\\XAI\\\\df_oob\\\\openml_dataset', 'openml_reg_path': 'C:\\\\Users\\\\yf-su\\\\Desktop\\\\XAI\\\\df_oob\\\\openml_dataset', 'is_noisy': None, 'model_family': 'Tree', 'run_id': 9}\n",
      "--------------------------------------------------\n",
      "fried\n",
      "--------------------------------------------------\n",
      "Train X: (1000, 10)\n",
      "Val X: (100, 10)\n",
      "Test X: (3000, 10)\n",
      "------------------------------\n",
      "Start: Data-OOB computation\n",
      "Done: Data-OOB computation\n",
      "Start: DF-OOB computation\n",
      "Done: DF-OOB computation\n",
      "Start: Learn-OOB computation\n",
      "Done: Learn-OOB computation\n",
      "Start: SHAP computation\n"
     ]
    },
    {
     "name": "stderr",
     "output_type": "stream",
     "text": [
      "\r",
      "  0%|                                                                                            | 0/9 [00:00<?, ?it/s]"
     ]
    },
    {
     "name": "stdout",
     "output_type": "stream",
     "text": [
      "Done: SHAP computation\n"
     ]
    },
    {
     "name": "stderr",
     "output_type": "stream",
     "text": [
      "100%|████████████████████████████████████████████████████████████████████████████████████| 9/9 [00:32<00:00,  3.56s/it]\n",
      "100%|████████████████████████████████████████████████████████████████████████████████████| 9/9 [00:33<00:00,  3.75s/it]\n",
      "100%|████████████████████████████████████████████████████████████████████████████████████| 9/9 [00:34<00:00,  3.79s/it]\n",
      "100%|████████████████████████████████████████████████████████████████████████████████████| 9/9 [00:31<00:00,  3.50s/it]"
     ]
    },
    {
     "name": "stdout",
     "output_type": "stream",
     "text": [
      "--------------------------------------------------\n",
      "Save results\n",
      "--------------------------------------------------\n",
      "Done! path: C:\\Users\\yf-su\\Desktop\\XAI\\experiments\\feature_removal_experiments_fried, run_id: 9.\n"
     ]
    },
    {
     "name": "stderr",
     "output_type": "stream",
     "text": [
      "\n"
     ]
    },
    {
     "name": "stdout",
     "output_type": "stream",
     "text": [
      "0\n",
      "------------------------------\n",
      "{'experiment': 'feature_removal', 'n_train': 1000, 'n_val': 100, 'n_test': 3000, 'n_trees': 1000, 'clf_path': 'C:\\\\Users\\\\yf-su\\\\Desktop\\\\XAI\\\\df_oob\\\\openml_dataset', 'openml_clf_path': 'C:\\\\Users\\\\yf-su\\\\Desktop\\\\XAI\\\\df_oob\\\\openml_dataset', 'openml_reg_path': 'C:\\\\Users\\\\yf-su\\\\Desktop\\\\XAI\\\\df_oob\\\\openml_dataset', 'is_noisy': None, 'model_family': 'Tree', 'run_id': 0}\n",
      "--------------------------------------------------\n",
      "vehicle_sensIT\n",
      "--------------------------------------------------\n",
      "Train X: (1000, 100)\n",
      "Val X: (100, 100)\n",
      "Test X: (3000, 100)\n",
      "------------------------------\n",
      "Start: Data-OOB computation\n",
      "Done: Data-OOB computation\n",
      "Start: DF-OOB computation\n",
      "Done: DF-OOB computation\n",
      "Start: Learn-OOB computation\n",
      "Done: Learn-OOB computation\n",
      "Start: SHAP computation\n"
     ]
    },
    {
     "name": "stderr",
     "output_type": "stream",
     "text": [
      "\r",
      "  0%|                                                                                           | 0/99 [00:00<?, ?it/s]"
     ]
    },
    {
     "name": "stdout",
     "output_type": "stream",
     "text": [
      "Done: SHAP computation\n"
     ]
    },
    {
     "name": "stderr",
     "output_type": "stream",
     "text": [
      "100%|██████████████████████████████████████████████████████████████████████████████████| 99/99 [07:06<00:00,  4.31s/it]\n",
      "100%|██████████████████████████████████████████████████████████████████████████████████| 99/99 [06:56<00:00,  4.21s/it]\n",
      "100%|██████████████████████████████████████████████████████████████████████████████████| 99/99 [06:56<00:00,  4.21s/it]\n",
      "100%|██████████████████████████████████████████████████████████████████████████████████| 99/99 [07:03<00:00,  4.28s/it]"
     ]
    },
    {
     "name": "stdout",
     "output_type": "stream",
     "text": [
      "--------------------------------------------------\n",
      "Save results\n",
      "--------------------------------------------------\n",
      "Done! path: C:\\Users\\yf-su\\Desktop\\XAI\\experiments\\feature_removal_experiments_vehicle_sensIT, run_id: 0.\n"
     ]
    },
    {
     "name": "stderr",
     "output_type": "stream",
     "text": [
      "\n"
     ]
    },
    {
     "name": "stdout",
     "output_type": "stream",
     "text": [
      "1\n",
      "------------------------------\n",
      "{'experiment': 'feature_removal', 'n_train': 1000, 'n_val': 100, 'n_test': 3000, 'n_trees': 1000, 'clf_path': 'C:\\\\Users\\\\yf-su\\\\Desktop\\\\XAI\\\\df_oob\\\\openml_dataset', 'openml_clf_path': 'C:\\\\Users\\\\yf-su\\\\Desktop\\\\XAI\\\\df_oob\\\\openml_dataset', 'openml_reg_path': 'C:\\\\Users\\\\yf-su\\\\Desktop\\\\XAI\\\\df_oob\\\\openml_dataset', 'is_noisy': None, 'model_family': 'Tree', 'run_id': 1}\n",
      "--------------------------------------------------\n",
      "vehicle_sensIT\n",
      "--------------------------------------------------\n",
      "Train X: (1000, 100)\n",
      "Val X: (100, 100)\n",
      "Test X: (3000, 100)\n",
      "------------------------------\n",
      "Start: Data-OOB computation\n",
      "Done: Data-OOB computation\n",
      "Start: DF-OOB computation\n",
      "Done: DF-OOB computation\n",
      "Start: Learn-OOB computation\n",
      "Done: Learn-OOB computation\n",
      "Start: SHAP computation\n"
     ]
    },
    {
     "name": "stderr",
     "output_type": "stream",
     "text": [
      "\r",
      "  0%|                                                                                           | 0/99 [00:00<?, ?it/s]"
     ]
    },
    {
     "name": "stdout",
     "output_type": "stream",
     "text": [
      "Done: SHAP computation\n"
     ]
    },
    {
     "name": "stderr",
     "output_type": "stream",
     "text": [
      "100%|██████████████████████████████████████████████████████████████████████████████████| 99/99 [06:37<00:00,  4.01s/it]\n",
      "100%|██████████████████████████████████████████████████████████████████████████████████| 99/99 [06:40<00:00,  4.04s/it]\n",
      "100%|██████████████████████████████████████████████████████████████████████████████████| 99/99 [06:38<00:00,  4.03s/it]\n",
      "100%|██████████████████████████████████████████████████████████████████████████████████| 99/99 [06:31<00:00,  3.95s/it]"
     ]
    },
    {
     "name": "stdout",
     "output_type": "stream",
     "text": [
      "--------------------------------------------------\n",
      "Save results\n",
      "--------------------------------------------------\n",
      "Done! path: C:\\Users\\yf-su\\Desktop\\XAI\\experiments\\feature_removal_experiments_vehicle_sensIT, run_id: 1.\n"
     ]
    },
    {
     "name": "stderr",
     "output_type": "stream",
     "text": [
      "\n"
     ]
    },
    {
     "name": "stdout",
     "output_type": "stream",
     "text": [
      "2\n",
      "------------------------------\n",
      "{'experiment': 'feature_removal', 'n_train': 1000, 'n_val': 100, 'n_test': 3000, 'n_trees': 1000, 'clf_path': 'C:\\\\Users\\\\yf-su\\\\Desktop\\\\XAI\\\\df_oob\\\\openml_dataset', 'openml_clf_path': 'C:\\\\Users\\\\yf-su\\\\Desktop\\\\XAI\\\\df_oob\\\\openml_dataset', 'openml_reg_path': 'C:\\\\Users\\\\yf-su\\\\Desktop\\\\XAI\\\\df_oob\\\\openml_dataset', 'is_noisy': None, 'model_family': 'Tree', 'run_id': 2}\n",
      "--------------------------------------------------\n",
      "vehicle_sensIT\n",
      "--------------------------------------------------\n",
      "Train X: (1000, 100)\n",
      "Val X: (100, 100)\n",
      "Test X: (3000, 100)\n",
      "------------------------------\n",
      "Start: Data-OOB computation\n",
      "Done: Data-OOB computation\n",
      "Start: DF-OOB computation\n",
      "Done: DF-OOB computation\n",
      "Start: Learn-OOB computation\n",
      "Done: Learn-OOB computation\n",
      "Start: SHAP computation\n"
     ]
    },
    {
     "name": "stderr",
     "output_type": "stream",
     "text": [
      "\r",
      "  0%|                                                                                           | 0/99 [00:00<?, ?it/s]"
     ]
    },
    {
     "name": "stdout",
     "output_type": "stream",
     "text": [
      "Done: SHAP computation\n"
     ]
    },
    {
     "name": "stderr",
     "output_type": "stream",
     "text": [
      "100%|██████████████████████████████████████████████████████████████████████████████████| 99/99 [06:51<00:00,  4.15s/it]\n",
      "100%|██████████████████████████████████████████████████████████████████████████████████| 99/99 [06:54<00:00,  4.19s/it]\n",
      "100%|██████████████████████████████████████████████████████████████████████████████████| 99/99 [06:46<00:00,  4.11s/it]\n",
      "100%|██████████████████████████████████████████████████████████████████████████████████| 99/99 [06:37<00:00,  4.02s/it]"
     ]
    },
    {
     "name": "stdout",
     "output_type": "stream",
     "text": [
      "--------------------------------------------------\n",
      "Save results\n",
      "--------------------------------------------------\n",
      "Done! path: C:\\Users\\yf-su\\Desktop\\XAI\\experiments\\feature_removal_experiments_vehicle_sensIT, run_id: 2.\n"
     ]
    },
    {
     "name": "stderr",
     "output_type": "stream",
     "text": [
      "\n"
     ]
    },
    {
     "name": "stdout",
     "output_type": "stream",
     "text": [
      "3\n",
      "------------------------------\n",
      "{'experiment': 'feature_removal', 'n_train': 1000, 'n_val': 100, 'n_test': 3000, 'n_trees': 1000, 'clf_path': 'C:\\\\Users\\\\yf-su\\\\Desktop\\\\XAI\\\\df_oob\\\\openml_dataset', 'openml_clf_path': 'C:\\\\Users\\\\yf-su\\\\Desktop\\\\XAI\\\\df_oob\\\\openml_dataset', 'openml_reg_path': 'C:\\\\Users\\\\yf-su\\\\Desktop\\\\XAI\\\\df_oob\\\\openml_dataset', 'is_noisy': None, 'model_family': 'Tree', 'run_id': 3}\n",
      "--------------------------------------------------\n",
      "vehicle_sensIT\n",
      "--------------------------------------------------\n",
      "Train X: (1000, 100)\n",
      "Val X: (100, 100)\n",
      "Test X: (3000, 100)\n",
      "------------------------------\n",
      "Start: Data-OOB computation\n",
      "Done: Data-OOB computation\n",
      "Start: DF-OOB computation\n",
      "Done: DF-OOB computation\n",
      "Start: Learn-OOB computation\n",
      "Done: Learn-OOB computation\n",
      "Start: SHAP computation\n"
     ]
    },
    {
     "name": "stderr",
     "output_type": "stream",
     "text": [
      "\r",
      "  0%|                                                                                           | 0/99 [00:00<?, ?it/s]"
     ]
    },
    {
     "name": "stdout",
     "output_type": "stream",
     "text": [
      "Done: SHAP computation\n"
     ]
    },
    {
     "name": "stderr",
     "output_type": "stream",
     "text": [
      "100%|██████████████████████████████████████████████████████████████████████████████████| 99/99 [06:49<00:00,  4.14s/it]\n",
      "100%|██████████████████████████████████████████████████████████████████████████████████| 99/99 [06:42<00:00,  4.07s/it]\n",
      "100%|██████████████████████████████████████████████████████████████████████████████████| 99/99 [06:45<00:00,  4.10s/it]\n",
      "100%|██████████████████████████████████████████████████████████████████████████████████| 99/99 [06:42<00:00,  4.07s/it]"
     ]
    },
    {
     "name": "stdout",
     "output_type": "stream",
     "text": [
      "--------------------------------------------------\n",
      "Save results\n",
      "--------------------------------------------------\n",
      "Done! path: C:\\Users\\yf-su\\Desktop\\XAI\\experiments\\feature_removal_experiments_vehicle_sensIT, run_id: 3.\n"
     ]
    },
    {
     "name": "stderr",
     "output_type": "stream",
     "text": [
      "\n"
     ]
    },
    {
     "name": "stdout",
     "output_type": "stream",
     "text": [
      "4\n",
      "------------------------------\n",
      "{'experiment': 'feature_removal', 'n_train': 1000, 'n_val': 100, 'n_test': 3000, 'n_trees': 1000, 'clf_path': 'C:\\\\Users\\\\yf-su\\\\Desktop\\\\XAI\\\\df_oob\\\\openml_dataset', 'openml_clf_path': 'C:\\\\Users\\\\yf-su\\\\Desktop\\\\XAI\\\\df_oob\\\\openml_dataset', 'openml_reg_path': 'C:\\\\Users\\\\yf-su\\\\Desktop\\\\XAI\\\\df_oob\\\\openml_dataset', 'is_noisy': None, 'model_family': 'Tree', 'run_id': 4}\n",
      "--------------------------------------------------\n",
      "vehicle_sensIT\n",
      "--------------------------------------------------\n",
      "Train X: (1000, 100)\n",
      "Val X: (100, 100)\n",
      "Test X: (3000, 100)\n",
      "------------------------------\n",
      "Start: Data-OOB computation\n",
      "Done: Data-OOB computation\n",
      "Start: DF-OOB computation\n",
      "Done: DF-OOB computation\n",
      "Start: Learn-OOB computation\n",
      "Done: Learn-OOB computation\n",
      "Start: SHAP computation\n"
     ]
    },
    {
     "name": "stderr",
     "output_type": "stream",
     "text": [
      "\r",
      "  0%|                                                                                           | 0/99 [00:00<?, ?it/s]"
     ]
    },
    {
     "name": "stdout",
     "output_type": "stream",
     "text": [
      "Done: SHAP computation\n"
     ]
    },
    {
     "name": "stderr",
     "output_type": "stream",
     "text": [
      "100%|██████████████████████████████████████████████████████████████████████████████████| 99/99 [06:54<00:00,  4.19s/it]\n",
      "100%|██████████████████████████████████████████████████████████████████████████████████| 99/99 [06:46<00:00,  4.11s/it]\n",
      "100%|██████████████████████████████████████████████████████████████████████████████████| 99/99 [06:45<00:00,  4.10s/it]\n",
      "100%|██████████████████████████████████████████████████████████████████████████████████| 99/99 [06:43<00:00,  4.07s/it]"
     ]
    },
    {
     "name": "stdout",
     "output_type": "stream",
     "text": [
      "--------------------------------------------------\n",
      "Save results\n",
      "--------------------------------------------------\n",
      "Done! path: C:\\Users\\yf-su\\Desktop\\XAI\\experiments\\feature_removal_experiments_vehicle_sensIT, run_id: 4.\n"
     ]
    },
    {
     "name": "stderr",
     "output_type": "stream",
     "text": [
      "\n"
     ]
    },
    {
     "name": "stdout",
     "output_type": "stream",
     "text": [
      "5\n",
      "------------------------------\n",
      "{'experiment': 'feature_removal', 'n_train': 1000, 'n_val': 100, 'n_test': 3000, 'n_trees': 1000, 'clf_path': 'C:\\\\Users\\\\yf-su\\\\Desktop\\\\XAI\\\\df_oob\\\\openml_dataset', 'openml_clf_path': 'C:\\\\Users\\\\yf-su\\\\Desktop\\\\XAI\\\\df_oob\\\\openml_dataset', 'openml_reg_path': 'C:\\\\Users\\\\yf-su\\\\Desktop\\\\XAI\\\\df_oob\\\\openml_dataset', 'is_noisy': None, 'model_family': 'Tree', 'run_id': 5}\n",
      "--------------------------------------------------\n",
      "vehicle_sensIT\n",
      "--------------------------------------------------\n",
      "Train X: (1000, 100)\n",
      "Val X: (100, 100)\n",
      "Test X: (3000, 100)\n",
      "------------------------------\n",
      "Start: Data-OOB computation\n",
      "Done: Data-OOB computation\n",
      "Start: DF-OOB computation\n",
      "Done: DF-OOB computation\n",
      "Start: Learn-OOB computation\n",
      "Done: Learn-OOB computation\n",
      "Start: SHAP computation\n"
     ]
    },
    {
     "name": "stderr",
     "output_type": "stream",
     "text": [
      "\r",
      "  0%|                                                                                           | 0/99 [00:00<?, ?it/s]"
     ]
    },
    {
     "name": "stdout",
     "output_type": "stream",
     "text": [
      "Done: SHAP computation\n"
     ]
    },
    {
     "name": "stderr",
     "output_type": "stream",
     "text": [
      "100%|██████████████████████████████████████████████████████████████████████████████████| 99/99 [06:49<00:00,  4.14s/it]\n",
      "100%|██████████████████████████████████████████████████████████████████████████████████| 99/99 [06:50<00:00,  4.14s/it]\n",
      "100%|██████████████████████████████████████████████████████████████████████████████████| 99/99 [06:57<00:00,  4.22s/it]\n",
      "100%|██████████████████████████████████████████████████████████████████████████████████| 99/99 [06:59<00:00,  4.23s/it]"
     ]
    },
    {
     "name": "stdout",
     "output_type": "stream",
     "text": [
      "--------------------------------------------------\n",
      "Save results\n",
      "--------------------------------------------------\n",
      "Done! path: C:\\Users\\yf-su\\Desktop\\XAI\\experiments\\feature_removal_experiments_vehicle_sensIT, run_id: 5.\n"
     ]
    },
    {
     "name": "stderr",
     "output_type": "stream",
     "text": [
      "\n"
     ]
    },
    {
     "name": "stdout",
     "output_type": "stream",
     "text": [
      "6\n",
      "------------------------------\n",
      "{'experiment': 'feature_removal', 'n_train': 1000, 'n_val': 100, 'n_test': 3000, 'n_trees': 1000, 'clf_path': 'C:\\\\Users\\\\yf-su\\\\Desktop\\\\XAI\\\\df_oob\\\\openml_dataset', 'openml_clf_path': 'C:\\\\Users\\\\yf-su\\\\Desktop\\\\XAI\\\\df_oob\\\\openml_dataset', 'openml_reg_path': 'C:\\\\Users\\\\yf-su\\\\Desktop\\\\XAI\\\\df_oob\\\\openml_dataset', 'is_noisy': None, 'model_family': 'Tree', 'run_id': 6}\n",
      "--------------------------------------------------\n",
      "vehicle_sensIT\n",
      "--------------------------------------------------\n",
      "Train X: (1000, 100)\n",
      "Val X: (100, 100)\n",
      "Test X: (3000, 100)\n",
      "------------------------------\n",
      "Start: Data-OOB computation\n",
      "Done: Data-OOB computation\n",
      "Start: DF-OOB computation\n",
      "Done: DF-OOB computation\n",
      "Start: Learn-OOB computation\n",
      "Done: Learn-OOB computation\n",
      "Start: SHAP computation\n"
     ]
    },
    {
     "name": "stderr",
     "output_type": "stream",
     "text": [
      "\r",
      "  0%|                                                                                           | 0/99 [00:00<?, ?it/s]"
     ]
    },
    {
     "name": "stdout",
     "output_type": "stream",
     "text": [
      "Done: SHAP computation\n"
     ]
    },
    {
     "name": "stderr",
     "output_type": "stream",
     "text": [
      "100%|██████████████████████████████████████████████████████████████████████████████████| 99/99 [06:37<00:00,  4.01s/it]\n",
      "100%|██████████████████████████████████████████████████████████████████████████████████| 99/99 [06:37<00:00,  4.02s/it]\n",
      "100%|██████████████████████████████████████████████████████████████████████████████████| 99/99 [06:37<00:00,  4.02s/it]\n",
      "100%|██████████████████████████████████████████████████████████████████████████████████| 99/99 [06:35<00:00,  3.99s/it]"
     ]
    },
    {
     "name": "stdout",
     "output_type": "stream",
     "text": [
      "--------------------------------------------------\n",
      "Save results\n",
      "--------------------------------------------------\n",
      "Done! path: C:\\Users\\yf-su\\Desktop\\XAI\\experiments\\feature_removal_experiments_vehicle_sensIT, run_id: 6.\n"
     ]
    },
    {
     "name": "stderr",
     "output_type": "stream",
     "text": [
      "\n"
     ]
    },
    {
     "name": "stdout",
     "output_type": "stream",
     "text": [
      "7\n",
      "------------------------------\n",
      "{'experiment': 'feature_removal', 'n_train': 1000, 'n_val': 100, 'n_test': 3000, 'n_trees': 1000, 'clf_path': 'C:\\\\Users\\\\yf-su\\\\Desktop\\\\XAI\\\\df_oob\\\\openml_dataset', 'openml_clf_path': 'C:\\\\Users\\\\yf-su\\\\Desktop\\\\XAI\\\\df_oob\\\\openml_dataset', 'openml_reg_path': 'C:\\\\Users\\\\yf-su\\\\Desktop\\\\XAI\\\\df_oob\\\\openml_dataset', 'is_noisy': None, 'model_family': 'Tree', 'run_id': 7}\n",
      "--------------------------------------------------\n",
      "vehicle_sensIT\n",
      "--------------------------------------------------\n",
      "Train X: (1000, 100)\n",
      "Val X: (100, 100)\n",
      "Test X: (3000, 100)\n",
      "------------------------------\n",
      "Start: Data-OOB computation\n",
      "Done: Data-OOB computation\n",
      "Start: DF-OOB computation\n",
      "Done: DF-OOB computation\n",
      "Start: Learn-OOB computation\n",
      "Done: Learn-OOB computation\n",
      "Start: SHAP computation\n"
     ]
    },
    {
     "name": "stderr",
     "output_type": "stream",
     "text": [
      "\r",
      "  0%|                                                                                           | 0/99 [00:00<?, ?it/s]"
     ]
    },
    {
     "name": "stdout",
     "output_type": "stream",
     "text": [
      "Done: SHAP computation\n"
     ]
    },
    {
     "name": "stderr",
     "output_type": "stream",
     "text": [
      "100%|██████████████████████████████████████████████████████████████████████████████████| 99/99 [06:36<00:00,  4.01s/it]\n",
      "100%|██████████████████████████████████████████████████████████████████████████████████| 99/99 [06:48<00:00,  4.12s/it]\n",
      "100%|██████████████████████████████████████████████████████████████████████████████████| 99/99 [06:42<00:00,  4.07s/it]\n",
      "100%|██████████████████████████████████████████████████████████████████████████████████| 99/99 [06:35<00:00,  3.99s/it]"
     ]
    },
    {
     "name": "stdout",
     "output_type": "stream",
     "text": [
      "--------------------------------------------------\n",
      "Save results\n",
      "--------------------------------------------------\n",
      "Done! path: C:\\Users\\yf-su\\Desktop\\XAI\\experiments\\feature_removal_experiments_vehicle_sensIT, run_id: 7.\n"
     ]
    },
    {
     "name": "stderr",
     "output_type": "stream",
     "text": [
      "\n"
     ]
    },
    {
     "name": "stdout",
     "output_type": "stream",
     "text": [
      "8\n",
      "------------------------------\n",
      "{'experiment': 'feature_removal', 'n_train': 1000, 'n_val': 100, 'n_test': 3000, 'n_trees': 1000, 'clf_path': 'C:\\\\Users\\\\yf-su\\\\Desktop\\\\XAI\\\\df_oob\\\\openml_dataset', 'openml_clf_path': 'C:\\\\Users\\\\yf-su\\\\Desktop\\\\XAI\\\\df_oob\\\\openml_dataset', 'openml_reg_path': 'C:\\\\Users\\\\yf-su\\\\Desktop\\\\XAI\\\\df_oob\\\\openml_dataset', 'is_noisy': None, 'model_family': 'Tree', 'run_id': 8}\n",
      "--------------------------------------------------\n",
      "vehicle_sensIT\n",
      "--------------------------------------------------\n",
      "Train X: (1000, 100)\n",
      "Val X: (100, 100)\n",
      "Test X: (3000, 100)\n",
      "------------------------------\n",
      "Start: Data-OOB computation\n",
      "Done: Data-OOB computation\n",
      "Start: DF-OOB computation\n",
      "Done: DF-OOB computation\n",
      "Start: Learn-OOB computation\n",
      "Done: Learn-OOB computation\n",
      "Start: SHAP computation\n"
     ]
    },
    {
     "name": "stderr",
     "output_type": "stream",
     "text": [
      "\r",
      "  0%|                                                                                           | 0/99 [00:00<?, ?it/s]"
     ]
    },
    {
     "name": "stdout",
     "output_type": "stream",
     "text": [
      "Done: SHAP computation\n"
     ]
    },
    {
     "name": "stderr",
     "output_type": "stream",
     "text": [
      "100%|██████████████████████████████████████████████████████████████████████████████████| 99/99 [06:57<00:00,  4.21s/it]\n",
      "100%|██████████████████████████████████████████████████████████████████████████████████| 99/99 [06:55<00:00,  4.20s/it]\n",
      "100%|██████████████████████████████████████████████████████████████████████████████████| 99/99 [06:55<00:00,  4.20s/it]\n",
      "100%|██████████████████████████████████████████████████████████████████████████████████| 99/99 [06:53<00:00,  4.17s/it]"
     ]
    },
    {
     "name": "stdout",
     "output_type": "stream",
     "text": [
      "--------------------------------------------------\n",
      "Save results\n",
      "--------------------------------------------------\n",
      "Done! path: C:\\Users\\yf-su\\Desktop\\XAI\\experiments\\feature_removal_experiments_vehicle_sensIT, run_id: 8.\n"
     ]
    },
    {
     "name": "stderr",
     "output_type": "stream",
     "text": [
      "\n"
     ]
    },
    {
     "name": "stdout",
     "output_type": "stream",
     "text": [
      "9\n",
      "------------------------------\n",
      "{'experiment': 'feature_removal', 'n_train': 1000, 'n_val': 100, 'n_test': 3000, 'n_trees': 1000, 'clf_path': 'C:\\\\Users\\\\yf-su\\\\Desktop\\\\XAI\\\\df_oob\\\\openml_dataset', 'openml_clf_path': 'C:\\\\Users\\\\yf-su\\\\Desktop\\\\XAI\\\\df_oob\\\\openml_dataset', 'openml_reg_path': 'C:\\\\Users\\\\yf-su\\\\Desktop\\\\XAI\\\\df_oob\\\\openml_dataset', 'is_noisy': None, 'model_family': 'Tree', 'run_id': 9}\n",
      "--------------------------------------------------\n",
      "vehicle_sensIT\n",
      "--------------------------------------------------\n",
      "Train X: (1000, 100)\n",
      "Val X: (100, 100)\n",
      "Test X: (3000, 100)\n",
      "------------------------------\n",
      "Start: Data-OOB computation\n",
      "Done: Data-OOB computation\n",
      "Start: DF-OOB computation\n",
      "Done: DF-OOB computation\n",
      "Start: Learn-OOB computation\n",
      "Done: Learn-OOB computation\n",
      "Start: SHAP computation\n"
     ]
    },
    {
     "name": "stderr",
     "output_type": "stream",
     "text": [
      "\r",
      "  0%|                                                                                           | 0/99 [00:00<?, ?it/s]"
     ]
    },
    {
     "name": "stdout",
     "output_type": "stream",
     "text": [
      "Done: SHAP computation\n"
     ]
    },
    {
     "name": "stderr",
     "output_type": "stream",
     "text": [
      "100%|██████████████████████████████████████████████████████████████████████████████████| 99/99 [06:38<00:00,  4.03s/it]\n",
      "100%|██████████████████████████████████████████████████████████████████████████████████| 99/99 [06:49<00:00,  4.14s/it]\n",
      "100%|██████████████████████████████████████████████████████████████████████████████████| 99/99 [06:58<00:00,  4.23s/it]\n",
      "100%|██████████████████████████████████████████████████████████████████████████████████| 99/99 [06:45<00:00,  4.10s/it]"
     ]
    },
    {
     "name": "stdout",
     "output_type": "stream",
     "text": [
      "--------------------------------------------------\n",
      "Save results\n",
      "--------------------------------------------------\n",
      "Done! path: C:\\Users\\yf-su\\Desktop\\XAI\\experiments\\feature_removal_experiments_vehicle_sensIT, run_id: 9.\n"
     ]
    },
    {
     "name": "stderr",
     "output_type": "stream",
     "text": [
      "\n"
     ]
    },
    {
     "name": "stdout",
     "output_type": "stream",
     "text": [
      "0\n",
      "------------------------------\n",
      "{'experiment': 'feature_removal', 'n_train': 1000, 'n_val': 100, 'n_test': 3000, 'n_trees': 1000, 'clf_path': 'C:\\\\Users\\\\yf-su\\\\Desktop\\\\XAI\\\\df_oob\\\\openml_dataset', 'openml_clf_path': 'C:\\\\Users\\\\yf-su\\\\Desktop\\\\XAI\\\\df_oob\\\\openml_dataset', 'openml_reg_path': 'C:\\\\Users\\\\yf-su\\\\Desktop\\\\XAI\\\\df_oob\\\\openml_dataset', 'is_noisy': None, 'model_family': 'Tree', 'run_id': 0}\n",
      "--------------------------------------------------\n",
      "2dplanes_727\n",
      "--------------------------------------------------\n",
      "Train X: (1000, 10)\n",
      "Val X: (100, 10)\n",
      "Test X: (3000, 10)\n",
      "------------------------------\n",
      "Start: Data-OOB computation\n",
      "Done: Data-OOB computation\n",
      "Start: DF-OOB computation\n",
      "Done: DF-OOB computation\n",
      "Start: Learn-OOB computation\n",
      "Done: Learn-OOB computation\n",
      "Start: SHAP computation\n"
     ]
    },
    {
     "name": "stderr",
     "output_type": "stream",
     "text": [
      "\r",
      "  0%|                                                                                            | 0/9 [00:00<?, ?it/s]"
     ]
    },
    {
     "name": "stdout",
     "output_type": "stream",
     "text": [
      "Done: SHAP computation\n"
     ]
    },
    {
     "name": "stderr",
     "output_type": "stream",
     "text": [
      "100%|████████████████████████████████████████████████████████████████████████████████████| 9/9 [00:20<00:00,  2.23s/it]\n",
      "100%|████████████████████████████████████████████████████████████████████████████████████| 9/9 [00:19<00:00,  2.13s/it]\n",
      "100%|████████████████████████████████████████████████████████████████████████████████████| 9/9 [00:19<00:00,  2.21s/it]\n",
      "100%|████████████████████████████████████████████████████████████████████████████████████| 9/9 [00:17<00:00,  1.91s/it]"
     ]
    },
    {
     "name": "stdout",
     "output_type": "stream",
     "text": [
      "--------------------------------------------------\n",
      "Save results\n",
      "--------------------------------------------------\n",
      "Done! path: C:\\Users\\yf-su\\Desktop\\XAI\\experiments\\feature_removal_experiments_2dplanes, run_id: 0.\n"
     ]
    },
    {
     "name": "stderr",
     "output_type": "stream",
     "text": [
      "\n"
     ]
    },
    {
     "name": "stdout",
     "output_type": "stream",
     "text": [
      "1\n",
      "------------------------------\n",
      "{'experiment': 'feature_removal', 'n_train': 1000, 'n_val': 100, 'n_test': 3000, 'n_trees': 1000, 'clf_path': 'C:\\\\Users\\\\yf-su\\\\Desktop\\\\XAI\\\\df_oob\\\\openml_dataset', 'openml_clf_path': 'C:\\\\Users\\\\yf-su\\\\Desktop\\\\XAI\\\\df_oob\\\\openml_dataset', 'openml_reg_path': 'C:\\\\Users\\\\yf-su\\\\Desktop\\\\XAI\\\\df_oob\\\\openml_dataset', 'is_noisy': None, 'model_family': 'Tree', 'run_id': 1}\n",
      "--------------------------------------------------\n",
      "2dplanes_727\n",
      "--------------------------------------------------\n",
      "Train X: (1000, 10)\n",
      "Val X: (100, 10)\n",
      "Test X: (3000, 10)\n",
      "------------------------------\n",
      "Start: Data-OOB computation\n",
      "Done: Data-OOB computation\n",
      "Start: DF-OOB computation\n",
      "Done: DF-OOB computation\n",
      "Start: Learn-OOB computation\n",
      "Done: Learn-OOB computation\n",
      "Start: SHAP computation\n"
     ]
    },
    {
     "name": "stderr",
     "output_type": "stream",
     "text": [
      "\r",
      "  0%|                                                                                            | 0/9 [00:00<?, ?it/s]"
     ]
    },
    {
     "name": "stdout",
     "output_type": "stream",
     "text": [
      "Done: SHAP computation\n"
     ]
    },
    {
     "name": "stderr",
     "output_type": "stream",
     "text": [
      "100%|████████████████████████████████████████████████████████████████████████████████████| 9/9 [00:19<00:00,  2.18s/it]\n",
      "100%|████████████████████████████████████████████████████████████████████████████████████| 9/9 [00:20<00:00,  2.26s/it]\n",
      "100%|████████████████████████████████████████████████████████████████████████████████████| 9/9 [00:20<00:00,  2.27s/it]\n",
      "100%|████████████████████████████████████████████████████████████████████████████████████| 9/9 [00:18<00:00,  2.08s/it]"
     ]
    },
    {
     "name": "stdout",
     "output_type": "stream",
     "text": [
      "--------------------------------------------------\n",
      "Save results\n",
      "--------------------------------------------------\n",
      "Done! path: C:\\Users\\yf-su\\Desktop\\XAI\\experiments\\feature_removal_experiments_2dplanes, run_id: 1.\n"
     ]
    },
    {
     "name": "stderr",
     "output_type": "stream",
     "text": [
      "\n"
     ]
    },
    {
     "name": "stdout",
     "output_type": "stream",
     "text": [
      "2\n",
      "------------------------------\n",
      "{'experiment': 'feature_removal', 'n_train': 1000, 'n_val': 100, 'n_test': 3000, 'n_trees': 1000, 'clf_path': 'C:\\\\Users\\\\yf-su\\\\Desktop\\\\XAI\\\\df_oob\\\\openml_dataset', 'openml_clf_path': 'C:\\\\Users\\\\yf-su\\\\Desktop\\\\XAI\\\\df_oob\\\\openml_dataset', 'openml_reg_path': 'C:\\\\Users\\\\yf-su\\\\Desktop\\\\XAI\\\\df_oob\\\\openml_dataset', 'is_noisy': None, 'model_family': 'Tree', 'run_id': 2}\n",
      "--------------------------------------------------\n",
      "2dplanes_727\n",
      "--------------------------------------------------\n",
      "Train X: (1000, 10)\n",
      "Val X: (100, 10)\n",
      "Test X: (3000, 10)\n",
      "------------------------------\n",
      "Start: Data-OOB computation\n",
      "Done: Data-OOB computation\n",
      "Start: DF-OOB computation\n",
      "Done: DF-OOB computation\n",
      "Start: Learn-OOB computation\n",
      "Done: Learn-OOB computation\n",
      "Start: SHAP computation\n"
     ]
    },
    {
     "name": "stderr",
     "output_type": "stream",
     "text": [
      "\r",
      "  0%|                                                                                            | 0/9 [00:00<?, ?it/s]"
     ]
    },
    {
     "name": "stdout",
     "output_type": "stream",
     "text": [
      "Done: SHAP computation\n"
     ]
    },
    {
     "name": "stderr",
     "output_type": "stream",
     "text": [
      "100%|████████████████████████████████████████████████████████████████████████████████████| 9/9 [00:20<00:00,  2.29s/it]\n",
      "100%|████████████████████████████████████████████████████████████████████████████████████| 9/9 [00:18<00:00,  2.09s/it]\n",
      "100%|████████████████████████████████████████████████████████████████████████████████████| 9/9 [00:21<00:00,  2.38s/it]\n",
      "100%|████████████████████████████████████████████████████████████████████████████████████| 9/9 [00:18<00:00,  2.04s/it]"
     ]
    },
    {
     "name": "stdout",
     "output_type": "stream",
     "text": [
      "--------------------------------------------------\n",
      "Save results\n",
      "--------------------------------------------------\n",
      "Done! path: C:\\Users\\yf-su\\Desktop\\XAI\\experiments\\feature_removal_experiments_2dplanes, run_id: 2.\n"
     ]
    },
    {
     "name": "stderr",
     "output_type": "stream",
     "text": [
      "\n"
     ]
    },
    {
     "name": "stdout",
     "output_type": "stream",
     "text": [
      "3\n",
      "------------------------------\n",
      "{'experiment': 'feature_removal', 'n_train': 1000, 'n_val': 100, 'n_test': 3000, 'n_trees': 1000, 'clf_path': 'C:\\\\Users\\\\yf-su\\\\Desktop\\\\XAI\\\\df_oob\\\\openml_dataset', 'openml_clf_path': 'C:\\\\Users\\\\yf-su\\\\Desktop\\\\XAI\\\\df_oob\\\\openml_dataset', 'openml_reg_path': 'C:\\\\Users\\\\yf-su\\\\Desktop\\\\XAI\\\\df_oob\\\\openml_dataset', 'is_noisy': None, 'model_family': 'Tree', 'run_id': 3}\n",
      "--------------------------------------------------\n",
      "2dplanes_727\n",
      "--------------------------------------------------\n",
      "Train X: (1000, 10)\n",
      "Val X: (100, 10)\n",
      "Test X: (3000, 10)\n",
      "------------------------------\n",
      "Start: Data-OOB computation\n",
      "Done: Data-OOB computation\n",
      "Start: DF-OOB computation\n",
      "Done: DF-OOB computation\n",
      "Start: Learn-OOB computation\n",
      "Done: Learn-OOB computation\n",
      "Start: SHAP computation\n"
     ]
    },
    {
     "name": "stderr",
     "output_type": "stream",
     "text": [
      "\r",
      "  0%|                                                                                            | 0/9 [00:00<?, ?it/s]"
     ]
    },
    {
     "name": "stdout",
     "output_type": "stream",
     "text": [
      "Done: SHAP computation\n"
     ]
    },
    {
     "name": "stderr",
     "output_type": "stream",
     "text": [
      "100%|████████████████████████████████████████████████████████████████████████████████████| 9/9 [00:23<00:00,  2.62s/it]\n",
      "100%|████████████████████████████████████████████████████████████████████████████████████| 9/9 [00:20<00:00,  2.27s/it]\n",
      "100%|████████████████████████████████████████████████████████████████████████████████████| 9/9 [00:19<00:00,  2.16s/it]\n",
      "100%|████████████████████████████████████████████████████████████████████████████████████| 9/9 [00:17<00:00,  1.98s/it]"
     ]
    },
    {
     "name": "stdout",
     "output_type": "stream",
     "text": [
      "--------------------------------------------------\n",
      "Save results\n",
      "--------------------------------------------------\n",
      "Done! path: C:\\Users\\yf-su\\Desktop\\XAI\\experiments\\feature_removal_experiments_2dplanes, run_id: 3.\n"
     ]
    },
    {
     "name": "stderr",
     "output_type": "stream",
     "text": [
      "\n"
     ]
    },
    {
     "name": "stdout",
     "output_type": "stream",
     "text": [
      "4\n",
      "------------------------------\n",
      "{'experiment': 'feature_removal', 'n_train': 1000, 'n_val': 100, 'n_test': 3000, 'n_trees': 1000, 'clf_path': 'C:\\\\Users\\\\yf-su\\\\Desktop\\\\XAI\\\\df_oob\\\\openml_dataset', 'openml_clf_path': 'C:\\\\Users\\\\yf-su\\\\Desktop\\\\XAI\\\\df_oob\\\\openml_dataset', 'openml_reg_path': 'C:\\\\Users\\\\yf-su\\\\Desktop\\\\XAI\\\\df_oob\\\\openml_dataset', 'is_noisy': None, 'model_family': 'Tree', 'run_id': 4}\n",
      "--------------------------------------------------\n",
      "2dplanes_727\n",
      "--------------------------------------------------\n",
      "Train X: (1000, 10)\n",
      "Val X: (100, 10)\n",
      "Test X: (3000, 10)\n",
      "------------------------------\n",
      "Start: Data-OOB computation\n",
      "Done: Data-OOB computation\n",
      "Start: DF-OOB computation\n",
      "Done: DF-OOB computation\n",
      "Start: Learn-OOB computation\n",
      "Done: Learn-OOB computation\n",
      "Start: SHAP computation\n"
     ]
    },
    {
     "name": "stderr",
     "output_type": "stream",
     "text": [
      "\r",
      "  0%|                                                                                            | 0/9 [00:00<?, ?it/s]"
     ]
    },
    {
     "name": "stdout",
     "output_type": "stream",
     "text": [
      "Done: SHAP computation\n"
     ]
    },
    {
     "name": "stderr",
     "output_type": "stream",
     "text": [
      "100%|████████████████████████████████████████████████████████████████████████████████████| 9/9 [00:20<00:00,  2.24s/it]\n",
      "100%|████████████████████████████████████████████████████████████████████████████████████| 9/9 [00:20<00:00,  2.32s/it]\n",
      "100%|████████████████████████████████████████████████████████████████████████████████████| 9/9 [00:21<00:00,  2.41s/it]\n",
      "100%|████████████████████████████████████████████████████████████████████████████████████| 9/9 [00:19<00:00,  2.15s/it]"
     ]
    },
    {
     "name": "stdout",
     "output_type": "stream",
     "text": [
      "--------------------------------------------------\n",
      "Save results\n",
      "--------------------------------------------------\n",
      "Done! path: C:\\Users\\yf-su\\Desktop\\XAI\\experiments\\feature_removal_experiments_2dplanes, run_id: 4.\n"
     ]
    },
    {
     "name": "stderr",
     "output_type": "stream",
     "text": [
      "\n"
     ]
    },
    {
     "name": "stdout",
     "output_type": "stream",
     "text": [
      "5\n",
      "------------------------------\n",
      "{'experiment': 'feature_removal', 'n_train': 1000, 'n_val': 100, 'n_test': 3000, 'n_trees': 1000, 'clf_path': 'C:\\\\Users\\\\yf-su\\\\Desktop\\\\XAI\\\\df_oob\\\\openml_dataset', 'openml_clf_path': 'C:\\\\Users\\\\yf-su\\\\Desktop\\\\XAI\\\\df_oob\\\\openml_dataset', 'openml_reg_path': 'C:\\\\Users\\\\yf-su\\\\Desktop\\\\XAI\\\\df_oob\\\\openml_dataset', 'is_noisy': None, 'model_family': 'Tree', 'run_id': 5}\n",
      "--------------------------------------------------\n",
      "2dplanes_727\n",
      "--------------------------------------------------\n",
      "Train X: (1000, 10)\n",
      "Val X: (100, 10)\n",
      "Test X: (3000, 10)\n",
      "------------------------------\n",
      "Start: Data-OOB computation\n",
      "Done: Data-OOB computation\n",
      "Start: DF-OOB computation\n",
      "Done: DF-OOB computation\n",
      "Start: Learn-OOB computation\n",
      "Done: Learn-OOB computation\n",
      "Start: SHAP computation\n"
     ]
    },
    {
     "name": "stderr",
     "output_type": "stream",
     "text": [
      "\r",
      "  0%|                                                                                            | 0/9 [00:00<?, ?it/s]"
     ]
    },
    {
     "name": "stdout",
     "output_type": "stream",
     "text": [
      "Done: SHAP computation\n"
     ]
    },
    {
     "name": "stderr",
     "output_type": "stream",
     "text": [
      "100%|████████████████████████████████████████████████████████████████████████████████████| 9/9 [00:23<00:00,  2.58s/it]\n",
      "100%|████████████████████████████████████████████████████████████████████████████████████| 9/9 [00:21<00:00,  2.35s/it]\n",
      "100%|████████████████████████████████████████████████████████████████████████████████████| 9/9 [00:21<00:00,  2.39s/it]\n",
      "100%|████████████████████████████████████████████████████████████████████████████████████| 9/9 [00:20<00:00,  2.22s/it]"
     ]
    },
    {
     "name": "stdout",
     "output_type": "stream",
     "text": [
      "--------------------------------------------------\n",
      "Save results\n",
      "--------------------------------------------------\n",
      "Done! path: C:\\Users\\yf-su\\Desktop\\XAI\\experiments\\feature_removal_experiments_2dplanes, run_id: 5.\n"
     ]
    },
    {
     "name": "stderr",
     "output_type": "stream",
     "text": [
      "\n"
     ]
    },
    {
     "name": "stdout",
     "output_type": "stream",
     "text": [
      "6\n",
      "------------------------------\n",
      "{'experiment': 'feature_removal', 'n_train': 1000, 'n_val': 100, 'n_test': 3000, 'n_trees': 1000, 'clf_path': 'C:\\\\Users\\\\yf-su\\\\Desktop\\\\XAI\\\\df_oob\\\\openml_dataset', 'openml_clf_path': 'C:\\\\Users\\\\yf-su\\\\Desktop\\\\XAI\\\\df_oob\\\\openml_dataset', 'openml_reg_path': 'C:\\\\Users\\\\yf-su\\\\Desktop\\\\XAI\\\\df_oob\\\\openml_dataset', 'is_noisy': None, 'model_family': 'Tree', 'run_id': 6}\n",
      "--------------------------------------------------\n",
      "2dplanes_727\n",
      "--------------------------------------------------\n",
      "Train X: (1000, 10)\n",
      "Val X: (100, 10)\n",
      "Test X: (3000, 10)\n",
      "------------------------------\n",
      "Start: Data-OOB computation\n",
      "Done: Data-OOB computation\n",
      "Start: DF-OOB computation\n",
      "Done: DF-OOB computation\n",
      "Start: Learn-OOB computation\n",
      "Done: Learn-OOB computation\n",
      "Start: SHAP computation\n"
     ]
    },
    {
     "name": "stderr",
     "output_type": "stream",
     "text": [
      "\r",
      "  0%|                                                                                            | 0/9 [00:00<?, ?it/s]"
     ]
    },
    {
     "name": "stdout",
     "output_type": "stream",
     "text": [
      "Done: SHAP computation\n"
     ]
    },
    {
     "name": "stderr",
     "output_type": "stream",
     "text": [
      "100%|████████████████████████████████████████████████████████████████████████████████████| 9/9 [00:22<00:00,  2.46s/it]\n",
      "100%|████████████████████████████████████████████████████████████████████████████████████| 9/9 [00:21<00:00,  2.36s/it]\n",
      "100%|████████████████████████████████████████████████████████████████████████████████████| 9/9 [00:20<00:00,  2.33s/it]\n",
      "100%|████████████████████████████████████████████████████████████████████████████████████| 9/9 [00:19<00:00,  2.12s/it]"
     ]
    },
    {
     "name": "stdout",
     "output_type": "stream",
     "text": [
      "--------------------------------------------------\n",
      "Save results\n",
      "--------------------------------------------------\n",
      "Done! path: C:\\Users\\yf-su\\Desktop\\XAI\\experiments\\feature_removal_experiments_2dplanes, run_id: 6.\n"
     ]
    },
    {
     "name": "stderr",
     "output_type": "stream",
     "text": [
      "\n"
     ]
    },
    {
     "name": "stdout",
     "output_type": "stream",
     "text": [
      "7\n",
      "------------------------------\n",
      "{'experiment': 'feature_removal', 'n_train': 1000, 'n_val': 100, 'n_test': 3000, 'n_trees': 1000, 'clf_path': 'C:\\\\Users\\\\yf-su\\\\Desktop\\\\XAI\\\\df_oob\\\\openml_dataset', 'openml_clf_path': 'C:\\\\Users\\\\yf-su\\\\Desktop\\\\XAI\\\\df_oob\\\\openml_dataset', 'openml_reg_path': 'C:\\\\Users\\\\yf-su\\\\Desktop\\\\XAI\\\\df_oob\\\\openml_dataset', 'is_noisy': None, 'model_family': 'Tree', 'run_id': 7}\n",
      "--------------------------------------------------\n",
      "2dplanes_727\n",
      "--------------------------------------------------\n",
      "Train X: (1000, 10)\n",
      "Val X: (100, 10)\n",
      "Test X: (3000, 10)\n",
      "------------------------------\n",
      "Start: Data-OOB computation\n",
      "Done: Data-OOB computation\n",
      "Start: DF-OOB computation\n",
      "Done: DF-OOB computation\n",
      "Start: Learn-OOB computation\n",
      "Done: Learn-OOB computation\n",
      "Start: SHAP computation\n"
     ]
    },
    {
     "name": "stderr",
     "output_type": "stream",
     "text": [
      "\r",
      "  0%|                                                                                            | 0/9 [00:00<?, ?it/s]"
     ]
    },
    {
     "name": "stdout",
     "output_type": "stream",
     "text": [
      "Done: SHAP computation\n"
     ]
    },
    {
     "name": "stderr",
     "output_type": "stream",
     "text": [
      "100%|████████████████████████████████████████████████████████████████████████████████████| 9/9 [00:20<00:00,  2.33s/it]\n",
      "100%|████████████████████████████████████████████████████████████████████████████████████| 9/9 [00:21<00:00,  2.34s/it]\n",
      "100%|████████████████████████████████████████████████████████████████████████████████████| 9/9 [00:21<00:00,  2.37s/it]\n",
      "100%|████████████████████████████████████████████████████████████████████████████████████| 9/9 [00:20<00:00,  2.25s/it]"
     ]
    },
    {
     "name": "stdout",
     "output_type": "stream",
     "text": [
      "--------------------------------------------------\n",
      "Save results\n",
      "--------------------------------------------------\n",
      "Done! path: C:\\Users\\yf-su\\Desktop\\XAI\\experiments\\feature_removal_experiments_2dplanes, run_id: 7.\n"
     ]
    },
    {
     "name": "stderr",
     "output_type": "stream",
     "text": [
      "\n"
     ]
    },
    {
     "name": "stdout",
     "output_type": "stream",
     "text": [
      "8\n",
      "------------------------------\n",
      "{'experiment': 'feature_removal', 'n_train': 1000, 'n_val': 100, 'n_test': 3000, 'n_trees': 1000, 'clf_path': 'C:\\\\Users\\\\yf-su\\\\Desktop\\\\XAI\\\\df_oob\\\\openml_dataset', 'openml_clf_path': 'C:\\\\Users\\\\yf-su\\\\Desktop\\\\XAI\\\\df_oob\\\\openml_dataset', 'openml_reg_path': 'C:\\\\Users\\\\yf-su\\\\Desktop\\\\XAI\\\\df_oob\\\\openml_dataset', 'is_noisy': None, 'model_family': 'Tree', 'run_id': 8}\n",
      "--------------------------------------------------\n",
      "2dplanes_727\n",
      "--------------------------------------------------\n",
      "Train X: (1000, 10)\n",
      "Val X: (100, 10)\n",
      "Test X: (3000, 10)\n",
      "------------------------------\n",
      "Start: Data-OOB computation\n",
      "Done: Data-OOB computation\n",
      "Start: DF-OOB computation\n",
      "Done: DF-OOB computation\n",
      "Start: Learn-OOB computation\n",
      "Done: Learn-OOB computation\n",
      "Start: SHAP computation\n"
     ]
    },
    {
     "name": "stderr",
     "output_type": "stream",
     "text": [
      "\r",
      "  0%|                                                                                            | 0/9 [00:00<?, ?it/s]"
     ]
    },
    {
     "name": "stdout",
     "output_type": "stream",
     "text": [
      "Done: SHAP computation\n"
     ]
    },
    {
     "name": "stderr",
     "output_type": "stream",
     "text": [
      "100%|████████████████████████████████████████████████████████████████████████████████████| 9/9 [00:20<00:00,  2.29s/it]\n",
      "100%|████████████████████████████████████████████████████████████████████████████████████| 9/9 [00:22<00:00,  2.47s/it]\n",
      "100%|████████████████████████████████████████████████████████████████████████████████████| 9/9 [00:21<00:00,  2.35s/it]\n",
      "100%|████████████████████████████████████████████████████████████████████████████████████| 9/9 [00:19<00:00,  2.13s/it]"
     ]
    },
    {
     "name": "stdout",
     "output_type": "stream",
     "text": [
      "--------------------------------------------------\n",
      "Save results\n",
      "--------------------------------------------------\n",
      "Done! path: C:\\Users\\yf-su\\Desktop\\XAI\\experiments\\feature_removal_experiments_2dplanes, run_id: 8.\n"
     ]
    },
    {
     "name": "stderr",
     "output_type": "stream",
     "text": [
      "\n"
     ]
    },
    {
     "name": "stdout",
     "output_type": "stream",
     "text": [
      "9\n",
      "------------------------------\n",
      "{'experiment': 'feature_removal', 'n_train': 1000, 'n_val': 100, 'n_test': 3000, 'n_trees': 1000, 'clf_path': 'C:\\\\Users\\\\yf-su\\\\Desktop\\\\XAI\\\\df_oob\\\\openml_dataset', 'openml_clf_path': 'C:\\\\Users\\\\yf-su\\\\Desktop\\\\XAI\\\\df_oob\\\\openml_dataset', 'openml_reg_path': 'C:\\\\Users\\\\yf-su\\\\Desktop\\\\XAI\\\\df_oob\\\\openml_dataset', 'is_noisy': None, 'model_family': 'Tree', 'run_id': 9}\n",
      "--------------------------------------------------\n",
      "2dplanes_727\n",
      "--------------------------------------------------\n",
      "Train X: (1000, 10)\n",
      "Val X: (100, 10)\n",
      "Test X: (3000, 10)\n",
      "------------------------------\n",
      "Start: Data-OOB computation\n",
      "Done: Data-OOB computation\n",
      "Start: DF-OOB computation\n",
      "Done: DF-OOB computation\n",
      "Start: Learn-OOB computation\n",
      "Done: Learn-OOB computation\n",
      "Start: SHAP computation\n"
     ]
    },
    {
     "name": "stderr",
     "output_type": "stream",
     "text": [
      "\r",
      "  0%|                                                                                            | 0/9 [00:00<?, ?it/s]"
     ]
    },
    {
     "name": "stdout",
     "output_type": "stream",
     "text": [
      "Done: SHAP computation\n"
     ]
    },
    {
     "name": "stderr",
     "output_type": "stream",
     "text": [
      "100%|████████████████████████████████████████████████████████████████████████████████████| 9/9 [00:21<00:00,  2.37s/it]\n",
      "100%|████████████████████████████████████████████████████████████████████████████████████| 9/9 [00:22<00:00,  2.49s/it]\n",
      "100%|████████████████████████████████████████████████████████████████████████████████████| 9/9 [00:21<00:00,  2.42s/it]\n",
      "100%|████████████████████████████████████████████████████████████████████████████████████| 9/9 [00:18<00:00,  2.10s/it]"
     ]
    },
    {
     "name": "stdout",
     "output_type": "stream",
     "text": [
      "--------------------------------------------------\n",
      "Save results\n",
      "--------------------------------------------------\n",
      "Done! path: C:\\Users\\yf-su\\Desktop\\XAI\\experiments\\feature_removal_experiments_2dplanes, run_id: 9.\n"
     ]
    },
    {
     "name": "stderr",
     "output_type": "stream",
     "text": [
      "\n"
     ]
    },
    {
     "name": "stdout",
     "output_type": "stream",
     "text": [
      "0\n",
      "------------------------------\n",
      "{'experiment': 'feature_removal', 'n_train': 1000, 'n_val': 100, 'n_test': 3000, 'n_trees': 1000, 'clf_path': 'C:\\\\Users\\\\yf-su\\\\Desktop\\\\XAI\\\\df_oob\\\\openml_dataset', 'openml_clf_path': 'C:\\\\Users\\\\yf-su\\\\Desktop\\\\XAI\\\\df_oob\\\\openml_dataset', 'openml_reg_path': 'C:\\\\Users\\\\yf-su\\\\Desktop\\\\XAI\\\\df_oob\\\\openml_dataset', 'is_noisy': None, 'model_family': 'Tree', 'run_id': 0}\n",
      "--------------------------------------------------\n",
      "creditcard\n",
      "--------------------------------------------------\n",
      "Train X: (1000, 23)\n",
      "Val X: (100, 23)\n",
      "Test X: (3000, 23)\n",
      "------------------------------\n",
      "Start: Data-OOB computation\n",
      "Done: Data-OOB computation\n",
      "Start: DF-OOB computation\n",
      "Done: DF-OOB computation\n",
      "Start: Learn-OOB computation\n",
      "Done: Learn-OOB computation\n",
      "Start: SHAP computation\n"
     ]
    },
    {
     "name": "stderr",
     "output_type": "stream",
     "text": [
      "\r",
      "  0%|                                                                                           | 0/22 [00:00<?, ?it/s]"
     ]
    },
    {
     "name": "stdout",
     "output_type": "stream",
     "text": [
      "Done: SHAP computation\n"
     ]
    },
    {
     "name": "stderr",
     "output_type": "stream",
     "text": [
      "100%|██████████████████████████████████████████████████████████████████████████████████| 22/22 [01:20<00:00,  3.67s/it]\n",
      "100%|██████████████████████████████████████████████████████████████████████████████████| 22/22 [01:15<00:00,  3.42s/it]\n",
      "100%|██████████████████████████████████████████████████████████████████████████████████| 22/22 [01:12<00:00,  3.28s/it]\n",
      "100%|██████████████████████████████████████████████████████████████████████████████████| 22/22 [01:19<00:00,  3.63s/it]"
     ]
    },
    {
     "name": "stdout",
     "output_type": "stream",
     "text": [
      "--------------------------------------------------\n",
      "Save results\n",
      "--------------------------------------------------\n",
      "Done! path: C:\\Users\\yf-su\\Desktop\\XAI\\experiments\\feature_removal_experiments_creditcard, run_id: 0.\n"
     ]
    },
    {
     "name": "stderr",
     "output_type": "stream",
     "text": [
      "\n"
     ]
    },
    {
     "name": "stdout",
     "output_type": "stream",
     "text": [
      "1\n",
      "------------------------------\n",
      "{'experiment': 'feature_removal', 'n_train': 1000, 'n_val': 100, 'n_test': 3000, 'n_trees': 1000, 'clf_path': 'C:\\\\Users\\\\yf-su\\\\Desktop\\\\XAI\\\\df_oob\\\\openml_dataset', 'openml_clf_path': 'C:\\\\Users\\\\yf-su\\\\Desktop\\\\XAI\\\\df_oob\\\\openml_dataset', 'openml_reg_path': 'C:\\\\Users\\\\yf-su\\\\Desktop\\\\XAI\\\\df_oob\\\\openml_dataset', 'is_noisy': None, 'model_family': 'Tree', 'run_id': 1}\n",
      "--------------------------------------------------\n",
      "creditcard\n",
      "--------------------------------------------------\n",
      "Train X: (1000, 23)\n",
      "Val X: (100, 23)\n",
      "Test X: (3000, 23)\n",
      "------------------------------\n",
      "Start: Data-OOB computation\n",
      "Done: Data-OOB computation\n",
      "Start: DF-OOB computation\n",
      "Done: DF-OOB computation\n",
      "Start: Learn-OOB computation\n",
      "Done: Learn-OOB computation\n",
      "Start: SHAP computation\n"
     ]
    },
    {
     "name": "stderr",
     "output_type": "stream",
     "text": [
      "\r",
      "  0%|                                                                                           | 0/22 [00:00<?, ?it/s]"
     ]
    },
    {
     "name": "stdout",
     "output_type": "stream",
     "text": [
      "Done: SHAP computation\n"
     ]
    },
    {
     "name": "stderr",
     "output_type": "stream",
     "text": [
      "100%|██████████████████████████████████████████████████████████████████████████████████| 22/22 [01:20<00:00,  3.67s/it]\n",
      "100%|██████████████████████████████████████████████████████████████████████████████████| 22/22 [01:14<00:00,  3.40s/it]\n",
      "100%|██████████████████████████████████████████████████████████████████████████████████| 22/22 [01:15<00:00,  3.44s/it]\n",
      "100%|██████████████████████████████████████████████████████████████████████████████████| 22/22 [01:16<00:00,  3.46s/it]"
     ]
    },
    {
     "name": "stdout",
     "output_type": "stream",
     "text": [
      "--------------------------------------------------\n",
      "Save results\n",
      "--------------------------------------------------\n",
      "Done! path: C:\\Users\\yf-su\\Desktop\\XAI\\experiments\\feature_removal_experiments_creditcard, run_id: 1.\n"
     ]
    },
    {
     "name": "stderr",
     "output_type": "stream",
     "text": [
      "\n"
     ]
    },
    {
     "name": "stdout",
     "output_type": "stream",
     "text": [
      "2\n",
      "------------------------------\n",
      "{'experiment': 'feature_removal', 'n_train': 1000, 'n_val': 100, 'n_test': 3000, 'n_trees': 1000, 'clf_path': 'C:\\\\Users\\\\yf-su\\\\Desktop\\\\XAI\\\\df_oob\\\\openml_dataset', 'openml_clf_path': 'C:\\\\Users\\\\yf-su\\\\Desktop\\\\XAI\\\\df_oob\\\\openml_dataset', 'openml_reg_path': 'C:\\\\Users\\\\yf-su\\\\Desktop\\\\XAI\\\\df_oob\\\\openml_dataset', 'is_noisy': None, 'model_family': 'Tree', 'run_id': 2}\n",
      "--------------------------------------------------\n",
      "creditcard\n",
      "--------------------------------------------------\n",
      "Train X: (1000, 23)\n",
      "Val X: (100, 23)\n",
      "Test X: (3000, 23)\n",
      "------------------------------\n",
      "Start: Data-OOB computation\n",
      "Done: Data-OOB computation\n",
      "Start: DF-OOB computation\n",
      "Done: DF-OOB computation\n",
      "Start: Learn-OOB computation\n",
      "Done: Learn-OOB computation\n",
      "Start: SHAP computation\n"
     ]
    },
    {
     "name": "stderr",
     "output_type": "stream",
     "text": [
      "\r",
      "  0%|                                                                                           | 0/22 [00:00<?, ?it/s]"
     ]
    },
    {
     "name": "stdout",
     "output_type": "stream",
     "text": [
      "Done: SHAP computation\n"
     ]
    },
    {
     "name": "stderr",
     "output_type": "stream",
     "text": [
      "100%|██████████████████████████████████████████████████████████████████████████████████| 22/22 [01:23<00:00,  3.78s/it]\n",
      "100%|██████████████████████████████████████████████████████████████████████████████████| 22/22 [01:16<00:00,  3.46s/it]\n",
      "100%|██████████████████████████████████████████████████████████████████████████████████| 22/22 [01:15<00:00,  3.43s/it]\n",
      "100%|██████████████████████████████████████████████████████████████████████████████████| 22/22 [01:13<00:00,  3.33s/it]"
     ]
    },
    {
     "name": "stdout",
     "output_type": "stream",
     "text": [
      "--------------------------------------------------\n",
      "Save results\n",
      "--------------------------------------------------\n",
      "Done! path: C:\\Users\\yf-su\\Desktop\\XAI\\experiments\\feature_removal_experiments_creditcard, run_id: 2.\n"
     ]
    },
    {
     "name": "stderr",
     "output_type": "stream",
     "text": [
      "\n"
     ]
    },
    {
     "name": "stdout",
     "output_type": "stream",
     "text": [
      "3\n",
      "------------------------------\n",
      "{'experiment': 'feature_removal', 'n_train': 1000, 'n_val': 100, 'n_test': 3000, 'n_trees': 1000, 'clf_path': 'C:\\\\Users\\\\yf-su\\\\Desktop\\\\XAI\\\\df_oob\\\\openml_dataset', 'openml_clf_path': 'C:\\\\Users\\\\yf-su\\\\Desktop\\\\XAI\\\\df_oob\\\\openml_dataset', 'openml_reg_path': 'C:\\\\Users\\\\yf-su\\\\Desktop\\\\XAI\\\\df_oob\\\\openml_dataset', 'is_noisy': None, 'model_family': 'Tree', 'run_id': 3}\n",
      "--------------------------------------------------\n",
      "creditcard\n",
      "--------------------------------------------------\n",
      "Train X: (1000, 23)\n",
      "Val X: (100, 23)\n",
      "Test X: (3000, 23)\n",
      "------------------------------\n",
      "Start: Data-OOB computation\n",
      "Done: Data-OOB computation\n",
      "Start: DF-OOB computation\n",
      "Done: DF-OOB computation\n",
      "Start: Learn-OOB computation\n",
      "Done: Learn-OOB computation\n",
      "Start: SHAP computation\n"
     ]
    },
    {
     "name": "stderr",
     "output_type": "stream",
     "text": [
      "\r",
      "  0%|                                                                                           | 0/22 [00:00<?, ?it/s]"
     ]
    },
    {
     "name": "stdout",
     "output_type": "stream",
     "text": [
      "Done: SHAP computation\n"
     ]
    },
    {
     "name": "stderr",
     "output_type": "stream",
     "text": [
      "100%|██████████████████████████████████████████████████████████████████████████████████| 22/22 [01:20<00:00,  3.65s/it]\n",
      "100%|██████████████████████████████████████████████████████████████████████████████████| 22/22 [01:14<00:00,  3.37s/it]\n",
      "100%|██████████████████████████████████████████████████████████████████████████████████| 22/22 [01:14<00:00,  3.41s/it]\n",
      "100%|██████████████████████████████████████████████████████████████████████████████████| 22/22 [01:13<00:00,  3.36s/it]"
     ]
    },
    {
     "name": "stdout",
     "output_type": "stream",
     "text": [
      "--------------------------------------------------\n",
      "Save results\n",
      "--------------------------------------------------\n",
      "Done! path: C:\\Users\\yf-su\\Desktop\\XAI\\experiments\\feature_removal_experiments_creditcard, run_id: 3.\n"
     ]
    },
    {
     "name": "stderr",
     "output_type": "stream",
     "text": [
      "\n"
     ]
    },
    {
     "name": "stdout",
     "output_type": "stream",
     "text": [
      "4\n",
      "------------------------------\n",
      "{'experiment': 'feature_removal', 'n_train': 1000, 'n_val': 100, 'n_test': 3000, 'n_trees': 1000, 'clf_path': 'C:\\\\Users\\\\yf-su\\\\Desktop\\\\XAI\\\\df_oob\\\\openml_dataset', 'openml_clf_path': 'C:\\\\Users\\\\yf-su\\\\Desktop\\\\XAI\\\\df_oob\\\\openml_dataset', 'openml_reg_path': 'C:\\\\Users\\\\yf-su\\\\Desktop\\\\XAI\\\\df_oob\\\\openml_dataset', 'is_noisy': None, 'model_family': 'Tree', 'run_id': 4}\n",
      "--------------------------------------------------\n",
      "creditcard\n",
      "--------------------------------------------------\n",
      "Train X: (1000, 23)\n",
      "Val X: (100, 23)\n",
      "Test X: (3000, 23)\n",
      "------------------------------\n",
      "Start: Data-OOB computation\n",
      "Done: Data-OOB computation\n",
      "Start: DF-OOB computation\n",
      "Done: DF-OOB computation\n",
      "Start: Learn-OOB computation\n",
      "Done: Learn-OOB computation\n",
      "Start: SHAP computation\n"
     ]
    },
    {
     "name": "stderr",
     "output_type": "stream",
     "text": [
      "\r",
      "  0%|                                                                                           | 0/22 [00:00<?, ?it/s]"
     ]
    },
    {
     "name": "stdout",
     "output_type": "stream",
     "text": [
      "Done: SHAP computation\n"
     ]
    },
    {
     "name": "stderr",
     "output_type": "stream",
     "text": [
      "100%|██████████████████████████████████████████████████████████████████████████████████| 22/22 [01:21<00:00,  3.70s/it]\n",
      "100%|██████████████████████████████████████████████████████████████████████████████████| 22/22 [01:18<00:00,  3.56s/it]\n",
      "100%|██████████████████████████████████████████████████████████████████████████████████| 22/22 [01:15<00:00,  3.43s/it]\n",
      "100%|██████████████████████████████████████████████████████████████████████████████████| 22/22 [01:16<00:00,  3.47s/it]"
     ]
    },
    {
     "name": "stdout",
     "output_type": "stream",
     "text": [
      "--------------------------------------------------\n",
      "Save results\n",
      "--------------------------------------------------\n",
      "Done! path: C:\\Users\\yf-su\\Desktop\\XAI\\experiments\\feature_removal_experiments_creditcard, run_id: 4.\n"
     ]
    },
    {
     "name": "stderr",
     "output_type": "stream",
     "text": [
      "\n"
     ]
    },
    {
     "name": "stdout",
     "output_type": "stream",
     "text": [
      "5\n",
      "------------------------------\n",
      "{'experiment': 'feature_removal', 'n_train': 1000, 'n_val': 100, 'n_test': 3000, 'n_trees': 1000, 'clf_path': 'C:\\\\Users\\\\yf-su\\\\Desktop\\\\XAI\\\\df_oob\\\\openml_dataset', 'openml_clf_path': 'C:\\\\Users\\\\yf-su\\\\Desktop\\\\XAI\\\\df_oob\\\\openml_dataset', 'openml_reg_path': 'C:\\\\Users\\\\yf-su\\\\Desktop\\\\XAI\\\\df_oob\\\\openml_dataset', 'is_noisy': None, 'model_family': 'Tree', 'run_id': 5}\n",
      "--------------------------------------------------\n",
      "creditcard\n",
      "--------------------------------------------------\n",
      "Train X: (1000, 23)\n",
      "Val X: (100, 23)\n",
      "Test X: (3000, 23)\n",
      "------------------------------\n",
      "Start: Data-OOB computation\n",
      "Done: Data-OOB computation\n",
      "Start: DF-OOB computation\n",
      "Done: DF-OOB computation\n",
      "Start: Learn-OOB computation\n",
      "Done: Learn-OOB computation\n",
      "Start: SHAP computation\n"
     ]
    },
    {
     "name": "stderr",
     "output_type": "stream",
     "text": [
      "\r",
      "  0%|                                                                                           | 0/22 [00:00<?, ?it/s]"
     ]
    },
    {
     "name": "stdout",
     "output_type": "stream",
     "text": [
      "Done: SHAP computation\n"
     ]
    },
    {
     "name": "stderr",
     "output_type": "stream",
     "text": [
      "100%|██████████████████████████████████████████████████████████████████████████████████| 22/22 [01:22<00:00,  3.76s/it]\n",
      "100%|██████████████████████████████████████████████████████████████████████████████████| 22/22 [01:15<00:00,  3.41s/it]\n",
      "100%|██████████████████████████████████████████████████████████████████████████████████| 22/22 [01:16<00:00,  3.46s/it]\n",
      "100%|██████████████████████████████████████████████████████████████████████████████████| 22/22 [01:12<00:00,  3.31s/it]"
     ]
    },
    {
     "name": "stdout",
     "output_type": "stream",
     "text": [
      "--------------------------------------------------\n",
      "Save results\n",
      "--------------------------------------------------\n",
      "Done! path: C:\\Users\\yf-su\\Desktop\\XAI\\experiments\\feature_removal_experiments_creditcard, run_id: 5.\n"
     ]
    },
    {
     "name": "stderr",
     "output_type": "stream",
     "text": [
      "\n"
     ]
    },
    {
     "name": "stdout",
     "output_type": "stream",
     "text": [
      "6\n",
      "------------------------------\n",
      "{'experiment': 'feature_removal', 'n_train': 1000, 'n_val': 100, 'n_test': 3000, 'n_trees': 1000, 'clf_path': 'C:\\\\Users\\\\yf-su\\\\Desktop\\\\XAI\\\\df_oob\\\\openml_dataset', 'openml_clf_path': 'C:\\\\Users\\\\yf-su\\\\Desktop\\\\XAI\\\\df_oob\\\\openml_dataset', 'openml_reg_path': 'C:\\\\Users\\\\yf-su\\\\Desktop\\\\XAI\\\\df_oob\\\\openml_dataset', 'is_noisy': None, 'model_family': 'Tree', 'run_id': 6}\n",
      "--------------------------------------------------\n",
      "creditcard\n",
      "--------------------------------------------------\n",
      "Train X: (1000, 23)\n",
      "Val X: (100, 23)\n",
      "Test X: (3000, 23)\n",
      "------------------------------\n",
      "Start: Data-OOB computation\n",
      "Done: Data-OOB computation\n",
      "Start: DF-OOB computation\n",
      "Done: DF-OOB computation\n",
      "Start: Learn-OOB computation\n",
      "Done: Learn-OOB computation\n",
      "Start: SHAP computation\n"
     ]
    },
    {
     "name": "stderr",
     "output_type": "stream",
     "text": [
      "\r",
      "  0%|                                                                                           | 0/22 [00:00<?, ?it/s]"
     ]
    },
    {
     "name": "stdout",
     "output_type": "stream",
     "text": [
      "Done: SHAP computation\n"
     ]
    },
    {
     "name": "stderr",
     "output_type": "stream",
     "text": [
      "100%|██████████████████████████████████████████████████████████████████████████████████| 22/22 [01:21<00:00,  3.68s/it]\n",
      "100%|██████████████████████████████████████████████████████████████████████████████████| 22/22 [01:13<00:00,  3.36s/it]\n",
      "100%|██████████████████████████████████████████████████████████████████████████████████| 22/22 [01:17<00:00,  3.54s/it]\n",
      "100%|██████████████████████████████████████████████████████████████████████████████████| 22/22 [01:17<00:00,  3.54s/it]"
     ]
    },
    {
     "name": "stdout",
     "output_type": "stream",
     "text": [
      "--------------------------------------------------\n",
      "Save results\n",
      "--------------------------------------------------\n",
      "Done! path: C:\\Users\\yf-su\\Desktop\\XAI\\experiments\\feature_removal_experiments_creditcard, run_id: 6.\n"
     ]
    },
    {
     "name": "stderr",
     "output_type": "stream",
     "text": [
      "\n"
     ]
    },
    {
     "name": "stdout",
     "output_type": "stream",
     "text": [
      "7\n",
      "------------------------------\n",
      "{'experiment': 'feature_removal', 'n_train': 1000, 'n_val': 100, 'n_test': 3000, 'n_trees': 1000, 'clf_path': 'C:\\\\Users\\\\yf-su\\\\Desktop\\\\XAI\\\\df_oob\\\\openml_dataset', 'openml_clf_path': 'C:\\\\Users\\\\yf-su\\\\Desktop\\\\XAI\\\\df_oob\\\\openml_dataset', 'openml_reg_path': 'C:\\\\Users\\\\yf-su\\\\Desktop\\\\XAI\\\\df_oob\\\\openml_dataset', 'is_noisy': None, 'model_family': 'Tree', 'run_id': 7}\n",
      "--------------------------------------------------\n",
      "creditcard\n",
      "--------------------------------------------------\n",
      "Train X: (1000, 23)\n",
      "Val X: (100, 23)\n",
      "Test X: (3000, 23)\n",
      "------------------------------\n",
      "Start: Data-OOB computation\n",
      "Done: Data-OOB computation\n",
      "Start: DF-OOB computation\n",
      "Done: DF-OOB computation\n",
      "Start: Learn-OOB computation\n",
      "Done: Learn-OOB computation\n",
      "Start: SHAP computation\n"
     ]
    },
    {
     "name": "stderr",
     "output_type": "stream",
     "text": [
      "\r",
      "  0%|                                                                                           | 0/22 [00:00<?, ?it/s]"
     ]
    },
    {
     "name": "stdout",
     "output_type": "stream",
     "text": [
      "Done: SHAP computation\n"
     ]
    },
    {
     "name": "stderr",
     "output_type": "stream",
     "text": [
      "100%|██████████████████████████████████████████████████████████████████████████████████| 22/22 [01:23<00:00,  3.79s/it]\n",
      "100%|██████████████████████████████████████████████████████████████████████████████████| 22/22 [01:16<00:00,  3.48s/it]\n",
      "100%|██████████████████████████████████████████████████████████████████████████████████| 22/22 [01:13<00:00,  3.32s/it]\n",
      "100%|██████████████████████████████████████████████████████████████████████████████████| 22/22 [01:14<00:00,  3.37s/it]"
     ]
    },
    {
     "name": "stdout",
     "output_type": "stream",
     "text": [
      "--------------------------------------------------\n",
      "Save results\n",
      "--------------------------------------------------\n",
      "Done! path: C:\\Users\\yf-su\\Desktop\\XAI\\experiments\\feature_removal_experiments_creditcard, run_id: 7.\n"
     ]
    },
    {
     "name": "stderr",
     "output_type": "stream",
     "text": [
      "\n"
     ]
    },
    {
     "name": "stdout",
     "output_type": "stream",
     "text": [
      "8\n",
      "------------------------------\n",
      "{'experiment': 'feature_removal', 'n_train': 1000, 'n_val': 100, 'n_test': 3000, 'n_trees': 1000, 'clf_path': 'C:\\\\Users\\\\yf-su\\\\Desktop\\\\XAI\\\\df_oob\\\\openml_dataset', 'openml_clf_path': 'C:\\\\Users\\\\yf-su\\\\Desktop\\\\XAI\\\\df_oob\\\\openml_dataset', 'openml_reg_path': 'C:\\\\Users\\\\yf-su\\\\Desktop\\\\XAI\\\\df_oob\\\\openml_dataset', 'is_noisy': None, 'model_family': 'Tree', 'run_id': 8}\n",
      "--------------------------------------------------\n",
      "creditcard\n",
      "--------------------------------------------------\n",
      "Train X: (1000, 23)\n",
      "Val X: (100, 23)\n",
      "Test X: (3000, 23)\n",
      "------------------------------\n",
      "Start: Data-OOB computation\n",
      "Done: Data-OOB computation\n",
      "Start: DF-OOB computation\n",
      "Done: DF-OOB computation\n",
      "Start: Learn-OOB computation\n",
      "Done: Learn-OOB computation\n",
      "Start: SHAP computation\n"
     ]
    },
    {
     "name": "stderr",
     "output_type": "stream",
     "text": [
      "\r",
      "  0%|                                                                                           | 0/22 [00:00<?, ?it/s]"
     ]
    },
    {
     "name": "stdout",
     "output_type": "stream",
     "text": [
      "Done: SHAP computation\n"
     ]
    },
    {
     "name": "stderr",
     "output_type": "stream",
     "text": [
      "100%|██████████████████████████████████████████████████████████████████████████████████| 22/22 [01:26<00:00,  3.91s/it]\n",
      "100%|██████████████████████████████████████████████████████████████████████████████████| 22/22 [01:16<00:00,  3.48s/it]\n",
      "100%|██████████████████████████████████████████████████████████████████████████████████| 22/22 [01:15<00:00,  3.43s/it]\n",
      "100%|██████████████████████████████████████████████████████████████████████████████████| 22/22 [01:20<00:00,  3.64s/it]"
     ]
    },
    {
     "name": "stdout",
     "output_type": "stream",
     "text": [
      "--------------------------------------------------\n",
      "Save results\n",
      "--------------------------------------------------\n",
      "Done! path: C:\\Users\\yf-su\\Desktop\\XAI\\experiments\\feature_removal_experiments_creditcard, run_id: 8.\n"
     ]
    },
    {
     "name": "stderr",
     "output_type": "stream",
     "text": [
      "\n"
     ]
    },
    {
     "name": "stdout",
     "output_type": "stream",
     "text": [
      "9\n",
      "------------------------------\n",
      "{'experiment': 'feature_removal', 'n_train': 1000, 'n_val': 100, 'n_test': 3000, 'n_trees': 1000, 'clf_path': 'C:\\\\Users\\\\yf-su\\\\Desktop\\\\XAI\\\\df_oob\\\\openml_dataset', 'openml_clf_path': 'C:\\\\Users\\\\yf-su\\\\Desktop\\\\XAI\\\\df_oob\\\\openml_dataset', 'openml_reg_path': 'C:\\\\Users\\\\yf-su\\\\Desktop\\\\XAI\\\\df_oob\\\\openml_dataset', 'is_noisy': None, 'model_family': 'Tree', 'run_id': 9}\n",
      "--------------------------------------------------\n",
      "creditcard\n",
      "--------------------------------------------------\n",
      "Train X: (1000, 23)\n",
      "Val X: (100, 23)\n",
      "Test X: (3000, 23)\n",
      "------------------------------\n",
      "Start: Data-OOB computation\n",
      "Done: Data-OOB computation\n",
      "Start: DF-OOB computation\n",
      "Done: DF-OOB computation\n",
      "Start: Learn-OOB computation\n",
      "Done: Learn-OOB computation\n",
      "Start: SHAP computation\n"
     ]
    },
    {
     "name": "stderr",
     "output_type": "stream",
     "text": [
      "\r",
      "  0%|                                                                                           | 0/22 [00:00<?, ?it/s]"
     ]
    },
    {
     "name": "stdout",
     "output_type": "stream",
     "text": [
      "Done: SHAP computation\n"
     ]
    },
    {
     "name": "stderr",
     "output_type": "stream",
     "text": [
      "100%|██████████████████████████████████████████████████████████████████████████████████| 22/22 [01:22<00:00,  3.76s/it]\n",
      "100%|██████████████████████████████████████████████████████████████████████████████████| 22/22 [01:14<00:00,  3.38s/it]\n",
      "100%|██████████████████████████████████████████████████████████████████████████████████| 22/22 [01:13<00:00,  3.32s/it]\n",
      "100%|██████████████████████████████████████████████████████████████████████████████████| 22/22 [01:09<00:00,  3.16s/it]"
     ]
    },
    {
     "name": "stdout",
     "output_type": "stream",
     "text": [
      "--------------------------------------------------\n",
      "Save results\n",
      "--------------------------------------------------\n",
      "Done! path: C:\\Users\\yf-su\\Desktop\\XAI\\experiments\\feature_removal_experiments_creditcard, run_id: 9.\n"
     ]
    },
    {
     "name": "stderr",
     "output_type": "stream",
     "text": [
      "\n"
     ]
    },
    {
     "name": "stdout",
     "output_type": "stream",
     "text": [
      "0\n",
      "------------------------------\n",
      "{'experiment': 'feature_removal', 'n_train': 1000, 'n_val': 100, 'n_test': 3000, 'n_trees': 1000, 'clf_path': 'C:\\\\Users\\\\yf-su\\\\Desktop\\\\XAI\\\\df_oob\\\\openml_dataset', 'openml_clf_path': 'C:\\\\Users\\\\yf-su\\\\Desktop\\\\XAI\\\\df_oob\\\\openml_dataset', 'openml_reg_path': 'C:\\\\Users\\\\yf-su\\\\Desktop\\\\XAI\\\\df_oob\\\\openml_dataset', 'is_noisy': None, 'model_family': 'Tree', 'run_id': 0}\n",
      "--------------------------------------------------\n",
      "nomao\n",
      "--------------------------------------------------\n",
      "Train X: (1000, 89)\n",
      "Val X: (100, 89)\n",
      "Test X: (3000, 89)\n",
      "------------------------------\n",
      "Start: Data-OOB computation\n",
      "Done: Data-OOB computation\n",
      "Start: DF-OOB computation\n",
      "Done: DF-OOB computation\n",
      "Start: Learn-OOB computation\n",
      "Done: Learn-OOB computation\n",
      "Start: SHAP computation\n"
     ]
    },
    {
     "name": "stderr",
     "output_type": "stream",
     "text": [
      "\r",
      "  0%|                                                                                           | 0/88 [00:00<?, ?it/s]"
     ]
    },
    {
     "name": "stdout",
     "output_type": "stream",
     "text": [
      "Done: SHAP computation\n"
     ]
    },
    {
     "name": "stderr",
     "output_type": "stream",
     "text": [
      "100%|██████████████████████████████████████████████████████████████████████████████████| 88/88 [04:08<00:00,  2.82s/it]\n",
      "100%|██████████████████████████████████████████████████████████████████████████████████| 88/88 [03:17<00:00,  2.25s/it]\n",
      "100%|██████████████████████████████████████████████████████████████████████████████████| 88/88 [03:28<00:00,  2.37s/it]\n",
      "100%|██████████████████████████████████████████████████████████████████████████████████| 88/88 [03:18<00:00,  2.25s/it]"
     ]
    },
    {
     "name": "stdout",
     "output_type": "stream",
     "text": [
      "--------------------------------------------------\n",
      "Save results\n",
      "--------------------------------------------------\n",
      "Done! path: C:\\Users\\yf-su\\Desktop\\XAI\\experiments\\feature_removal_experiments_nomao, run_id: 0.\n"
     ]
    },
    {
     "name": "stderr",
     "output_type": "stream",
     "text": [
      "\n"
     ]
    },
    {
     "name": "stdout",
     "output_type": "stream",
     "text": [
      "1\n",
      "------------------------------\n",
      "{'experiment': 'feature_removal', 'n_train': 1000, 'n_val': 100, 'n_test': 3000, 'n_trees': 1000, 'clf_path': 'C:\\\\Users\\\\yf-su\\\\Desktop\\\\XAI\\\\df_oob\\\\openml_dataset', 'openml_clf_path': 'C:\\\\Users\\\\yf-su\\\\Desktop\\\\XAI\\\\df_oob\\\\openml_dataset', 'openml_reg_path': 'C:\\\\Users\\\\yf-su\\\\Desktop\\\\XAI\\\\df_oob\\\\openml_dataset', 'is_noisy': None, 'model_family': 'Tree', 'run_id': 1}\n",
      "--------------------------------------------------\n",
      "nomao\n",
      "--------------------------------------------------\n",
      "Train X: (1000, 89)\n",
      "Val X: (100, 89)\n",
      "Test X: (3000, 89)\n",
      "------------------------------\n",
      "Start: Data-OOB computation\n",
      "Done: Data-OOB computation\n",
      "Start: DF-OOB computation\n",
      "Done: DF-OOB computation\n",
      "Start: Learn-OOB computation\n",
      "Done: Learn-OOB computation\n",
      "Start: SHAP computation\n"
     ]
    },
    {
     "name": "stderr",
     "output_type": "stream",
     "text": [
      "\r",
      "  0%|                                                                                           | 0/88 [00:00<?, ?it/s]"
     ]
    },
    {
     "name": "stdout",
     "output_type": "stream",
     "text": [
      "Done: SHAP computation\n"
     ]
    },
    {
     "name": "stderr",
     "output_type": "stream",
     "text": [
      "100%|██████████████████████████████████████████████████████████████████████████████████| 88/88 [03:48<00:00,  2.60s/it]\n",
      "100%|██████████████████████████████████████████████████████████████████████████████████| 88/88 [03:14<00:00,  2.21s/it]\n",
      "100%|██████████████████████████████████████████████████████████████████████████████████| 88/88 [03:26<00:00,  2.34s/it]\n",
      "100%|██████████████████████████████████████████████████████████████████████████████████| 88/88 [03:18<00:00,  2.26s/it]"
     ]
    },
    {
     "name": "stdout",
     "output_type": "stream",
     "text": [
      "--------------------------------------------------\n",
      "Save results\n",
      "--------------------------------------------------\n",
      "Done! path: C:\\Users\\yf-su\\Desktop\\XAI\\experiments\\feature_removal_experiments_nomao, run_id: 1.\n"
     ]
    },
    {
     "name": "stderr",
     "output_type": "stream",
     "text": [
      "\n"
     ]
    },
    {
     "name": "stdout",
     "output_type": "stream",
     "text": [
      "2\n",
      "------------------------------\n",
      "{'experiment': 'feature_removal', 'n_train': 1000, 'n_val': 100, 'n_test': 3000, 'n_trees': 1000, 'clf_path': 'C:\\\\Users\\\\yf-su\\\\Desktop\\\\XAI\\\\df_oob\\\\openml_dataset', 'openml_clf_path': 'C:\\\\Users\\\\yf-su\\\\Desktop\\\\XAI\\\\df_oob\\\\openml_dataset', 'openml_reg_path': 'C:\\\\Users\\\\yf-su\\\\Desktop\\\\XAI\\\\df_oob\\\\openml_dataset', 'is_noisy': None, 'model_family': 'Tree', 'run_id': 2}\n",
      "--------------------------------------------------\n",
      "nomao\n",
      "--------------------------------------------------\n",
      "Train X: (1000, 89)\n",
      "Val X: (100, 89)\n",
      "Test X: (3000, 89)\n",
      "------------------------------\n",
      "Start: Data-OOB computation\n",
      "Done: Data-OOB computation\n",
      "Start: DF-OOB computation\n",
      "Done: DF-OOB computation\n",
      "Start: Learn-OOB computation\n",
      "Done: Learn-OOB computation\n",
      "Start: SHAP computation\n"
     ]
    },
    {
     "name": "stderr",
     "output_type": "stream",
     "text": [
      "\r",
      "  0%|                                                                                           | 0/88 [00:00<?, ?it/s]"
     ]
    },
    {
     "name": "stdout",
     "output_type": "stream",
     "text": [
      "Done: SHAP computation\n"
     ]
    },
    {
     "name": "stderr",
     "output_type": "stream",
     "text": [
      "100%|██████████████████████████████████████████████████████████████████████████████████| 88/88 [03:32<00:00,  2.41s/it]\n",
      "100%|██████████████████████████████████████████████████████████████████████████████████| 88/88 [03:11<00:00,  2.17s/it]\n",
      "100%|██████████████████████████████████████████████████████████████████████████████████| 88/88 [03:19<00:00,  2.27s/it]\n",
      "100%|██████████████████████████████████████████████████████████████████████████████████| 88/88 [03:19<00:00,  2.27s/it]"
     ]
    },
    {
     "name": "stdout",
     "output_type": "stream",
     "text": [
      "--------------------------------------------------\n",
      "Save results\n",
      "--------------------------------------------------\n",
      "Done! path: C:\\Users\\yf-su\\Desktop\\XAI\\experiments\\feature_removal_experiments_nomao, run_id: 2.\n"
     ]
    },
    {
     "name": "stderr",
     "output_type": "stream",
     "text": [
      "\n"
     ]
    },
    {
     "name": "stdout",
     "output_type": "stream",
     "text": [
      "3\n",
      "------------------------------\n",
      "{'experiment': 'feature_removal', 'n_train': 1000, 'n_val': 100, 'n_test': 3000, 'n_trees': 1000, 'clf_path': 'C:\\\\Users\\\\yf-su\\\\Desktop\\\\XAI\\\\df_oob\\\\openml_dataset', 'openml_clf_path': 'C:\\\\Users\\\\yf-su\\\\Desktop\\\\XAI\\\\df_oob\\\\openml_dataset', 'openml_reg_path': 'C:\\\\Users\\\\yf-su\\\\Desktop\\\\XAI\\\\df_oob\\\\openml_dataset', 'is_noisy': None, 'model_family': 'Tree', 'run_id': 3}\n",
      "--------------------------------------------------\n",
      "nomao\n",
      "--------------------------------------------------\n",
      "Train X: (1000, 89)\n",
      "Val X: (100, 89)\n",
      "Test X: (3000, 89)\n",
      "------------------------------\n",
      "Start: Data-OOB computation\n",
      "Done: Data-OOB computation\n",
      "Start: DF-OOB computation\n",
      "Done: DF-OOB computation\n",
      "Start: Learn-OOB computation\n",
      "Done: Learn-OOB computation\n",
      "Start: SHAP computation\n"
     ]
    },
    {
     "name": "stderr",
     "output_type": "stream",
     "text": [
      "\r",
      "  0%|                                                                                           | 0/88 [00:00<?, ?it/s]"
     ]
    },
    {
     "name": "stdout",
     "output_type": "stream",
     "text": [
      "Done: SHAP computation\n"
     ]
    },
    {
     "name": "stderr",
     "output_type": "stream",
     "text": [
      "100%|██████████████████████████████████████████████████████████████████████████████████| 88/88 [03:51<00:00,  2.63s/it]\n",
      "100%|██████████████████████████████████████████████████████████████████████████████████| 88/88 [03:15<00:00,  2.22s/it]\n",
      "100%|██████████████████████████████████████████████████████████████████████████████████| 88/88 [03:20<00:00,  2.27s/it]\n",
      "100%|██████████████████████████████████████████████████████████████████████████████████| 88/88 [03:14<00:00,  2.22s/it]"
     ]
    },
    {
     "name": "stdout",
     "output_type": "stream",
     "text": [
      "--------------------------------------------------\n",
      "Save results\n",
      "--------------------------------------------------\n",
      "Done! path: C:\\Users\\yf-su\\Desktop\\XAI\\experiments\\feature_removal_experiments_nomao, run_id: 3.\n"
     ]
    },
    {
     "name": "stderr",
     "output_type": "stream",
     "text": [
      "\n"
     ]
    },
    {
     "name": "stdout",
     "output_type": "stream",
     "text": [
      "4\n",
      "------------------------------\n",
      "{'experiment': 'feature_removal', 'n_train': 1000, 'n_val': 100, 'n_test': 3000, 'n_trees': 1000, 'clf_path': 'C:\\\\Users\\\\yf-su\\\\Desktop\\\\XAI\\\\df_oob\\\\openml_dataset', 'openml_clf_path': 'C:\\\\Users\\\\yf-su\\\\Desktop\\\\XAI\\\\df_oob\\\\openml_dataset', 'openml_reg_path': 'C:\\\\Users\\\\yf-su\\\\Desktop\\\\XAI\\\\df_oob\\\\openml_dataset', 'is_noisy': None, 'model_family': 'Tree', 'run_id': 4}\n",
      "--------------------------------------------------\n",
      "nomao\n",
      "--------------------------------------------------\n",
      "Train X: (1000, 89)\n",
      "Val X: (100, 89)\n",
      "Test X: (3000, 89)\n",
      "------------------------------\n",
      "Start: Data-OOB computation\n",
      "Done: Data-OOB computation\n",
      "Start: DF-OOB computation\n",
      "Done: DF-OOB computation\n",
      "Start: Learn-OOB computation\n",
      "Done: Learn-OOB computation\n",
      "Start: SHAP computation\n"
     ]
    },
    {
     "name": "stderr",
     "output_type": "stream",
     "text": [
      "\r",
      "  0%|                                                                                           | 0/88 [00:00<?, ?it/s]"
     ]
    },
    {
     "name": "stdout",
     "output_type": "stream",
     "text": [
      "Done: SHAP computation\n"
     ]
    },
    {
     "name": "stderr",
     "output_type": "stream",
     "text": [
      "100%|██████████████████████████████████████████████████████████████████████████████████| 88/88 [03:40<00:00,  2.50s/it]\n",
      "100%|██████████████████████████████████████████████████████████████████████████████████| 88/88 [03:05<00:00,  2.11s/it]\n",
      "100%|██████████████████████████████████████████████████████████████████████████████████| 88/88 [03:12<00:00,  2.19s/it]\n",
      "100%|██████████████████████████████████████████████████████████████████████████████████| 88/88 [03:15<00:00,  2.22s/it]"
     ]
    },
    {
     "name": "stdout",
     "output_type": "stream",
     "text": [
      "--------------------------------------------------\n",
      "Save results\n",
      "--------------------------------------------------\n",
      "Done! path: C:\\Users\\yf-su\\Desktop\\XAI\\experiments\\feature_removal_experiments_nomao, run_id: 4.\n"
     ]
    },
    {
     "name": "stderr",
     "output_type": "stream",
     "text": [
      "\n"
     ]
    },
    {
     "name": "stdout",
     "output_type": "stream",
     "text": [
      "5\n",
      "------------------------------\n",
      "{'experiment': 'feature_removal', 'n_train': 1000, 'n_val': 100, 'n_test': 3000, 'n_trees': 1000, 'clf_path': 'C:\\\\Users\\\\yf-su\\\\Desktop\\\\XAI\\\\df_oob\\\\openml_dataset', 'openml_clf_path': 'C:\\\\Users\\\\yf-su\\\\Desktop\\\\XAI\\\\df_oob\\\\openml_dataset', 'openml_reg_path': 'C:\\\\Users\\\\yf-su\\\\Desktop\\\\XAI\\\\df_oob\\\\openml_dataset', 'is_noisy': None, 'model_family': 'Tree', 'run_id': 5}\n",
      "--------------------------------------------------\n",
      "nomao\n",
      "--------------------------------------------------\n",
      "Train X: (1000, 89)\n",
      "Val X: (100, 89)\n",
      "Test X: (3000, 89)\n",
      "------------------------------\n",
      "Start: Data-OOB computation\n",
      "Done: Data-OOB computation\n",
      "Start: DF-OOB computation\n",
      "Done: DF-OOB computation\n",
      "Start: Learn-OOB computation\n",
      "Done: Learn-OOB computation\n",
      "Start: SHAP computation\n"
     ]
    },
    {
     "name": "stderr",
     "output_type": "stream",
     "text": [
      "\r",
      "  0%|                                                                                           | 0/88 [00:00<?, ?it/s]"
     ]
    },
    {
     "name": "stdout",
     "output_type": "stream",
     "text": [
      "Done: SHAP computation\n"
     ]
    },
    {
     "name": "stderr",
     "output_type": "stream",
     "text": [
      "100%|██████████████████████████████████████████████████████████████████████████████████| 88/88 [03:29<00:00,  2.38s/it]\n",
      "100%|██████████████████████████████████████████████████████████████████████████████████| 88/88 [03:02<00:00,  2.08s/it]\n",
      "100%|██████████████████████████████████████████████████████████████████████████████████| 88/88 [03:23<00:00,  2.31s/it]\n",
      "100%|██████████████████████████████████████████████████████████████████████████████████| 88/88 [03:26<00:00,  2.35s/it]"
     ]
    },
    {
     "name": "stdout",
     "output_type": "stream",
     "text": [
      "--------------------------------------------------\n",
      "Save results\n",
      "--------------------------------------------------\n",
      "Done! path: C:\\Users\\yf-su\\Desktop\\XAI\\experiments\\feature_removal_experiments_nomao, run_id: 5.\n"
     ]
    },
    {
     "name": "stderr",
     "output_type": "stream",
     "text": [
      "\n"
     ]
    },
    {
     "name": "stdout",
     "output_type": "stream",
     "text": [
      "6\n",
      "------------------------------\n",
      "{'experiment': 'feature_removal', 'n_train': 1000, 'n_val': 100, 'n_test': 3000, 'n_trees': 1000, 'clf_path': 'C:\\\\Users\\\\yf-su\\\\Desktop\\\\XAI\\\\df_oob\\\\openml_dataset', 'openml_clf_path': 'C:\\\\Users\\\\yf-su\\\\Desktop\\\\XAI\\\\df_oob\\\\openml_dataset', 'openml_reg_path': 'C:\\\\Users\\\\yf-su\\\\Desktop\\\\XAI\\\\df_oob\\\\openml_dataset', 'is_noisy': None, 'model_family': 'Tree', 'run_id': 6}\n",
      "--------------------------------------------------\n",
      "nomao\n",
      "--------------------------------------------------\n",
      "Train X: (1000, 89)\n",
      "Val X: (100, 89)\n",
      "Test X: (3000, 89)\n",
      "------------------------------\n",
      "Start: Data-OOB computation\n",
      "Done: Data-OOB computation\n",
      "Start: DF-OOB computation\n",
      "Done: DF-OOB computation\n",
      "Start: Learn-OOB computation\n",
      "Done: Learn-OOB computation\n",
      "Start: SHAP computation\n"
     ]
    },
    {
     "name": "stderr",
     "output_type": "stream",
     "text": [
      "\r",
      "  0%|                                                                                           | 0/88 [00:00<?, ?it/s]"
     ]
    },
    {
     "name": "stdout",
     "output_type": "stream",
     "text": [
      "Done: SHAP computation\n"
     ]
    },
    {
     "name": "stderr",
     "output_type": "stream",
     "text": [
      "100%|██████████████████████████████████████████████████████████████████████████████████| 88/88 [02:38<00:00,  1.80s/it]\n",
      "100%|██████████████████████████████████████████████████████████████████████████████████| 88/88 [02:53<00:00,  1.97s/it]\n",
      "100%|██████████████████████████████████████████████████████████████████████████████████| 88/88 [03:16<00:00,  2.23s/it]\n",
      "100%|██████████████████████████████████████████████████████████████████████████████████| 88/88 [03:23<00:00,  2.31s/it]"
     ]
    },
    {
     "name": "stdout",
     "output_type": "stream",
     "text": [
      "--------------------------------------------------\n",
      "Save results\n",
      "--------------------------------------------------\n",
      "Done! path: C:\\Users\\yf-su\\Desktop\\XAI\\experiments\\feature_removal_experiments_nomao, run_id: 6.\n"
     ]
    },
    {
     "name": "stderr",
     "output_type": "stream",
     "text": [
      "\n"
     ]
    },
    {
     "name": "stdout",
     "output_type": "stream",
     "text": [
      "7\n",
      "------------------------------\n",
      "{'experiment': 'feature_removal', 'n_train': 1000, 'n_val': 100, 'n_test': 3000, 'n_trees': 1000, 'clf_path': 'C:\\\\Users\\\\yf-su\\\\Desktop\\\\XAI\\\\df_oob\\\\openml_dataset', 'openml_clf_path': 'C:\\\\Users\\\\yf-su\\\\Desktop\\\\XAI\\\\df_oob\\\\openml_dataset', 'openml_reg_path': 'C:\\\\Users\\\\yf-su\\\\Desktop\\\\XAI\\\\df_oob\\\\openml_dataset', 'is_noisy': None, 'model_family': 'Tree', 'run_id': 7}\n",
      "--------------------------------------------------\n",
      "nomao\n",
      "--------------------------------------------------\n",
      "Train X: (1000, 89)\n",
      "Val X: (100, 89)\n",
      "Test X: (3000, 89)\n",
      "------------------------------\n",
      "Start: Data-OOB computation\n",
      "Done: Data-OOB computation\n",
      "Start: DF-OOB computation\n",
      "Done: DF-OOB computation\n",
      "Start: Learn-OOB computation\n",
      "Done: Learn-OOB computation\n",
      "Start: SHAP computation\n"
     ]
    },
    {
     "name": "stderr",
     "output_type": "stream",
     "text": [
      "\r",
      "  0%|                                                                                           | 0/88 [00:00<?, ?it/s]"
     ]
    },
    {
     "name": "stdout",
     "output_type": "stream",
     "text": [
      "Done: SHAP computation\n"
     ]
    },
    {
     "name": "stderr",
     "output_type": "stream",
     "text": [
      "100%|██████████████████████████████████████████████████████████████████████████████████| 88/88 [03:49<00:00,  2.60s/it]\n",
      "100%|██████████████████████████████████████████████████████████████████████████████████| 88/88 [03:09<00:00,  2.15s/it]\n",
      "100%|██████████████████████████████████████████████████████████████████████████████████| 88/88 [03:02<00:00,  2.08s/it]\n",
      "100%|██████████████████████████████████████████████████████████████████████████████████| 88/88 [03:04<00:00,  2.09s/it]"
     ]
    },
    {
     "name": "stdout",
     "output_type": "stream",
     "text": [
      "--------------------------------------------------\n",
      "Save results\n",
      "--------------------------------------------------\n",
      "Done! path: C:\\Users\\yf-su\\Desktop\\XAI\\experiments\\feature_removal_experiments_nomao, run_id: 7.\n"
     ]
    },
    {
     "name": "stderr",
     "output_type": "stream",
     "text": [
      "\n"
     ]
    },
    {
     "name": "stdout",
     "output_type": "stream",
     "text": [
      "8\n",
      "------------------------------\n",
      "{'experiment': 'feature_removal', 'n_train': 1000, 'n_val': 100, 'n_test': 3000, 'n_trees': 1000, 'clf_path': 'C:\\\\Users\\\\yf-su\\\\Desktop\\\\XAI\\\\df_oob\\\\openml_dataset', 'openml_clf_path': 'C:\\\\Users\\\\yf-su\\\\Desktop\\\\XAI\\\\df_oob\\\\openml_dataset', 'openml_reg_path': 'C:\\\\Users\\\\yf-su\\\\Desktop\\\\XAI\\\\df_oob\\\\openml_dataset', 'is_noisy': None, 'model_family': 'Tree', 'run_id': 8}\n",
      "--------------------------------------------------\n",
      "nomao\n",
      "--------------------------------------------------\n",
      "Train X: (1000, 89)\n",
      "Val X: (100, 89)\n",
      "Test X: (3000, 89)\n",
      "------------------------------\n",
      "Start: Data-OOB computation\n",
      "Done: Data-OOB computation\n",
      "Start: DF-OOB computation\n",
      "Done: DF-OOB computation\n",
      "Start: Learn-OOB computation\n",
      "Done: Learn-OOB computation\n",
      "Start: SHAP computation\n"
     ]
    },
    {
     "name": "stderr",
     "output_type": "stream",
     "text": [
      "\r",
      "  0%|                                                                                           | 0/88 [00:00<?, ?it/s]"
     ]
    },
    {
     "name": "stdout",
     "output_type": "stream",
     "text": [
      "Done: SHAP computation\n"
     ]
    },
    {
     "name": "stderr",
     "output_type": "stream",
     "text": [
      "100%|██████████████████████████████████████████████████████████████████████████████████| 88/88 [03:21<00:00,  2.29s/it]\n",
      "100%|██████████████████████████████████████████████████████████████████████████████████| 88/88 [02:57<00:00,  2.02s/it]\n",
      "100%|██████████████████████████████████████████████████████████████████████████████████| 88/88 [03:00<00:00,  2.06s/it]\n",
      "100%|██████████████████████████████████████████████████████████████████████████████████| 88/88 [03:07<00:00,  2.13s/it]"
     ]
    },
    {
     "name": "stdout",
     "output_type": "stream",
     "text": [
      "--------------------------------------------------\n",
      "Save results\n",
      "--------------------------------------------------\n",
      "Done! path: C:\\Users\\yf-su\\Desktop\\XAI\\experiments\\feature_removal_experiments_nomao, run_id: 8.\n"
     ]
    },
    {
     "name": "stderr",
     "output_type": "stream",
     "text": [
      "\n"
     ]
    },
    {
     "name": "stdout",
     "output_type": "stream",
     "text": [
      "9\n",
      "------------------------------\n",
      "{'experiment': 'feature_removal', 'n_train': 1000, 'n_val': 100, 'n_test': 3000, 'n_trees': 1000, 'clf_path': 'C:\\\\Users\\\\yf-su\\\\Desktop\\\\XAI\\\\df_oob\\\\openml_dataset', 'openml_clf_path': 'C:\\\\Users\\\\yf-su\\\\Desktop\\\\XAI\\\\df_oob\\\\openml_dataset', 'openml_reg_path': 'C:\\\\Users\\\\yf-su\\\\Desktop\\\\XAI\\\\df_oob\\\\openml_dataset', 'is_noisy': None, 'model_family': 'Tree', 'run_id': 9}\n",
      "--------------------------------------------------\n",
      "nomao\n",
      "--------------------------------------------------\n",
      "Train X: (1000, 89)\n",
      "Val X: (100, 89)\n",
      "Test X: (3000, 89)\n",
      "------------------------------\n",
      "Start: Data-OOB computation\n",
      "Done: Data-OOB computation\n",
      "Start: DF-OOB computation\n",
      "Done: DF-OOB computation\n",
      "Start: Learn-OOB computation\n",
      "Done: Learn-OOB computation\n",
      "Start: SHAP computation\n"
     ]
    },
    {
     "name": "stderr",
     "output_type": "stream",
     "text": [
      "\r",
      "  0%|                                                                                           | 0/88 [00:00<?, ?it/s]"
     ]
    },
    {
     "name": "stdout",
     "output_type": "stream",
     "text": [
      "Done: SHAP computation\n"
     ]
    },
    {
     "name": "stderr",
     "output_type": "stream",
     "text": [
      "100%|██████████████████████████████████████████████████████████████████████████████████| 88/88 [03:27<00:00,  2.36s/it]\n",
      "100%|██████████████████████████████████████████████████████████████████████████████████| 88/88 [02:58<00:00,  2.03s/it]\n",
      "100%|██████████████████████████████████████████████████████████████████████████████████| 88/88 [03:05<00:00,  2.10s/it]\n",
      "100%|██████████████████████████████████████████████████████████████████████████████████| 88/88 [03:13<00:00,  2.20s/it]"
     ]
    },
    {
     "name": "stdout",
     "output_type": "stream",
     "text": [
      "--------------------------------------------------\n",
      "Save results\n",
      "--------------------------------------------------\n",
      "Done! path: C:\\Users\\yf-su\\Desktop\\XAI\\experiments\\feature_removal_experiments_nomao, run_id: 9.\n"
     ]
    },
    {
     "name": "stderr",
     "output_type": "stream",
     "text": [
      "\n"
     ]
    },
    {
     "name": "stdout",
     "output_type": "stream",
     "text": [
      "0\n",
      "------------------------------\n",
      "{'experiment': 'feature_removal', 'n_train': 1000, 'n_val': 100, 'n_test': 3000, 'n_trees': 1000, 'clf_path': 'C:\\\\Users\\\\yf-su\\\\Desktop\\\\XAI\\\\df_oob\\\\openml_dataset', 'openml_clf_path': 'C:\\\\Users\\\\yf-su\\\\Desktop\\\\XAI\\\\df_oob\\\\openml_dataset', 'openml_reg_path': 'C:\\\\Users\\\\yf-su\\\\Desktop\\\\XAI\\\\df_oob\\\\openml_dataset', 'is_noisy': None, 'model_family': 'Tree', 'run_id': 0}\n",
      "--------------------------------------------------\n",
      "webdata_wXa\n",
      "--------------------------------------------------\n",
      "Train X: (1000, 123)\n",
      "Val X: (100, 123)\n",
      "Test X: (3000, 123)\n",
      "------------------------------\n",
      "Start: Data-OOB computation\n",
      "Done: Data-OOB computation\n",
      "Start: DF-OOB computation\n",
      "Done: DF-OOB computation\n",
      "Start: Learn-OOB computation\n",
      "Done: Learn-OOB computation\n",
      "Start: SHAP computation\n"
     ]
    },
    {
     "name": "stderr",
     "output_type": "stream",
     "text": [
      "\r",
      "  0%|                                                                                          | 0/122 [00:00<?, ?it/s]"
     ]
    },
    {
     "name": "stdout",
     "output_type": "stream",
     "text": [
      "Done: SHAP computation\n"
     ]
    },
    {
     "name": "stderr",
     "output_type": "stream",
     "text": [
      "100%|████████████████████████████████████████████████████████████████████████████████| 122/122 [05:11<00:00,  2.56s/it]\n",
      "100%|████████████████████████████████████████████████████████████████████████████████| 122/122 [04:41<00:00,  2.31s/it]\n",
      "100%|████████████████████████████████████████████████████████████████████████████████| 122/122 [04:50<00:00,  2.38s/it]\n",
      "100%|████████████████████████████████████████████████████████████████████████████████| 122/122 [04:45<00:00,  2.34s/it]"
     ]
    },
    {
     "name": "stdout",
     "output_type": "stream",
     "text": [
      "--------------------------------------------------\n",
      "Save results\n",
      "--------------------------------------------------\n",
      "Done! path: C:\\Users\\yf-su\\Desktop\\XAI\\experiments\\feature_removal_experiments_webdata_wXa, run_id: 0.\n"
     ]
    },
    {
     "name": "stderr",
     "output_type": "stream",
     "text": [
      "\n"
     ]
    },
    {
     "name": "stdout",
     "output_type": "stream",
     "text": [
      "1\n",
      "------------------------------\n",
      "{'experiment': 'feature_removal', 'n_train': 1000, 'n_val': 100, 'n_test': 3000, 'n_trees': 1000, 'clf_path': 'C:\\\\Users\\\\yf-su\\\\Desktop\\\\XAI\\\\df_oob\\\\openml_dataset', 'openml_clf_path': 'C:\\\\Users\\\\yf-su\\\\Desktop\\\\XAI\\\\df_oob\\\\openml_dataset', 'openml_reg_path': 'C:\\\\Users\\\\yf-su\\\\Desktop\\\\XAI\\\\df_oob\\\\openml_dataset', 'is_noisy': None, 'model_family': 'Tree', 'run_id': 1}\n",
      "--------------------------------------------------\n",
      "webdata_wXa\n",
      "--------------------------------------------------\n",
      "Train X: (1000, 123)\n",
      "Val X: (100, 123)\n",
      "Test X: (3000, 123)\n",
      "------------------------------\n",
      "Start: Data-OOB computation\n",
      "Done: Data-OOB computation\n",
      "Start: DF-OOB computation\n",
      "Done: DF-OOB computation\n",
      "Start: Learn-OOB computation\n",
      "Done: Learn-OOB computation\n",
      "Start: SHAP computation\n"
     ]
    },
    {
     "name": "stderr",
     "output_type": "stream",
     "text": [
      "\r",
      "  0%|                                                                                          | 0/122 [00:00<?, ?it/s]"
     ]
    },
    {
     "name": "stdout",
     "output_type": "stream",
     "text": [
      "Done: SHAP computation\n"
     ]
    },
    {
     "name": "stderr",
     "output_type": "stream",
     "text": [
      "100%|████████████████████████████████████████████████████████████████████████████████| 122/122 [05:20<00:00,  2.63s/it]\n",
      "100%|████████████████████████████████████████████████████████████████████████████████| 122/122 [04:48<00:00,  2.36s/it]\n",
      "100%|████████████████████████████████████████████████████████████████████████████████| 122/122 [05:10<00:00,  2.55s/it]\n",
      "100%|████████████████████████████████████████████████████████████████████████████████| 122/122 [05:01<00:00,  2.47s/it]"
     ]
    },
    {
     "name": "stdout",
     "output_type": "stream",
     "text": [
      "--------------------------------------------------\n",
      "Save results\n",
      "--------------------------------------------------\n",
      "Done! path: C:\\Users\\yf-su\\Desktop\\XAI\\experiments\\feature_removal_experiments_webdata_wXa, run_id: 1.\n"
     ]
    },
    {
     "name": "stderr",
     "output_type": "stream",
     "text": [
      "\n"
     ]
    },
    {
     "name": "stdout",
     "output_type": "stream",
     "text": [
      "2\n",
      "------------------------------\n",
      "{'experiment': 'feature_removal', 'n_train': 1000, 'n_val': 100, 'n_test': 3000, 'n_trees': 1000, 'clf_path': 'C:\\\\Users\\\\yf-su\\\\Desktop\\\\XAI\\\\df_oob\\\\openml_dataset', 'openml_clf_path': 'C:\\\\Users\\\\yf-su\\\\Desktop\\\\XAI\\\\df_oob\\\\openml_dataset', 'openml_reg_path': 'C:\\\\Users\\\\yf-su\\\\Desktop\\\\XAI\\\\df_oob\\\\openml_dataset', 'is_noisy': None, 'model_family': 'Tree', 'run_id': 2}\n",
      "--------------------------------------------------\n",
      "webdata_wXa\n",
      "--------------------------------------------------\n",
      "Train X: (1000, 123)\n",
      "Val X: (100, 123)\n",
      "Test X: (3000, 123)\n",
      "------------------------------\n",
      "Start: Data-OOB computation\n",
      "Done: Data-OOB computation\n",
      "Start: DF-OOB computation\n",
      "Done: DF-OOB computation\n",
      "Start: Learn-OOB computation\n",
      "Done: Learn-OOB computation\n",
      "Start: SHAP computation\n"
     ]
    },
    {
     "name": "stderr",
     "output_type": "stream",
     "text": [
      "\r",
      "  0%|                                                                                          | 0/122 [00:00<?, ?it/s]"
     ]
    },
    {
     "name": "stdout",
     "output_type": "stream",
     "text": [
      "Done: SHAP computation\n"
     ]
    },
    {
     "name": "stderr",
     "output_type": "stream",
     "text": [
      "100%|████████████████████████████████████████████████████████████████████████████████| 122/122 [05:29<00:00,  2.70s/it]\n",
      "100%|████████████████████████████████████████████████████████████████████████████████| 122/122 [04:43<00:00,  2.33s/it]\n",
      "100%|████████████████████████████████████████████████████████████████████████████████| 122/122 [05:10<00:00,  2.54s/it]\n",
      "100%|████████████████████████████████████████████████████████████████████████████████| 122/122 [04:56<00:00,  2.43s/it]"
     ]
    },
    {
     "name": "stdout",
     "output_type": "stream",
     "text": [
      "--------------------------------------------------\n",
      "Save results\n",
      "--------------------------------------------------\n",
      "Done! path: C:\\Users\\yf-su\\Desktop\\XAI\\experiments\\feature_removal_experiments_webdata_wXa, run_id: 2.\n"
     ]
    },
    {
     "name": "stderr",
     "output_type": "stream",
     "text": [
      "\n"
     ]
    },
    {
     "name": "stdout",
     "output_type": "stream",
     "text": [
      "3\n",
      "------------------------------\n",
      "{'experiment': 'feature_removal', 'n_train': 1000, 'n_val': 100, 'n_test': 3000, 'n_trees': 1000, 'clf_path': 'C:\\\\Users\\\\yf-su\\\\Desktop\\\\XAI\\\\df_oob\\\\openml_dataset', 'openml_clf_path': 'C:\\\\Users\\\\yf-su\\\\Desktop\\\\XAI\\\\df_oob\\\\openml_dataset', 'openml_reg_path': 'C:\\\\Users\\\\yf-su\\\\Desktop\\\\XAI\\\\df_oob\\\\openml_dataset', 'is_noisy': None, 'model_family': 'Tree', 'run_id': 3}\n",
      "--------------------------------------------------\n",
      "webdata_wXa\n",
      "--------------------------------------------------\n",
      "Train X: (1000, 123)\n",
      "Val X: (100, 123)\n",
      "Test X: (3000, 123)\n",
      "------------------------------\n",
      "Start: Data-OOB computation\n",
      "Done: Data-OOB computation\n",
      "Start: DF-OOB computation\n",
      "Done: DF-OOB computation\n",
      "Start: Learn-OOB computation\n",
      "Done: Learn-OOB computation\n",
      "Start: SHAP computation\n"
     ]
    },
    {
     "name": "stderr",
     "output_type": "stream",
     "text": [
      "\r",
      "  0%|                                                                                          | 0/122 [00:00<?, ?it/s]"
     ]
    },
    {
     "name": "stdout",
     "output_type": "stream",
     "text": [
      "Done: SHAP computation\n"
     ]
    },
    {
     "name": "stderr",
     "output_type": "stream",
     "text": [
      "100%|████████████████████████████████████████████████████████████████████████████████| 122/122 [05:28<00:00,  2.69s/it]\n",
      "100%|████████████████████████████████████████████████████████████████████████████████| 122/122 [05:00<00:00,  2.46s/it]\n",
      "100%|████████████████████████████████████████████████████████████████████████████████| 122/122 [05:03<00:00,  2.49s/it]\n",
      "100%|████████████████████████████████████████████████████████████████████████████████| 122/122 [05:09<00:00,  2.54s/it]"
     ]
    },
    {
     "name": "stdout",
     "output_type": "stream",
     "text": [
      "--------------------------------------------------\n",
      "Save results\n",
      "--------------------------------------------------\n",
      "Done! path: C:\\Users\\yf-su\\Desktop\\XAI\\experiments\\feature_removal_experiments_webdata_wXa, run_id: 3.\n"
     ]
    },
    {
     "name": "stderr",
     "output_type": "stream",
     "text": [
      "\n"
     ]
    },
    {
     "name": "stdout",
     "output_type": "stream",
     "text": [
      "4\n",
      "------------------------------\n",
      "{'experiment': 'feature_removal', 'n_train': 1000, 'n_val': 100, 'n_test': 3000, 'n_trees': 1000, 'clf_path': 'C:\\\\Users\\\\yf-su\\\\Desktop\\\\XAI\\\\df_oob\\\\openml_dataset', 'openml_clf_path': 'C:\\\\Users\\\\yf-su\\\\Desktop\\\\XAI\\\\df_oob\\\\openml_dataset', 'openml_reg_path': 'C:\\\\Users\\\\yf-su\\\\Desktop\\\\XAI\\\\df_oob\\\\openml_dataset', 'is_noisy': None, 'model_family': 'Tree', 'run_id': 4}\n",
      "--------------------------------------------------\n",
      "webdata_wXa\n",
      "--------------------------------------------------\n",
      "Train X: (1000, 123)\n",
      "Val X: (100, 123)\n",
      "Test X: (3000, 123)\n",
      "------------------------------\n",
      "Start: Data-OOB computation\n",
      "Done: Data-OOB computation\n",
      "Start: DF-OOB computation\n",
      "Done: DF-OOB computation\n",
      "Start: Learn-OOB computation\n",
      "Done: Learn-OOB computation\n",
      "Start: SHAP computation\n"
     ]
    },
    {
     "name": "stderr",
     "output_type": "stream",
     "text": [
      "\r",
      "  0%|                                                                                          | 0/122 [00:00<?, ?it/s]"
     ]
    },
    {
     "name": "stdout",
     "output_type": "stream",
     "text": [
      "Done: SHAP computation\n"
     ]
    },
    {
     "name": "stderr",
     "output_type": "stream",
     "text": [
      "100%|████████████████████████████████████████████████████████████████████████████████| 122/122 [05:32<00:00,  2.72s/it]\n",
      "100%|████████████████████████████████████████████████████████████████████████████████| 122/122 [04:46<00:00,  2.35s/it]\n",
      "100%|████████████████████████████████████████████████████████████████████████████████| 122/122 [05:02<00:00,  2.48s/it]\n",
      "100%|████████████████████████████████████████████████████████████████████████████████| 122/122 [04:59<00:00,  2.46s/it]"
     ]
    },
    {
     "name": "stdout",
     "output_type": "stream",
     "text": [
      "--------------------------------------------------\n",
      "Save results\n",
      "--------------------------------------------------\n",
      "Done! path: C:\\Users\\yf-su\\Desktop\\XAI\\experiments\\feature_removal_experiments_webdata_wXa, run_id: 4.\n"
     ]
    },
    {
     "name": "stderr",
     "output_type": "stream",
     "text": [
      "\n"
     ]
    },
    {
     "name": "stdout",
     "output_type": "stream",
     "text": [
      "5\n",
      "------------------------------\n",
      "{'experiment': 'feature_removal', 'n_train': 1000, 'n_val': 100, 'n_test': 3000, 'n_trees': 1000, 'clf_path': 'C:\\\\Users\\\\yf-su\\\\Desktop\\\\XAI\\\\df_oob\\\\openml_dataset', 'openml_clf_path': 'C:\\\\Users\\\\yf-su\\\\Desktop\\\\XAI\\\\df_oob\\\\openml_dataset', 'openml_reg_path': 'C:\\\\Users\\\\yf-su\\\\Desktop\\\\XAI\\\\df_oob\\\\openml_dataset', 'is_noisy': None, 'model_family': 'Tree', 'run_id': 5}\n",
      "--------------------------------------------------\n",
      "webdata_wXa\n",
      "--------------------------------------------------\n",
      "Train X: (1000, 123)\n",
      "Val X: (100, 123)\n",
      "Test X: (3000, 123)\n",
      "------------------------------\n",
      "Start: Data-OOB computation\n",
      "Done: Data-OOB computation\n",
      "Start: DF-OOB computation\n",
      "Done: DF-OOB computation\n",
      "Start: Learn-OOB computation\n",
      "Done: Learn-OOB computation\n",
      "Start: SHAP computation\n"
     ]
    },
    {
     "name": "stderr",
     "output_type": "stream",
     "text": [
      "\r",
      "  0%|                                                                                          | 0/122 [00:00<?, ?it/s]"
     ]
    },
    {
     "name": "stdout",
     "output_type": "stream",
     "text": [
      "Done: SHAP computation\n"
     ]
    },
    {
     "name": "stderr",
     "output_type": "stream",
     "text": [
      "100%|████████████████████████████████████████████████████████████████████████████████| 122/122 [05:56<00:00,  2.93s/it]\n",
      "100%|████████████████████████████████████████████████████████████████████████████████| 122/122 [05:14<00:00,  2.57s/it]\n",
      "100%|████████████████████████████████████████████████████████████████████████████████| 122/122 [05:12<00:00,  2.56s/it]\n",
      "100%|████████████████████████████████████████████████████████████████████████████████| 122/122 [05:19<00:00,  2.61s/it]"
     ]
    },
    {
     "name": "stdout",
     "output_type": "stream",
     "text": [
      "--------------------------------------------------\n",
      "Save results\n",
      "--------------------------------------------------\n",
      "Done! path: C:\\Users\\yf-su\\Desktop\\XAI\\experiments\\feature_removal_experiments_webdata_wXa, run_id: 5.\n"
     ]
    },
    {
     "name": "stderr",
     "output_type": "stream",
     "text": [
      "\n"
     ]
    },
    {
     "name": "stdout",
     "output_type": "stream",
     "text": [
      "6\n",
      "------------------------------\n",
      "{'experiment': 'feature_removal', 'n_train': 1000, 'n_val': 100, 'n_test': 3000, 'n_trees': 1000, 'clf_path': 'C:\\\\Users\\\\yf-su\\\\Desktop\\\\XAI\\\\df_oob\\\\openml_dataset', 'openml_clf_path': 'C:\\\\Users\\\\yf-su\\\\Desktop\\\\XAI\\\\df_oob\\\\openml_dataset', 'openml_reg_path': 'C:\\\\Users\\\\yf-su\\\\Desktop\\\\XAI\\\\df_oob\\\\openml_dataset', 'is_noisy': None, 'model_family': 'Tree', 'run_id': 6}\n",
      "--------------------------------------------------\n",
      "webdata_wXa\n",
      "--------------------------------------------------\n",
      "Train X: (1000, 123)\n",
      "Val X: (100, 123)\n",
      "Test X: (3000, 123)\n",
      "------------------------------\n",
      "Start: Data-OOB computation\n",
      "Done: Data-OOB computation\n",
      "Start: DF-OOB computation\n",
      "Done: DF-OOB computation\n",
      "Start: Learn-OOB computation\n",
      "Done: Learn-OOB computation\n",
      "Start: SHAP computation\n"
     ]
    },
    {
     "name": "stderr",
     "output_type": "stream",
     "text": [
      "\r",
      "  0%|                                                                                          | 0/122 [00:00<?, ?it/s]"
     ]
    },
    {
     "name": "stdout",
     "output_type": "stream",
     "text": [
      "Done: SHAP computation\n"
     ]
    },
    {
     "name": "stderr",
     "output_type": "stream",
     "text": [
      "100%|████████████████████████████████████████████████████████████████████████████████| 122/122 [05:18<00:00,  2.61s/it]\n",
      "100%|████████████████████████████████████████████████████████████████████████████████| 122/122 [04:50<00:00,  2.38s/it]\n",
      "100%|████████████████████████████████████████████████████████████████████████████████| 122/122 [05:02<00:00,  2.48s/it]\n",
      "100%|████████████████████████████████████████████████████████████████████████████████| 122/122 [04:56<00:00,  2.43s/it]"
     ]
    },
    {
     "name": "stdout",
     "output_type": "stream",
     "text": [
      "--------------------------------------------------\n",
      "Save results\n",
      "--------------------------------------------------\n",
      "Done! path: C:\\Users\\yf-su\\Desktop\\XAI\\experiments\\feature_removal_experiments_webdata_wXa, run_id: 6.\n"
     ]
    },
    {
     "name": "stderr",
     "output_type": "stream",
     "text": [
      "\n"
     ]
    },
    {
     "name": "stdout",
     "output_type": "stream",
     "text": [
      "7\n",
      "------------------------------\n",
      "{'experiment': 'feature_removal', 'n_train': 1000, 'n_val': 100, 'n_test': 3000, 'n_trees': 1000, 'clf_path': 'C:\\\\Users\\\\yf-su\\\\Desktop\\\\XAI\\\\df_oob\\\\openml_dataset', 'openml_clf_path': 'C:\\\\Users\\\\yf-su\\\\Desktop\\\\XAI\\\\df_oob\\\\openml_dataset', 'openml_reg_path': 'C:\\\\Users\\\\yf-su\\\\Desktop\\\\XAI\\\\df_oob\\\\openml_dataset', 'is_noisy': None, 'model_family': 'Tree', 'run_id': 7}\n",
      "--------------------------------------------------\n",
      "webdata_wXa\n",
      "--------------------------------------------------\n",
      "Train X: (1000, 123)\n",
      "Val X: (100, 123)\n",
      "Test X: (3000, 123)\n",
      "------------------------------\n",
      "Start: Data-OOB computation\n",
      "Done: Data-OOB computation\n",
      "Start: DF-OOB computation\n",
      "Done: DF-OOB computation\n",
      "Start: Learn-OOB computation\n",
      "Done: Learn-OOB computation\n",
      "Start: SHAP computation\n"
     ]
    },
    {
     "name": "stderr",
     "output_type": "stream",
     "text": [
      "\r",
      "  0%|                                                                                          | 0/122 [00:00<?, ?it/s]"
     ]
    },
    {
     "name": "stdout",
     "output_type": "stream",
     "text": [
      "Done: SHAP computation\n"
     ]
    },
    {
     "name": "stderr",
     "output_type": "stream",
     "text": [
      "100%|████████████████████████████████████████████████████████████████████████████████| 122/122 [05:33<00:00,  2.73s/it]\n",
      "100%|████████████████████████████████████████████████████████████████████████████████| 122/122 [05:02<00:00,  2.48s/it]\n",
      "100%|████████████████████████████████████████████████████████████████████████████████| 122/122 [05:08<00:00,  2.53s/it]\n",
      "100%|████████████████████████████████████████████████████████████████████████████████| 122/122 [05:05<00:00,  2.51s/it]"
     ]
    },
    {
     "name": "stdout",
     "output_type": "stream",
     "text": [
      "--------------------------------------------------\n",
      "Save results\n",
      "--------------------------------------------------\n",
      "Done! path: C:\\Users\\yf-su\\Desktop\\XAI\\experiments\\feature_removal_experiments_webdata_wXa, run_id: 7.\n"
     ]
    },
    {
     "name": "stderr",
     "output_type": "stream",
     "text": [
      "\n"
     ]
    },
    {
     "name": "stdout",
     "output_type": "stream",
     "text": [
      "8\n",
      "------------------------------\n",
      "{'experiment': 'feature_removal', 'n_train': 1000, 'n_val': 100, 'n_test': 3000, 'n_trees': 1000, 'clf_path': 'C:\\\\Users\\\\yf-su\\\\Desktop\\\\XAI\\\\df_oob\\\\openml_dataset', 'openml_clf_path': 'C:\\\\Users\\\\yf-su\\\\Desktop\\\\XAI\\\\df_oob\\\\openml_dataset', 'openml_reg_path': 'C:\\\\Users\\\\yf-su\\\\Desktop\\\\XAI\\\\df_oob\\\\openml_dataset', 'is_noisy': None, 'model_family': 'Tree', 'run_id': 8}\n",
      "--------------------------------------------------\n",
      "webdata_wXa\n",
      "--------------------------------------------------\n",
      "Train X: (1000, 123)\n",
      "Val X: (100, 123)\n",
      "Test X: (3000, 123)\n",
      "------------------------------\n",
      "Start: Data-OOB computation\n",
      "Done: Data-OOB computation\n",
      "Start: DF-OOB computation\n",
      "Done: DF-OOB computation\n",
      "Start: Learn-OOB computation\n",
      "Done: Learn-OOB computation\n",
      "Start: SHAP computation\n"
     ]
    },
    {
     "name": "stderr",
     "output_type": "stream",
     "text": [
      "\r",
      "  0%|                                                                                          | 0/122 [00:00<?, ?it/s]"
     ]
    },
    {
     "name": "stdout",
     "output_type": "stream",
     "text": [
      "Done: SHAP computation\n"
     ]
    },
    {
     "name": "stderr",
     "output_type": "stream",
     "text": [
      "100%|████████████████████████████████████████████████████████████████████████████████| 122/122 [05:25<00:00,  2.67s/it]\n",
      "100%|████████████████████████████████████████████████████████████████████████████████| 122/122 [05:00<00:00,  2.46s/it]\n",
      "100%|████████████████████████████████████████████████████████████████████████████████| 122/122 [05:05<00:00,  2.50s/it]\n",
      "100%|████████████████████████████████████████████████████████████████████████████████| 122/122 [04:58<00:00,  2.45s/it]"
     ]
    },
    {
     "name": "stdout",
     "output_type": "stream",
     "text": [
      "--------------------------------------------------\n",
      "Save results\n",
      "--------------------------------------------------\n",
      "Done! path: C:\\Users\\yf-su\\Desktop\\XAI\\experiments\\feature_removal_experiments_webdata_wXa, run_id: 8.\n"
     ]
    },
    {
     "name": "stderr",
     "output_type": "stream",
     "text": [
      "\n"
     ]
    },
    {
     "name": "stdout",
     "output_type": "stream",
     "text": [
      "9\n",
      "------------------------------\n",
      "{'experiment': 'feature_removal', 'n_train': 1000, 'n_val': 100, 'n_test': 3000, 'n_trees': 1000, 'clf_path': 'C:\\\\Users\\\\yf-su\\\\Desktop\\\\XAI\\\\df_oob\\\\openml_dataset', 'openml_clf_path': 'C:\\\\Users\\\\yf-su\\\\Desktop\\\\XAI\\\\df_oob\\\\openml_dataset', 'openml_reg_path': 'C:\\\\Users\\\\yf-su\\\\Desktop\\\\XAI\\\\df_oob\\\\openml_dataset', 'is_noisy': None, 'model_family': 'Tree', 'run_id': 9}\n",
      "--------------------------------------------------\n",
      "webdata_wXa\n",
      "--------------------------------------------------\n",
      "Train X: (1000, 123)\n",
      "Val X: (100, 123)\n",
      "Test X: (3000, 123)\n",
      "------------------------------\n",
      "Start: Data-OOB computation\n",
      "Done: Data-OOB computation\n",
      "Start: DF-OOB computation\n",
      "Done: DF-OOB computation\n",
      "Start: Learn-OOB computation\n",
      "Done: Learn-OOB computation\n",
      "Start: SHAP computation\n"
     ]
    },
    {
     "name": "stderr",
     "output_type": "stream",
     "text": [
      "\r",
      "  0%|                                                                                          | 0/122 [00:00<?, ?it/s]"
     ]
    },
    {
     "name": "stdout",
     "output_type": "stream",
     "text": [
      "Done: SHAP computation\n"
     ]
    },
    {
     "name": "stderr",
     "output_type": "stream",
     "text": [
      "100%|████████████████████████████████████████████████████████████████████████████████| 122/122 [05:36<00:00,  2.76s/it]\n",
      "100%|████████████████████████████████████████████████████████████████████████████████| 122/122 [04:42<00:00,  2.32s/it]\n",
      "100%|████████████████████████████████████████████████████████████████████████████████| 122/122 [04:43<00:00,  2.32s/it]\n",
      "100%|████████████████████████████████████████████████████████████████████████████████| 122/122 [04:41<00:00,  2.31s/it]"
     ]
    },
    {
     "name": "stdout",
     "output_type": "stream",
     "text": [
      "--------------------------------------------------\n",
      "Save results\n",
      "--------------------------------------------------\n",
      "Done! path: C:\\Users\\yf-su\\Desktop\\XAI\\experiments\\feature_removal_experiments_webdata_wXa, run_id: 9.\n"
     ]
    },
    {
     "name": "stderr",
     "output_type": "stream",
     "text": [
      "\n"
     ]
    },
    {
     "name": "stdout",
     "output_type": "stream",
     "text": [
      "0\n",
      "------------------------------\n",
      "{'experiment': 'feature_removal', 'n_train': 1000, 'n_val': 100, 'n_test': 3000, 'n_trees': 1000, 'clf_path': 'C:\\\\Users\\\\yf-su\\\\Desktop\\\\XAI\\\\df_oob\\\\openml_dataset', 'openml_clf_path': 'C:\\\\Users\\\\yf-su\\\\Desktop\\\\XAI\\\\df_oob\\\\openml_dataset', 'openml_reg_path': 'C:\\\\Users\\\\yf-su\\\\Desktop\\\\XAI\\\\df_oob\\\\openml_dataset', 'is_noisy': None, 'model_family': 'Tree', 'run_id': 0}\n",
      "--------------------------------------------------\n",
      "MiniBooNE\n",
      "--------------------------------------------------\n",
      "Train X: (1000, 50)\n",
      "Val X: (100, 50)\n",
      "Test X: (3000, 50)\n",
      "------------------------------\n",
      "Start: Data-OOB computation\n",
      "Done: Data-OOB computation\n",
      "Start: DF-OOB computation\n",
      "Done: DF-OOB computation\n",
      "Start: Learn-OOB computation\n",
      "Done: Learn-OOB computation\n",
      "Start: SHAP computation\n"
     ]
    },
    {
     "name": "stderr",
     "output_type": "stream",
     "text": [
      "\r",
      "  0%|                                                                                           | 0/49 [00:00<?, ?it/s]"
     ]
    },
    {
     "name": "stdout",
     "output_type": "stream",
     "text": [
      "Done: SHAP computation\n"
     ]
    },
    {
     "name": "stderr",
     "output_type": "stream",
     "text": [
      "100%|██████████████████████████████████████████████████████████████████████████████████| 49/49 [03:02<00:00,  3.73s/it]\n",
      "100%|██████████████████████████████████████████████████████████████████████████████████| 49/49 [03:02<00:00,  3.73s/it]\n",
      "100%|██████████████████████████████████████████████████████████████████████████████████| 49/49 [02:42<00:00,  3.31s/it]\n",
      "100%|██████████████████████████████████████████████████████████████████████████████████| 49/49 [02:46<00:00,  3.39s/it]"
     ]
    },
    {
     "name": "stdout",
     "output_type": "stream",
     "text": [
      "--------------------------------------------------\n",
      "Save results\n",
      "--------------------------------------------------\n",
      "Done! path: C:\\Users\\yf-su\\Desktop\\XAI\\experiments\\feature_removal_experiments_MiniBooNE, run_id: 0.\n"
     ]
    },
    {
     "name": "stderr",
     "output_type": "stream",
     "text": [
      "\n"
     ]
    },
    {
     "name": "stdout",
     "output_type": "stream",
     "text": [
      "1\n",
      "------------------------------\n",
      "{'experiment': 'feature_removal', 'n_train': 1000, 'n_val': 100, 'n_test': 3000, 'n_trees': 1000, 'clf_path': 'C:\\\\Users\\\\yf-su\\\\Desktop\\\\XAI\\\\df_oob\\\\openml_dataset', 'openml_clf_path': 'C:\\\\Users\\\\yf-su\\\\Desktop\\\\XAI\\\\df_oob\\\\openml_dataset', 'openml_reg_path': 'C:\\\\Users\\\\yf-su\\\\Desktop\\\\XAI\\\\df_oob\\\\openml_dataset', 'is_noisy': None, 'model_family': 'Tree', 'run_id': 1}\n",
      "--------------------------------------------------\n",
      "MiniBooNE\n",
      "--------------------------------------------------\n",
      "Train X: (1000, 50)\n",
      "Val X: (100, 50)\n",
      "Test X: (3000, 50)\n",
      "------------------------------\n",
      "Start: Data-OOB computation\n",
      "Done: Data-OOB computation\n",
      "Start: DF-OOB computation\n",
      "Done: DF-OOB computation\n",
      "Start: Learn-OOB computation\n",
      "Done: Learn-OOB computation\n",
      "Start: SHAP computation\n"
     ]
    },
    {
     "name": "stderr",
     "output_type": "stream",
     "text": [
      "\r",
      "  0%|                                                                                           | 0/49 [00:00<?, ?it/s]"
     ]
    },
    {
     "name": "stdout",
     "output_type": "stream",
     "text": [
      "Done: SHAP computation\n"
     ]
    },
    {
     "name": "stderr",
     "output_type": "stream",
     "text": [
      "100%|██████████████████████████████████████████████████████████████████████████████████| 49/49 [03:08<00:00,  3.85s/it]\n",
      "100%|██████████████████████████████████████████████████████████████████████████████████| 49/49 [03:05<00:00,  3.79s/it]\n",
      "100%|██████████████████████████████████████████████████████████████████████████████████| 49/49 [03:14<00:00,  3.96s/it]\n",
      "100%|██████████████████████████████████████████████████████████████████████████████████| 49/49 [03:10<00:00,  3.88s/it]"
     ]
    },
    {
     "name": "stdout",
     "output_type": "stream",
     "text": [
      "--------------------------------------------------\n",
      "Save results\n",
      "--------------------------------------------------\n",
      "Done! path: C:\\Users\\yf-su\\Desktop\\XAI\\experiments\\feature_removal_experiments_MiniBooNE, run_id: 1.\n"
     ]
    },
    {
     "name": "stderr",
     "output_type": "stream",
     "text": [
      "\n"
     ]
    },
    {
     "name": "stdout",
     "output_type": "stream",
     "text": [
      "2\n",
      "------------------------------\n",
      "{'experiment': 'feature_removal', 'n_train': 1000, 'n_val': 100, 'n_test': 3000, 'n_trees': 1000, 'clf_path': 'C:\\\\Users\\\\yf-su\\\\Desktop\\\\XAI\\\\df_oob\\\\openml_dataset', 'openml_clf_path': 'C:\\\\Users\\\\yf-su\\\\Desktop\\\\XAI\\\\df_oob\\\\openml_dataset', 'openml_reg_path': 'C:\\\\Users\\\\yf-su\\\\Desktop\\\\XAI\\\\df_oob\\\\openml_dataset', 'is_noisy': None, 'model_family': 'Tree', 'run_id': 2}\n",
      "--------------------------------------------------\n",
      "MiniBooNE\n",
      "--------------------------------------------------\n",
      "Train X: (1000, 50)\n",
      "Val X: (100, 50)\n",
      "Test X: (3000, 50)\n",
      "------------------------------\n",
      "Start: Data-OOB computation\n",
      "Done: Data-OOB computation\n",
      "Start: DF-OOB computation\n",
      "Done: DF-OOB computation\n",
      "Start: Learn-OOB computation\n",
      "Done: Learn-OOB computation\n",
      "Start: SHAP computation\n"
     ]
    },
    {
     "name": "stderr",
     "output_type": "stream",
     "text": [
      "\r",
      "  0%|                                                                                           | 0/49 [00:00<?, ?it/s]"
     ]
    },
    {
     "name": "stdout",
     "output_type": "stream",
     "text": [
      "Done: SHAP computation\n"
     ]
    },
    {
     "name": "stderr",
     "output_type": "stream",
     "text": [
      "100%|██████████████████████████████████████████████████████████████████████████████████| 49/49 [03:07<00:00,  3.83s/it]\n",
      "100%|██████████████████████████████████████████████████████████████████████████████████| 49/49 [03:01<00:00,  3.71s/it]\n",
      "100%|██████████████████████████████████████████████████████████████████████████████████| 49/49 [03:09<00:00,  3.86s/it]\n",
      "100%|██████████████████████████████████████████████████████████████████████████████████| 49/49 [03:00<00:00,  3.69s/it]"
     ]
    },
    {
     "name": "stdout",
     "output_type": "stream",
     "text": [
      "--------------------------------------------------\n",
      "Save results\n",
      "--------------------------------------------------\n",
      "Done! path: C:\\Users\\yf-su\\Desktop\\XAI\\experiments\\feature_removal_experiments_MiniBooNE, run_id: 2.\n"
     ]
    },
    {
     "name": "stderr",
     "output_type": "stream",
     "text": [
      "\n"
     ]
    },
    {
     "name": "stdout",
     "output_type": "stream",
     "text": [
      "3\n",
      "------------------------------\n",
      "{'experiment': 'feature_removal', 'n_train': 1000, 'n_val': 100, 'n_test': 3000, 'n_trees': 1000, 'clf_path': 'C:\\\\Users\\\\yf-su\\\\Desktop\\\\XAI\\\\df_oob\\\\openml_dataset', 'openml_clf_path': 'C:\\\\Users\\\\yf-su\\\\Desktop\\\\XAI\\\\df_oob\\\\openml_dataset', 'openml_reg_path': 'C:\\\\Users\\\\yf-su\\\\Desktop\\\\XAI\\\\df_oob\\\\openml_dataset', 'is_noisy': None, 'model_family': 'Tree', 'run_id': 3}\n",
      "--------------------------------------------------\n",
      "MiniBooNE\n",
      "--------------------------------------------------\n",
      "Train X: (1000, 50)\n",
      "Val X: (100, 50)\n",
      "Test X: (3000, 50)\n",
      "------------------------------\n",
      "Start: Data-OOB computation\n",
      "Done: Data-OOB computation\n",
      "Start: DF-OOB computation\n",
      "Done: DF-OOB computation\n",
      "Start: Learn-OOB computation\n",
      "Done: Learn-OOB computation\n",
      "Start: SHAP computation\n"
     ]
    },
    {
     "name": "stderr",
     "output_type": "stream",
     "text": [
      "\r",
      "  0%|                                                                                           | 0/49 [00:00<?, ?it/s]"
     ]
    },
    {
     "name": "stdout",
     "output_type": "stream",
     "text": [
      "Done: SHAP computation\n"
     ]
    },
    {
     "name": "stderr",
     "output_type": "stream",
     "text": [
      "100%|██████████████████████████████████████████████████████████████████████████████████| 49/49 [03:08<00:00,  3.84s/it]\n",
      "100%|██████████████████████████████████████████████████████████████████████████████████| 49/49 [03:06<00:00,  3.80s/it]\n",
      "100%|██████████████████████████████████████████████████████████████████████████████████| 49/49 [03:16<00:00,  4.02s/it]\n",
      "100%|██████████████████████████████████████████████████████████████████████████████████| 49/49 [03:01<00:00,  3.71s/it]"
     ]
    },
    {
     "name": "stdout",
     "output_type": "stream",
     "text": [
      "--------------------------------------------------\n",
      "Save results\n",
      "--------------------------------------------------\n",
      "Done! path: C:\\Users\\yf-su\\Desktop\\XAI\\experiments\\feature_removal_experiments_MiniBooNE, run_id: 3.\n"
     ]
    },
    {
     "name": "stderr",
     "output_type": "stream",
     "text": [
      "\n"
     ]
    },
    {
     "name": "stdout",
     "output_type": "stream",
     "text": [
      "4\n",
      "------------------------------\n",
      "{'experiment': 'feature_removal', 'n_train': 1000, 'n_val': 100, 'n_test': 3000, 'n_trees': 1000, 'clf_path': 'C:\\\\Users\\\\yf-su\\\\Desktop\\\\XAI\\\\df_oob\\\\openml_dataset', 'openml_clf_path': 'C:\\\\Users\\\\yf-su\\\\Desktop\\\\XAI\\\\df_oob\\\\openml_dataset', 'openml_reg_path': 'C:\\\\Users\\\\yf-su\\\\Desktop\\\\XAI\\\\df_oob\\\\openml_dataset', 'is_noisy': None, 'model_family': 'Tree', 'run_id': 4}\n",
      "--------------------------------------------------\n",
      "MiniBooNE\n",
      "--------------------------------------------------\n",
      "Train X: (1000, 50)\n",
      "Val X: (100, 50)\n",
      "Test X: (3000, 50)\n",
      "------------------------------\n",
      "Start: Data-OOB computation\n",
      "Done: Data-OOB computation\n",
      "Start: DF-OOB computation\n",
      "Done: DF-OOB computation\n",
      "Start: Learn-OOB computation\n",
      "Done: Learn-OOB computation\n",
      "Start: SHAP computation\n"
     ]
    },
    {
     "name": "stderr",
     "output_type": "stream",
     "text": [
      "\r",
      "  0%|                                                                                           | 0/49 [00:00<?, ?it/s]"
     ]
    },
    {
     "name": "stdout",
     "output_type": "stream",
     "text": [
      "Done: SHAP computation\n"
     ]
    },
    {
     "name": "stderr",
     "output_type": "stream",
     "text": [
      "100%|██████████████████████████████████████████████████████████████████████████████████| 49/49 [03:06<00:00,  3.81s/it]\n",
      "100%|██████████████████████████████████████████████████████████████████████████████████| 49/49 [03:08<00:00,  3.84s/it]\n",
      "100%|██████████████████████████████████████████████████████████████████████████████████| 49/49 [03:12<00:00,  3.93s/it]\n",
      "100%|██████████████████████████████████████████████████████████████████████████████████| 49/49 [03:01<00:00,  3.70s/it]"
     ]
    },
    {
     "name": "stdout",
     "output_type": "stream",
     "text": [
      "--------------------------------------------------\n",
      "Save results\n",
      "--------------------------------------------------\n",
      "Done! path: C:\\Users\\yf-su\\Desktop\\XAI\\experiments\\feature_removal_experiments_MiniBooNE, run_id: 4.\n"
     ]
    },
    {
     "name": "stderr",
     "output_type": "stream",
     "text": [
      "\n"
     ]
    },
    {
     "name": "stdout",
     "output_type": "stream",
     "text": [
      "5\n",
      "------------------------------\n",
      "{'experiment': 'feature_removal', 'n_train': 1000, 'n_val': 100, 'n_test': 3000, 'n_trees': 1000, 'clf_path': 'C:\\\\Users\\\\yf-su\\\\Desktop\\\\XAI\\\\df_oob\\\\openml_dataset', 'openml_clf_path': 'C:\\\\Users\\\\yf-su\\\\Desktop\\\\XAI\\\\df_oob\\\\openml_dataset', 'openml_reg_path': 'C:\\\\Users\\\\yf-su\\\\Desktop\\\\XAI\\\\df_oob\\\\openml_dataset', 'is_noisy': None, 'model_family': 'Tree', 'run_id': 5}\n",
      "--------------------------------------------------\n",
      "MiniBooNE\n",
      "--------------------------------------------------\n",
      "Train X: (1000, 50)\n",
      "Val X: (100, 50)\n",
      "Test X: (3000, 50)\n",
      "------------------------------\n",
      "Start: Data-OOB computation\n",
      "Done: Data-OOB computation\n",
      "Start: DF-OOB computation\n",
      "Done: DF-OOB computation\n",
      "Start: Learn-OOB computation\n",
      "Done: Learn-OOB computation\n",
      "Start: SHAP computation\n"
     ]
    },
    {
     "name": "stderr",
     "output_type": "stream",
     "text": [
      "\r",
      "  0%|                                                                                           | 0/49 [00:00<?, ?it/s]"
     ]
    },
    {
     "name": "stdout",
     "output_type": "stream",
     "text": [
      "Done: SHAP computation\n"
     ]
    },
    {
     "name": "stderr",
     "output_type": "stream",
     "text": [
      "100%|██████████████████████████████████████████████████████████████████████████████████| 49/49 [03:06<00:00,  3.80s/it]\n",
      "100%|██████████████████████████████████████████████████████████████████████████████████| 49/49 [03:04<00:00,  3.77s/it]\n",
      "100%|██████████████████████████████████████████████████████████████████████████████████| 49/49 [03:10<00:00,  3.89s/it]\n",
      "100%|██████████████████████████████████████████████████████████████████████████████████| 49/49 [03:01<00:00,  3.71s/it]"
     ]
    },
    {
     "name": "stdout",
     "output_type": "stream",
     "text": [
      "--------------------------------------------------\n",
      "Save results\n",
      "--------------------------------------------------\n",
      "Done! path: C:\\Users\\yf-su\\Desktop\\XAI\\experiments\\feature_removal_experiments_MiniBooNE, run_id: 5.\n"
     ]
    },
    {
     "name": "stderr",
     "output_type": "stream",
     "text": [
      "\n"
     ]
    },
    {
     "name": "stdout",
     "output_type": "stream",
     "text": [
      "6\n",
      "------------------------------\n",
      "{'experiment': 'feature_removal', 'n_train': 1000, 'n_val': 100, 'n_test': 3000, 'n_trees': 1000, 'clf_path': 'C:\\\\Users\\\\yf-su\\\\Desktop\\\\XAI\\\\df_oob\\\\openml_dataset', 'openml_clf_path': 'C:\\\\Users\\\\yf-su\\\\Desktop\\\\XAI\\\\df_oob\\\\openml_dataset', 'openml_reg_path': 'C:\\\\Users\\\\yf-su\\\\Desktop\\\\XAI\\\\df_oob\\\\openml_dataset', 'is_noisy': None, 'model_family': 'Tree', 'run_id': 6}\n",
      "--------------------------------------------------\n",
      "MiniBooNE\n",
      "--------------------------------------------------\n",
      "Train X: (1000, 50)\n",
      "Val X: (100, 50)\n",
      "Test X: (3000, 50)\n",
      "------------------------------\n",
      "Start: Data-OOB computation\n",
      "Done: Data-OOB computation\n",
      "Start: DF-OOB computation\n",
      "Done: DF-OOB computation\n",
      "Start: Learn-OOB computation\n",
      "Done: Learn-OOB computation\n",
      "Start: SHAP computation\n"
     ]
    },
    {
     "name": "stderr",
     "output_type": "stream",
     "text": [
      "\r",
      "  0%|                                                                                           | 0/49 [00:00<?, ?it/s]"
     ]
    },
    {
     "name": "stdout",
     "output_type": "stream",
     "text": [
      "Done: SHAP computation\n"
     ]
    },
    {
     "name": "stderr",
     "output_type": "stream",
     "text": [
      "100%|██████████████████████████████████████████████████████████████████████████████████| 49/49 [03:07<00:00,  3.82s/it]\n",
      "100%|██████████████████████████████████████████████████████████████████████████████████| 49/49 [03:00<00:00,  3.69s/it]\n",
      "100%|██████████████████████████████████████████████████████████████████████████████████| 49/49 [03:11<00:00,  3.90s/it]\n",
      "100%|██████████████████████████████████████████████████████████████████████████████████| 49/49 [03:01<00:00,  3.71s/it]"
     ]
    },
    {
     "name": "stdout",
     "output_type": "stream",
     "text": [
      "--------------------------------------------------\n",
      "Save results\n",
      "--------------------------------------------------\n",
      "Done! path: C:\\Users\\yf-su\\Desktop\\XAI\\experiments\\feature_removal_experiments_MiniBooNE, run_id: 6.\n"
     ]
    },
    {
     "name": "stderr",
     "output_type": "stream",
     "text": [
      "\n"
     ]
    },
    {
     "name": "stdout",
     "output_type": "stream",
     "text": [
      "7\n",
      "------------------------------\n",
      "{'experiment': 'feature_removal', 'n_train': 1000, 'n_val': 100, 'n_test': 3000, 'n_trees': 1000, 'clf_path': 'C:\\\\Users\\\\yf-su\\\\Desktop\\\\XAI\\\\df_oob\\\\openml_dataset', 'openml_clf_path': 'C:\\\\Users\\\\yf-su\\\\Desktop\\\\XAI\\\\df_oob\\\\openml_dataset', 'openml_reg_path': 'C:\\\\Users\\\\yf-su\\\\Desktop\\\\XAI\\\\df_oob\\\\openml_dataset', 'is_noisy': None, 'model_family': 'Tree', 'run_id': 7}\n",
      "--------------------------------------------------\n",
      "MiniBooNE\n",
      "--------------------------------------------------\n",
      "Train X: (1000, 50)\n",
      "Val X: (100, 50)\n",
      "Test X: (3000, 50)\n",
      "------------------------------\n",
      "Start: Data-OOB computation\n",
      "Done: Data-OOB computation\n",
      "Start: DF-OOB computation\n",
      "Done: DF-OOB computation\n",
      "Start: Learn-OOB computation\n",
      "Done: Learn-OOB computation\n",
      "Start: SHAP computation\n"
     ]
    },
    {
     "name": "stderr",
     "output_type": "stream",
     "text": [
      "\r",
      "  0%|                                                                                           | 0/49 [00:00<?, ?it/s]"
     ]
    },
    {
     "name": "stdout",
     "output_type": "stream",
     "text": [
      "Done: SHAP computation\n"
     ]
    },
    {
     "name": "stderr",
     "output_type": "stream",
     "text": [
      "100%|██████████████████████████████████████████████████████████████████████████████████| 49/49 [03:06<00:00,  3.81s/it]\n",
      "100%|██████████████████████████████████████████████████████████████████████████████████| 49/49 [03:09<00:00,  3.87s/it]\n",
      "100%|██████████████████████████████████████████████████████████████████████████████████| 49/49 [03:08<00:00,  3.86s/it]\n",
      "100%|██████████████████████████████████████████████████████████████████████████████████| 49/49 [03:04<00:00,  3.77s/it]"
     ]
    },
    {
     "name": "stdout",
     "output_type": "stream",
     "text": [
      "--------------------------------------------------\n",
      "Save results\n",
      "--------------------------------------------------\n",
      "Done! path: C:\\Users\\yf-su\\Desktop\\XAI\\experiments\\feature_removal_experiments_MiniBooNE, run_id: 7.\n"
     ]
    },
    {
     "name": "stderr",
     "output_type": "stream",
     "text": [
      "\n"
     ]
    },
    {
     "name": "stdout",
     "output_type": "stream",
     "text": [
      "8\n",
      "------------------------------\n",
      "{'experiment': 'feature_removal', 'n_train': 1000, 'n_val': 100, 'n_test': 3000, 'n_trees': 1000, 'clf_path': 'C:\\\\Users\\\\yf-su\\\\Desktop\\\\XAI\\\\df_oob\\\\openml_dataset', 'openml_clf_path': 'C:\\\\Users\\\\yf-su\\\\Desktop\\\\XAI\\\\df_oob\\\\openml_dataset', 'openml_reg_path': 'C:\\\\Users\\\\yf-su\\\\Desktop\\\\XAI\\\\df_oob\\\\openml_dataset', 'is_noisy': None, 'model_family': 'Tree', 'run_id': 8}\n",
      "--------------------------------------------------\n",
      "MiniBooNE\n",
      "--------------------------------------------------\n",
      "Train X: (1000, 50)\n",
      "Val X: (100, 50)\n",
      "Test X: (3000, 50)\n",
      "------------------------------\n",
      "Start: Data-OOB computation\n",
      "Done: Data-OOB computation\n",
      "Start: DF-OOB computation\n",
      "Done: DF-OOB computation\n",
      "Start: Learn-OOB computation\n",
      "Done: Learn-OOB computation\n",
      "Start: SHAP computation\n"
     ]
    },
    {
     "name": "stderr",
     "output_type": "stream",
     "text": [
      "\r",
      "  0%|                                                                                           | 0/49 [00:00<?, ?it/s]"
     ]
    },
    {
     "name": "stdout",
     "output_type": "stream",
     "text": [
      "Done: SHAP computation\n"
     ]
    },
    {
     "name": "stderr",
     "output_type": "stream",
     "text": [
      "100%|██████████████████████████████████████████████████████████████████████████████████| 49/49 [03:12<00:00,  3.94s/it]\n",
      "100%|██████████████████████████████████████████████████████████████████████████████████| 49/49 [03:05<00:00,  3.79s/it]\n",
      "100%|██████████████████████████████████████████████████████████████████████████████████| 49/49 [03:11<00:00,  3.90s/it]\n",
      "100%|██████████████████████████████████████████████████████████████████████████████████| 49/49 [03:06<00:00,  3.81s/it]"
     ]
    },
    {
     "name": "stdout",
     "output_type": "stream",
     "text": [
      "--------------------------------------------------\n",
      "Save results\n",
      "--------------------------------------------------\n",
      "Done! path: C:\\Users\\yf-su\\Desktop\\XAI\\experiments\\feature_removal_experiments_MiniBooNE, run_id: 8.\n"
     ]
    },
    {
     "name": "stderr",
     "output_type": "stream",
     "text": [
      "\n"
     ]
    },
    {
     "name": "stdout",
     "output_type": "stream",
     "text": [
      "9\n",
      "------------------------------\n",
      "{'experiment': 'feature_removal', 'n_train': 1000, 'n_val': 100, 'n_test': 3000, 'n_trees': 1000, 'clf_path': 'C:\\\\Users\\\\yf-su\\\\Desktop\\\\XAI\\\\df_oob\\\\openml_dataset', 'openml_clf_path': 'C:\\\\Users\\\\yf-su\\\\Desktop\\\\XAI\\\\df_oob\\\\openml_dataset', 'openml_reg_path': 'C:\\\\Users\\\\yf-su\\\\Desktop\\\\XAI\\\\df_oob\\\\openml_dataset', 'is_noisy': None, 'model_family': 'Tree', 'run_id': 9}\n",
      "--------------------------------------------------\n",
      "MiniBooNE\n",
      "--------------------------------------------------\n",
      "Train X: (1000, 50)\n",
      "Val X: (100, 50)\n",
      "Test X: (3000, 50)\n",
      "------------------------------\n",
      "Start: Data-OOB computation\n",
      "Done: Data-OOB computation\n",
      "Start: DF-OOB computation\n",
      "Done: DF-OOB computation\n",
      "Start: Learn-OOB computation\n",
      "Done: Learn-OOB computation\n",
      "Start: SHAP computation\n"
     ]
    },
    {
     "name": "stderr",
     "output_type": "stream",
     "text": [
      "\r",
      "  0%|                                                                                           | 0/49 [00:00<?, ?it/s]"
     ]
    },
    {
     "name": "stdout",
     "output_type": "stream",
     "text": [
      "Done: SHAP computation\n"
     ]
    },
    {
     "name": "stderr",
     "output_type": "stream",
     "text": [
      "100%|██████████████████████████████████████████████████████████████████████████████████| 49/49 [03:10<00:00,  3.89s/it]\n",
      "100%|██████████████████████████████████████████████████████████████████████████████████| 49/49 [03:08<00:00,  3.85s/it]\n",
      "100%|██████████████████████████████████████████████████████████████████████████████████| 49/49 [03:14<00:00,  3.97s/it]\n",
      "100%|██████████████████████████████████████████████████████████████████████████████████| 49/49 [03:06<00:00,  3.81s/it]"
     ]
    },
    {
     "name": "stdout",
     "output_type": "stream",
     "text": [
      "--------------------------------------------------\n",
      "Save results\n",
      "--------------------------------------------------\n",
      "Done! path: C:\\Users\\yf-su\\Desktop\\XAI\\experiments\\feature_removal_experiments_MiniBooNE, run_id: 9.\n"
     ]
    },
    {
     "name": "stderr",
     "output_type": "stream",
     "text": [
      "\n"
     ]
    }
   ],
   "source": [
    "'''\n",
    "all experiments include: \n",
    "\"noisy\",\"mask&rank\",\"error\"\n",
    "\n",
    "all eval_experiments include: \n",
    "\"noisy\",\"point_removal\",\"mask\",\"rank\",\"feature_removal\",\"error\"\n",
    "'''\n",
    "\n",
    "experiment = 'feature_removal'\n",
    "eval_experiments = ['feature_removal']\n",
    "\n",
    "for dataset_id, dataset_func in enumerate(all_datasets):\n",
    "    all_config = dataset_func(experiment)[1]\n",
    "    runpath = r'C:\\Users\\yf-su\\Desktop\\XAI\\experiments\\%s_experiments_%s'%(eval_experiments[0],dataset_names[dataset_id])\n",
    "    if not os.path.exists(runpath):\n",
    "        os.makedirs(runpath)\n",
    "\n",
    "    for run_id in range(len(all_config)):\n",
    "        config = all_config[run_id]\n",
    "        print(run_id)\n",
    "        problem = config['problem']\n",
    "        dataset = config['dataset']\n",
    "        dargs_list = config['dargs_list']\n",
    "\n",
    "        for dargs_ind in range(len(dargs_list)):\n",
    "            dargs = dargs_list[dargs_ind]\n",
    "            (X, y), (X_val, y_val), (X_test, y_test), \\\n",
    "                                    noisy_index, beta_true, error_index, \\\n",
    "                                    error_row_index, X_original = \\\n",
    "                                    datasets.load_data(problem,dataset,**dargs)\n",
    "            data_valuation_engine=DataValuation(X=X, y=y, \n",
    "                                                X_val=X_val, y_val=y_val, \n",
    "                                                X_test=X_test, y_test=y_test,\n",
    "                                                problem=problem, dargs=dargs)\n",
    "\n",
    "            if experiment == 'noisy':\n",
    "                data_valuation_engine.compute_data_shap()\n",
    "            data_valuation_engine.compute_feature_shap(subset_ratio_list=['varying'])\n",
    "            if experiment in ['mask&rank','feature_removal','error']:\n",
    "                data_valuation_engine.prepare_learn_oob()\n",
    "                data_valuation_engine.prepare_baseline(SHAP_size=1000)\n",
    "            data_valuation_engine.evaluate_data_values(noisy_index, beta_true, error_index, X_test, y_test, \n",
    "                                                        experiments=eval_experiments, error_row_index=error_row_index)\n",
    "            data_valuation_engine.save_results(runpath, dataset, dargs_ind, noisy_index, beta_true)"
   ]
  },
  {
   "cell_type": "code",
   "execution_count": null,
   "id": "6da31309",
   "metadata": {},
   "outputs": [],
   "source": []
  },
  {
   "cell_type": "code",
   "execution_count": 3,
   "id": "51494b09",
   "metadata": {},
   "outputs": [
    {
     "name": "stdout",
     "output_type": "stream",
     "text": [
      "0\n",
      "------------------------------\n",
      "{'experiment': 'noisy', 'n_train': 1000, 'n_val': 100, 'n_test': 3000, 'n_trees': 1000, 'clf_path': 'C:\\\\Users\\\\yf-su\\\\Desktop\\\\XAI\\\\df_oob\\\\openml_dataset', 'openml_clf_path': 'C:\\\\Users\\\\yf-su\\\\Desktop\\\\XAI\\\\df_oob\\\\openml_dataset', 'openml_reg_path': 'C:\\\\Users\\\\yf-su\\\\Desktop\\\\XAI\\\\df_oob\\\\openml_dataset', 'is_noisy': 0.1, 'model_family': 'Tree', 'run_id': 0}\n",
      "--------------------------------------------------\n",
      "electricity\n",
      "--------------------------------------------------\n",
      "Train X: (1000, 6)\n",
      "Val X: (100, 6)\n",
      "Test X: (3000, 6)\n",
      "------------------------------\n",
      "Start: KNN_Shapley computation\n",
      "Done: KNN_Shapley computation\n",
      "Start: Data-OOB computation\n",
      "Done: Data-OOB computation\n",
      "Start: DF-OOB computation\n"
     ]
    },
    {
     "name": "stderr",
     "output_type": "stream",
     "text": [
      "\r",
      "  0%|                                                                                           | 0/40 [00:00<?, ?it/s]"
     ]
    },
    {
     "name": "stdout",
     "output_type": "stream",
     "text": [
      "Done: DF-OOB computation\n"
     ]
    },
    {
     "name": "stderr",
     "output_type": "stream",
     "text": [
      "100%|██████████████████████████████████████████████████████████████████████████████████| 40/40 [01:50<00:00,  2.77s/it]\n",
      "100%|██████████████████████████████████████████████████████████████████████████████████| 40/40 [01:52<00:00,  2.82s/it]\n",
      "100%|██████████████████████████████████████████████████████████████████████████████████| 40/40 [01:52<00:00,  2.81s/it]\n",
      "100%|██████████████████████████████████████████████████████████████████████████████████| 40/40 [02:03<00:00,  3.08s/it]"
     ]
    },
    {
     "name": "stdout",
     "output_type": "stream",
     "text": [
      "--------------------------------------------------\n",
      "Save results\n",
      "--------------------------------------------------\n",
      "Done! path: C:\\Users\\yf-su\\Desktop\\XAI\\experiments\\point_removal_experiments_electricity, run_id: 0.\n"
     ]
    },
    {
     "name": "stderr",
     "output_type": "stream",
     "text": [
      "\n"
     ]
    },
    {
     "name": "stdout",
     "output_type": "stream",
     "text": [
      "1\n",
      "------------------------------\n",
      "{'experiment': 'noisy', 'n_train': 1000, 'n_val': 100, 'n_test': 3000, 'n_trees': 1000, 'clf_path': 'C:\\\\Users\\\\yf-su\\\\Desktop\\\\XAI\\\\df_oob\\\\openml_dataset', 'openml_clf_path': 'C:\\\\Users\\\\yf-su\\\\Desktop\\\\XAI\\\\df_oob\\\\openml_dataset', 'openml_reg_path': 'C:\\\\Users\\\\yf-su\\\\Desktop\\\\XAI\\\\df_oob\\\\openml_dataset', 'is_noisy': 0.1, 'model_family': 'Tree', 'run_id': 1}\n",
      "--------------------------------------------------\n",
      "electricity\n",
      "--------------------------------------------------\n",
      "Train X: (1000, 6)\n",
      "Val X: (100, 6)\n",
      "Test X: (3000, 6)\n",
      "------------------------------\n",
      "Start: KNN_Shapley computation\n",
      "Done: KNN_Shapley computation\n",
      "Start: Data-OOB computation\n",
      "Done: Data-OOB computation\n",
      "Start: DF-OOB computation\n"
     ]
    },
    {
     "name": "stderr",
     "output_type": "stream",
     "text": [
      "\r",
      "  0%|                                                                                           | 0/40 [00:00<?, ?it/s]"
     ]
    },
    {
     "name": "stdout",
     "output_type": "stream",
     "text": [
      "Done: DF-OOB computation\n"
     ]
    },
    {
     "name": "stderr",
     "output_type": "stream",
     "text": [
      "100%|██████████████████████████████████████████████████████████████████████████████████| 40/40 [01:58<00:00,  2.95s/it]\n",
      "100%|██████████████████████████████████████████████████████████████████████████████████| 40/40 [01:49<00:00,  2.74s/it]\n",
      "100%|██████████████████████████████████████████████████████████████████████████████████| 40/40 [01:48<00:00,  2.71s/it]\n",
      "100%|██████████████████████████████████████████████████████████████████████████████████| 40/40 [02:04<00:00,  3.12s/it]"
     ]
    },
    {
     "name": "stdout",
     "output_type": "stream",
     "text": [
      "--------------------------------------------------\n",
      "Save results\n",
      "--------------------------------------------------\n",
      "Done! path: C:\\Users\\yf-su\\Desktop\\XAI\\experiments\\point_removal_experiments_electricity, run_id: 1.\n"
     ]
    },
    {
     "name": "stderr",
     "output_type": "stream",
     "text": [
      "\n"
     ]
    },
    {
     "name": "stdout",
     "output_type": "stream",
     "text": [
      "2\n",
      "------------------------------\n",
      "{'experiment': 'noisy', 'n_train': 1000, 'n_val': 100, 'n_test': 3000, 'n_trees': 1000, 'clf_path': 'C:\\\\Users\\\\yf-su\\\\Desktop\\\\XAI\\\\df_oob\\\\openml_dataset', 'openml_clf_path': 'C:\\\\Users\\\\yf-su\\\\Desktop\\\\XAI\\\\df_oob\\\\openml_dataset', 'openml_reg_path': 'C:\\\\Users\\\\yf-su\\\\Desktop\\\\XAI\\\\df_oob\\\\openml_dataset', 'is_noisy': 0.1, 'model_family': 'Tree', 'run_id': 2}\n",
      "--------------------------------------------------\n",
      "electricity\n",
      "--------------------------------------------------\n",
      "Train X: (1000, 6)\n",
      "Val X: (100, 6)\n",
      "Test X: (3000, 6)\n",
      "------------------------------\n",
      "Start: KNN_Shapley computation\n",
      "Done: KNN_Shapley computation\n",
      "Start: Data-OOB computation\n",
      "Done: Data-OOB computation\n",
      "Start: DF-OOB computation\n"
     ]
    },
    {
     "name": "stderr",
     "output_type": "stream",
     "text": [
      "\r",
      "  0%|                                                                                           | 0/40 [00:00<?, ?it/s]"
     ]
    },
    {
     "name": "stdout",
     "output_type": "stream",
     "text": [
      "Done: DF-OOB computation\n"
     ]
    },
    {
     "name": "stderr",
     "output_type": "stream",
     "text": [
      "100%|██████████████████████████████████████████████████████████████████████████████████| 40/40 [01:50<00:00,  2.77s/it]\n",
      "100%|██████████████████████████████████████████████████████████████████████████████████| 40/40 [01:48<00:00,  2.71s/it]\n",
      "100%|██████████████████████████████████████████████████████████████████████████████████| 40/40 [01:52<00:00,  2.81s/it]\n",
      "100%|██████████████████████████████████████████████████████████████████████████████████| 40/40 [02:03<00:00,  3.08s/it]"
     ]
    },
    {
     "name": "stdout",
     "output_type": "stream",
     "text": [
      "--------------------------------------------------\n",
      "Save results\n",
      "--------------------------------------------------\n",
      "Done! path: C:\\Users\\yf-su\\Desktop\\XAI\\experiments\\point_removal_experiments_electricity, run_id: 2.\n"
     ]
    },
    {
     "name": "stderr",
     "output_type": "stream",
     "text": [
      "\n"
     ]
    },
    {
     "name": "stdout",
     "output_type": "stream",
     "text": [
      "3\n",
      "------------------------------\n",
      "{'experiment': 'noisy', 'n_train': 1000, 'n_val': 100, 'n_test': 3000, 'n_trees': 1000, 'clf_path': 'C:\\\\Users\\\\yf-su\\\\Desktop\\\\XAI\\\\df_oob\\\\openml_dataset', 'openml_clf_path': 'C:\\\\Users\\\\yf-su\\\\Desktop\\\\XAI\\\\df_oob\\\\openml_dataset', 'openml_reg_path': 'C:\\\\Users\\\\yf-su\\\\Desktop\\\\XAI\\\\df_oob\\\\openml_dataset', 'is_noisy': 0.1, 'model_family': 'Tree', 'run_id': 3}\n",
      "--------------------------------------------------\n",
      "electricity\n",
      "--------------------------------------------------\n",
      "Train X: (1000, 6)\n",
      "Val X: (100, 6)\n",
      "Test X: (3000, 6)\n",
      "------------------------------\n",
      "Start: KNN_Shapley computation\n",
      "Done: KNN_Shapley computation\n",
      "Start: Data-OOB computation\n",
      "Done: Data-OOB computation\n",
      "Start: DF-OOB computation\n"
     ]
    },
    {
     "name": "stderr",
     "output_type": "stream",
     "text": [
      "\r",
      "  0%|                                                                                           | 0/40 [00:00<?, ?it/s]"
     ]
    },
    {
     "name": "stdout",
     "output_type": "stream",
     "text": [
      "Done: DF-OOB computation\n"
     ]
    },
    {
     "name": "stderr",
     "output_type": "stream",
     "text": [
      "100%|██████████████████████████████████████████████████████████████████████████████████| 40/40 [01:56<00:00,  2.92s/it]\n",
      "100%|██████████████████████████████████████████████████████████████████████████████████| 40/40 [01:48<00:00,  2.72s/it]\n",
      "100%|██████████████████████████████████████████████████████████████████████████████████| 40/40 [01:44<00:00,  2.61s/it]\n",
      "100%|██████████████████████████████████████████████████████████████████████████████████| 40/40 [02:04<00:00,  3.12s/it]"
     ]
    },
    {
     "name": "stdout",
     "output_type": "stream",
     "text": [
      "--------------------------------------------------\n",
      "Save results\n",
      "--------------------------------------------------\n",
      "Done! path: C:\\Users\\yf-su\\Desktop\\XAI\\experiments\\point_removal_experiments_electricity, run_id: 3.\n"
     ]
    },
    {
     "name": "stderr",
     "output_type": "stream",
     "text": [
      "\n"
     ]
    },
    {
     "name": "stdout",
     "output_type": "stream",
     "text": [
      "4\n",
      "------------------------------\n",
      "{'experiment': 'noisy', 'n_train': 1000, 'n_val': 100, 'n_test': 3000, 'n_trees': 1000, 'clf_path': 'C:\\\\Users\\\\yf-su\\\\Desktop\\\\XAI\\\\df_oob\\\\openml_dataset', 'openml_clf_path': 'C:\\\\Users\\\\yf-su\\\\Desktop\\\\XAI\\\\df_oob\\\\openml_dataset', 'openml_reg_path': 'C:\\\\Users\\\\yf-su\\\\Desktop\\\\XAI\\\\df_oob\\\\openml_dataset', 'is_noisy': 0.1, 'model_family': 'Tree', 'run_id': 4}\n",
      "--------------------------------------------------\n",
      "electricity\n",
      "--------------------------------------------------\n",
      "Train X: (1000, 6)\n",
      "Val X: (100, 6)\n",
      "Test X: (3000, 6)\n",
      "------------------------------\n",
      "Start: KNN_Shapley computation\n",
      "Done: KNN_Shapley computation\n",
      "Start: Data-OOB computation\n",
      "Done: Data-OOB computation\n",
      "Start: DF-OOB computation\n"
     ]
    },
    {
     "name": "stderr",
     "output_type": "stream",
     "text": [
      "\r",
      "  0%|                                                                                           | 0/40 [00:00<?, ?it/s]"
     ]
    },
    {
     "name": "stdout",
     "output_type": "stream",
     "text": [
      "Done: DF-OOB computation\n"
     ]
    },
    {
     "name": "stderr",
     "output_type": "stream",
     "text": [
      "100%|██████████████████████████████████████████████████████████████████████████████████| 40/40 [01:48<00:00,  2.70s/it]\n",
      "100%|██████████████████████████████████████████████████████████████████████████████████| 40/40 [01:46<00:00,  2.65s/it]\n",
      "100%|██████████████████████████████████████████████████████████████████████████████████| 40/40 [01:48<00:00,  2.72s/it]\n",
      "100%|██████████████████████████████████████████████████████████████████████████████████| 40/40 [02:00<00:00,  3.01s/it]"
     ]
    },
    {
     "name": "stdout",
     "output_type": "stream",
     "text": [
      "--------------------------------------------------\n",
      "Save results\n",
      "--------------------------------------------------\n",
      "Done! path: C:\\Users\\yf-su\\Desktop\\XAI\\experiments\\point_removal_experiments_electricity, run_id: 4.\n"
     ]
    },
    {
     "name": "stderr",
     "output_type": "stream",
     "text": [
      "\n"
     ]
    },
    {
     "name": "stdout",
     "output_type": "stream",
     "text": [
      "5\n",
      "------------------------------\n",
      "{'experiment': 'noisy', 'n_train': 1000, 'n_val': 100, 'n_test': 3000, 'n_trees': 1000, 'clf_path': 'C:\\\\Users\\\\yf-su\\\\Desktop\\\\XAI\\\\df_oob\\\\openml_dataset', 'openml_clf_path': 'C:\\\\Users\\\\yf-su\\\\Desktop\\\\XAI\\\\df_oob\\\\openml_dataset', 'openml_reg_path': 'C:\\\\Users\\\\yf-su\\\\Desktop\\\\XAI\\\\df_oob\\\\openml_dataset', 'is_noisy': 0.1, 'model_family': 'Tree', 'run_id': 5}\n",
      "--------------------------------------------------\n",
      "electricity\n",
      "--------------------------------------------------\n",
      "Train X: (1000, 6)\n",
      "Val X: (100, 6)\n",
      "Test X: (3000, 6)\n",
      "------------------------------\n",
      "Start: KNN_Shapley computation\n",
      "Done: KNN_Shapley computation\n",
      "Start: Data-OOB computation\n",
      "Done: Data-OOB computation\n",
      "Start: DF-OOB computation\n"
     ]
    },
    {
     "name": "stderr",
     "output_type": "stream",
     "text": [
      "\r",
      "  0%|                                                                                           | 0/40 [00:00<?, ?it/s]"
     ]
    },
    {
     "name": "stdout",
     "output_type": "stream",
     "text": [
      "Done: DF-OOB computation\n"
     ]
    },
    {
     "name": "stderr",
     "output_type": "stream",
     "text": [
      "100%|██████████████████████████████████████████████████████████████████████████████████| 40/40 [01:51<00:00,  2.79s/it]\n",
      "100%|██████████████████████████████████████████████████████████████████████████████████| 40/40 [01:46<00:00,  2.67s/it]\n",
      "100%|██████████████████████████████████████████████████████████████████████████████████| 40/40 [01:48<00:00,  2.72s/it]\n",
      "100%|██████████████████████████████████████████████████████████████████████████████████| 40/40 [02:09<00:00,  3.23s/it]"
     ]
    },
    {
     "name": "stdout",
     "output_type": "stream",
     "text": [
      "--------------------------------------------------\n",
      "Save results\n",
      "--------------------------------------------------\n",
      "Done! path: C:\\Users\\yf-su\\Desktop\\XAI\\experiments\\point_removal_experiments_electricity, run_id: 5.\n"
     ]
    },
    {
     "name": "stderr",
     "output_type": "stream",
     "text": [
      "\n"
     ]
    },
    {
     "name": "stdout",
     "output_type": "stream",
     "text": [
      "6\n",
      "------------------------------\n",
      "{'experiment': 'noisy', 'n_train': 1000, 'n_val': 100, 'n_test': 3000, 'n_trees': 1000, 'clf_path': 'C:\\\\Users\\\\yf-su\\\\Desktop\\\\XAI\\\\df_oob\\\\openml_dataset', 'openml_clf_path': 'C:\\\\Users\\\\yf-su\\\\Desktop\\\\XAI\\\\df_oob\\\\openml_dataset', 'openml_reg_path': 'C:\\\\Users\\\\yf-su\\\\Desktop\\\\XAI\\\\df_oob\\\\openml_dataset', 'is_noisy': 0.1, 'model_family': 'Tree', 'run_id': 6}\n",
      "--------------------------------------------------\n",
      "electricity\n",
      "--------------------------------------------------\n",
      "Train X: (1000, 6)\n",
      "Val X: (100, 6)\n",
      "Test X: (3000, 6)\n",
      "------------------------------\n",
      "Start: KNN_Shapley computation\n",
      "Done: KNN_Shapley computation\n",
      "Start: Data-OOB computation\n",
      "Done: Data-OOB computation\n",
      "Start: DF-OOB computation\n"
     ]
    },
    {
     "name": "stderr",
     "output_type": "stream",
     "text": [
      "\r",
      "  0%|                                                                                           | 0/40 [00:00<?, ?it/s]"
     ]
    },
    {
     "name": "stdout",
     "output_type": "stream",
     "text": [
      "Done: DF-OOB computation\n"
     ]
    },
    {
     "name": "stderr",
     "output_type": "stream",
     "text": [
      "100%|██████████████████████████████████████████████████████████████████████████████████| 40/40 [01:52<00:00,  2.81s/it]\n",
      "100%|██████████████████████████████████████████████████████████████████████████████████| 40/40 [01:50<00:00,  2.76s/it]\n",
      "100%|██████████████████████████████████████████████████████████████████████████████████| 40/40 [01:24<00:00,  2.11s/it]\n",
      "100%|██████████████████████████████████████████████████████████████████████████████████| 40/40 [01:33<00:00,  2.33s/it]"
     ]
    },
    {
     "name": "stdout",
     "output_type": "stream",
     "text": [
      "--------------------------------------------------\n",
      "Save results\n",
      "--------------------------------------------------\n",
      "Done! path: C:\\Users\\yf-su\\Desktop\\XAI\\experiments\\point_removal_experiments_electricity, run_id: 6.\n"
     ]
    },
    {
     "name": "stderr",
     "output_type": "stream",
     "text": [
      "\n"
     ]
    },
    {
     "name": "stdout",
     "output_type": "stream",
     "text": [
      "7\n",
      "------------------------------\n",
      "{'experiment': 'noisy', 'n_train': 1000, 'n_val': 100, 'n_test': 3000, 'n_trees': 1000, 'clf_path': 'C:\\\\Users\\\\yf-su\\\\Desktop\\\\XAI\\\\df_oob\\\\openml_dataset', 'openml_clf_path': 'C:\\\\Users\\\\yf-su\\\\Desktop\\\\XAI\\\\df_oob\\\\openml_dataset', 'openml_reg_path': 'C:\\\\Users\\\\yf-su\\\\Desktop\\\\XAI\\\\df_oob\\\\openml_dataset', 'is_noisy': 0.1, 'model_family': 'Tree', 'run_id': 7}\n",
      "--------------------------------------------------\n",
      "electricity\n",
      "--------------------------------------------------\n",
      "Train X: (1000, 6)\n",
      "Val X: (100, 6)\n",
      "Test X: (3000, 6)\n",
      "------------------------------\n",
      "Start: KNN_Shapley computation\n",
      "Done: KNN_Shapley computation\n",
      "Start: Data-OOB computation\n",
      "Done: Data-OOB computation\n",
      "Start: DF-OOB computation\n"
     ]
    },
    {
     "name": "stderr",
     "output_type": "stream",
     "text": [
      "\r",
      "  0%|                                                                                           | 0/40 [00:00<?, ?it/s]"
     ]
    },
    {
     "name": "stdout",
     "output_type": "stream",
     "text": [
      "Done: DF-OOB computation\n"
     ]
    },
    {
     "name": "stderr",
     "output_type": "stream",
     "text": [
      "100%|██████████████████████████████████████████████████████████████████████████████████| 40/40 [01:46<00:00,  2.66s/it]\n",
      "100%|██████████████████████████████████████████████████████████████████████████████████| 40/40 [01:40<00:00,  2.51s/it]\n",
      "100%|██████████████████████████████████████████████████████████████████████████████████| 40/40 [01:42<00:00,  2.57s/it]\n",
      "100%|██████████████████████████████████████████████████████████████████████████████████| 40/40 [02:01<00:00,  3.04s/it]"
     ]
    },
    {
     "name": "stdout",
     "output_type": "stream",
     "text": [
      "--------------------------------------------------\n",
      "Save results\n",
      "--------------------------------------------------\n",
      "Done! path: C:\\Users\\yf-su\\Desktop\\XAI\\experiments\\point_removal_experiments_electricity, run_id: 7.\n"
     ]
    },
    {
     "name": "stderr",
     "output_type": "stream",
     "text": [
      "\n"
     ]
    },
    {
     "name": "stdout",
     "output_type": "stream",
     "text": [
      "8\n",
      "------------------------------\n",
      "{'experiment': 'noisy', 'n_train': 1000, 'n_val': 100, 'n_test': 3000, 'n_trees': 1000, 'clf_path': 'C:\\\\Users\\\\yf-su\\\\Desktop\\\\XAI\\\\df_oob\\\\openml_dataset', 'openml_clf_path': 'C:\\\\Users\\\\yf-su\\\\Desktop\\\\XAI\\\\df_oob\\\\openml_dataset', 'openml_reg_path': 'C:\\\\Users\\\\yf-su\\\\Desktop\\\\XAI\\\\df_oob\\\\openml_dataset', 'is_noisy': 0.1, 'model_family': 'Tree', 'run_id': 8}\n",
      "--------------------------------------------------\n",
      "electricity\n",
      "--------------------------------------------------\n",
      "Train X: (1000, 6)\n",
      "Val X: (100, 6)\n",
      "Test X: (3000, 6)\n",
      "------------------------------\n",
      "Start: KNN_Shapley computation\n",
      "Done: KNN_Shapley computation\n",
      "Start: Data-OOB computation\n",
      "Done: Data-OOB computation\n",
      "Start: DF-OOB computation\n"
     ]
    },
    {
     "name": "stderr",
     "output_type": "stream",
     "text": [
      "\r",
      "  0%|                                                                                           | 0/40 [00:00<?, ?it/s]"
     ]
    },
    {
     "name": "stdout",
     "output_type": "stream",
     "text": [
      "Done: DF-OOB computation\n"
     ]
    },
    {
     "name": "stderr",
     "output_type": "stream",
     "text": [
      "100%|██████████████████████████████████████████████████████████████████████████████████| 40/40 [01:47<00:00,  2.70s/it]\n",
      "100%|██████████████████████████████████████████████████████████████████████████████████| 40/40 [01:40<00:00,  2.52s/it]\n",
      "100%|██████████████████████████████████████████████████████████████████████████████████| 40/40 [01:42<00:00,  2.57s/it]\n",
      "100%|██████████████████████████████████████████████████████████████████████████████████| 40/40 [01:58<00:00,  2.97s/it]"
     ]
    },
    {
     "name": "stdout",
     "output_type": "stream",
     "text": [
      "--------------------------------------------------\n",
      "Save results\n",
      "--------------------------------------------------\n",
      "Done! path: C:\\Users\\yf-su\\Desktop\\XAI\\experiments\\point_removal_experiments_electricity, run_id: 8.\n"
     ]
    },
    {
     "name": "stderr",
     "output_type": "stream",
     "text": [
      "\n"
     ]
    },
    {
     "name": "stdout",
     "output_type": "stream",
     "text": [
      "9\n",
      "------------------------------\n",
      "{'experiment': 'noisy', 'n_train': 1000, 'n_val': 100, 'n_test': 3000, 'n_trees': 1000, 'clf_path': 'C:\\\\Users\\\\yf-su\\\\Desktop\\\\XAI\\\\df_oob\\\\openml_dataset', 'openml_clf_path': 'C:\\\\Users\\\\yf-su\\\\Desktop\\\\XAI\\\\df_oob\\\\openml_dataset', 'openml_reg_path': 'C:\\\\Users\\\\yf-su\\\\Desktop\\\\XAI\\\\df_oob\\\\openml_dataset', 'is_noisy': 0.1, 'model_family': 'Tree', 'run_id': 9}\n",
      "--------------------------------------------------\n",
      "electricity\n",
      "--------------------------------------------------\n",
      "Train X: (1000, 6)\n",
      "Val X: (100, 6)\n",
      "Test X: (3000, 6)\n",
      "------------------------------\n",
      "Start: KNN_Shapley computation\n",
      "Done: KNN_Shapley computation\n",
      "Start: Data-OOB computation\n",
      "Done: Data-OOB computation\n",
      "Start: DF-OOB computation\n"
     ]
    },
    {
     "name": "stderr",
     "output_type": "stream",
     "text": [
      "\r",
      "  0%|                                                                                           | 0/40 [00:00<?, ?it/s]"
     ]
    },
    {
     "name": "stdout",
     "output_type": "stream",
     "text": [
      "Done: DF-OOB computation\n"
     ]
    },
    {
     "name": "stderr",
     "output_type": "stream",
     "text": [
      "100%|██████████████████████████████████████████████████████████████████████████████████| 40/40 [01:49<00:00,  2.74s/it]\n",
      "100%|██████████████████████████████████████████████████████████████████████████████████| 40/40 [01:37<00:00,  2.45s/it]\n",
      "100%|██████████████████████████████████████████████████████████████████████████████████| 40/40 [01:45<00:00,  2.65s/it]\n",
      "100%|██████████████████████████████████████████████████████████████████████████████████| 40/40 [01:58<00:00,  2.96s/it]"
     ]
    },
    {
     "name": "stdout",
     "output_type": "stream",
     "text": [
      "--------------------------------------------------\n",
      "Save results\n",
      "--------------------------------------------------\n",
      "Done! path: C:\\Users\\yf-su\\Desktop\\XAI\\experiments\\point_removal_experiments_electricity, run_id: 9.\n"
     ]
    },
    {
     "name": "stderr",
     "output_type": "stream",
     "text": [
      "\n"
     ]
    },
    {
     "name": "stdout",
     "output_type": "stream",
     "text": [
      "0\n",
      "------------------------------\n",
      "{'experiment': 'noisy', 'n_train': 1000, 'n_val': 100, 'n_test': 3000, 'n_trees': 1000, 'clf_path': 'C:\\\\Users\\\\yf-su\\\\Desktop\\\\XAI\\\\df_oob\\\\openml_dataset', 'openml_clf_path': 'C:\\\\Users\\\\yf-su\\\\Desktop\\\\XAI\\\\df_oob\\\\openml_dataset', 'openml_reg_path': 'C:\\\\Users\\\\yf-su\\\\Desktop\\\\XAI\\\\df_oob\\\\openml_dataset', 'is_noisy': 0.1, 'model_family': 'Tree', 'run_id': 0}\n",
      "--------------------------------------------------\n",
      "pol\n",
      "--------------------------------------------------\n",
      "Train X: (1000, 48)\n",
      "Val X: (100, 48)\n",
      "Test X: (3000, 48)\n",
      "------------------------------\n",
      "Start: KNN_Shapley computation\n",
      "Done: KNN_Shapley computation\n",
      "Start: Data-OOB computation\n",
      "Done: Data-OOB computation\n",
      "Start: DF-OOB computation\n"
     ]
    },
    {
     "name": "stderr",
     "output_type": "stream",
     "text": [
      "\r",
      "  0%|                                                                                           | 0/40 [00:00<?, ?it/s]"
     ]
    },
    {
     "name": "stdout",
     "output_type": "stream",
     "text": [
      "Done: DF-OOB computation\n"
     ]
    },
    {
     "name": "stderr",
     "output_type": "stream",
     "text": [
      "100%|██████████████████████████████████████████████████████████████████████████████████| 40/40 [01:38<00:00,  2.46s/it]\n",
      "100%|██████████████████████████████████████████████████████████████████████████████████| 40/40 [01:26<00:00,  2.17s/it]\n",
      "100%|██████████████████████████████████████████████████████████████████████████████████| 40/40 [01:26<00:00,  2.15s/it]\n",
      "100%|██████████████████████████████████████████████████████████████████████████████████| 40/40 [01:37<00:00,  2.44s/it]"
     ]
    },
    {
     "name": "stdout",
     "output_type": "stream",
     "text": [
      "--------------------------------------------------\n",
      "Save results\n",
      "--------------------------------------------------\n",
      "Done! path: C:\\Users\\yf-su\\Desktop\\XAI\\experiments\\point_removal_experiments_pol, run_id: 0.\n"
     ]
    },
    {
     "name": "stderr",
     "output_type": "stream",
     "text": [
      "\n"
     ]
    },
    {
     "name": "stdout",
     "output_type": "stream",
     "text": [
      "1\n",
      "------------------------------\n",
      "{'experiment': 'noisy', 'n_train': 1000, 'n_val': 100, 'n_test': 3000, 'n_trees': 1000, 'clf_path': 'C:\\\\Users\\\\yf-su\\\\Desktop\\\\XAI\\\\df_oob\\\\openml_dataset', 'openml_clf_path': 'C:\\\\Users\\\\yf-su\\\\Desktop\\\\XAI\\\\df_oob\\\\openml_dataset', 'openml_reg_path': 'C:\\\\Users\\\\yf-su\\\\Desktop\\\\XAI\\\\df_oob\\\\openml_dataset', 'is_noisy': 0.1, 'model_family': 'Tree', 'run_id': 1}\n",
      "--------------------------------------------------\n",
      "pol\n",
      "--------------------------------------------------\n",
      "Train X: (1000, 48)\n",
      "Val X: (100, 48)\n",
      "Test X: (3000, 48)\n",
      "------------------------------\n",
      "Start: KNN_Shapley computation\n",
      "Done: KNN_Shapley computation\n",
      "Start: Data-OOB computation\n",
      "Done: Data-OOB computation\n",
      "Start: DF-OOB computation\n"
     ]
    },
    {
     "name": "stderr",
     "output_type": "stream",
     "text": [
      "\r",
      "  0%|                                                                                           | 0/40 [00:00<?, ?it/s]"
     ]
    },
    {
     "name": "stdout",
     "output_type": "stream",
     "text": [
      "Done: DF-OOB computation\n"
     ]
    },
    {
     "name": "stderr",
     "output_type": "stream",
     "text": [
      "100%|██████████████████████████████████████████████████████████████████████████████████| 40/40 [01:39<00:00,  2.49s/it]\n",
      "100%|██████████████████████████████████████████████████████████████████████████████████| 40/40 [01:27<00:00,  2.20s/it]\n",
      "100%|██████████████████████████████████████████████████████████████████████████████████| 40/40 [01:24<00:00,  2.12s/it]\n",
      "100%|██████████████████████████████████████████████████████████████████████████████████| 40/40 [01:36<00:00,  2.42s/it]"
     ]
    },
    {
     "name": "stdout",
     "output_type": "stream",
     "text": [
      "--------------------------------------------------\n",
      "Save results\n",
      "--------------------------------------------------\n",
      "Done! path: C:\\Users\\yf-su\\Desktop\\XAI\\experiments\\point_removal_experiments_pol, run_id: 1.\n"
     ]
    },
    {
     "name": "stderr",
     "output_type": "stream",
     "text": [
      "\n"
     ]
    },
    {
     "name": "stdout",
     "output_type": "stream",
     "text": [
      "2\n",
      "------------------------------\n",
      "{'experiment': 'noisy', 'n_train': 1000, 'n_val': 100, 'n_test': 3000, 'n_trees': 1000, 'clf_path': 'C:\\\\Users\\\\yf-su\\\\Desktop\\\\XAI\\\\df_oob\\\\openml_dataset', 'openml_clf_path': 'C:\\\\Users\\\\yf-su\\\\Desktop\\\\XAI\\\\df_oob\\\\openml_dataset', 'openml_reg_path': 'C:\\\\Users\\\\yf-su\\\\Desktop\\\\XAI\\\\df_oob\\\\openml_dataset', 'is_noisy': 0.1, 'model_family': 'Tree', 'run_id': 2}\n",
      "--------------------------------------------------\n",
      "pol\n",
      "--------------------------------------------------\n",
      "Train X: (1000, 48)\n",
      "Val X: (100, 48)\n",
      "Test X: (3000, 48)\n",
      "------------------------------\n",
      "Start: KNN_Shapley computation\n",
      "Done: KNN_Shapley computation\n",
      "Start: Data-OOB computation\n",
      "Done: Data-OOB computation\n",
      "Start: DF-OOB computation\n"
     ]
    },
    {
     "name": "stderr",
     "output_type": "stream",
     "text": [
      "\r",
      "  0%|                                                                                           | 0/40 [00:00<?, ?it/s]"
     ]
    },
    {
     "name": "stdout",
     "output_type": "stream",
     "text": [
      "Done: DF-OOB computation\n"
     ]
    },
    {
     "name": "stderr",
     "output_type": "stream",
     "text": [
      "100%|██████████████████████████████████████████████████████████████████████████████████| 40/40 [01:37<00:00,  2.45s/it]\n",
      "100%|██████████████████████████████████████████████████████████████████████████████████| 40/40 [01:25<00:00,  2.13s/it]\n",
      "100%|██████████████████████████████████████████████████████████████████████████████████| 40/40 [01:26<00:00,  2.16s/it]\n",
      "100%|██████████████████████████████████████████████████████████████████████████████████| 40/40 [01:44<00:00,  2.61s/it]"
     ]
    },
    {
     "name": "stdout",
     "output_type": "stream",
     "text": [
      "--------------------------------------------------\n",
      "Save results\n",
      "--------------------------------------------------\n",
      "Done! path: C:\\Users\\yf-su\\Desktop\\XAI\\experiments\\point_removal_experiments_pol, run_id: 2.\n"
     ]
    },
    {
     "name": "stderr",
     "output_type": "stream",
     "text": [
      "\n"
     ]
    },
    {
     "name": "stdout",
     "output_type": "stream",
     "text": [
      "3\n",
      "------------------------------\n",
      "{'experiment': 'noisy', 'n_train': 1000, 'n_val': 100, 'n_test': 3000, 'n_trees': 1000, 'clf_path': 'C:\\\\Users\\\\yf-su\\\\Desktop\\\\XAI\\\\df_oob\\\\openml_dataset', 'openml_clf_path': 'C:\\\\Users\\\\yf-su\\\\Desktop\\\\XAI\\\\df_oob\\\\openml_dataset', 'openml_reg_path': 'C:\\\\Users\\\\yf-su\\\\Desktop\\\\XAI\\\\df_oob\\\\openml_dataset', 'is_noisy': 0.1, 'model_family': 'Tree', 'run_id': 3}\n",
      "--------------------------------------------------\n",
      "pol\n",
      "--------------------------------------------------\n",
      "Train X: (1000, 48)\n",
      "Val X: (100, 48)\n",
      "Test X: (3000, 48)\n",
      "------------------------------\n",
      "Start: KNN_Shapley computation\n",
      "Done: KNN_Shapley computation\n",
      "Start: Data-OOB computation\n",
      "Done: Data-OOB computation\n",
      "Start: DF-OOB computation\n"
     ]
    },
    {
     "name": "stderr",
     "output_type": "stream",
     "text": [
      "\r",
      "  0%|                                                                                           | 0/40 [00:00<?, ?it/s]"
     ]
    },
    {
     "name": "stdout",
     "output_type": "stream",
     "text": [
      "Done: DF-OOB computation\n"
     ]
    },
    {
     "name": "stderr",
     "output_type": "stream",
     "text": [
      "100%|██████████████████████████████████████████████████████████████████████████████████| 40/40 [01:40<00:00,  2.50s/it]\n",
      "100%|██████████████████████████████████████████████████████████████████████████████████| 40/40 [01:29<00:00,  2.24s/it]\n",
      "100%|██████████████████████████████████████████████████████████████████████████████████| 40/40 [01:28<00:00,  2.21s/it]\n",
      "100%|██████████████████████████████████████████████████████████████████████████████████| 40/40 [01:38<00:00,  2.45s/it]"
     ]
    },
    {
     "name": "stdout",
     "output_type": "stream",
     "text": [
      "--------------------------------------------------\n",
      "Save results\n",
      "--------------------------------------------------\n",
      "Done! path: C:\\Users\\yf-su\\Desktop\\XAI\\experiments\\point_removal_experiments_pol, run_id: 3.\n"
     ]
    },
    {
     "name": "stderr",
     "output_type": "stream",
     "text": [
      "\n"
     ]
    },
    {
     "name": "stdout",
     "output_type": "stream",
     "text": [
      "4\n",
      "------------------------------\n",
      "{'experiment': 'noisy', 'n_train': 1000, 'n_val': 100, 'n_test': 3000, 'n_trees': 1000, 'clf_path': 'C:\\\\Users\\\\yf-su\\\\Desktop\\\\XAI\\\\df_oob\\\\openml_dataset', 'openml_clf_path': 'C:\\\\Users\\\\yf-su\\\\Desktop\\\\XAI\\\\df_oob\\\\openml_dataset', 'openml_reg_path': 'C:\\\\Users\\\\yf-su\\\\Desktop\\\\XAI\\\\df_oob\\\\openml_dataset', 'is_noisy': 0.1, 'model_family': 'Tree', 'run_id': 4}\n",
      "--------------------------------------------------\n",
      "pol\n",
      "--------------------------------------------------\n",
      "Train X: (1000, 48)\n",
      "Val X: (100, 48)\n",
      "Test X: (3000, 48)\n",
      "------------------------------\n",
      "Start: KNN_Shapley computation\n",
      "Done: KNN_Shapley computation\n",
      "Start: Data-OOB computation\n",
      "Done: Data-OOB computation\n",
      "Start: DF-OOB computation\n"
     ]
    },
    {
     "name": "stderr",
     "output_type": "stream",
     "text": [
      "\r",
      "  0%|                                                                                           | 0/40 [00:00<?, ?it/s]"
     ]
    },
    {
     "name": "stdout",
     "output_type": "stream",
     "text": [
      "Done: DF-OOB computation\n"
     ]
    },
    {
     "name": "stderr",
     "output_type": "stream",
     "text": [
      "100%|██████████████████████████████████████████████████████████████████████████████████| 40/40 [01:41<00:00,  2.53s/it]\n",
      "100%|██████████████████████████████████████████████████████████████████████████████████| 40/40 [01:41<00:00,  2.53s/it]\n",
      "100%|██████████████████████████████████████████████████████████████████████████████████| 40/40 [01:28<00:00,  2.22s/it]\n",
      "100%|██████████████████████████████████████████████████████████████████████████████████| 40/40 [01:34<00:00,  2.36s/it]"
     ]
    },
    {
     "name": "stdout",
     "output_type": "stream",
     "text": [
      "--------------------------------------------------\n",
      "Save results\n",
      "--------------------------------------------------\n",
      "Done! path: C:\\Users\\yf-su\\Desktop\\XAI\\experiments\\point_removal_experiments_pol, run_id: 4.\n"
     ]
    },
    {
     "name": "stderr",
     "output_type": "stream",
     "text": [
      "\n"
     ]
    },
    {
     "name": "stdout",
     "output_type": "stream",
     "text": [
      "5\n",
      "------------------------------\n",
      "{'experiment': 'noisy', 'n_train': 1000, 'n_val': 100, 'n_test': 3000, 'n_trees': 1000, 'clf_path': 'C:\\\\Users\\\\yf-su\\\\Desktop\\\\XAI\\\\df_oob\\\\openml_dataset', 'openml_clf_path': 'C:\\\\Users\\\\yf-su\\\\Desktop\\\\XAI\\\\df_oob\\\\openml_dataset', 'openml_reg_path': 'C:\\\\Users\\\\yf-su\\\\Desktop\\\\XAI\\\\df_oob\\\\openml_dataset', 'is_noisy': 0.1, 'model_family': 'Tree', 'run_id': 5}\n",
      "--------------------------------------------------\n",
      "pol\n",
      "--------------------------------------------------\n",
      "Train X: (1000, 48)\n",
      "Val X: (100, 48)\n",
      "Test X: (3000, 48)\n",
      "------------------------------\n",
      "Start: KNN_Shapley computation\n",
      "Done: KNN_Shapley computation\n",
      "Start: Data-OOB computation\n",
      "Done: Data-OOB computation\n",
      "Start: DF-OOB computation\n"
     ]
    },
    {
     "name": "stderr",
     "output_type": "stream",
     "text": [
      "\r",
      "  0%|                                                                                           | 0/40 [00:00<?, ?it/s]"
     ]
    },
    {
     "name": "stdout",
     "output_type": "stream",
     "text": [
      "Done: DF-OOB computation\n"
     ]
    },
    {
     "name": "stderr",
     "output_type": "stream",
     "text": [
      "100%|██████████████████████████████████████████████████████████████████████████████████| 40/40 [01:38<00:00,  2.46s/it]\n",
      "100%|██████████████████████████████████████████████████████████████████████████████████| 40/40 [01:30<00:00,  2.26s/it]\n",
      "100%|██████████████████████████████████████████████████████████████████████████████████| 40/40 [01:29<00:00,  2.24s/it]\n",
      "100%|██████████████████████████████████████████████████████████████████████████████████| 40/40 [01:39<00:00,  2.48s/it]"
     ]
    },
    {
     "name": "stdout",
     "output_type": "stream",
     "text": [
      "--------------------------------------------------\n",
      "Save results\n",
      "--------------------------------------------------\n",
      "Done! path: C:\\Users\\yf-su\\Desktop\\XAI\\experiments\\point_removal_experiments_pol, run_id: 5.\n"
     ]
    },
    {
     "name": "stderr",
     "output_type": "stream",
     "text": [
      "\n"
     ]
    },
    {
     "name": "stdout",
     "output_type": "stream",
     "text": [
      "6\n",
      "------------------------------\n",
      "{'experiment': 'noisy', 'n_train': 1000, 'n_val': 100, 'n_test': 3000, 'n_trees': 1000, 'clf_path': 'C:\\\\Users\\\\yf-su\\\\Desktop\\\\XAI\\\\df_oob\\\\openml_dataset', 'openml_clf_path': 'C:\\\\Users\\\\yf-su\\\\Desktop\\\\XAI\\\\df_oob\\\\openml_dataset', 'openml_reg_path': 'C:\\\\Users\\\\yf-su\\\\Desktop\\\\XAI\\\\df_oob\\\\openml_dataset', 'is_noisy': 0.1, 'model_family': 'Tree', 'run_id': 6}\n",
      "--------------------------------------------------\n",
      "pol\n",
      "--------------------------------------------------\n",
      "Train X: (1000, 48)\n",
      "Val X: (100, 48)\n",
      "Test X: (3000, 48)\n",
      "------------------------------\n",
      "Start: KNN_Shapley computation\n",
      "Done: KNN_Shapley computation\n",
      "Start: Data-OOB computation\n",
      "Done: Data-OOB computation\n",
      "Start: DF-OOB computation\n"
     ]
    },
    {
     "name": "stderr",
     "output_type": "stream",
     "text": [
      "\r",
      "  0%|                                                                                           | 0/40 [00:00<?, ?it/s]"
     ]
    },
    {
     "name": "stdout",
     "output_type": "stream",
     "text": [
      "Done: DF-OOB computation\n"
     ]
    },
    {
     "name": "stderr",
     "output_type": "stream",
     "text": [
      "100%|██████████████████████████████████████████████████████████████████████████████████| 40/40 [01:44<00:00,  2.62s/it]\n",
      "100%|██████████████████████████████████████████████████████████████████████████████████| 40/40 [01:30<00:00,  2.26s/it]\n",
      "100%|██████████████████████████████████████████████████████████████████████████████████| 40/40 [01:31<00:00,  2.28s/it]\n",
      "100%|██████████████████████████████████████████████████████████████████████████████████| 40/40 [01:42<00:00,  2.56s/it]"
     ]
    },
    {
     "name": "stdout",
     "output_type": "stream",
     "text": [
      "--------------------------------------------------\n",
      "Save results\n",
      "--------------------------------------------------\n",
      "Done! path: C:\\Users\\yf-su\\Desktop\\XAI\\experiments\\point_removal_experiments_pol, run_id: 6.\n"
     ]
    },
    {
     "name": "stderr",
     "output_type": "stream",
     "text": [
      "\n"
     ]
    },
    {
     "name": "stdout",
     "output_type": "stream",
     "text": [
      "7\n",
      "------------------------------\n",
      "{'experiment': 'noisy', 'n_train': 1000, 'n_val': 100, 'n_test': 3000, 'n_trees': 1000, 'clf_path': 'C:\\\\Users\\\\yf-su\\\\Desktop\\\\XAI\\\\df_oob\\\\openml_dataset', 'openml_clf_path': 'C:\\\\Users\\\\yf-su\\\\Desktop\\\\XAI\\\\df_oob\\\\openml_dataset', 'openml_reg_path': 'C:\\\\Users\\\\yf-su\\\\Desktop\\\\XAI\\\\df_oob\\\\openml_dataset', 'is_noisy': 0.1, 'model_family': 'Tree', 'run_id': 7}\n",
      "--------------------------------------------------\n",
      "pol\n",
      "--------------------------------------------------\n",
      "Train X: (1000, 48)\n",
      "Val X: (100, 48)\n",
      "Test X: (3000, 48)\n",
      "------------------------------\n",
      "Start: KNN_Shapley computation\n",
      "Done: KNN_Shapley computation\n",
      "Start: Data-OOB computation\n",
      "Done: Data-OOB computation\n",
      "Start: DF-OOB computation\n"
     ]
    },
    {
     "name": "stderr",
     "output_type": "stream",
     "text": [
      "\r",
      "  0%|                                                                                           | 0/40 [00:00<?, ?it/s]"
     ]
    },
    {
     "name": "stdout",
     "output_type": "stream",
     "text": [
      "Done: DF-OOB computation\n"
     ]
    },
    {
     "name": "stderr",
     "output_type": "stream",
     "text": [
      "100%|██████████████████████████████████████████████████████████████████████████████████| 40/40 [01:47<00:00,  2.69s/it]\n",
      "100%|██████████████████████████████████████████████████████████████████████████████████| 40/40 [01:33<00:00,  2.33s/it]\n",
      "100%|██████████████████████████████████████████████████████████████████████████████████| 40/40 [01:30<00:00,  2.26s/it]\n",
      "100%|██████████████████████████████████████████████████████████████████████████████████| 40/40 [01:43<00:00,  2.59s/it]"
     ]
    },
    {
     "name": "stdout",
     "output_type": "stream",
     "text": [
      "--------------------------------------------------\n",
      "Save results\n",
      "--------------------------------------------------\n",
      "Done! path: C:\\Users\\yf-su\\Desktop\\XAI\\experiments\\point_removal_experiments_pol, run_id: 7.\n"
     ]
    },
    {
     "name": "stderr",
     "output_type": "stream",
     "text": [
      "\n"
     ]
    },
    {
     "name": "stdout",
     "output_type": "stream",
     "text": [
      "8\n",
      "------------------------------\n",
      "{'experiment': 'noisy', 'n_train': 1000, 'n_val': 100, 'n_test': 3000, 'n_trees': 1000, 'clf_path': 'C:\\\\Users\\\\yf-su\\\\Desktop\\\\XAI\\\\df_oob\\\\openml_dataset', 'openml_clf_path': 'C:\\\\Users\\\\yf-su\\\\Desktop\\\\XAI\\\\df_oob\\\\openml_dataset', 'openml_reg_path': 'C:\\\\Users\\\\yf-su\\\\Desktop\\\\XAI\\\\df_oob\\\\openml_dataset', 'is_noisy': 0.1, 'model_family': 'Tree', 'run_id': 8}\n",
      "--------------------------------------------------\n",
      "pol\n",
      "--------------------------------------------------\n",
      "Train X: (1000, 48)\n",
      "Val X: (100, 48)\n",
      "Test X: (3000, 48)\n",
      "------------------------------\n",
      "Start: KNN_Shapley computation\n",
      "Done: KNN_Shapley computation\n",
      "Start: Data-OOB computation\n",
      "Done: Data-OOB computation\n",
      "Start: DF-OOB computation\n"
     ]
    },
    {
     "name": "stderr",
     "output_type": "stream",
     "text": [
      "\r",
      "  0%|                                                                                           | 0/40 [00:00<?, ?it/s]"
     ]
    },
    {
     "name": "stdout",
     "output_type": "stream",
     "text": [
      "Done: DF-OOB computation\n"
     ]
    },
    {
     "name": "stderr",
     "output_type": "stream",
     "text": [
      "100%|██████████████████████████████████████████████████████████████████████████████████| 40/40 [01:49<00:00,  2.73s/it]\n",
      "100%|██████████████████████████████████████████████████████████████████████████████████| 40/40 [01:32<00:00,  2.31s/it]\n",
      "100%|██████████████████████████████████████████████████████████████████████████████████| 40/40 [01:34<00:00,  2.37s/it]\n",
      "100%|██████████████████████████████████████████████████████████████████████████████████| 40/40 [01:44<00:00,  2.62s/it]"
     ]
    },
    {
     "name": "stdout",
     "output_type": "stream",
     "text": [
      "--------------------------------------------------\n",
      "Save results\n",
      "--------------------------------------------------\n",
      "Done! path: C:\\Users\\yf-su\\Desktop\\XAI\\experiments\\point_removal_experiments_pol, run_id: 8.\n"
     ]
    },
    {
     "name": "stderr",
     "output_type": "stream",
     "text": [
      "\n"
     ]
    },
    {
     "name": "stdout",
     "output_type": "stream",
     "text": [
      "9\n",
      "------------------------------\n",
      "{'experiment': 'noisy', 'n_train': 1000, 'n_val': 100, 'n_test': 3000, 'n_trees': 1000, 'clf_path': 'C:\\\\Users\\\\yf-su\\\\Desktop\\\\XAI\\\\df_oob\\\\openml_dataset', 'openml_clf_path': 'C:\\\\Users\\\\yf-su\\\\Desktop\\\\XAI\\\\df_oob\\\\openml_dataset', 'openml_reg_path': 'C:\\\\Users\\\\yf-su\\\\Desktop\\\\XAI\\\\df_oob\\\\openml_dataset', 'is_noisy': 0.1, 'model_family': 'Tree', 'run_id': 9}\n",
      "--------------------------------------------------\n",
      "pol\n",
      "--------------------------------------------------\n",
      "Train X: (1000, 48)\n",
      "Val X: (100, 48)\n",
      "Test X: (3000, 48)\n",
      "------------------------------\n",
      "Start: KNN_Shapley computation\n",
      "Done: KNN_Shapley computation\n",
      "Start: Data-OOB computation\n",
      "Done: Data-OOB computation\n",
      "Start: DF-OOB computation\n"
     ]
    },
    {
     "name": "stderr",
     "output_type": "stream",
     "text": [
      "\r",
      "  0%|                                                                                           | 0/40 [00:00<?, ?it/s]"
     ]
    },
    {
     "name": "stdout",
     "output_type": "stream",
     "text": [
      "Done: DF-OOB computation\n"
     ]
    },
    {
     "name": "stderr",
     "output_type": "stream",
     "text": [
      "100%|██████████████████████████████████████████████████████████████████████████████████| 40/40 [01:38<00:00,  2.46s/it]\n",
      "100%|██████████████████████████████████████████████████████████████████████████████████| 40/40 [01:31<00:00,  2.28s/it]\n",
      "100%|██████████████████████████████████████████████████████████████████████████████████| 40/40 [01:18<00:00,  1.97s/it]\n",
      "100%|██████████████████████████████████████████████████████████████████████████████████| 40/40 [01:22<00:00,  2.07s/it]"
     ]
    },
    {
     "name": "stdout",
     "output_type": "stream",
     "text": [
      "--------------------------------------------------\n",
      "Save results\n",
      "--------------------------------------------------\n",
      "Done! path: C:\\Users\\yf-su\\Desktop\\XAI\\experiments\\point_removal_experiments_pol, run_id: 9.\n"
     ]
    },
    {
     "name": "stderr",
     "output_type": "stream",
     "text": [
      "\n"
     ]
    },
    {
     "name": "stdout",
     "output_type": "stream",
     "text": [
      "0\n",
      "------------------------------\n",
      "{'experiment': 'noisy', 'n_train': 1000, 'n_val': 100, 'n_test': 3000, 'n_trees': 1000, 'clf_path': 'C:\\\\Users\\\\yf-su\\\\Desktop\\\\XAI\\\\df_oob\\\\openml_dataset', 'openml_clf_path': 'C:\\\\Users\\\\yf-su\\\\Desktop\\\\XAI\\\\df_oob\\\\openml_dataset', 'openml_reg_path': 'C:\\\\Users\\\\yf-su\\\\Desktop\\\\XAI\\\\df_oob\\\\openml_dataset', 'is_noisy': 0.1, 'model_family': 'Tree', 'run_id': 0}\n",
      "--------------------------------------------------\n",
      "jannis\n",
      "--------------------------------------------------\n",
      "Train X: (1000, 54)\n",
      "Val X: (100, 54)\n",
      "Test X: (3000, 54)\n",
      "------------------------------\n",
      "Start: KNN_Shapley computation\n",
      "Done: KNN_Shapley computation\n",
      "Start: Data-OOB computation\n",
      "Done: Data-OOB computation\n",
      "Start: DF-OOB computation\n"
     ]
    },
    {
     "name": "stderr",
     "output_type": "stream",
     "text": [
      "\r",
      "  0%|                                                                                           | 0/40 [00:00<?, ?it/s]"
     ]
    },
    {
     "name": "stdout",
     "output_type": "stream",
     "text": [
      "Done: DF-OOB computation\n"
     ]
    },
    {
     "name": "stderr",
     "output_type": "stream",
     "text": [
      "100%|██████████████████████████████████████████████████████████████████████████████████| 40/40 [02:53<00:00,  4.33s/it]\n",
      "100%|██████████████████████████████████████████████████████████████████████████████████| 40/40 [03:01<00:00,  4.54s/it]\n",
      "100%|██████████████████████████████████████████████████████████████████████████████████| 40/40 [03:05<00:00,  4.64s/it]\n",
      "100%|██████████████████████████████████████████████████████████████████████████████████| 40/40 [03:08<00:00,  4.72s/it]"
     ]
    },
    {
     "name": "stdout",
     "output_type": "stream",
     "text": [
      "--------------------------------------------------\n",
      "Save results\n",
      "--------------------------------------------------\n",
      "Done! path: C:\\Users\\yf-su\\Desktop\\XAI\\experiments\\point_removal_experiments_jannis, run_id: 0.\n"
     ]
    },
    {
     "name": "stderr",
     "output_type": "stream",
     "text": [
      "\n"
     ]
    },
    {
     "name": "stdout",
     "output_type": "stream",
     "text": [
      "1\n",
      "------------------------------\n",
      "{'experiment': 'noisy', 'n_train': 1000, 'n_val': 100, 'n_test': 3000, 'n_trees': 1000, 'clf_path': 'C:\\\\Users\\\\yf-su\\\\Desktop\\\\XAI\\\\df_oob\\\\openml_dataset', 'openml_clf_path': 'C:\\\\Users\\\\yf-su\\\\Desktop\\\\XAI\\\\df_oob\\\\openml_dataset', 'openml_reg_path': 'C:\\\\Users\\\\yf-su\\\\Desktop\\\\XAI\\\\df_oob\\\\openml_dataset', 'is_noisy': 0.1, 'model_family': 'Tree', 'run_id': 1}\n",
      "--------------------------------------------------\n",
      "jannis\n",
      "--------------------------------------------------\n",
      "Train X: (1000, 54)\n",
      "Val X: (100, 54)\n",
      "Test X: (3000, 54)\n",
      "------------------------------\n",
      "Start: KNN_Shapley computation\n",
      "Done: KNN_Shapley computation\n",
      "Start: Data-OOB computation\n",
      "Done: Data-OOB computation\n",
      "Start: DF-OOB computation\n"
     ]
    },
    {
     "name": "stderr",
     "output_type": "stream",
     "text": [
      "\r",
      "  0%|                                                                                           | 0/40 [00:00<?, ?it/s]"
     ]
    },
    {
     "name": "stdout",
     "output_type": "stream",
     "text": [
      "Done: DF-OOB computation\n"
     ]
    },
    {
     "name": "stderr",
     "output_type": "stream",
     "text": [
      "100%|██████████████████████████████████████████████████████████████████████████████████| 40/40 [03:10<00:00,  4.77s/it]\n",
      "100%|██████████████████████████████████████████████████████████████████████████████████| 40/40 [03:07<00:00,  4.68s/it]\n",
      "100%|██████████████████████████████████████████████████████████████████████████████████| 40/40 [03:06<00:00,  4.66s/it]\n",
      "100%|██████████████████████████████████████████████████████████████████████████████████| 40/40 [03:11<00:00,  4.79s/it]"
     ]
    },
    {
     "name": "stdout",
     "output_type": "stream",
     "text": [
      "--------------------------------------------------\n",
      "Save results\n",
      "--------------------------------------------------\n",
      "Done! path: C:\\Users\\yf-su\\Desktop\\XAI\\experiments\\point_removal_experiments_jannis, run_id: 1.\n"
     ]
    },
    {
     "name": "stderr",
     "output_type": "stream",
     "text": [
      "\n"
     ]
    },
    {
     "name": "stdout",
     "output_type": "stream",
     "text": [
      "2\n",
      "------------------------------\n",
      "{'experiment': 'noisy', 'n_train': 1000, 'n_val': 100, 'n_test': 3000, 'n_trees': 1000, 'clf_path': 'C:\\\\Users\\\\yf-su\\\\Desktop\\\\XAI\\\\df_oob\\\\openml_dataset', 'openml_clf_path': 'C:\\\\Users\\\\yf-su\\\\Desktop\\\\XAI\\\\df_oob\\\\openml_dataset', 'openml_reg_path': 'C:\\\\Users\\\\yf-su\\\\Desktop\\\\XAI\\\\df_oob\\\\openml_dataset', 'is_noisy': 0.1, 'model_family': 'Tree', 'run_id': 2}\n",
      "--------------------------------------------------\n",
      "jannis\n",
      "--------------------------------------------------\n",
      "Train X: (1000, 54)\n",
      "Val X: (100, 54)\n",
      "Test X: (3000, 54)\n",
      "------------------------------\n",
      "Start: KNN_Shapley computation\n",
      "Done: KNN_Shapley computation\n",
      "Start: Data-OOB computation\n",
      "Done: Data-OOB computation\n",
      "Start: DF-OOB computation\n"
     ]
    },
    {
     "name": "stderr",
     "output_type": "stream",
     "text": [
      "\r",
      "  0%|                                                                                           | 0/40 [00:00<?, ?it/s]"
     ]
    },
    {
     "name": "stdout",
     "output_type": "stream",
     "text": [
      "Done: DF-OOB computation\n"
     ]
    },
    {
     "name": "stderr",
     "output_type": "stream",
     "text": [
      "100%|██████████████████████████████████████████████████████████████████████████████████| 40/40 [03:08<00:00,  4.70s/it]\n",
      "100%|██████████████████████████████████████████████████████████████████████████████████| 40/40 [03:06<00:00,  4.66s/it]\n",
      "100%|██████████████████████████████████████████████████████████████████████████████████| 40/40 [03:05<00:00,  4.63s/it]\n",
      "100%|██████████████████████████████████████████████████████████████████████████████████| 40/40 [03:11<00:00,  4.78s/it]"
     ]
    },
    {
     "name": "stdout",
     "output_type": "stream",
     "text": [
      "--------------------------------------------------\n",
      "Save results\n",
      "--------------------------------------------------\n",
      "Done! path: C:\\Users\\yf-su\\Desktop\\XAI\\experiments\\point_removal_experiments_jannis, run_id: 2.\n"
     ]
    },
    {
     "name": "stderr",
     "output_type": "stream",
     "text": [
      "\n"
     ]
    },
    {
     "name": "stdout",
     "output_type": "stream",
     "text": [
      "3\n",
      "------------------------------\n",
      "{'experiment': 'noisy', 'n_train': 1000, 'n_val': 100, 'n_test': 3000, 'n_trees': 1000, 'clf_path': 'C:\\\\Users\\\\yf-su\\\\Desktop\\\\XAI\\\\df_oob\\\\openml_dataset', 'openml_clf_path': 'C:\\\\Users\\\\yf-su\\\\Desktop\\\\XAI\\\\df_oob\\\\openml_dataset', 'openml_reg_path': 'C:\\\\Users\\\\yf-su\\\\Desktop\\\\XAI\\\\df_oob\\\\openml_dataset', 'is_noisy': 0.1, 'model_family': 'Tree', 'run_id': 3}\n",
      "--------------------------------------------------\n",
      "jannis\n",
      "--------------------------------------------------\n",
      "Train X: (1000, 54)\n",
      "Val X: (100, 54)\n",
      "Test X: (3000, 54)\n",
      "------------------------------\n",
      "Start: KNN_Shapley computation\n",
      "Done: KNN_Shapley computation\n",
      "Start: Data-OOB computation\n",
      "Done: Data-OOB computation\n",
      "Start: DF-OOB computation\n"
     ]
    },
    {
     "name": "stderr",
     "output_type": "stream",
     "text": [
      "\r",
      "  0%|                                                                                           | 0/40 [00:00<?, ?it/s]"
     ]
    },
    {
     "name": "stdout",
     "output_type": "stream",
     "text": [
      "Done: DF-OOB computation\n"
     ]
    },
    {
     "name": "stderr",
     "output_type": "stream",
     "text": [
      "100%|██████████████████████████████████████████████████████████████████████████████████| 40/40 [03:12<00:00,  4.81s/it]\n",
      "100%|██████████████████████████████████████████████████████████████████████████████████| 40/40 [03:08<00:00,  4.71s/it]\n",
      "100%|██████████████████████████████████████████████████████████████████████████████████| 40/40 [03:07<00:00,  4.69s/it]\n",
      "100%|██████████████████████████████████████████████████████████████████████████████████| 40/40 [03:13<00:00,  4.83s/it]"
     ]
    },
    {
     "name": "stdout",
     "output_type": "stream",
     "text": [
      "--------------------------------------------------\n",
      "Save results\n",
      "--------------------------------------------------\n",
      "Done! path: C:\\Users\\yf-su\\Desktop\\XAI\\experiments\\point_removal_experiments_jannis, run_id: 3.\n"
     ]
    },
    {
     "name": "stderr",
     "output_type": "stream",
     "text": [
      "\n"
     ]
    },
    {
     "name": "stdout",
     "output_type": "stream",
     "text": [
      "4\n",
      "------------------------------\n",
      "{'experiment': 'noisy', 'n_train': 1000, 'n_val': 100, 'n_test': 3000, 'n_trees': 1000, 'clf_path': 'C:\\\\Users\\\\yf-su\\\\Desktop\\\\XAI\\\\df_oob\\\\openml_dataset', 'openml_clf_path': 'C:\\\\Users\\\\yf-su\\\\Desktop\\\\XAI\\\\df_oob\\\\openml_dataset', 'openml_reg_path': 'C:\\\\Users\\\\yf-su\\\\Desktop\\\\XAI\\\\df_oob\\\\openml_dataset', 'is_noisy': 0.1, 'model_family': 'Tree', 'run_id': 4}\n",
      "--------------------------------------------------\n",
      "jannis\n",
      "--------------------------------------------------\n",
      "Train X: (1000, 54)\n",
      "Val X: (100, 54)\n",
      "Test X: (3000, 54)\n",
      "------------------------------\n",
      "Start: KNN_Shapley computation\n",
      "Done: KNN_Shapley computation\n",
      "Start: Data-OOB computation\n",
      "Done: Data-OOB computation\n",
      "Start: DF-OOB computation\n"
     ]
    },
    {
     "name": "stderr",
     "output_type": "stream",
     "text": [
      "\r",
      "  0%|                                                                                           | 0/40 [00:00<?, ?it/s]"
     ]
    },
    {
     "name": "stdout",
     "output_type": "stream",
     "text": [
      "Done: DF-OOB computation\n"
     ]
    },
    {
     "name": "stderr",
     "output_type": "stream",
     "text": [
      "100%|██████████████████████████████████████████████████████████████████████████████████| 40/40 [03:11<00:00,  4.79s/it]\n",
      "100%|██████████████████████████████████████████████████████████████████████████████████| 40/40 [03:06<00:00,  4.65s/it]\n",
      "100%|██████████████████████████████████████████████████████████████████████████████████| 40/40 [03:06<00:00,  4.65s/it]\n",
      "100%|██████████████████████████████████████████████████████████████████████████████████| 40/40 [03:12<00:00,  4.82s/it]"
     ]
    },
    {
     "name": "stdout",
     "output_type": "stream",
     "text": [
      "--------------------------------------------------\n",
      "Save results\n",
      "--------------------------------------------------\n",
      "Done! path: C:\\Users\\yf-su\\Desktop\\XAI\\experiments\\point_removal_experiments_jannis, run_id: 4.\n"
     ]
    },
    {
     "name": "stderr",
     "output_type": "stream",
     "text": [
      "\n"
     ]
    },
    {
     "name": "stdout",
     "output_type": "stream",
     "text": [
      "5\n",
      "------------------------------\n",
      "{'experiment': 'noisy', 'n_train': 1000, 'n_val': 100, 'n_test': 3000, 'n_trees': 1000, 'clf_path': 'C:\\\\Users\\\\yf-su\\\\Desktop\\\\XAI\\\\df_oob\\\\openml_dataset', 'openml_clf_path': 'C:\\\\Users\\\\yf-su\\\\Desktop\\\\XAI\\\\df_oob\\\\openml_dataset', 'openml_reg_path': 'C:\\\\Users\\\\yf-su\\\\Desktop\\\\XAI\\\\df_oob\\\\openml_dataset', 'is_noisy': 0.1, 'model_family': 'Tree', 'run_id': 5}\n",
      "--------------------------------------------------\n",
      "jannis\n",
      "--------------------------------------------------\n",
      "Train X: (1000, 54)\n",
      "Val X: (100, 54)\n",
      "Test X: (3000, 54)\n",
      "------------------------------\n",
      "Start: KNN_Shapley computation\n",
      "Done: KNN_Shapley computation\n",
      "Start: Data-OOB computation\n",
      "Done: Data-OOB computation\n",
      "Start: DF-OOB computation\n"
     ]
    },
    {
     "name": "stderr",
     "output_type": "stream",
     "text": [
      "\r",
      "  0%|                                                                                           | 0/40 [00:00<?, ?it/s]"
     ]
    },
    {
     "name": "stdout",
     "output_type": "stream",
     "text": [
      "Done: DF-OOB computation\n"
     ]
    },
    {
     "name": "stderr",
     "output_type": "stream",
     "text": [
      "100%|██████████████████████████████████████████████████████████████████████████████████| 40/40 [03:08<00:00,  4.72s/it]\n",
      "100%|██████████████████████████████████████████████████████████████████████████████████| 40/40 [03:07<00:00,  4.68s/it]\n",
      "100%|██████████████████████████████████████████████████████████████████████████████████| 40/40 [03:05<00:00,  4.63s/it]\n",
      "100%|██████████████████████████████████████████████████████████████████████████████████| 40/40 [03:13<00:00,  4.85s/it]"
     ]
    },
    {
     "name": "stdout",
     "output_type": "stream",
     "text": [
      "--------------------------------------------------\n",
      "Save results\n",
      "--------------------------------------------------\n",
      "Done! path: C:\\Users\\yf-su\\Desktop\\XAI\\experiments\\point_removal_experiments_jannis, run_id: 5.\n"
     ]
    },
    {
     "name": "stderr",
     "output_type": "stream",
     "text": [
      "\n"
     ]
    },
    {
     "name": "stdout",
     "output_type": "stream",
     "text": [
      "6\n",
      "------------------------------\n",
      "{'experiment': 'noisy', 'n_train': 1000, 'n_val': 100, 'n_test': 3000, 'n_trees': 1000, 'clf_path': 'C:\\\\Users\\\\yf-su\\\\Desktop\\\\XAI\\\\df_oob\\\\openml_dataset', 'openml_clf_path': 'C:\\\\Users\\\\yf-su\\\\Desktop\\\\XAI\\\\df_oob\\\\openml_dataset', 'openml_reg_path': 'C:\\\\Users\\\\yf-su\\\\Desktop\\\\XAI\\\\df_oob\\\\openml_dataset', 'is_noisy': 0.1, 'model_family': 'Tree', 'run_id': 6}\n",
      "--------------------------------------------------\n",
      "jannis\n",
      "--------------------------------------------------\n",
      "Train X: (1000, 54)\n",
      "Val X: (100, 54)\n",
      "Test X: (3000, 54)\n",
      "------------------------------\n",
      "Start: KNN_Shapley computation\n",
      "Done: KNN_Shapley computation\n",
      "Start: Data-OOB computation\n",
      "Done: Data-OOB computation\n",
      "Start: DF-OOB computation\n"
     ]
    },
    {
     "name": "stderr",
     "output_type": "stream",
     "text": [
      "\r",
      "  0%|                                                                                           | 0/40 [00:00<?, ?it/s]"
     ]
    },
    {
     "name": "stdout",
     "output_type": "stream",
     "text": [
      "Done: DF-OOB computation\n"
     ]
    },
    {
     "name": "stderr",
     "output_type": "stream",
     "text": [
      "100%|██████████████████████████████████████████████████████████████████████████████████| 40/40 [03:09<00:00,  4.73s/it]\n",
      "100%|██████████████████████████████████████████████████████████████████████████████████| 40/40 [02:58<00:00,  4.46s/it]\n",
      "100%|██████████████████████████████████████████████████████████████████████████████████| 40/40 [03:05<00:00,  4.64s/it]\n",
      "100%|██████████████████████████████████████████████████████████████████████████████████| 40/40 [03:10<00:00,  4.77s/it]"
     ]
    },
    {
     "name": "stdout",
     "output_type": "stream",
     "text": [
      "--------------------------------------------------\n",
      "Save results\n",
      "--------------------------------------------------\n",
      "Done! path: C:\\Users\\yf-su\\Desktop\\XAI\\experiments\\point_removal_experiments_jannis, run_id: 6.\n"
     ]
    },
    {
     "name": "stderr",
     "output_type": "stream",
     "text": [
      "\n"
     ]
    },
    {
     "name": "stdout",
     "output_type": "stream",
     "text": [
      "7\n",
      "------------------------------\n",
      "{'experiment': 'noisy', 'n_train': 1000, 'n_val': 100, 'n_test': 3000, 'n_trees': 1000, 'clf_path': 'C:\\\\Users\\\\yf-su\\\\Desktop\\\\XAI\\\\df_oob\\\\openml_dataset', 'openml_clf_path': 'C:\\\\Users\\\\yf-su\\\\Desktop\\\\XAI\\\\df_oob\\\\openml_dataset', 'openml_reg_path': 'C:\\\\Users\\\\yf-su\\\\Desktop\\\\XAI\\\\df_oob\\\\openml_dataset', 'is_noisy': 0.1, 'model_family': 'Tree', 'run_id': 7}\n",
      "--------------------------------------------------\n",
      "jannis\n",
      "--------------------------------------------------\n",
      "Train X: (1000, 54)\n",
      "Val X: (100, 54)\n",
      "Test X: (3000, 54)\n",
      "------------------------------\n",
      "Start: KNN_Shapley computation\n",
      "Done: KNN_Shapley computation\n",
      "Start: Data-OOB computation\n",
      "Done: Data-OOB computation\n",
      "Start: DF-OOB computation\n"
     ]
    },
    {
     "name": "stderr",
     "output_type": "stream",
     "text": [
      "\r",
      "  0%|                                                                                           | 0/40 [00:00<?, ?it/s]"
     ]
    },
    {
     "name": "stdout",
     "output_type": "stream",
     "text": [
      "Done: DF-OOB computation\n"
     ]
    },
    {
     "name": "stderr",
     "output_type": "stream",
     "text": [
      "100%|██████████████████████████████████████████████████████████████████████████████████| 40/40 [02:55<00:00,  4.38s/it]\n",
      "100%|██████████████████████████████████████████████████████████████████████████████████| 40/40 [03:04<00:00,  4.62s/it]\n",
      "100%|██████████████████████████████████████████████████████████████████████████████████| 40/40 [03:07<00:00,  4.68s/it]\n",
      "100%|██████████████████████████████████████████████████████████████████████████████████| 40/40 [03:12<00:00,  4.81s/it]"
     ]
    },
    {
     "name": "stdout",
     "output_type": "stream",
     "text": [
      "--------------------------------------------------\n",
      "Save results\n",
      "--------------------------------------------------\n",
      "Done! path: C:\\Users\\yf-su\\Desktop\\XAI\\experiments\\point_removal_experiments_jannis, run_id: 7.\n"
     ]
    },
    {
     "name": "stderr",
     "output_type": "stream",
     "text": [
      "\n"
     ]
    },
    {
     "name": "stdout",
     "output_type": "stream",
     "text": [
      "8\n",
      "------------------------------\n",
      "{'experiment': 'noisy', 'n_train': 1000, 'n_val': 100, 'n_test': 3000, 'n_trees': 1000, 'clf_path': 'C:\\\\Users\\\\yf-su\\\\Desktop\\\\XAI\\\\df_oob\\\\openml_dataset', 'openml_clf_path': 'C:\\\\Users\\\\yf-su\\\\Desktop\\\\XAI\\\\df_oob\\\\openml_dataset', 'openml_reg_path': 'C:\\\\Users\\\\yf-su\\\\Desktop\\\\XAI\\\\df_oob\\\\openml_dataset', 'is_noisy': 0.1, 'model_family': 'Tree', 'run_id': 8}\n",
      "--------------------------------------------------\n",
      "jannis\n",
      "--------------------------------------------------\n",
      "Train X: (1000, 54)\n",
      "Val X: (100, 54)\n",
      "Test X: (3000, 54)\n",
      "------------------------------\n",
      "Start: KNN_Shapley computation\n",
      "Done: KNN_Shapley computation\n",
      "Start: Data-OOB computation\n",
      "Done: Data-OOB computation\n",
      "Start: DF-OOB computation\n"
     ]
    },
    {
     "name": "stderr",
     "output_type": "stream",
     "text": [
      "\r",
      "  0%|                                                                                           | 0/40 [00:00<?, ?it/s]"
     ]
    },
    {
     "name": "stdout",
     "output_type": "stream",
     "text": [
      "Done: DF-OOB computation\n"
     ]
    },
    {
     "name": "stderr",
     "output_type": "stream",
     "text": [
      "100%|██████████████████████████████████████████████████████████████████████████████████| 40/40 [03:09<00:00,  4.75s/it]\n",
      "100%|██████████████████████████████████████████████████████████████████████████████████| 40/40 [03:10<00:00,  4.76s/it]\n",
      "100%|██████████████████████████████████████████████████████████████████████████████████| 40/40 [03:06<00:00,  4.65s/it]\n",
      "100%|██████████████████████████████████████████████████████████████████████████████████| 40/40 [03:10<00:00,  4.77s/it]"
     ]
    },
    {
     "name": "stdout",
     "output_type": "stream",
     "text": [
      "--------------------------------------------------\n",
      "Save results\n",
      "--------------------------------------------------\n",
      "Done! path: C:\\Users\\yf-su\\Desktop\\XAI\\experiments\\point_removal_experiments_jannis, run_id: 8.\n"
     ]
    },
    {
     "name": "stderr",
     "output_type": "stream",
     "text": [
      "\n"
     ]
    },
    {
     "name": "stdout",
     "output_type": "stream",
     "text": [
      "9\n",
      "------------------------------\n",
      "{'experiment': 'noisy', 'n_train': 1000, 'n_val': 100, 'n_test': 3000, 'n_trees': 1000, 'clf_path': 'C:\\\\Users\\\\yf-su\\\\Desktop\\\\XAI\\\\df_oob\\\\openml_dataset', 'openml_clf_path': 'C:\\\\Users\\\\yf-su\\\\Desktop\\\\XAI\\\\df_oob\\\\openml_dataset', 'openml_reg_path': 'C:\\\\Users\\\\yf-su\\\\Desktop\\\\XAI\\\\df_oob\\\\openml_dataset', 'is_noisy': 0.1, 'model_family': 'Tree', 'run_id': 9}\n",
      "--------------------------------------------------\n",
      "jannis\n",
      "--------------------------------------------------\n",
      "Train X: (1000, 54)\n",
      "Val X: (100, 54)\n",
      "Test X: (3000, 54)\n",
      "------------------------------\n",
      "Start: KNN_Shapley computation\n",
      "Done: KNN_Shapley computation\n",
      "Start: Data-OOB computation\n",
      "Done: Data-OOB computation\n",
      "Start: DF-OOB computation\n"
     ]
    },
    {
     "name": "stderr",
     "output_type": "stream",
     "text": [
      "\r",
      "  0%|                                                                                           | 0/40 [00:00<?, ?it/s]"
     ]
    },
    {
     "name": "stdout",
     "output_type": "stream",
     "text": [
      "Done: DF-OOB computation\n"
     ]
    },
    {
     "name": "stderr",
     "output_type": "stream",
     "text": [
      "100%|██████████████████████████████████████████████████████████████████████████████████| 40/40 [02:56<00:00,  4.41s/it]\n",
      "100%|██████████████████████████████████████████████████████████████████████████████████| 40/40 [03:06<00:00,  4.65s/it]\n",
      "100%|██████████████████████████████████████████████████████████████████████████████████| 40/40 [03:04<00:00,  4.61s/it]\n",
      "100%|██████████████████████████████████████████████████████████████████████████████████| 40/40 [03:12<00:00,  4.80s/it]"
     ]
    },
    {
     "name": "stdout",
     "output_type": "stream",
     "text": [
      "--------------------------------------------------\n",
      "Save results\n",
      "--------------------------------------------------\n",
      "Done! path: C:\\Users\\yf-su\\Desktop\\XAI\\experiments\\point_removal_experiments_jannis, run_id: 9.\n"
     ]
    },
    {
     "name": "stderr",
     "output_type": "stream",
     "text": [
      "\n"
     ]
    },
    {
     "name": "stdout",
     "output_type": "stream",
     "text": [
      "0\n",
      "------------------------------\n",
      "{'experiment': 'noisy', 'n_train': 1000, 'n_val': 100, 'n_test': 3000, 'n_trees': 1000, 'clf_path': 'C:\\\\Users\\\\yf-su\\\\Desktop\\\\XAI\\\\df_oob\\\\openml_dataset', 'openml_clf_path': 'C:\\\\Users\\\\yf-su\\\\Desktop\\\\XAI\\\\df_oob\\\\openml_dataset', 'openml_reg_path': 'C:\\\\Users\\\\yf-su\\\\Desktop\\\\XAI\\\\df_oob\\\\openml_dataset', 'is_noisy': 0.1, 'model_family': 'Tree', 'run_id': 0}\n",
      "--------------------------------------------------\n",
      "law-school-admission-bianry\n",
      "--------------------------------------------------\n",
      "Train X: (1000, 6)\n",
      "Val X: (100, 6)\n",
      "Test X: (3000, 6)\n",
      "------------------------------\n",
      "Start: KNN_Shapley computation\n",
      "Done: KNN_Shapley computation\n",
      "Start: Data-OOB computation\n",
      "Done: Data-OOB computation\n",
      "Start: DF-OOB computation\n"
     ]
    },
    {
     "name": "stderr",
     "output_type": "stream",
     "text": [
      "\r",
      "  0%|                                                                                           | 0/40 [00:00<?, ?it/s]"
     ]
    },
    {
     "name": "stdout",
     "output_type": "stream",
     "text": [
      "Done: DF-OOB computation\n"
     ]
    },
    {
     "name": "stderr",
     "output_type": "stream",
     "text": [
      "100%|██████████████████████████████████████████████████████████████████████████████████| 40/40 [01:26<00:00,  2.16s/it]\n",
      "100%|██████████████████████████████████████████████████████████████████████████████████| 40/40 [01:22<00:00,  2.07s/it]\n",
      "100%|██████████████████████████████████████████████████████████████████████████████████| 40/40 [01:23<00:00,  2.10s/it]\n",
      "100%|██████████████████████████████████████████████████████████████████████████████████| 40/40 [01:29<00:00,  2.24s/it]"
     ]
    },
    {
     "name": "stdout",
     "output_type": "stream",
     "text": [
      "--------------------------------------------------\n",
      "Save results\n",
      "--------------------------------------------------\n",
      "Done! path: C:\\Users\\yf-su\\Desktop\\XAI\\experiments\\point_removal_experiments_lawschool, run_id: 0.\n"
     ]
    },
    {
     "name": "stderr",
     "output_type": "stream",
     "text": [
      "\n"
     ]
    },
    {
     "name": "stdout",
     "output_type": "stream",
     "text": [
      "1\n",
      "------------------------------\n",
      "{'experiment': 'noisy', 'n_train': 1000, 'n_val': 100, 'n_test': 3000, 'n_trees': 1000, 'clf_path': 'C:\\\\Users\\\\yf-su\\\\Desktop\\\\XAI\\\\df_oob\\\\openml_dataset', 'openml_clf_path': 'C:\\\\Users\\\\yf-su\\\\Desktop\\\\XAI\\\\df_oob\\\\openml_dataset', 'openml_reg_path': 'C:\\\\Users\\\\yf-su\\\\Desktop\\\\XAI\\\\df_oob\\\\openml_dataset', 'is_noisy': 0.1, 'model_family': 'Tree', 'run_id': 1}\n",
      "--------------------------------------------------\n",
      "law-school-admission-bianry\n",
      "--------------------------------------------------\n",
      "Train X: (1000, 6)\n",
      "Val X: (100, 6)\n",
      "Test X: (3000, 6)\n",
      "------------------------------\n",
      "Start: KNN_Shapley computation\n",
      "Done: KNN_Shapley computation\n",
      "Start: Data-OOB computation\n",
      "Done: Data-OOB computation\n",
      "Start: DF-OOB computation\n"
     ]
    },
    {
     "name": "stderr",
     "output_type": "stream",
     "text": [
      "\r",
      "  0%|                                                                                           | 0/40 [00:00<?, ?it/s]"
     ]
    },
    {
     "name": "stdout",
     "output_type": "stream",
     "text": [
      "Done: DF-OOB computation\n"
     ]
    },
    {
     "name": "stderr",
     "output_type": "stream",
     "text": [
      "100%|██████████████████████████████████████████████████████████████████████████████████| 40/40 [01:27<00:00,  2.19s/it]\n",
      "100%|██████████████████████████████████████████████████████████████████████████████████| 40/40 [01:24<00:00,  2.10s/it]\n",
      "100%|██████████████████████████████████████████████████████████████████████████████████| 40/40 [01:24<00:00,  2.11s/it]\n",
      "100%|██████████████████████████████████████████████████████████████████████████████████| 40/40 [01:30<00:00,  2.26s/it]"
     ]
    },
    {
     "name": "stdout",
     "output_type": "stream",
     "text": [
      "--------------------------------------------------\n",
      "Save results\n",
      "--------------------------------------------------\n",
      "Done! path: C:\\Users\\yf-su\\Desktop\\XAI\\experiments\\point_removal_experiments_lawschool, run_id: 1.\n"
     ]
    },
    {
     "name": "stderr",
     "output_type": "stream",
     "text": [
      "\n"
     ]
    },
    {
     "name": "stdout",
     "output_type": "stream",
     "text": [
      "2\n",
      "------------------------------\n",
      "{'experiment': 'noisy', 'n_train': 1000, 'n_val': 100, 'n_test': 3000, 'n_trees': 1000, 'clf_path': 'C:\\\\Users\\\\yf-su\\\\Desktop\\\\XAI\\\\df_oob\\\\openml_dataset', 'openml_clf_path': 'C:\\\\Users\\\\yf-su\\\\Desktop\\\\XAI\\\\df_oob\\\\openml_dataset', 'openml_reg_path': 'C:\\\\Users\\\\yf-su\\\\Desktop\\\\XAI\\\\df_oob\\\\openml_dataset', 'is_noisy': 0.1, 'model_family': 'Tree', 'run_id': 2}\n",
      "--------------------------------------------------\n",
      "law-school-admission-bianry\n",
      "--------------------------------------------------\n",
      "Train X: (1000, 6)\n",
      "Val X: (100, 6)\n",
      "Test X: (3000, 6)\n",
      "------------------------------\n",
      "Start: KNN_Shapley computation\n",
      "Done: KNN_Shapley computation\n",
      "Start: Data-OOB computation\n",
      "Done: Data-OOB computation\n",
      "Start: DF-OOB computation\n"
     ]
    },
    {
     "name": "stderr",
     "output_type": "stream",
     "text": [
      "\r",
      "  0%|                                                                                           | 0/40 [00:00<?, ?it/s]"
     ]
    },
    {
     "name": "stdout",
     "output_type": "stream",
     "text": [
      "Done: DF-OOB computation\n"
     ]
    },
    {
     "name": "stderr",
     "output_type": "stream",
     "text": [
      "100%|██████████████████████████████████████████████████████████████████████████████████| 40/40 [01:27<00:00,  2.18s/it]\n",
      "100%|██████████████████████████████████████████████████████████████████████████████████| 40/40 [01:21<00:00,  2.04s/it]\n",
      "100%|██████████████████████████████████████████████████████████████████████████████████| 40/40 [01:21<00:00,  2.03s/it]\n",
      "100%|██████████████████████████████████████████████████████████████████████████████████| 40/40 [01:27<00:00,  2.18s/it]"
     ]
    },
    {
     "name": "stdout",
     "output_type": "stream",
     "text": [
      "--------------------------------------------------\n",
      "Save results\n",
      "--------------------------------------------------\n",
      "Done! path: C:\\Users\\yf-su\\Desktop\\XAI\\experiments\\point_removal_experiments_lawschool, run_id: 2.\n"
     ]
    },
    {
     "name": "stderr",
     "output_type": "stream",
     "text": [
      "\n"
     ]
    },
    {
     "name": "stdout",
     "output_type": "stream",
     "text": [
      "3\n",
      "------------------------------\n",
      "{'experiment': 'noisy', 'n_train': 1000, 'n_val': 100, 'n_test': 3000, 'n_trees': 1000, 'clf_path': 'C:\\\\Users\\\\yf-su\\\\Desktop\\\\XAI\\\\df_oob\\\\openml_dataset', 'openml_clf_path': 'C:\\\\Users\\\\yf-su\\\\Desktop\\\\XAI\\\\df_oob\\\\openml_dataset', 'openml_reg_path': 'C:\\\\Users\\\\yf-su\\\\Desktop\\\\XAI\\\\df_oob\\\\openml_dataset', 'is_noisy': 0.1, 'model_family': 'Tree', 'run_id': 3}\n",
      "--------------------------------------------------\n",
      "law-school-admission-bianry\n",
      "--------------------------------------------------\n",
      "Train X: (1000, 6)\n",
      "Val X: (100, 6)\n",
      "Test X: (3000, 6)\n",
      "------------------------------\n",
      "Start: KNN_Shapley computation\n",
      "Done: KNN_Shapley computation\n",
      "Start: Data-OOB computation\n",
      "Done: Data-OOB computation\n",
      "Start: DF-OOB computation\n"
     ]
    },
    {
     "name": "stderr",
     "output_type": "stream",
     "text": [
      "\r",
      "  0%|                                                                                           | 0/40 [00:00<?, ?it/s]"
     ]
    },
    {
     "name": "stdout",
     "output_type": "stream",
     "text": [
      "Done: DF-OOB computation\n"
     ]
    },
    {
     "name": "stderr",
     "output_type": "stream",
     "text": [
      "100%|██████████████████████████████████████████████████████████████████████████████████| 40/40 [01:26<00:00,  2.16s/it]\n",
      "100%|██████████████████████████████████████████████████████████████████████████████████| 40/40 [01:23<00:00,  2.09s/it]\n",
      "100%|██████████████████████████████████████████████████████████████████████████████████| 40/40 [01:21<00:00,  2.04s/it]\n",
      "100%|██████████████████████████████████████████████████████████████████████████████████| 40/40 [01:28<00:00,  2.21s/it]"
     ]
    },
    {
     "name": "stdout",
     "output_type": "stream",
     "text": [
      "--------------------------------------------------\n",
      "Save results\n",
      "--------------------------------------------------\n",
      "Done! path: C:\\Users\\yf-su\\Desktop\\XAI\\experiments\\point_removal_experiments_lawschool, run_id: 3.\n"
     ]
    },
    {
     "name": "stderr",
     "output_type": "stream",
     "text": [
      "\n"
     ]
    },
    {
     "name": "stdout",
     "output_type": "stream",
     "text": [
      "4\n",
      "------------------------------\n",
      "{'experiment': 'noisy', 'n_train': 1000, 'n_val': 100, 'n_test': 3000, 'n_trees': 1000, 'clf_path': 'C:\\\\Users\\\\yf-su\\\\Desktop\\\\XAI\\\\df_oob\\\\openml_dataset', 'openml_clf_path': 'C:\\\\Users\\\\yf-su\\\\Desktop\\\\XAI\\\\df_oob\\\\openml_dataset', 'openml_reg_path': 'C:\\\\Users\\\\yf-su\\\\Desktop\\\\XAI\\\\df_oob\\\\openml_dataset', 'is_noisy': 0.1, 'model_family': 'Tree', 'run_id': 4}\n",
      "--------------------------------------------------\n",
      "law-school-admission-bianry\n",
      "--------------------------------------------------\n",
      "Train X: (1000, 6)\n",
      "Val X: (100, 6)\n",
      "Test X: (3000, 6)\n",
      "------------------------------\n",
      "Start: KNN_Shapley computation\n",
      "Done: KNN_Shapley computation\n",
      "Start: Data-OOB computation\n",
      "Done: Data-OOB computation\n",
      "Start: DF-OOB computation\n"
     ]
    },
    {
     "name": "stderr",
     "output_type": "stream",
     "text": [
      "\r",
      "  0%|                                                                                           | 0/40 [00:00<?, ?it/s]"
     ]
    },
    {
     "name": "stdout",
     "output_type": "stream",
     "text": [
      "Done: DF-OOB computation\n"
     ]
    },
    {
     "name": "stderr",
     "output_type": "stream",
     "text": [
      "100%|██████████████████████████████████████████████████████████████████████████████████| 40/40 [01:27<00:00,  2.20s/it]\n",
      "100%|██████████████████████████████████████████████████████████████████████████████████| 40/40 [01:24<00:00,  2.10s/it]\n",
      "100%|██████████████████████████████████████████████████████████████████████████████████| 40/40 [01:35<00:00,  2.38s/it]\n",
      "100%|██████████████████████████████████████████████████████████████████████████████████| 40/40 [01:28<00:00,  2.22s/it]"
     ]
    },
    {
     "name": "stdout",
     "output_type": "stream",
     "text": [
      "--------------------------------------------------\n",
      "Save results\n",
      "--------------------------------------------------\n",
      "Done! path: C:\\Users\\yf-su\\Desktop\\XAI\\experiments\\point_removal_experiments_lawschool, run_id: 4.\n"
     ]
    },
    {
     "name": "stderr",
     "output_type": "stream",
     "text": [
      "\n"
     ]
    },
    {
     "name": "stdout",
     "output_type": "stream",
     "text": [
      "5\n",
      "------------------------------\n",
      "{'experiment': 'noisy', 'n_train': 1000, 'n_val': 100, 'n_test': 3000, 'n_trees': 1000, 'clf_path': 'C:\\\\Users\\\\yf-su\\\\Desktop\\\\XAI\\\\df_oob\\\\openml_dataset', 'openml_clf_path': 'C:\\\\Users\\\\yf-su\\\\Desktop\\\\XAI\\\\df_oob\\\\openml_dataset', 'openml_reg_path': 'C:\\\\Users\\\\yf-su\\\\Desktop\\\\XAI\\\\df_oob\\\\openml_dataset', 'is_noisy': 0.1, 'model_family': 'Tree', 'run_id': 5}\n",
      "--------------------------------------------------\n",
      "law-school-admission-bianry\n",
      "--------------------------------------------------\n",
      "Train X: (1000, 6)\n",
      "Val X: (100, 6)\n",
      "Test X: (3000, 6)\n",
      "------------------------------\n",
      "Start: KNN_Shapley computation\n",
      "Done: KNN_Shapley computation\n",
      "Start: Data-OOB computation\n",
      "Done: Data-OOB computation\n",
      "Start: DF-OOB computation\n"
     ]
    },
    {
     "name": "stderr",
     "output_type": "stream",
     "text": [
      "\r",
      "  0%|                                                                                           | 0/40 [00:00<?, ?it/s]"
     ]
    },
    {
     "name": "stdout",
     "output_type": "stream",
     "text": [
      "Done: DF-OOB computation\n"
     ]
    },
    {
     "name": "stderr",
     "output_type": "stream",
     "text": [
      "100%|██████████████████████████████████████████████████████████████████████████████████| 40/40 [01:24<00:00,  2.11s/it]\n",
      "100%|██████████████████████████████████████████████████████████████████████████████████| 40/40 [01:22<00:00,  2.05s/it]\n",
      "100%|██████████████████████████████████████████████████████████████████████████████████| 40/40 [01:24<00:00,  2.11s/it]\n",
      "100%|██████████████████████████████████████████████████████████████████████████████████| 40/40 [01:28<00:00,  2.21s/it]"
     ]
    },
    {
     "name": "stdout",
     "output_type": "stream",
     "text": [
      "--------------------------------------------------\n",
      "Save results\n",
      "--------------------------------------------------\n",
      "Done! path: C:\\Users\\yf-su\\Desktop\\XAI\\experiments\\point_removal_experiments_lawschool, run_id: 5.\n"
     ]
    },
    {
     "name": "stderr",
     "output_type": "stream",
     "text": [
      "\n"
     ]
    },
    {
     "name": "stdout",
     "output_type": "stream",
     "text": [
      "6\n",
      "------------------------------\n",
      "{'experiment': 'noisy', 'n_train': 1000, 'n_val': 100, 'n_test': 3000, 'n_trees': 1000, 'clf_path': 'C:\\\\Users\\\\yf-su\\\\Desktop\\\\XAI\\\\df_oob\\\\openml_dataset', 'openml_clf_path': 'C:\\\\Users\\\\yf-su\\\\Desktop\\\\XAI\\\\df_oob\\\\openml_dataset', 'openml_reg_path': 'C:\\\\Users\\\\yf-su\\\\Desktop\\\\XAI\\\\df_oob\\\\openml_dataset', 'is_noisy': 0.1, 'model_family': 'Tree', 'run_id': 6}\n",
      "--------------------------------------------------\n",
      "law-school-admission-bianry\n",
      "--------------------------------------------------\n",
      "Train X: (1000, 6)\n",
      "Val X: (100, 6)\n",
      "Test X: (3000, 6)\n",
      "------------------------------\n",
      "Start: KNN_Shapley computation\n",
      "Done: KNN_Shapley computation\n",
      "Start: Data-OOB computation\n",
      "Done: Data-OOB computation\n",
      "Start: DF-OOB computation\n"
     ]
    },
    {
     "name": "stderr",
     "output_type": "stream",
     "text": [
      "\r",
      "  0%|                                                                                           | 0/40 [00:00<?, ?it/s]"
     ]
    },
    {
     "name": "stdout",
     "output_type": "stream",
     "text": [
      "Done: DF-OOB computation\n"
     ]
    },
    {
     "name": "stderr",
     "output_type": "stream",
     "text": [
      "100%|██████████████████████████████████████████████████████████████████████████████████| 40/40 [01:28<00:00,  2.22s/it]\n",
      "100%|██████████████████████████████████████████████████████████████████████████████████| 40/40 [01:23<00:00,  2.09s/it]\n",
      "100%|██████████████████████████████████████████████████████████████████████████████████| 40/40 [01:24<00:00,  2.12s/it]\n",
      "100%|██████████████████████████████████████████████████████████████████████████████████| 40/40 [01:30<00:00,  2.25s/it]"
     ]
    },
    {
     "name": "stdout",
     "output_type": "stream",
     "text": [
      "--------------------------------------------------\n",
      "Save results\n",
      "--------------------------------------------------\n",
      "Done! path: C:\\Users\\yf-su\\Desktop\\XAI\\experiments\\point_removal_experiments_lawschool, run_id: 6.\n"
     ]
    },
    {
     "name": "stderr",
     "output_type": "stream",
     "text": [
      "\n"
     ]
    },
    {
     "name": "stdout",
     "output_type": "stream",
     "text": [
      "7\n",
      "------------------------------\n",
      "{'experiment': 'noisy', 'n_train': 1000, 'n_val': 100, 'n_test': 3000, 'n_trees': 1000, 'clf_path': 'C:\\\\Users\\\\yf-su\\\\Desktop\\\\XAI\\\\df_oob\\\\openml_dataset', 'openml_clf_path': 'C:\\\\Users\\\\yf-su\\\\Desktop\\\\XAI\\\\df_oob\\\\openml_dataset', 'openml_reg_path': 'C:\\\\Users\\\\yf-su\\\\Desktop\\\\XAI\\\\df_oob\\\\openml_dataset', 'is_noisy': 0.1, 'model_family': 'Tree', 'run_id': 7}\n",
      "--------------------------------------------------\n",
      "law-school-admission-bianry\n",
      "--------------------------------------------------\n",
      "Train X: (1000, 6)\n",
      "Val X: (100, 6)\n",
      "Test X: (3000, 6)\n",
      "------------------------------\n",
      "Start: KNN_Shapley computation\n",
      "Done: KNN_Shapley computation\n",
      "Start: Data-OOB computation\n",
      "Done: Data-OOB computation\n",
      "Start: DF-OOB computation\n"
     ]
    },
    {
     "name": "stderr",
     "output_type": "stream",
     "text": [
      "\r",
      "  0%|                                                                                           | 0/40 [00:00<?, ?it/s]"
     ]
    },
    {
     "name": "stdout",
     "output_type": "stream",
     "text": [
      "Done: DF-OOB computation\n"
     ]
    },
    {
     "name": "stderr",
     "output_type": "stream",
     "text": [
      "100%|██████████████████████████████████████████████████████████████████████████████████| 40/40 [01:24<00:00,  2.12s/it]\n",
      "100%|██████████████████████████████████████████████████████████████████████████████████| 40/40 [01:22<00:00,  2.06s/it]\n",
      "100%|██████████████████████████████████████████████████████████████████████████████████| 40/40 [01:20<00:00,  2.01s/it]\n",
      "100%|██████████████████████████████████████████████████████████████████████████████████| 40/40 [01:28<00:00,  2.22s/it]"
     ]
    },
    {
     "name": "stdout",
     "output_type": "stream",
     "text": [
      "--------------------------------------------------\n",
      "Save results\n",
      "--------------------------------------------------\n",
      "Done! path: C:\\Users\\yf-su\\Desktop\\XAI\\experiments\\point_removal_experiments_lawschool, run_id: 7.\n"
     ]
    },
    {
     "name": "stderr",
     "output_type": "stream",
     "text": [
      "\n"
     ]
    },
    {
     "name": "stdout",
     "output_type": "stream",
     "text": [
      "8\n",
      "------------------------------\n",
      "{'experiment': 'noisy', 'n_train': 1000, 'n_val': 100, 'n_test': 3000, 'n_trees': 1000, 'clf_path': 'C:\\\\Users\\\\yf-su\\\\Desktop\\\\XAI\\\\df_oob\\\\openml_dataset', 'openml_clf_path': 'C:\\\\Users\\\\yf-su\\\\Desktop\\\\XAI\\\\df_oob\\\\openml_dataset', 'openml_reg_path': 'C:\\\\Users\\\\yf-su\\\\Desktop\\\\XAI\\\\df_oob\\\\openml_dataset', 'is_noisy': 0.1, 'model_family': 'Tree', 'run_id': 8}\n",
      "--------------------------------------------------\n",
      "law-school-admission-bianry\n",
      "--------------------------------------------------\n",
      "Train X: (1000, 6)\n",
      "Val X: (100, 6)\n",
      "Test X: (3000, 6)\n",
      "------------------------------\n",
      "Start: KNN_Shapley computation\n",
      "Done: KNN_Shapley computation\n",
      "Start: Data-OOB computation\n",
      "Done: Data-OOB computation\n",
      "Start: DF-OOB computation\n"
     ]
    },
    {
     "name": "stderr",
     "output_type": "stream",
     "text": [
      "\r",
      "  0%|                                                                                           | 0/40 [00:00<?, ?it/s]"
     ]
    },
    {
     "name": "stdout",
     "output_type": "stream",
     "text": [
      "Done: DF-OOB computation\n"
     ]
    },
    {
     "name": "stderr",
     "output_type": "stream",
     "text": [
      "100%|██████████████████████████████████████████████████████████████████████████████████| 40/40 [01:27<00:00,  2.18s/it]\n",
      "100%|██████████████████████████████████████████████████████████████████████████████████| 40/40 [01:24<00:00,  2.11s/it]\n",
      "100%|██████████████████████████████████████████████████████████████████████████████████| 40/40 [01:21<00:00,  2.04s/it]\n",
      "100%|██████████████████████████████████████████████████████████████████████████████████| 40/40 [01:29<00:00,  2.23s/it]"
     ]
    },
    {
     "name": "stdout",
     "output_type": "stream",
     "text": [
      "--------------------------------------------------\n",
      "Save results\n",
      "--------------------------------------------------\n",
      "Done! path: C:\\Users\\yf-su\\Desktop\\XAI\\experiments\\point_removal_experiments_lawschool, run_id: 8.\n"
     ]
    },
    {
     "name": "stderr",
     "output_type": "stream",
     "text": [
      "\n"
     ]
    },
    {
     "name": "stdout",
     "output_type": "stream",
     "text": [
      "9\n",
      "------------------------------\n",
      "{'experiment': 'noisy', 'n_train': 1000, 'n_val': 100, 'n_test': 3000, 'n_trees': 1000, 'clf_path': 'C:\\\\Users\\\\yf-su\\\\Desktop\\\\XAI\\\\df_oob\\\\openml_dataset', 'openml_clf_path': 'C:\\\\Users\\\\yf-su\\\\Desktop\\\\XAI\\\\df_oob\\\\openml_dataset', 'openml_reg_path': 'C:\\\\Users\\\\yf-su\\\\Desktop\\\\XAI\\\\df_oob\\\\openml_dataset', 'is_noisy': 0.1, 'model_family': 'Tree', 'run_id': 9}\n",
      "--------------------------------------------------\n",
      "law-school-admission-bianry\n",
      "--------------------------------------------------\n",
      "Train X: (1000, 6)\n",
      "Val X: (100, 6)\n",
      "Test X: (3000, 6)\n",
      "------------------------------\n",
      "Start: KNN_Shapley computation\n",
      "Done: KNN_Shapley computation\n",
      "Start: Data-OOB computation\n",
      "Done: Data-OOB computation\n",
      "Start: DF-OOB computation\n"
     ]
    },
    {
     "name": "stderr",
     "output_type": "stream",
     "text": [
      "\r",
      "  0%|                                                                                           | 0/40 [00:00<?, ?it/s]"
     ]
    },
    {
     "name": "stdout",
     "output_type": "stream",
     "text": [
      "Done: DF-OOB computation\n"
     ]
    },
    {
     "name": "stderr",
     "output_type": "stream",
     "text": [
      "100%|██████████████████████████████████████████████████████████████████████████████████| 40/40 [01:27<00:00,  2.20s/it]\n",
      "100%|██████████████████████████████████████████████████████████████████████████████████| 40/40 [01:22<00:00,  2.07s/it]\n",
      "100%|██████████████████████████████████████████████████████████████████████████████████| 40/40 [01:22<00:00,  2.07s/it]\n",
      "100%|██████████████████████████████████████████████████████████████████████████████████| 40/40 [01:27<00:00,  2.18s/it]"
     ]
    },
    {
     "name": "stdout",
     "output_type": "stream",
     "text": [
      "--------------------------------------------------\n",
      "Save results\n",
      "--------------------------------------------------\n",
      "Done! path: C:\\Users\\yf-su\\Desktop\\XAI\\experiments\\point_removal_experiments_lawschool, run_id: 9.\n"
     ]
    },
    {
     "name": "stderr",
     "output_type": "stream",
     "text": [
      "\n"
     ]
    },
    {
     "name": "stdout",
     "output_type": "stream",
     "text": [
      "0\n",
      "------------------------------\n",
      "{'experiment': 'noisy', 'n_train': 1000, 'n_val': 100, 'n_test': 3000, 'n_trees': 1000, 'clf_path': 'C:\\\\Users\\\\yf-su\\\\Desktop\\\\XAI\\\\df_oob\\\\openml_dataset', 'openml_clf_path': 'C:\\\\Users\\\\yf-su\\\\Desktop\\\\XAI\\\\df_oob\\\\openml_dataset', 'openml_reg_path': 'C:\\\\Users\\\\yf-su\\\\Desktop\\\\XAI\\\\df_oob\\\\openml_dataset', 'is_noisy': 0.1, 'model_family': 'Tree', 'run_id': 0}\n",
      "--------------------------------------------------\n",
      "fried\n",
      "--------------------------------------------------\n",
      "Train X: (1000, 10)\n",
      "Val X: (100, 10)\n",
      "Test X: (3000, 10)\n",
      "------------------------------\n",
      "Start: KNN_Shapley computation\n",
      "Done: KNN_Shapley computation\n",
      "Start: Data-OOB computation\n",
      "Done: Data-OOB computation\n",
      "Start: DF-OOB computation\n"
     ]
    },
    {
     "name": "stderr",
     "output_type": "stream",
     "text": [
      "\r",
      "  0%|                                                                                           | 0/40 [00:00<?, ?it/s]"
     ]
    },
    {
     "name": "stdout",
     "output_type": "stream",
     "text": [
      "Done: DF-OOB computation\n"
     ]
    },
    {
     "name": "stderr",
     "output_type": "stream",
     "text": [
      "100%|██████████████████████████████████████████████████████████████████████████████████| 40/40 [02:30<00:00,  3.76s/it]\n",
      "100%|██████████████████████████████████████████████████████████████████████████████████| 40/40 [02:22<00:00,  3.57s/it]\n",
      "100%|██████████████████████████████████████████████████████████████████████████████████| 40/40 [02:18<00:00,  3.46s/it]\n",
      "100%|██████████████████████████████████████████████████████████████████████████████████| 40/40 [02:38<00:00,  3.96s/it]"
     ]
    },
    {
     "name": "stdout",
     "output_type": "stream",
     "text": [
      "--------------------------------------------------\n",
      "Save results\n",
      "--------------------------------------------------\n",
      "Done! path: C:\\Users\\yf-su\\Desktop\\XAI\\experiments\\point_removal_experiments_fried, run_id: 0.\n"
     ]
    },
    {
     "name": "stderr",
     "output_type": "stream",
     "text": [
      "\n"
     ]
    },
    {
     "name": "stdout",
     "output_type": "stream",
     "text": [
      "1\n",
      "------------------------------\n",
      "{'experiment': 'noisy', 'n_train': 1000, 'n_val': 100, 'n_test': 3000, 'n_trees': 1000, 'clf_path': 'C:\\\\Users\\\\yf-su\\\\Desktop\\\\XAI\\\\df_oob\\\\openml_dataset', 'openml_clf_path': 'C:\\\\Users\\\\yf-su\\\\Desktop\\\\XAI\\\\df_oob\\\\openml_dataset', 'openml_reg_path': 'C:\\\\Users\\\\yf-su\\\\Desktop\\\\XAI\\\\df_oob\\\\openml_dataset', 'is_noisy': 0.1, 'model_family': 'Tree', 'run_id': 1}\n",
      "--------------------------------------------------\n",
      "fried\n",
      "--------------------------------------------------\n",
      "Train X: (1000, 10)\n",
      "Val X: (100, 10)\n",
      "Test X: (3000, 10)\n",
      "------------------------------\n",
      "Start: KNN_Shapley computation\n",
      "Done: KNN_Shapley computation\n",
      "Start: Data-OOB computation\n",
      "Done: Data-OOB computation\n",
      "Start: DF-OOB computation\n"
     ]
    },
    {
     "name": "stderr",
     "output_type": "stream",
     "text": [
      "\r",
      "  0%|                                                                                           | 0/40 [00:00<?, ?it/s]"
     ]
    },
    {
     "name": "stdout",
     "output_type": "stream",
     "text": [
      "Done: DF-OOB computation\n"
     ]
    },
    {
     "name": "stderr",
     "output_type": "stream",
     "text": [
      "100%|██████████████████████████████████████████████████████████████████████████████████| 40/40 [02:25<00:00,  3.63s/it]\n",
      "100%|██████████████████████████████████████████████████████████████████████████████████| 40/40 [02:24<00:00,  3.61s/it]\n",
      "100%|██████████████████████████████████████████████████████████████████████████████████| 40/40 [02:21<00:00,  3.54s/it]\n",
      "100%|██████████████████████████████████████████████████████████████████████████████████| 40/40 [02:35<00:00,  3.90s/it]"
     ]
    },
    {
     "name": "stdout",
     "output_type": "stream",
     "text": [
      "--------------------------------------------------\n",
      "Save results\n",
      "--------------------------------------------------\n",
      "Done! path: C:\\Users\\yf-su\\Desktop\\XAI\\experiments\\point_removal_experiments_fried, run_id: 1.\n"
     ]
    },
    {
     "name": "stderr",
     "output_type": "stream",
     "text": [
      "\n"
     ]
    },
    {
     "name": "stdout",
     "output_type": "stream",
     "text": [
      "2\n",
      "------------------------------\n",
      "{'experiment': 'noisy', 'n_train': 1000, 'n_val': 100, 'n_test': 3000, 'n_trees': 1000, 'clf_path': 'C:\\\\Users\\\\yf-su\\\\Desktop\\\\XAI\\\\df_oob\\\\openml_dataset', 'openml_clf_path': 'C:\\\\Users\\\\yf-su\\\\Desktop\\\\XAI\\\\df_oob\\\\openml_dataset', 'openml_reg_path': 'C:\\\\Users\\\\yf-su\\\\Desktop\\\\XAI\\\\df_oob\\\\openml_dataset', 'is_noisy': 0.1, 'model_family': 'Tree', 'run_id': 2}\n",
      "--------------------------------------------------\n",
      "fried\n",
      "--------------------------------------------------\n",
      "Train X: (1000, 10)\n",
      "Val X: (100, 10)\n",
      "Test X: (3000, 10)\n",
      "------------------------------\n",
      "Start: KNN_Shapley computation\n",
      "Done: KNN_Shapley computation\n",
      "Start: Data-OOB computation\n",
      "Done: Data-OOB computation\n",
      "Start: DF-OOB computation\n"
     ]
    },
    {
     "name": "stderr",
     "output_type": "stream",
     "text": [
      "\r",
      "  0%|                                                                                           | 0/40 [00:00<?, ?it/s]"
     ]
    },
    {
     "name": "stdout",
     "output_type": "stream",
     "text": [
      "Done: DF-OOB computation\n"
     ]
    },
    {
     "name": "stderr",
     "output_type": "stream",
     "text": [
      "100%|██████████████████████████████████████████████████████████████████████████████████| 40/40 [02:31<00:00,  3.78s/it]\n",
      "100%|██████████████████████████████████████████████████████████████████████████████████| 40/40 [02:20<00:00,  3.51s/it]\n",
      "100%|██████████████████████████████████████████████████████████████████████████████████| 40/40 [02:22<00:00,  3.57s/it]\n",
      "100%|██████████████████████████████████████████████████████████████████████████████████| 40/40 [02:39<00:00,  3.99s/it]"
     ]
    },
    {
     "name": "stdout",
     "output_type": "stream",
     "text": [
      "--------------------------------------------------\n",
      "Save results\n",
      "--------------------------------------------------\n",
      "Done! path: C:\\Users\\yf-su\\Desktop\\XAI\\experiments\\point_removal_experiments_fried, run_id: 2.\n"
     ]
    },
    {
     "name": "stderr",
     "output_type": "stream",
     "text": [
      "\n"
     ]
    },
    {
     "name": "stdout",
     "output_type": "stream",
     "text": [
      "3\n",
      "------------------------------\n",
      "{'experiment': 'noisy', 'n_train': 1000, 'n_val': 100, 'n_test': 3000, 'n_trees': 1000, 'clf_path': 'C:\\\\Users\\\\yf-su\\\\Desktop\\\\XAI\\\\df_oob\\\\openml_dataset', 'openml_clf_path': 'C:\\\\Users\\\\yf-su\\\\Desktop\\\\XAI\\\\df_oob\\\\openml_dataset', 'openml_reg_path': 'C:\\\\Users\\\\yf-su\\\\Desktop\\\\XAI\\\\df_oob\\\\openml_dataset', 'is_noisy': 0.1, 'model_family': 'Tree', 'run_id': 3}\n",
      "--------------------------------------------------\n",
      "fried\n",
      "--------------------------------------------------\n",
      "Train X: (1000, 10)\n",
      "Val X: (100, 10)\n",
      "Test X: (3000, 10)\n",
      "------------------------------\n",
      "Start: KNN_Shapley computation\n",
      "Done: KNN_Shapley computation\n",
      "Start: Data-OOB computation\n",
      "Done: Data-OOB computation\n",
      "Start: DF-OOB computation\n"
     ]
    },
    {
     "name": "stderr",
     "output_type": "stream",
     "text": [
      "\r",
      "  0%|                                                                                           | 0/40 [00:00<?, ?it/s]"
     ]
    },
    {
     "name": "stdout",
     "output_type": "stream",
     "text": [
      "Done: DF-OOB computation\n"
     ]
    },
    {
     "name": "stderr",
     "output_type": "stream",
     "text": [
      "100%|██████████████████████████████████████████████████████████████████████████████████| 40/40 [02:23<00:00,  3.60s/it]\n",
      "100%|██████████████████████████████████████████████████████████████████████████████████| 40/40 [02:20<00:00,  3.51s/it]\n",
      "100%|██████████████████████████████████████████████████████████████████████████████████| 40/40 [02:19<00:00,  3.49s/it]\n",
      "100%|██████████████████████████████████████████████████████████████████████████████████| 40/40 [02:38<00:00,  3.95s/it]"
     ]
    },
    {
     "name": "stdout",
     "output_type": "stream",
     "text": [
      "--------------------------------------------------\n",
      "Save results\n",
      "--------------------------------------------------\n",
      "Done! path: C:\\Users\\yf-su\\Desktop\\XAI\\experiments\\point_removal_experiments_fried, run_id: 3.\n"
     ]
    },
    {
     "name": "stderr",
     "output_type": "stream",
     "text": [
      "\n"
     ]
    },
    {
     "name": "stdout",
     "output_type": "stream",
     "text": [
      "4\n",
      "------------------------------\n",
      "{'experiment': 'noisy', 'n_train': 1000, 'n_val': 100, 'n_test': 3000, 'n_trees': 1000, 'clf_path': 'C:\\\\Users\\\\yf-su\\\\Desktop\\\\XAI\\\\df_oob\\\\openml_dataset', 'openml_clf_path': 'C:\\\\Users\\\\yf-su\\\\Desktop\\\\XAI\\\\df_oob\\\\openml_dataset', 'openml_reg_path': 'C:\\\\Users\\\\yf-su\\\\Desktop\\\\XAI\\\\df_oob\\\\openml_dataset', 'is_noisy': 0.1, 'model_family': 'Tree', 'run_id': 4}\n",
      "--------------------------------------------------\n",
      "fried\n",
      "--------------------------------------------------\n",
      "Train X: (1000, 10)\n",
      "Val X: (100, 10)\n",
      "Test X: (3000, 10)\n",
      "------------------------------\n",
      "Start: KNN_Shapley computation\n",
      "Done: KNN_Shapley computation\n",
      "Start: Data-OOB computation\n",
      "Done: Data-OOB computation\n",
      "Start: DF-OOB computation\n"
     ]
    },
    {
     "name": "stderr",
     "output_type": "stream",
     "text": [
      "\r",
      "  0%|                                                                                           | 0/40 [00:00<?, ?it/s]"
     ]
    },
    {
     "name": "stdout",
     "output_type": "stream",
     "text": [
      "Done: DF-OOB computation\n"
     ]
    },
    {
     "name": "stderr",
     "output_type": "stream",
     "text": [
      "100%|██████████████████████████████████████████████████████████████████████████████████| 40/40 [02:26<00:00,  3.67s/it]\n",
      "100%|██████████████████████████████████████████████████████████████████████████████████| 40/40 [02:19<00:00,  3.48s/it]\n",
      "100%|██████████████████████████████████████████████████████████████████████████████████| 40/40 [02:21<00:00,  3.53s/it]\n",
      "100%|██████████████████████████████████████████████████████████████████████████████████| 40/40 [02:37<00:00,  3.93s/it]"
     ]
    },
    {
     "name": "stdout",
     "output_type": "stream",
     "text": [
      "--------------------------------------------------\n",
      "Save results\n",
      "--------------------------------------------------\n",
      "Done! path: C:\\Users\\yf-su\\Desktop\\XAI\\experiments\\point_removal_experiments_fried, run_id: 4.\n"
     ]
    },
    {
     "name": "stderr",
     "output_type": "stream",
     "text": [
      "\n"
     ]
    },
    {
     "name": "stdout",
     "output_type": "stream",
     "text": [
      "5\n",
      "------------------------------\n",
      "{'experiment': 'noisy', 'n_train': 1000, 'n_val': 100, 'n_test': 3000, 'n_trees': 1000, 'clf_path': 'C:\\\\Users\\\\yf-su\\\\Desktop\\\\XAI\\\\df_oob\\\\openml_dataset', 'openml_clf_path': 'C:\\\\Users\\\\yf-su\\\\Desktop\\\\XAI\\\\df_oob\\\\openml_dataset', 'openml_reg_path': 'C:\\\\Users\\\\yf-su\\\\Desktop\\\\XAI\\\\df_oob\\\\openml_dataset', 'is_noisy': 0.1, 'model_family': 'Tree', 'run_id': 5}\n",
      "--------------------------------------------------\n",
      "fried\n",
      "--------------------------------------------------\n",
      "Train X: (1000, 10)\n",
      "Val X: (100, 10)\n",
      "Test X: (3000, 10)\n",
      "------------------------------\n",
      "Start: KNN_Shapley computation\n",
      "Done: KNN_Shapley computation\n",
      "Start: Data-OOB computation\n",
      "Done: Data-OOB computation\n",
      "Start: DF-OOB computation\n"
     ]
    },
    {
     "name": "stderr",
     "output_type": "stream",
     "text": [
      "\r",
      "  0%|                                                                                           | 0/40 [00:00<?, ?it/s]"
     ]
    },
    {
     "name": "stdout",
     "output_type": "stream",
     "text": [
      "Done: DF-OOB computation\n"
     ]
    },
    {
     "name": "stderr",
     "output_type": "stream",
     "text": [
      "100%|██████████████████████████████████████████████████████████████████████████████████| 40/40 [02:28<00:00,  3.71s/it]\n",
      "100%|██████████████████████████████████████████████████████████████████████████████████| 40/40 [02:20<00:00,  3.51s/it]\n",
      "100%|██████████████████████████████████████████████████████████████████████████████████| 40/40 [02:20<00:00,  3.51s/it]\n",
      "100%|██████████████████████████████████████████████████████████████████████████████████| 40/40 [02:35<00:00,  3.88s/it]"
     ]
    },
    {
     "name": "stdout",
     "output_type": "stream",
     "text": [
      "--------------------------------------------------\n",
      "Save results\n",
      "--------------------------------------------------\n",
      "Done! path: C:\\Users\\yf-su\\Desktop\\XAI\\experiments\\point_removal_experiments_fried, run_id: 5.\n"
     ]
    },
    {
     "name": "stderr",
     "output_type": "stream",
     "text": [
      "\n"
     ]
    },
    {
     "name": "stdout",
     "output_type": "stream",
     "text": [
      "6\n",
      "------------------------------\n",
      "{'experiment': 'noisy', 'n_train': 1000, 'n_val': 100, 'n_test': 3000, 'n_trees': 1000, 'clf_path': 'C:\\\\Users\\\\yf-su\\\\Desktop\\\\XAI\\\\df_oob\\\\openml_dataset', 'openml_clf_path': 'C:\\\\Users\\\\yf-su\\\\Desktop\\\\XAI\\\\df_oob\\\\openml_dataset', 'openml_reg_path': 'C:\\\\Users\\\\yf-su\\\\Desktop\\\\XAI\\\\df_oob\\\\openml_dataset', 'is_noisy': 0.1, 'model_family': 'Tree', 'run_id': 6}\n",
      "--------------------------------------------------\n",
      "fried\n",
      "--------------------------------------------------\n",
      "Train X: (1000, 10)\n",
      "Val X: (100, 10)\n",
      "Test X: (3000, 10)\n",
      "------------------------------\n",
      "Start: KNN_Shapley computation\n",
      "Done: KNN_Shapley computation\n",
      "Start: Data-OOB computation\n",
      "Done: Data-OOB computation\n",
      "Start: DF-OOB computation\n"
     ]
    },
    {
     "name": "stderr",
     "output_type": "stream",
     "text": [
      "\r",
      "  0%|                                                                                           | 0/40 [00:00<?, ?it/s]"
     ]
    },
    {
     "name": "stdout",
     "output_type": "stream",
     "text": [
      "Done: DF-OOB computation\n"
     ]
    },
    {
     "name": "stderr",
     "output_type": "stream",
     "text": [
      "100%|██████████████████████████████████████████████████████████████████████████████████| 40/40 [02:34<00:00,  3.87s/it]\n",
      "100%|██████████████████████████████████████████████████████████████████████████████████| 40/40 [02:23<00:00,  3.60s/it]\n",
      "100%|██████████████████████████████████████████████████████████████████████████████████| 40/40 [02:24<00:00,  3.60s/it]\n",
      "100%|██████████████████████████████████████████████████████████████████████████████████| 40/40 [02:30<00:00,  3.76s/it]"
     ]
    },
    {
     "name": "stdout",
     "output_type": "stream",
     "text": [
      "--------------------------------------------------\n",
      "Save results\n",
      "--------------------------------------------------\n",
      "Done! path: C:\\Users\\yf-su\\Desktop\\XAI\\experiments\\point_removal_experiments_fried, run_id: 6.\n"
     ]
    },
    {
     "name": "stderr",
     "output_type": "stream",
     "text": [
      "\n"
     ]
    },
    {
     "name": "stdout",
     "output_type": "stream",
     "text": [
      "7\n",
      "------------------------------\n",
      "{'experiment': 'noisy', 'n_train': 1000, 'n_val': 100, 'n_test': 3000, 'n_trees': 1000, 'clf_path': 'C:\\\\Users\\\\yf-su\\\\Desktop\\\\XAI\\\\df_oob\\\\openml_dataset', 'openml_clf_path': 'C:\\\\Users\\\\yf-su\\\\Desktop\\\\XAI\\\\df_oob\\\\openml_dataset', 'openml_reg_path': 'C:\\\\Users\\\\yf-su\\\\Desktop\\\\XAI\\\\df_oob\\\\openml_dataset', 'is_noisy': 0.1, 'model_family': 'Tree', 'run_id': 7}\n",
      "--------------------------------------------------\n",
      "fried\n",
      "--------------------------------------------------\n",
      "Train X: (1000, 10)\n",
      "Val X: (100, 10)\n",
      "Test X: (3000, 10)\n",
      "------------------------------\n",
      "Start: KNN_Shapley computation\n",
      "Done: KNN_Shapley computation\n",
      "Start: Data-OOB computation\n",
      "Done: Data-OOB computation\n",
      "Start: DF-OOB computation\n"
     ]
    },
    {
     "name": "stderr",
     "output_type": "stream",
     "text": [
      "\r",
      "  0%|                                                                                           | 0/40 [00:00<?, ?it/s]"
     ]
    },
    {
     "name": "stdout",
     "output_type": "stream",
     "text": [
      "Done: DF-OOB computation\n"
     ]
    },
    {
     "name": "stderr",
     "output_type": "stream",
     "text": [
      "100%|██████████████████████████████████████████████████████████████████████████████████| 40/40 [01:40<00:00,  2.52s/it]\n",
      "100%|██████████████████████████████████████████████████████████████████████████████████| 40/40 [02:02<00:00,  3.07s/it]\n",
      "100%|██████████████████████████████████████████████████████████████████████████████████| 40/40 [02:09<00:00,  3.23s/it]\n",
      "100%|██████████████████████████████████████████████████████████████████████████████████| 40/40 [02:03<00:00,  3.08s/it]"
     ]
    },
    {
     "name": "stdout",
     "output_type": "stream",
     "text": [
      "--------------------------------------------------\n",
      "Save results\n",
      "--------------------------------------------------\n",
      "Done! path: C:\\Users\\yf-su\\Desktop\\XAI\\experiments\\point_removal_experiments_fried, run_id: 7.\n"
     ]
    },
    {
     "name": "stderr",
     "output_type": "stream",
     "text": [
      "\n"
     ]
    },
    {
     "name": "stdout",
     "output_type": "stream",
     "text": [
      "8\n",
      "------------------------------\n",
      "{'experiment': 'noisy', 'n_train': 1000, 'n_val': 100, 'n_test': 3000, 'n_trees': 1000, 'clf_path': 'C:\\\\Users\\\\yf-su\\\\Desktop\\\\XAI\\\\df_oob\\\\openml_dataset', 'openml_clf_path': 'C:\\\\Users\\\\yf-su\\\\Desktop\\\\XAI\\\\df_oob\\\\openml_dataset', 'openml_reg_path': 'C:\\\\Users\\\\yf-su\\\\Desktop\\\\XAI\\\\df_oob\\\\openml_dataset', 'is_noisy': 0.1, 'model_family': 'Tree', 'run_id': 8}\n",
      "--------------------------------------------------\n",
      "fried\n",
      "--------------------------------------------------\n",
      "Train X: (1000, 10)\n",
      "Val X: (100, 10)\n",
      "Test X: (3000, 10)\n",
      "------------------------------\n",
      "Start: KNN_Shapley computation\n",
      "Done: KNN_Shapley computation\n",
      "Start: Data-OOB computation\n",
      "Done: Data-OOB computation\n",
      "Start: DF-OOB computation\n"
     ]
    },
    {
     "name": "stderr",
     "output_type": "stream",
     "text": [
      "\r",
      "  0%|                                                                                           | 0/40 [00:00<?, ?it/s]"
     ]
    },
    {
     "name": "stdout",
     "output_type": "stream",
     "text": [
      "Done: DF-OOB computation\n"
     ]
    },
    {
     "name": "stderr",
     "output_type": "stream",
     "text": [
      "100%|██████████████████████████████████████████████████████████████████████████████████| 40/40 [02:13<00:00,  3.34s/it]\n",
      "100%|██████████████████████████████████████████████████████████████████████████████████| 40/40 [01:44<00:00,  2.62s/it]\n",
      "100%|██████████████████████████████████████████████████████████████████████████████████| 40/40 [01:37<00:00,  2.43s/it]\n",
      "100%|██████████████████████████████████████████████████████████████████████████████████| 40/40 [01:38<00:00,  2.47s/it]"
     ]
    },
    {
     "name": "stdout",
     "output_type": "stream",
     "text": [
      "--------------------------------------------------\n",
      "Save results\n",
      "--------------------------------------------------\n",
      "Done! path: C:\\Users\\yf-su\\Desktop\\XAI\\experiments\\point_removal_experiments_fried, run_id: 8.\n"
     ]
    },
    {
     "name": "stderr",
     "output_type": "stream",
     "text": [
      "\n"
     ]
    },
    {
     "name": "stdout",
     "output_type": "stream",
     "text": [
      "9\n",
      "------------------------------\n",
      "{'experiment': 'noisy', 'n_train': 1000, 'n_val': 100, 'n_test': 3000, 'n_trees': 1000, 'clf_path': 'C:\\\\Users\\\\yf-su\\\\Desktop\\\\XAI\\\\df_oob\\\\openml_dataset', 'openml_clf_path': 'C:\\\\Users\\\\yf-su\\\\Desktop\\\\XAI\\\\df_oob\\\\openml_dataset', 'openml_reg_path': 'C:\\\\Users\\\\yf-su\\\\Desktop\\\\XAI\\\\df_oob\\\\openml_dataset', 'is_noisy': 0.1, 'model_family': 'Tree', 'run_id': 9}\n",
      "--------------------------------------------------\n",
      "fried\n",
      "--------------------------------------------------\n",
      "Train X: (1000, 10)\n",
      "Val X: (100, 10)\n",
      "Test X: (3000, 10)\n",
      "------------------------------\n",
      "Start: KNN_Shapley computation\n",
      "Done: KNN_Shapley computation\n",
      "Start: Data-OOB computation\n",
      "Done: Data-OOB computation\n",
      "Start: DF-OOB computation\n"
     ]
    },
    {
     "name": "stderr",
     "output_type": "stream",
     "text": [
      "\r",
      "  0%|                                                                                           | 0/40 [00:00<?, ?it/s]"
     ]
    },
    {
     "name": "stdout",
     "output_type": "stream",
     "text": [
      "Done: DF-OOB computation\n"
     ]
    },
    {
     "name": "stderr",
     "output_type": "stream",
     "text": [
      "100%|██████████████████████████████████████████████████████████████████████████████████| 40/40 [01:26<00:00,  2.17s/it]\n",
      "100%|██████████████████████████████████████████████████████████████████████████████████| 40/40 [01:52<00:00,  2.81s/it]\n",
      "100%|██████████████████████████████████████████████████████████████████████████████████| 40/40 [02:05<00:00,  3.14s/it]\n",
      "100%|██████████████████████████████████████████████████████████████████████████████████| 40/40 [02:27<00:00,  3.70s/it]"
     ]
    },
    {
     "name": "stdout",
     "output_type": "stream",
     "text": [
      "--------------------------------------------------\n",
      "Save results\n",
      "--------------------------------------------------\n",
      "Done! path: C:\\Users\\yf-su\\Desktop\\XAI\\experiments\\point_removal_experiments_fried, run_id: 9.\n"
     ]
    },
    {
     "name": "stderr",
     "output_type": "stream",
     "text": [
      "\n"
     ]
    },
    {
     "name": "stdout",
     "output_type": "stream",
     "text": [
      "0\n",
      "------------------------------\n",
      "{'experiment': 'noisy', 'n_train': 1000, 'n_val': 100, 'n_test': 3000, 'n_trees': 1000, 'clf_path': 'C:\\\\Users\\\\yf-su\\\\Desktop\\\\XAI\\\\df_oob\\\\openml_dataset', 'openml_clf_path': 'C:\\\\Users\\\\yf-su\\\\Desktop\\\\XAI\\\\df_oob\\\\openml_dataset', 'openml_reg_path': 'C:\\\\Users\\\\yf-su\\\\Desktop\\\\XAI\\\\df_oob\\\\openml_dataset', 'is_noisy': 0.1, 'model_family': 'Tree', 'run_id': 0}\n",
      "--------------------------------------------------\n",
      "vehicle_sensIT\n",
      "--------------------------------------------------\n",
      "Train X: (1000, 100)\n",
      "Val X: (100, 100)\n",
      "Test X: (3000, 100)\n",
      "------------------------------\n",
      "Start: KNN_Shapley computation\n",
      "Done: KNN_Shapley computation\n",
      "Start: Data-OOB computation\n",
      "Done: Data-OOB computation\n",
      "Start: DF-OOB computation\n"
     ]
    },
    {
     "name": "stderr",
     "output_type": "stream",
     "text": [
      "\r",
      "  0%|                                                                                           | 0/40 [00:00<?, ?it/s]"
     ]
    },
    {
     "name": "stdout",
     "output_type": "stream",
     "text": [
      "Done: DF-OOB computation\n"
     ]
    },
    {
     "name": "stderr",
     "output_type": "stream",
     "text": [
      "100%|██████████████████████████████████████████████████████████████████████████████████| 40/40 [02:49<00:00,  4.24s/it]\n",
      "100%|██████████████████████████████████████████████████████████████████████████████████| 40/40 [02:26<00:00,  3.66s/it]\n",
      "100%|██████████████████████████████████████████████████████████████████████████████████| 40/40 [02:26<00:00,  3.66s/it]\n",
      "100%|██████████████████████████████████████████████████████████████████████████████████| 40/40 [02:39<00:00,  4.00s/it]"
     ]
    },
    {
     "name": "stdout",
     "output_type": "stream",
     "text": [
      "--------------------------------------------------\n",
      "Save results\n",
      "--------------------------------------------------\n",
      "Done! path: C:\\Users\\yf-su\\Desktop\\XAI\\experiments\\point_removal_experiments_vehicle_sensIT, run_id: 0.\n"
     ]
    },
    {
     "name": "stderr",
     "output_type": "stream",
     "text": [
      "\n"
     ]
    },
    {
     "name": "stdout",
     "output_type": "stream",
     "text": [
      "1\n",
      "------------------------------\n",
      "{'experiment': 'noisy', 'n_train': 1000, 'n_val': 100, 'n_test': 3000, 'n_trees': 1000, 'clf_path': 'C:\\\\Users\\\\yf-su\\\\Desktop\\\\XAI\\\\df_oob\\\\openml_dataset', 'openml_clf_path': 'C:\\\\Users\\\\yf-su\\\\Desktop\\\\XAI\\\\df_oob\\\\openml_dataset', 'openml_reg_path': 'C:\\\\Users\\\\yf-su\\\\Desktop\\\\XAI\\\\df_oob\\\\openml_dataset', 'is_noisy': 0.1, 'model_family': 'Tree', 'run_id': 1}\n",
      "--------------------------------------------------\n",
      "vehicle_sensIT\n",
      "--------------------------------------------------\n",
      "Train X: (1000, 100)\n",
      "Val X: (100, 100)\n",
      "Test X: (3000, 100)\n",
      "------------------------------\n",
      "Start: KNN_Shapley computation\n",
      "Done: KNN_Shapley computation\n",
      "Start: Data-OOB computation\n",
      "Done: Data-OOB computation\n",
      "Start: DF-OOB computation\n"
     ]
    },
    {
     "name": "stderr",
     "output_type": "stream",
     "text": [
      "\r",
      "  0%|                                                                                           | 0/40 [00:00<?, ?it/s]"
     ]
    },
    {
     "name": "stdout",
     "output_type": "stream",
     "text": [
      "Done: DF-OOB computation\n"
     ]
    },
    {
     "name": "stderr",
     "output_type": "stream",
     "text": [
      "100%|██████████████████████████████████████████████████████████████████████████████████| 40/40 [02:47<00:00,  4.19s/it]\n",
      "100%|██████████████████████████████████████████████████████████████████████████████████| 40/40 [02:23<00:00,  3.59s/it]\n",
      "100%|██████████████████████████████████████████████████████████████████████████████████| 40/40 [02:22<00:00,  3.56s/it]\n",
      "100%|██████████████████████████████████████████████████████████████████████████████████| 40/40 [02:47<00:00,  4.18s/it]"
     ]
    },
    {
     "name": "stdout",
     "output_type": "stream",
     "text": [
      "--------------------------------------------------\n",
      "Save results\n",
      "--------------------------------------------------\n",
      "Done! path: C:\\Users\\yf-su\\Desktop\\XAI\\experiments\\point_removal_experiments_vehicle_sensIT, run_id: 1.\n"
     ]
    },
    {
     "name": "stderr",
     "output_type": "stream",
     "text": [
      "\n"
     ]
    },
    {
     "name": "stdout",
     "output_type": "stream",
     "text": [
      "2\n",
      "------------------------------\n",
      "{'experiment': 'noisy', 'n_train': 1000, 'n_val': 100, 'n_test': 3000, 'n_trees': 1000, 'clf_path': 'C:\\\\Users\\\\yf-su\\\\Desktop\\\\XAI\\\\df_oob\\\\openml_dataset', 'openml_clf_path': 'C:\\\\Users\\\\yf-su\\\\Desktop\\\\XAI\\\\df_oob\\\\openml_dataset', 'openml_reg_path': 'C:\\\\Users\\\\yf-su\\\\Desktop\\\\XAI\\\\df_oob\\\\openml_dataset', 'is_noisy': 0.1, 'model_family': 'Tree', 'run_id': 2}\n",
      "--------------------------------------------------\n",
      "vehicle_sensIT\n",
      "--------------------------------------------------\n",
      "Train X: (1000, 100)\n",
      "Val X: (100, 100)\n",
      "Test X: (3000, 100)\n",
      "------------------------------\n",
      "Start: KNN_Shapley computation\n",
      "Done: KNN_Shapley computation\n",
      "Start: Data-OOB computation\n",
      "Done: Data-OOB computation\n",
      "Start: DF-OOB computation\n"
     ]
    },
    {
     "name": "stderr",
     "output_type": "stream",
     "text": [
      "\r",
      "  0%|                                                                                           | 0/40 [00:00<?, ?it/s]"
     ]
    },
    {
     "name": "stdout",
     "output_type": "stream",
     "text": [
      "Done: DF-OOB computation\n"
     ]
    },
    {
     "name": "stderr",
     "output_type": "stream",
     "text": [
      "100%|██████████████████████████████████████████████████████████████████████████████████| 40/40 [02:40<00:00,  4.00s/it]\n",
      "100%|██████████████████████████████████████████████████████████████████████████████████| 40/40 [02:22<00:00,  3.57s/it]\n",
      "100%|██████████████████████████████████████████████████████████████████████████████████| 40/40 [02:20<00:00,  3.50s/it]\n",
      "100%|██████████████████████████████████████████████████████████████████████████████████| 40/40 [02:34<00:00,  3.86s/it]"
     ]
    },
    {
     "name": "stdout",
     "output_type": "stream",
     "text": [
      "--------------------------------------------------\n",
      "Save results\n",
      "--------------------------------------------------\n",
      "Done! path: C:\\Users\\yf-su\\Desktop\\XAI\\experiments\\point_removal_experiments_vehicle_sensIT, run_id: 2.\n"
     ]
    },
    {
     "name": "stderr",
     "output_type": "stream",
     "text": [
      "\n"
     ]
    },
    {
     "name": "stdout",
     "output_type": "stream",
     "text": [
      "3\n",
      "------------------------------\n",
      "{'experiment': 'noisy', 'n_train': 1000, 'n_val': 100, 'n_test': 3000, 'n_trees': 1000, 'clf_path': 'C:\\\\Users\\\\yf-su\\\\Desktop\\\\XAI\\\\df_oob\\\\openml_dataset', 'openml_clf_path': 'C:\\\\Users\\\\yf-su\\\\Desktop\\\\XAI\\\\df_oob\\\\openml_dataset', 'openml_reg_path': 'C:\\\\Users\\\\yf-su\\\\Desktop\\\\XAI\\\\df_oob\\\\openml_dataset', 'is_noisy': 0.1, 'model_family': 'Tree', 'run_id': 3}\n",
      "--------------------------------------------------\n",
      "vehicle_sensIT\n",
      "--------------------------------------------------\n",
      "Train X: (1000, 100)\n",
      "Val X: (100, 100)\n",
      "Test X: (3000, 100)\n",
      "------------------------------\n",
      "Start: KNN_Shapley computation\n",
      "Done: KNN_Shapley computation\n",
      "Start: Data-OOB computation\n",
      "Done: Data-OOB computation\n",
      "Start: DF-OOB computation\n"
     ]
    },
    {
     "name": "stderr",
     "output_type": "stream",
     "text": [
      "\r",
      "  0%|                                                                                           | 0/40 [00:00<?, ?it/s]"
     ]
    },
    {
     "name": "stdout",
     "output_type": "stream",
     "text": [
      "Done: DF-OOB computation\n"
     ]
    },
    {
     "name": "stderr",
     "output_type": "stream",
     "text": [
      "100%|██████████████████████████████████████████████████████████████████████████████████| 40/40 [02:45<00:00,  4.15s/it]\n",
      "100%|██████████████████████████████████████████████████████████████████████████████████| 40/40 [02:36<00:00,  3.91s/it]\n",
      "100%|██████████████████████████████████████████████████████████████████████████████████| 40/40 [02:14<00:00,  3.37s/it]\n",
      "100%|██████████████████████████████████████████████████████████████████████████████████| 40/40 [02:47<00:00,  4.18s/it]"
     ]
    },
    {
     "name": "stdout",
     "output_type": "stream",
     "text": [
      "--------------------------------------------------\n",
      "Save results\n",
      "--------------------------------------------------\n",
      "Done! path: C:\\Users\\yf-su\\Desktop\\XAI\\experiments\\point_removal_experiments_vehicle_sensIT, run_id: 3.\n"
     ]
    },
    {
     "name": "stderr",
     "output_type": "stream",
     "text": [
      "\n"
     ]
    },
    {
     "name": "stdout",
     "output_type": "stream",
     "text": [
      "4\n",
      "------------------------------\n",
      "{'experiment': 'noisy', 'n_train': 1000, 'n_val': 100, 'n_test': 3000, 'n_trees': 1000, 'clf_path': 'C:\\\\Users\\\\yf-su\\\\Desktop\\\\XAI\\\\df_oob\\\\openml_dataset', 'openml_clf_path': 'C:\\\\Users\\\\yf-su\\\\Desktop\\\\XAI\\\\df_oob\\\\openml_dataset', 'openml_reg_path': 'C:\\\\Users\\\\yf-su\\\\Desktop\\\\XAI\\\\df_oob\\\\openml_dataset', 'is_noisy': 0.1, 'model_family': 'Tree', 'run_id': 4}\n",
      "--------------------------------------------------\n",
      "vehicle_sensIT\n",
      "--------------------------------------------------\n",
      "Train X: (1000, 100)\n",
      "Val X: (100, 100)\n",
      "Test X: (3000, 100)\n",
      "------------------------------\n",
      "Start: KNN_Shapley computation\n",
      "Done: KNN_Shapley computation\n",
      "Start: Data-OOB computation\n",
      "Done: Data-OOB computation\n",
      "Start: DF-OOB computation\n"
     ]
    },
    {
     "name": "stderr",
     "output_type": "stream",
     "text": [
      "\r",
      "  0%|                                                                                           | 0/40 [00:00<?, ?it/s]"
     ]
    },
    {
     "name": "stdout",
     "output_type": "stream",
     "text": [
      "Done: DF-OOB computation\n"
     ]
    },
    {
     "name": "stderr",
     "output_type": "stream",
     "text": [
      "100%|██████████████████████████████████████████████████████████████████████████████████| 40/40 [02:37<00:00,  3.94s/it]\n",
      "100%|██████████████████████████████████████████████████████████████████████████████████| 40/40 [02:27<00:00,  3.69s/it]\n",
      "100%|██████████████████████████████████████████████████████████████████████████████████| 40/40 [02:24<00:00,  3.61s/it]\n",
      "100%|██████████████████████████████████████████████████████████████████████████████████| 40/40 [02:38<00:00,  3.95s/it]"
     ]
    },
    {
     "name": "stdout",
     "output_type": "stream",
     "text": [
      "--------------------------------------------------\n",
      "Save results\n",
      "--------------------------------------------------\n",
      "Done! path: C:\\Users\\yf-su\\Desktop\\XAI\\experiments\\point_removal_experiments_vehicle_sensIT, run_id: 4.\n"
     ]
    },
    {
     "name": "stderr",
     "output_type": "stream",
     "text": [
      "\n"
     ]
    },
    {
     "name": "stdout",
     "output_type": "stream",
     "text": [
      "5\n",
      "------------------------------\n",
      "{'experiment': 'noisy', 'n_train': 1000, 'n_val': 100, 'n_test': 3000, 'n_trees': 1000, 'clf_path': 'C:\\\\Users\\\\yf-su\\\\Desktop\\\\XAI\\\\df_oob\\\\openml_dataset', 'openml_clf_path': 'C:\\\\Users\\\\yf-su\\\\Desktop\\\\XAI\\\\df_oob\\\\openml_dataset', 'openml_reg_path': 'C:\\\\Users\\\\yf-su\\\\Desktop\\\\XAI\\\\df_oob\\\\openml_dataset', 'is_noisy': 0.1, 'model_family': 'Tree', 'run_id': 5}\n",
      "--------------------------------------------------\n",
      "vehicle_sensIT\n",
      "--------------------------------------------------\n",
      "Train X: (1000, 100)\n",
      "Val X: (100, 100)\n",
      "Test X: (3000, 100)\n",
      "------------------------------\n",
      "Start: KNN_Shapley computation\n",
      "Done: KNN_Shapley computation\n",
      "Start: Data-OOB computation\n",
      "Done: Data-OOB computation\n",
      "Start: DF-OOB computation\n"
     ]
    },
    {
     "name": "stderr",
     "output_type": "stream",
     "text": [
      "\r",
      "  0%|                                                                                           | 0/40 [00:00<?, ?it/s]"
     ]
    },
    {
     "name": "stdout",
     "output_type": "stream",
     "text": [
      "Done: DF-OOB computation\n"
     ]
    },
    {
     "name": "stderr",
     "output_type": "stream",
     "text": [
      "100%|██████████████████████████████████████████████████████████████████████████████████| 40/40 [02:43<00:00,  4.09s/it]\n",
      "100%|██████████████████████████████████████████████████████████████████████████████████| 40/40 [02:20<00:00,  3.51s/it]\n",
      "100%|██████████████████████████████████████████████████████████████████████████████████| 40/40 [02:17<00:00,  3.45s/it]\n",
      "100%|██████████████████████████████████████████████████████████████████████████████████| 40/40 [02:43<00:00,  4.08s/it]"
     ]
    },
    {
     "name": "stdout",
     "output_type": "stream",
     "text": [
      "--------------------------------------------------\n",
      "Save results\n",
      "--------------------------------------------------\n",
      "Done! path: C:\\Users\\yf-su\\Desktop\\XAI\\experiments\\point_removal_experiments_vehicle_sensIT, run_id: 5.\n"
     ]
    },
    {
     "name": "stderr",
     "output_type": "stream",
     "text": [
      "\n"
     ]
    },
    {
     "name": "stdout",
     "output_type": "stream",
     "text": [
      "6\n",
      "------------------------------\n",
      "{'experiment': 'noisy', 'n_train': 1000, 'n_val': 100, 'n_test': 3000, 'n_trees': 1000, 'clf_path': 'C:\\\\Users\\\\yf-su\\\\Desktop\\\\XAI\\\\df_oob\\\\openml_dataset', 'openml_clf_path': 'C:\\\\Users\\\\yf-su\\\\Desktop\\\\XAI\\\\df_oob\\\\openml_dataset', 'openml_reg_path': 'C:\\\\Users\\\\yf-su\\\\Desktop\\\\XAI\\\\df_oob\\\\openml_dataset', 'is_noisy': 0.1, 'model_family': 'Tree', 'run_id': 6}\n",
      "--------------------------------------------------\n",
      "vehicle_sensIT\n",
      "--------------------------------------------------\n",
      "Train X: (1000, 100)\n",
      "Val X: (100, 100)\n",
      "Test X: (3000, 100)\n",
      "------------------------------\n",
      "Start: KNN_Shapley computation\n",
      "Done: KNN_Shapley computation\n",
      "Start: Data-OOB computation\n",
      "Done: Data-OOB computation\n",
      "Start: DF-OOB computation\n"
     ]
    },
    {
     "name": "stderr",
     "output_type": "stream",
     "text": [
      "\r",
      "  0%|                                                                                           | 0/40 [00:00<?, ?it/s]"
     ]
    },
    {
     "name": "stdout",
     "output_type": "stream",
     "text": [
      "Done: DF-OOB computation\n"
     ]
    },
    {
     "name": "stderr",
     "output_type": "stream",
     "text": [
      "100%|██████████████████████████████████████████████████████████████████████████████████| 40/40 [02:33<00:00,  3.85s/it]\n",
      "100%|██████████████████████████████████████████████████████████████████████████████████| 40/40 [02:22<00:00,  3.56s/it]\n",
      "100%|██████████████████████████████████████████████████████████████████████████████████| 40/40 [02:21<00:00,  3.53s/it]\n",
      "100%|██████████████████████████████████████████████████████████████████████████████████| 40/40 [02:37<00:00,  3.93s/it]"
     ]
    },
    {
     "name": "stdout",
     "output_type": "stream",
     "text": [
      "--------------------------------------------------\n",
      "Save results\n",
      "--------------------------------------------------\n",
      "Done! path: C:\\Users\\yf-su\\Desktop\\XAI\\experiments\\point_removal_experiments_vehicle_sensIT, run_id: 6.\n"
     ]
    },
    {
     "name": "stderr",
     "output_type": "stream",
     "text": [
      "\n"
     ]
    },
    {
     "name": "stdout",
     "output_type": "stream",
     "text": [
      "7\n",
      "------------------------------\n",
      "{'experiment': 'noisy', 'n_train': 1000, 'n_val': 100, 'n_test': 3000, 'n_trees': 1000, 'clf_path': 'C:\\\\Users\\\\yf-su\\\\Desktop\\\\XAI\\\\df_oob\\\\openml_dataset', 'openml_clf_path': 'C:\\\\Users\\\\yf-su\\\\Desktop\\\\XAI\\\\df_oob\\\\openml_dataset', 'openml_reg_path': 'C:\\\\Users\\\\yf-su\\\\Desktop\\\\XAI\\\\df_oob\\\\openml_dataset', 'is_noisy': 0.1, 'model_family': 'Tree', 'run_id': 7}\n",
      "--------------------------------------------------\n",
      "vehicle_sensIT\n",
      "--------------------------------------------------\n",
      "Train X: (1000, 100)\n",
      "Val X: (100, 100)\n",
      "Test X: (3000, 100)\n",
      "------------------------------\n",
      "Start: KNN_Shapley computation\n",
      "Done: KNN_Shapley computation\n",
      "Start: Data-OOB computation\n",
      "Done: Data-OOB computation\n",
      "Start: DF-OOB computation\n"
     ]
    },
    {
     "name": "stderr",
     "output_type": "stream",
     "text": [
      "\r",
      "  0%|                                                                                           | 0/40 [00:00<?, ?it/s]"
     ]
    },
    {
     "name": "stdout",
     "output_type": "stream",
     "text": [
      "Done: DF-OOB computation\n"
     ]
    },
    {
     "name": "stderr",
     "output_type": "stream",
     "text": [
      "100%|██████████████████████████████████████████████████████████████████████████████████| 40/40 [02:48<00:00,  4.21s/it]\n",
      "100%|██████████████████████████████████████████████████████████████████████████████████| 40/40 [02:27<00:00,  3.70s/it]\n",
      "100%|██████████████████████████████████████████████████████████████████████████████████| 40/40 [02:18<00:00,  3.47s/it]\n",
      "100%|██████████████████████████████████████████████████████████████████████████████████| 40/40 [02:40<00:00,  4.01s/it]"
     ]
    },
    {
     "name": "stdout",
     "output_type": "stream",
     "text": [
      "--------------------------------------------------\n",
      "Save results\n",
      "--------------------------------------------------\n",
      "Done! path: C:\\Users\\yf-su\\Desktop\\XAI\\experiments\\point_removal_experiments_vehicle_sensIT, run_id: 7.\n"
     ]
    },
    {
     "name": "stderr",
     "output_type": "stream",
     "text": [
      "\n"
     ]
    },
    {
     "name": "stdout",
     "output_type": "stream",
     "text": [
      "8\n",
      "------------------------------\n",
      "{'experiment': 'noisy', 'n_train': 1000, 'n_val': 100, 'n_test': 3000, 'n_trees': 1000, 'clf_path': 'C:\\\\Users\\\\yf-su\\\\Desktop\\\\XAI\\\\df_oob\\\\openml_dataset', 'openml_clf_path': 'C:\\\\Users\\\\yf-su\\\\Desktop\\\\XAI\\\\df_oob\\\\openml_dataset', 'openml_reg_path': 'C:\\\\Users\\\\yf-su\\\\Desktop\\\\XAI\\\\df_oob\\\\openml_dataset', 'is_noisy': 0.1, 'model_family': 'Tree', 'run_id': 8}\n",
      "--------------------------------------------------\n",
      "vehicle_sensIT\n",
      "--------------------------------------------------\n",
      "Train X: (1000, 100)\n",
      "Val X: (100, 100)\n",
      "Test X: (3000, 100)\n",
      "------------------------------\n",
      "Start: KNN_Shapley computation\n",
      "Done: KNN_Shapley computation\n",
      "Start: Data-OOB computation\n",
      "Done: Data-OOB computation\n",
      "Start: DF-OOB computation\n"
     ]
    },
    {
     "name": "stderr",
     "output_type": "stream",
     "text": [
      "\r",
      "  0%|                                                                                           | 0/40 [00:00<?, ?it/s]"
     ]
    },
    {
     "name": "stdout",
     "output_type": "stream",
     "text": [
      "Done: DF-OOB computation\n"
     ]
    },
    {
     "name": "stderr",
     "output_type": "stream",
     "text": [
      "100%|██████████████████████████████████████████████████████████████████████████████████| 40/40 [02:35<00:00,  3.88s/it]\n",
      "100%|██████████████████████████████████████████████████████████████████████████████████| 40/40 [02:15<00:00,  3.39s/it]\n",
      "100%|██████████████████████████████████████████████████████████████████████████████████| 40/40 [02:16<00:00,  3.40s/it]\n",
      "100%|██████████████████████████████████████████████████████████████████████████████████| 40/40 [02:38<00:00,  3.95s/it]"
     ]
    },
    {
     "name": "stdout",
     "output_type": "stream",
     "text": [
      "--------------------------------------------------\n",
      "Save results\n",
      "--------------------------------------------------\n",
      "Done! path: C:\\Users\\yf-su\\Desktop\\XAI\\experiments\\point_removal_experiments_vehicle_sensIT, run_id: 8.\n"
     ]
    },
    {
     "name": "stderr",
     "output_type": "stream",
     "text": [
      "\n"
     ]
    },
    {
     "name": "stdout",
     "output_type": "stream",
     "text": [
      "9\n",
      "------------------------------\n",
      "{'experiment': 'noisy', 'n_train': 1000, 'n_val': 100, 'n_test': 3000, 'n_trees': 1000, 'clf_path': 'C:\\\\Users\\\\yf-su\\\\Desktop\\\\XAI\\\\df_oob\\\\openml_dataset', 'openml_clf_path': 'C:\\\\Users\\\\yf-su\\\\Desktop\\\\XAI\\\\df_oob\\\\openml_dataset', 'openml_reg_path': 'C:\\\\Users\\\\yf-su\\\\Desktop\\\\XAI\\\\df_oob\\\\openml_dataset', 'is_noisy': 0.1, 'model_family': 'Tree', 'run_id': 9}\n",
      "--------------------------------------------------\n",
      "vehicle_sensIT\n",
      "--------------------------------------------------\n",
      "Train X: (1000, 100)\n",
      "Val X: (100, 100)\n",
      "Test X: (3000, 100)\n",
      "------------------------------\n",
      "Start: KNN_Shapley computation\n",
      "Done: KNN_Shapley computation\n",
      "Start: Data-OOB computation\n",
      "Done: Data-OOB computation\n",
      "Start: DF-OOB computation\n"
     ]
    },
    {
     "name": "stderr",
     "output_type": "stream",
     "text": [
      "\r",
      "  0%|                                                                                           | 0/40 [00:00<?, ?it/s]"
     ]
    },
    {
     "name": "stdout",
     "output_type": "stream",
     "text": [
      "Done: DF-OOB computation\n"
     ]
    },
    {
     "name": "stderr",
     "output_type": "stream",
     "text": [
      "100%|██████████████████████████████████████████████████████████████████████████████████| 40/40 [02:48<00:00,  4.21s/it]\n",
      "100%|██████████████████████████████████████████████████████████████████████████████████| 40/40 [02:28<00:00,  3.70s/it]\n",
      "100%|██████████████████████████████████████████████████████████████████████████████████| 40/40 [02:35<00:00,  3.89s/it]\n",
      "100%|██████████████████████████████████████████████████████████████████████████████████| 40/40 [02:54<00:00,  4.36s/it]"
     ]
    },
    {
     "name": "stdout",
     "output_type": "stream",
     "text": [
      "--------------------------------------------------\n",
      "Save results\n",
      "--------------------------------------------------\n",
      "Done! path: C:\\Users\\yf-su\\Desktop\\XAI\\experiments\\point_removal_experiments_vehicle_sensIT, run_id: 9.\n"
     ]
    },
    {
     "name": "stderr",
     "output_type": "stream",
     "text": [
      "\n"
     ]
    },
    {
     "name": "stdout",
     "output_type": "stream",
     "text": [
      "0\n",
      "------------------------------\n",
      "{'experiment': 'noisy', 'n_train': 1000, 'n_val': 100, 'n_test': 3000, 'n_trees': 1000, 'clf_path': 'C:\\\\Users\\\\yf-su\\\\Desktop\\\\XAI\\\\df_oob\\\\openml_dataset', 'openml_clf_path': 'C:\\\\Users\\\\yf-su\\\\Desktop\\\\XAI\\\\df_oob\\\\openml_dataset', 'openml_reg_path': 'C:\\\\Users\\\\yf-su\\\\Desktop\\\\XAI\\\\df_oob\\\\openml_dataset', 'is_noisy': 0.1, 'model_family': 'Tree', 'run_id': 0}\n",
      "--------------------------------------------------\n",
      "2dplanes_727\n",
      "--------------------------------------------------\n",
      "Train X: (1000, 10)\n",
      "Val X: (100, 10)\n",
      "Test X: (3000, 10)\n",
      "------------------------------\n",
      "Start: KNN_Shapley computation\n",
      "Done: KNN_Shapley computation\n",
      "Start: Data-OOB computation\n",
      "Done: Data-OOB computation\n",
      "Start: DF-OOB computation\n"
     ]
    },
    {
     "name": "stderr",
     "output_type": "stream",
     "text": [
      "\r",
      "  0%|                                                                                           | 0/40 [00:00<?, ?it/s]"
     ]
    },
    {
     "name": "stdout",
     "output_type": "stream",
     "text": [
      "Done: DF-OOB computation\n"
     ]
    },
    {
     "name": "stderr",
     "output_type": "stream",
     "text": [
      "100%|██████████████████████████████████████████████████████████████████████████████████| 40/40 [01:27<00:00,  2.20s/it]\n",
      "100%|██████████████████████████████████████████████████████████████████████████████████| 40/40 [01:28<00:00,  2.22s/it]\n",
      "100%|██████████████████████████████████████████████████████████████████████████████████| 40/40 [01:27<00:00,  2.20s/it]\n",
      "100%|██████████████████████████████████████████████████████████████████████████████████| 40/40 [01:30<00:00,  2.27s/it]"
     ]
    },
    {
     "name": "stdout",
     "output_type": "stream",
     "text": [
      "--------------------------------------------------\n",
      "Save results\n",
      "--------------------------------------------------\n",
      "Done! path: C:\\Users\\yf-su\\Desktop\\XAI\\experiments\\point_removal_experiments_2dplanes, run_id: 0.\n"
     ]
    },
    {
     "name": "stderr",
     "output_type": "stream",
     "text": [
      "\n"
     ]
    },
    {
     "name": "stdout",
     "output_type": "stream",
     "text": [
      "1\n",
      "------------------------------\n",
      "{'experiment': 'noisy', 'n_train': 1000, 'n_val': 100, 'n_test': 3000, 'n_trees': 1000, 'clf_path': 'C:\\\\Users\\\\yf-su\\\\Desktop\\\\XAI\\\\df_oob\\\\openml_dataset', 'openml_clf_path': 'C:\\\\Users\\\\yf-su\\\\Desktop\\\\XAI\\\\df_oob\\\\openml_dataset', 'openml_reg_path': 'C:\\\\Users\\\\yf-su\\\\Desktop\\\\XAI\\\\df_oob\\\\openml_dataset', 'is_noisy': 0.1, 'model_family': 'Tree', 'run_id': 1}\n",
      "--------------------------------------------------\n",
      "2dplanes_727\n",
      "--------------------------------------------------\n",
      "Train X: (1000, 10)\n",
      "Val X: (100, 10)\n",
      "Test X: (3000, 10)\n",
      "------------------------------\n",
      "Start: KNN_Shapley computation\n",
      "Done: KNN_Shapley computation\n",
      "Start: Data-OOB computation\n",
      "Done: Data-OOB computation\n",
      "Start: DF-OOB computation\n"
     ]
    },
    {
     "name": "stderr",
     "output_type": "stream",
     "text": [
      "\r",
      "  0%|                                                                                           | 0/40 [00:00<?, ?it/s]"
     ]
    },
    {
     "name": "stdout",
     "output_type": "stream",
     "text": [
      "Done: DF-OOB computation\n"
     ]
    },
    {
     "name": "stderr",
     "output_type": "stream",
     "text": [
      "100%|██████████████████████████████████████████████████████████████████████████████████| 40/40 [01:31<00:00,  2.28s/it]\n",
      "100%|██████████████████████████████████████████████████████████████████████████████████| 40/40 [01:29<00:00,  2.23s/it]\n",
      "100%|██████████████████████████████████████████████████████████████████████████████████| 40/40 [01:28<00:00,  2.22s/it]\n",
      "100%|██████████████████████████████████████████████████████████████████████████████████| 40/40 [01:36<00:00,  2.41s/it]"
     ]
    },
    {
     "name": "stdout",
     "output_type": "stream",
     "text": [
      "--------------------------------------------------\n",
      "Save results\n",
      "--------------------------------------------------\n",
      "Done! path: C:\\Users\\yf-su\\Desktop\\XAI\\experiments\\point_removal_experiments_2dplanes, run_id: 1.\n"
     ]
    },
    {
     "name": "stderr",
     "output_type": "stream",
     "text": [
      "\n"
     ]
    },
    {
     "name": "stdout",
     "output_type": "stream",
     "text": [
      "2\n",
      "------------------------------\n",
      "{'experiment': 'noisy', 'n_train': 1000, 'n_val': 100, 'n_test': 3000, 'n_trees': 1000, 'clf_path': 'C:\\\\Users\\\\yf-su\\\\Desktop\\\\XAI\\\\df_oob\\\\openml_dataset', 'openml_clf_path': 'C:\\\\Users\\\\yf-su\\\\Desktop\\\\XAI\\\\df_oob\\\\openml_dataset', 'openml_reg_path': 'C:\\\\Users\\\\yf-su\\\\Desktop\\\\XAI\\\\df_oob\\\\openml_dataset', 'is_noisy': 0.1, 'model_family': 'Tree', 'run_id': 2}\n",
      "--------------------------------------------------\n",
      "2dplanes_727\n",
      "--------------------------------------------------\n",
      "Train X: (1000, 10)\n",
      "Val X: (100, 10)\n",
      "Test X: (3000, 10)\n",
      "------------------------------\n",
      "Start: KNN_Shapley computation\n",
      "Done: KNN_Shapley computation\n",
      "Start: Data-OOB computation\n",
      "Done: Data-OOB computation\n",
      "Start: DF-OOB computation\n"
     ]
    },
    {
     "name": "stderr",
     "output_type": "stream",
     "text": [
      "\r",
      "  0%|                                                                                           | 0/40 [00:00<?, ?it/s]"
     ]
    },
    {
     "name": "stdout",
     "output_type": "stream",
     "text": [
      "Done: DF-OOB computation\n"
     ]
    },
    {
     "name": "stderr",
     "output_type": "stream",
     "text": [
      "100%|██████████████████████████████████████████████████████████████████████████████████| 40/40 [01:30<00:00,  2.26s/it]\n",
      "100%|██████████████████████████████████████████████████████████████████████████████████| 40/40 [01:27<00:00,  2.20s/it]\n",
      "100%|██████████████████████████████████████████████████████████████████████████████████| 40/40 [01:27<00:00,  2.20s/it]\n",
      "100%|██████████████████████████████████████████████████████████████████████████████████| 40/40 [01:33<00:00,  2.33s/it]"
     ]
    },
    {
     "name": "stdout",
     "output_type": "stream",
     "text": [
      "--------------------------------------------------\n",
      "Save results\n",
      "--------------------------------------------------\n",
      "Done! path: C:\\Users\\yf-su\\Desktop\\XAI\\experiments\\point_removal_experiments_2dplanes, run_id: 2.\n"
     ]
    },
    {
     "name": "stderr",
     "output_type": "stream",
     "text": [
      "\n"
     ]
    },
    {
     "name": "stdout",
     "output_type": "stream",
     "text": [
      "3\n",
      "------------------------------\n",
      "{'experiment': 'noisy', 'n_train': 1000, 'n_val': 100, 'n_test': 3000, 'n_trees': 1000, 'clf_path': 'C:\\\\Users\\\\yf-su\\\\Desktop\\\\XAI\\\\df_oob\\\\openml_dataset', 'openml_clf_path': 'C:\\\\Users\\\\yf-su\\\\Desktop\\\\XAI\\\\df_oob\\\\openml_dataset', 'openml_reg_path': 'C:\\\\Users\\\\yf-su\\\\Desktop\\\\XAI\\\\df_oob\\\\openml_dataset', 'is_noisy': 0.1, 'model_family': 'Tree', 'run_id': 3}\n",
      "--------------------------------------------------\n",
      "2dplanes_727\n",
      "--------------------------------------------------\n",
      "Train X: (1000, 10)\n",
      "Val X: (100, 10)\n",
      "Test X: (3000, 10)\n",
      "------------------------------\n",
      "Start: KNN_Shapley computation\n",
      "Done: KNN_Shapley computation\n",
      "Start: Data-OOB computation\n",
      "Done: Data-OOB computation\n",
      "Start: DF-OOB computation\n"
     ]
    },
    {
     "name": "stderr",
     "output_type": "stream",
     "text": [
      "\r",
      "  0%|                                                                                           | 0/40 [00:00<?, ?it/s]"
     ]
    },
    {
     "name": "stdout",
     "output_type": "stream",
     "text": [
      "Done: DF-OOB computation\n"
     ]
    },
    {
     "name": "stderr",
     "output_type": "stream",
     "text": [
      "100%|██████████████████████████████████████████████████████████████████████████████████| 40/40 [01:27<00:00,  2.19s/it]\n",
      "100%|██████████████████████████████████████████████████████████████████████████████████| 40/40 [01:28<00:00,  2.22s/it]\n",
      "100%|██████████████████████████████████████████████████████████████████████████████████| 40/40 [01:25<00:00,  2.13s/it]\n",
      "100%|██████████████████████████████████████████████████████████████████████████████████| 40/40 [01:30<00:00,  2.26s/it]"
     ]
    },
    {
     "name": "stdout",
     "output_type": "stream",
     "text": [
      "--------------------------------------------------\n",
      "Save results\n",
      "--------------------------------------------------\n",
      "Done! path: C:\\Users\\yf-su\\Desktop\\XAI\\experiments\\point_removal_experiments_2dplanes, run_id: 3.\n"
     ]
    },
    {
     "name": "stderr",
     "output_type": "stream",
     "text": [
      "\n"
     ]
    },
    {
     "name": "stdout",
     "output_type": "stream",
     "text": [
      "4\n",
      "------------------------------\n",
      "{'experiment': 'noisy', 'n_train': 1000, 'n_val': 100, 'n_test': 3000, 'n_trees': 1000, 'clf_path': 'C:\\\\Users\\\\yf-su\\\\Desktop\\\\XAI\\\\df_oob\\\\openml_dataset', 'openml_clf_path': 'C:\\\\Users\\\\yf-su\\\\Desktop\\\\XAI\\\\df_oob\\\\openml_dataset', 'openml_reg_path': 'C:\\\\Users\\\\yf-su\\\\Desktop\\\\XAI\\\\df_oob\\\\openml_dataset', 'is_noisy': 0.1, 'model_family': 'Tree', 'run_id': 4}\n",
      "--------------------------------------------------\n",
      "2dplanes_727\n",
      "--------------------------------------------------\n",
      "Train X: (1000, 10)\n",
      "Val X: (100, 10)\n",
      "Test X: (3000, 10)\n",
      "------------------------------\n",
      "Start: KNN_Shapley computation\n",
      "Done: KNN_Shapley computation\n",
      "Start: Data-OOB computation\n",
      "Done: Data-OOB computation\n",
      "Start: DF-OOB computation\n"
     ]
    },
    {
     "name": "stderr",
     "output_type": "stream",
     "text": [
      "\r",
      "  0%|                                                                                           | 0/40 [00:00<?, ?it/s]"
     ]
    },
    {
     "name": "stdout",
     "output_type": "stream",
     "text": [
      "Done: DF-OOB computation\n"
     ]
    },
    {
     "name": "stderr",
     "output_type": "stream",
     "text": [
      "100%|██████████████████████████████████████████████████████████████████████████████████| 40/40 [01:30<00:00,  2.26s/it]\n",
      "100%|██████████████████████████████████████████████████████████████████████████████████| 40/40 [01:28<00:00,  2.20s/it]\n",
      "100%|██████████████████████████████████████████████████████████████████████████████████| 40/40 [01:24<00:00,  2.12s/it]\n",
      "100%|██████████████████████████████████████████████████████████████████████████████████| 40/40 [01:32<00:00,  2.31s/it]"
     ]
    },
    {
     "name": "stdout",
     "output_type": "stream",
     "text": [
      "--------------------------------------------------\n",
      "Save results\n",
      "--------------------------------------------------\n",
      "Done! path: C:\\Users\\yf-su\\Desktop\\XAI\\experiments\\point_removal_experiments_2dplanes, run_id: 4.\n"
     ]
    },
    {
     "name": "stderr",
     "output_type": "stream",
     "text": [
      "\n"
     ]
    },
    {
     "name": "stdout",
     "output_type": "stream",
     "text": [
      "5\n",
      "------------------------------\n",
      "{'experiment': 'noisy', 'n_train': 1000, 'n_val': 100, 'n_test': 3000, 'n_trees': 1000, 'clf_path': 'C:\\\\Users\\\\yf-su\\\\Desktop\\\\XAI\\\\df_oob\\\\openml_dataset', 'openml_clf_path': 'C:\\\\Users\\\\yf-su\\\\Desktop\\\\XAI\\\\df_oob\\\\openml_dataset', 'openml_reg_path': 'C:\\\\Users\\\\yf-su\\\\Desktop\\\\XAI\\\\df_oob\\\\openml_dataset', 'is_noisy': 0.1, 'model_family': 'Tree', 'run_id': 5}\n",
      "--------------------------------------------------\n",
      "2dplanes_727\n",
      "--------------------------------------------------\n",
      "Train X: (1000, 10)\n",
      "Val X: (100, 10)\n",
      "Test X: (3000, 10)\n",
      "------------------------------\n",
      "Start: KNN_Shapley computation\n",
      "Done: KNN_Shapley computation\n",
      "Start: Data-OOB computation\n",
      "Done: Data-OOB computation\n",
      "Start: DF-OOB computation\n"
     ]
    },
    {
     "name": "stderr",
     "output_type": "stream",
     "text": [
      "\r",
      "  0%|                                                                                           | 0/40 [00:00<?, ?it/s]"
     ]
    },
    {
     "name": "stdout",
     "output_type": "stream",
     "text": [
      "Done: DF-OOB computation\n"
     ]
    },
    {
     "name": "stderr",
     "output_type": "stream",
     "text": [
      "100%|██████████████████████████████████████████████████████████████████████████████████| 40/40 [01:31<00:00,  2.29s/it]\n",
      "100%|██████████████████████████████████████████████████████████████████████████████████| 40/40 [01:29<00:00,  2.24s/it]\n",
      "100%|██████████████████████████████████████████████████████████████████████████████████| 40/40 [01:30<00:00,  2.26s/it]\n",
      "100%|██████████████████████████████████████████████████████████████████████████████████| 40/40 [01:33<00:00,  2.33s/it]"
     ]
    },
    {
     "name": "stdout",
     "output_type": "stream",
     "text": [
      "--------------------------------------------------\n",
      "Save results\n",
      "--------------------------------------------------\n",
      "Done! path: C:\\Users\\yf-su\\Desktop\\XAI\\experiments\\point_removal_experiments_2dplanes, run_id: 5.\n"
     ]
    },
    {
     "name": "stderr",
     "output_type": "stream",
     "text": [
      "\n"
     ]
    },
    {
     "name": "stdout",
     "output_type": "stream",
     "text": [
      "6\n",
      "------------------------------\n",
      "{'experiment': 'noisy', 'n_train': 1000, 'n_val': 100, 'n_test': 3000, 'n_trees': 1000, 'clf_path': 'C:\\\\Users\\\\yf-su\\\\Desktop\\\\XAI\\\\df_oob\\\\openml_dataset', 'openml_clf_path': 'C:\\\\Users\\\\yf-su\\\\Desktop\\\\XAI\\\\df_oob\\\\openml_dataset', 'openml_reg_path': 'C:\\\\Users\\\\yf-su\\\\Desktop\\\\XAI\\\\df_oob\\\\openml_dataset', 'is_noisy': 0.1, 'model_family': 'Tree', 'run_id': 6}\n",
      "--------------------------------------------------\n",
      "2dplanes_727\n",
      "--------------------------------------------------\n",
      "Train X: (1000, 10)\n",
      "Val X: (100, 10)\n",
      "Test X: (3000, 10)\n",
      "------------------------------\n",
      "Start: KNN_Shapley computation\n",
      "Done: KNN_Shapley computation\n",
      "Start: Data-OOB computation\n",
      "Done: Data-OOB computation\n",
      "Start: DF-OOB computation\n"
     ]
    },
    {
     "name": "stderr",
     "output_type": "stream",
     "text": [
      "\r",
      "  0%|                                                                                           | 0/40 [00:00<?, ?it/s]"
     ]
    },
    {
     "name": "stdout",
     "output_type": "stream",
     "text": [
      "Done: DF-OOB computation\n"
     ]
    },
    {
     "name": "stderr",
     "output_type": "stream",
     "text": [
      "100%|██████████████████████████████████████████████████████████████████████████████████| 40/40 [01:30<00:00,  2.26s/it]\n",
      "100%|██████████████████████████████████████████████████████████████████████████████████| 40/40 [01:28<00:00,  2.20s/it]\n",
      "100%|██████████████████████████████████████████████████████████████████████████████████| 40/40 [01:27<00:00,  2.18s/it]\n",
      "100%|██████████████████████████████████████████████████████████████████████████████████| 40/40 [01:33<00:00,  2.33s/it]"
     ]
    },
    {
     "name": "stdout",
     "output_type": "stream",
     "text": [
      "--------------------------------------------------\n",
      "Save results\n",
      "--------------------------------------------------\n",
      "Done! path: C:\\Users\\yf-su\\Desktop\\XAI\\experiments\\point_removal_experiments_2dplanes, run_id: 6.\n"
     ]
    },
    {
     "name": "stderr",
     "output_type": "stream",
     "text": [
      "\n"
     ]
    },
    {
     "name": "stdout",
     "output_type": "stream",
     "text": [
      "7\n",
      "------------------------------\n",
      "{'experiment': 'noisy', 'n_train': 1000, 'n_val': 100, 'n_test': 3000, 'n_trees': 1000, 'clf_path': 'C:\\\\Users\\\\yf-su\\\\Desktop\\\\XAI\\\\df_oob\\\\openml_dataset', 'openml_clf_path': 'C:\\\\Users\\\\yf-su\\\\Desktop\\\\XAI\\\\df_oob\\\\openml_dataset', 'openml_reg_path': 'C:\\\\Users\\\\yf-su\\\\Desktop\\\\XAI\\\\df_oob\\\\openml_dataset', 'is_noisy': 0.1, 'model_family': 'Tree', 'run_id': 7}\n",
      "--------------------------------------------------\n",
      "2dplanes_727\n",
      "--------------------------------------------------\n",
      "Train X: (1000, 10)\n",
      "Val X: (100, 10)\n",
      "Test X: (3000, 10)\n",
      "------------------------------\n",
      "Start: KNN_Shapley computation\n",
      "Done: KNN_Shapley computation\n",
      "Start: Data-OOB computation\n",
      "Done: Data-OOB computation\n",
      "Start: DF-OOB computation\n"
     ]
    },
    {
     "name": "stderr",
     "output_type": "stream",
     "text": [
      "\r",
      "  0%|                                                                                           | 0/40 [00:00<?, ?it/s]"
     ]
    },
    {
     "name": "stdout",
     "output_type": "stream",
     "text": [
      "Done: DF-OOB computation\n"
     ]
    },
    {
     "name": "stderr",
     "output_type": "stream",
     "text": [
      "100%|██████████████████████████████████████████████████████████████████████████████████| 40/40 [01:29<00:00,  2.24s/it]\n",
      "100%|██████████████████████████████████████████████████████████████████████████████████| 40/40 [01:30<00:00,  2.26s/it]\n",
      "100%|██████████████████████████████████████████████████████████████████████████████████| 40/40 [01:27<00:00,  2.19s/it]\n",
      "100%|██████████████████████████████████████████████████████████████████████████████████| 40/40 [01:32<00:00,  2.31s/it]"
     ]
    },
    {
     "name": "stdout",
     "output_type": "stream",
     "text": [
      "--------------------------------------------------\n",
      "Save results\n",
      "--------------------------------------------------\n",
      "Done! path: C:\\Users\\yf-su\\Desktop\\XAI\\experiments\\point_removal_experiments_2dplanes, run_id: 7.\n"
     ]
    },
    {
     "name": "stderr",
     "output_type": "stream",
     "text": [
      "\n"
     ]
    },
    {
     "name": "stdout",
     "output_type": "stream",
     "text": [
      "8\n",
      "------------------------------\n",
      "{'experiment': 'noisy', 'n_train': 1000, 'n_val': 100, 'n_test': 3000, 'n_trees': 1000, 'clf_path': 'C:\\\\Users\\\\yf-su\\\\Desktop\\\\XAI\\\\df_oob\\\\openml_dataset', 'openml_clf_path': 'C:\\\\Users\\\\yf-su\\\\Desktop\\\\XAI\\\\df_oob\\\\openml_dataset', 'openml_reg_path': 'C:\\\\Users\\\\yf-su\\\\Desktop\\\\XAI\\\\df_oob\\\\openml_dataset', 'is_noisy': 0.1, 'model_family': 'Tree', 'run_id': 8}\n",
      "--------------------------------------------------\n",
      "2dplanes_727\n",
      "--------------------------------------------------\n",
      "Train X: (1000, 10)\n",
      "Val X: (100, 10)\n",
      "Test X: (3000, 10)\n",
      "------------------------------\n",
      "Start: KNN_Shapley computation\n",
      "Done: KNN_Shapley computation\n",
      "Start: Data-OOB computation\n",
      "Done: Data-OOB computation\n",
      "Start: DF-OOB computation\n"
     ]
    },
    {
     "name": "stderr",
     "output_type": "stream",
     "text": [
      "\r",
      "  0%|                                                                                           | 0/40 [00:00<?, ?it/s]"
     ]
    },
    {
     "name": "stdout",
     "output_type": "stream",
     "text": [
      "Done: DF-OOB computation\n"
     ]
    },
    {
     "name": "stderr",
     "output_type": "stream",
     "text": [
      "100%|██████████████████████████████████████████████████████████████████████████████████| 40/40 [01:29<00:00,  2.25s/it]\n",
      "100%|██████████████████████████████████████████████████████████████████████████████████| 40/40 [01:29<00:00,  2.25s/it]\n",
      "100%|██████████████████████████████████████████████████████████████████████████████████| 40/40 [01:28<00:00,  2.21s/it]\n",
      "100%|██████████████████████████████████████████████████████████████████████████████████| 40/40 [01:33<00:00,  2.33s/it]"
     ]
    },
    {
     "name": "stdout",
     "output_type": "stream",
     "text": [
      "--------------------------------------------------\n",
      "Save results\n",
      "--------------------------------------------------\n",
      "Done! path: C:\\Users\\yf-su\\Desktop\\XAI\\experiments\\point_removal_experiments_2dplanes, run_id: 8.\n"
     ]
    },
    {
     "name": "stderr",
     "output_type": "stream",
     "text": [
      "\n"
     ]
    },
    {
     "name": "stdout",
     "output_type": "stream",
     "text": [
      "9\n",
      "------------------------------\n",
      "{'experiment': 'noisy', 'n_train': 1000, 'n_val': 100, 'n_test': 3000, 'n_trees': 1000, 'clf_path': 'C:\\\\Users\\\\yf-su\\\\Desktop\\\\XAI\\\\df_oob\\\\openml_dataset', 'openml_clf_path': 'C:\\\\Users\\\\yf-su\\\\Desktop\\\\XAI\\\\df_oob\\\\openml_dataset', 'openml_reg_path': 'C:\\\\Users\\\\yf-su\\\\Desktop\\\\XAI\\\\df_oob\\\\openml_dataset', 'is_noisy': 0.1, 'model_family': 'Tree', 'run_id': 9}\n",
      "--------------------------------------------------\n",
      "2dplanes_727\n",
      "--------------------------------------------------\n",
      "Train X: (1000, 10)\n",
      "Val X: (100, 10)\n",
      "Test X: (3000, 10)\n",
      "------------------------------\n",
      "Start: KNN_Shapley computation\n",
      "Done: KNN_Shapley computation\n",
      "Start: Data-OOB computation\n",
      "Done: Data-OOB computation\n",
      "Start: DF-OOB computation\n"
     ]
    },
    {
     "name": "stderr",
     "output_type": "stream",
     "text": [
      "\r",
      "  0%|                                                                                           | 0/40 [00:00<?, ?it/s]"
     ]
    },
    {
     "name": "stdout",
     "output_type": "stream",
     "text": [
      "Done: DF-OOB computation\n"
     ]
    },
    {
     "name": "stderr",
     "output_type": "stream",
     "text": [
      "100%|██████████████████████████████████████████████████████████████████████████████████| 40/40 [01:29<00:00,  2.25s/it]\n",
      "100%|██████████████████████████████████████████████████████████████████████████████████| 40/40 [01:27<00:00,  2.19s/it]\n",
      "100%|██████████████████████████████████████████████████████████████████████████████████| 40/40 [01:27<00:00,  2.19s/it]\n",
      "100%|██████████████████████████████████████████████████████████████████████████████████| 40/40 [01:31<00:00,  2.29s/it]"
     ]
    },
    {
     "name": "stdout",
     "output_type": "stream",
     "text": [
      "--------------------------------------------------\n",
      "Save results\n",
      "--------------------------------------------------\n",
      "Done! path: C:\\Users\\yf-su\\Desktop\\XAI\\experiments\\point_removal_experiments_2dplanes, run_id: 9.\n"
     ]
    },
    {
     "name": "stderr",
     "output_type": "stream",
     "text": [
      "\n"
     ]
    },
    {
     "name": "stdout",
     "output_type": "stream",
     "text": [
      "0\n",
      "------------------------------\n",
      "{'experiment': 'noisy', 'n_train': 1000, 'n_val': 100, 'n_test': 3000, 'n_trees': 1000, 'clf_path': 'C:\\\\Users\\\\yf-su\\\\Desktop\\\\XAI\\\\df_oob\\\\openml_dataset', 'openml_clf_path': 'C:\\\\Users\\\\yf-su\\\\Desktop\\\\XAI\\\\df_oob\\\\openml_dataset', 'openml_reg_path': 'C:\\\\Users\\\\yf-su\\\\Desktop\\\\XAI\\\\df_oob\\\\openml_dataset', 'is_noisy': 0.1, 'model_family': 'Tree', 'run_id': 0}\n",
      "--------------------------------------------------\n",
      "creditcard\n",
      "--------------------------------------------------\n",
      "Train X: (1000, 23)\n",
      "Val X: (100, 23)\n",
      "Test X: (3000, 23)\n",
      "------------------------------\n",
      "Start: KNN_Shapley computation\n",
      "Done: KNN_Shapley computation\n",
      "Start: Data-OOB computation\n",
      "Done: Data-OOB computation\n",
      "Start: DF-OOB computation\n"
     ]
    },
    {
     "name": "stderr",
     "output_type": "stream",
     "text": [
      "\r",
      "  0%|                                                                                           | 0/40 [00:00<?, ?it/s]"
     ]
    },
    {
     "name": "stdout",
     "output_type": "stream",
     "text": [
      "Done: DF-OOB computation\n"
     ]
    },
    {
     "name": "stderr",
     "output_type": "stream",
     "text": [
      "100%|██████████████████████████████████████████████████████████████████████████████████| 40/40 [02:08<00:00,  3.21s/it]\n",
      "100%|██████████████████████████████████████████████████████████████████████████████████| 40/40 [02:07<00:00,  3.18s/it]\n",
      "100%|██████████████████████████████████████████████████████████████████████████████████| 40/40 [02:08<00:00,  3.21s/it]\n",
      "100%|██████████████████████████████████████████████████████████████████████████████████| 40/40 [02:29<00:00,  3.73s/it]"
     ]
    },
    {
     "name": "stdout",
     "output_type": "stream",
     "text": [
      "--------------------------------------------------\n",
      "Save results\n",
      "--------------------------------------------------\n",
      "Done! path: C:\\Users\\yf-su\\Desktop\\XAI\\experiments\\point_removal_experiments_creditcard, run_id: 0.\n"
     ]
    },
    {
     "name": "stderr",
     "output_type": "stream",
     "text": [
      "\n"
     ]
    },
    {
     "name": "stdout",
     "output_type": "stream",
     "text": [
      "1\n",
      "------------------------------\n",
      "{'experiment': 'noisy', 'n_train': 1000, 'n_val': 100, 'n_test': 3000, 'n_trees': 1000, 'clf_path': 'C:\\\\Users\\\\yf-su\\\\Desktop\\\\XAI\\\\df_oob\\\\openml_dataset', 'openml_clf_path': 'C:\\\\Users\\\\yf-su\\\\Desktop\\\\XAI\\\\df_oob\\\\openml_dataset', 'openml_reg_path': 'C:\\\\Users\\\\yf-su\\\\Desktop\\\\XAI\\\\df_oob\\\\openml_dataset', 'is_noisy': 0.1, 'model_family': 'Tree', 'run_id': 1}\n",
      "--------------------------------------------------\n",
      "creditcard\n",
      "--------------------------------------------------\n",
      "Train X: (1000, 23)\n",
      "Val X: (100, 23)\n",
      "Test X: (3000, 23)\n",
      "------------------------------\n",
      "Start: KNN_Shapley computation\n",
      "Done: KNN_Shapley computation\n",
      "Start: Data-OOB computation\n",
      "Done: Data-OOB computation\n",
      "Start: DF-OOB computation\n"
     ]
    },
    {
     "name": "stderr",
     "output_type": "stream",
     "text": [
      "\r",
      "  0%|                                                                                           | 0/40 [00:00<?, ?it/s]"
     ]
    },
    {
     "name": "stdout",
     "output_type": "stream",
     "text": [
      "Done: DF-OOB computation\n"
     ]
    },
    {
     "name": "stderr",
     "output_type": "stream",
     "text": [
      "100%|██████████████████████████████████████████████████████████████████████████████████| 40/40 [02:13<00:00,  3.34s/it]\n",
      "100%|██████████████████████████████████████████████████████████████████████████████████| 40/40 [02:08<00:00,  3.22s/it]\n",
      "100%|██████████████████████████████████████████████████████████████████████████████████| 40/40 [02:06<00:00,  3.15s/it]\n",
      "100%|██████████████████████████████████████████████████████████████████████████████████| 40/40 [02:30<00:00,  3.76s/it]"
     ]
    },
    {
     "name": "stdout",
     "output_type": "stream",
     "text": [
      "--------------------------------------------------\n",
      "Save results\n",
      "--------------------------------------------------\n",
      "Done! path: C:\\Users\\yf-su\\Desktop\\XAI\\experiments\\point_removal_experiments_creditcard, run_id: 1.\n"
     ]
    },
    {
     "name": "stderr",
     "output_type": "stream",
     "text": [
      "\n"
     ]
    },
    {
     "name": "stdout",
     "output_type": "stream",
     "text": [
      "2\n",
      "------------------------------\n",
      "{'experiment': 'noisy', 'n_train': 1000, 'n_val': 100, 'n_test': 3000, 'n_trees': 1000, 'clf_path': 'C:\\\\Users\\\\yf-su\\\\Desktop\\\\XAI\\\\df_oob\\\\openml_dataset', 'openml_clf_path': 'C:\\\\Users\\\\yf-su\\\\Desktop\\\\XAI\\\\df_oob\\\\openml_dataset', 'openml_reg_path': 'C:\\\\Users\\\\yf-su\\\\Desktop\\\\XAI\\\\df_oob\\\\openml_dataset', 'is_noisy': 0.1, 'model_family': 'Tree', 'run_id': 2}\n",
      "--------------------------------------------------\n",
      "creditcard\n",
      "--------------------------------------------------\n",
      "Train X: (1000, 23)\n",
      "Val X: (100, 23)\n",
      "Test X: (3000, 23)\n",
      "------------------------------\n",
      "Start: KNN_Shapley computation\n",
      "Done: KNN_Shapley computation\n",
      "Start: Data-OOB computation\n",
      "Done: Data-OOB computation\n",
      "Start: DF-OOB computation\n"
     ]
    },
    {
     "name": "stderr",
     "output_type": "stream",
     "text": [
      "\r",
      "  0%|                                                                                           | 0/40 [00:00<?, ?it/s]"
     ]
    },
    {
     "name": "stdout",
     "output_type": "stream",
     "text": [
      "Done: DF-OOB computation\n"
     ]
    },
    {
     "name": "stderr",
     "output_type": "stream",
     "text": [
      "100%|██████████████████████████████████████████████████████████████████████████████████| 40/40 [02:12<00:00,  3.30s/it]\n",
      "100%|██████████████████████████████████████████████████████████████████████████████████| 40/40 [02:10<00:00,  3.25s/it]\n",
      "100%|██████████████████████████████████████████████████████████████████████████████████| 40/40 [02:10<00:00,  3.25s/it]\n",
      "100%|██████████████████████████████████████████████████████████████████████████████████| 40/40 [02:26<00:00,  3.65s/it]"
     ]
    },
    {
     "name": "stdout",
     "output_type": "stream",
     "text": [
      "--------------------------------------------------\n",
      "Save results\n",
      "--------------------------------------------------\n",
      "Done! path: C:\\Users\\yf-su\\Desktop\\XAI\\experiments\\point_removal_experiments_creditcard, run_id: 2.\n"
     ]
    },
    {
     "name": "stderr",
     "output_type": "stream",
     "text": [
      "\n"
     ]
    },
    {
     "name": "stdout",
     "output_type": "stream",
     "text": [
      "3\n",
      "------------------------------\n",
      "{'experiment': 'noisy', 'n_train': 1000, 'n_val': 100, 'n_test': 3000, 'n_trees': 1000, 'clf_path': 'C:\\\\Users\\\\yf-su\\\\Desktop\\\\XAI\\\\df_oob\\\\openml_dataset', 'openml_clf_path': 'C:\\\\Users\\\\yf-su\\\\Desktop\\\\XAI\\\\df_oob\\\\openml_dataset', 'openml_reg_path': 'C:\\\\Users\\\\yf-su\\\\Desktop\\\\XAI\\\\df_oob\\\\openml_dataset', 'is_noisy': 0.1, 'model_family': 'Tree', 'run_id': 3}\n",
      "--------------------------------------------------\n",
      "creditcard\n",
      "--------------------------------------------------\n",
      "Train X: (1000, 23)\n",
      "Val X: (100, 23)\n",
      "Test X: (3000, 23)\n",
      "------------------------------\n",
      "Start: KNN_Shapley computation\n",
      "Done: KNN_Shapley computation\n",
      "Start: Data-OOB computation\n",
      "Done: Data-OOB computation\n",
      "Start: DF-OOB computation\n"
     ]
    },
    {
     "name": "stderr",
     "output_type": "stream",
     "text": [
      "\r",
      "  0%|                                                                                           | 0/40 [00:00<?, ?it/s]"
     ]
    },
    {
     "name": "stdout",
     "output_type": "stream",
     "text": [
      "Done: DF-OOB computation\n"
     ]
    },
    {
     "name": "stderr",
     "output_type": "stream",
     "text": [
      "100%|██████████████████████████████████████████████████████████████████████████████████| 40/40 [02:15<00:00,  3.38s/it]\n",
      "100%|██████████████████████████████████████████████████████████████████████████████████| 40/40 [02:11<00:00,  3.29s/it]\n",
      "100%|██████████████████████████████████████████████████████████████████████████████████| 40/40 [02:09<00:00,  3.23s/it]\n",
      "100%|██████████████████████████████████████████████████████████████████████████████████| 40/40 [02:34<00:00,  3.86s/it]"
     ]
    },
    {
     "name": "stdout",
     "output_type": "stream",
     "text": [
      "--------------------------------------------------\n",
      "Save results\n",
      "--------------------------------------------------\n",
      "Done! path: C:\\Users\\yf-su\\Desktop\\XAI\\experiments\\point_removal_experiments_creditcard, run_id: 3.\n"
     ]
    },
    {
     "name": "stderr",
     "output_type": "stream",
     "text": [
      "\n"
     ]
    },
    {
     "name": "stdout",
     "output_type": "stream",
     "text": [
      "4\n",
      "------------------------------\n",
      "{'experiment': 'noisy', 'n_train': 1000, 'n_val': 100, 'n_test': 3000, 'n_trees': 1000, 'clf_path': 'C:\\\\Users\\\\yf-su\\\\Desktop\\\\XAI\\\\df_oob\\\\openml_dataset', 'openml_clf_path': 'C:\\\\Users\\\\yf-su\\\\Desktop\\\\XAI\\\\df_oob\\\\openml_dataset', 'openml_reg_path': 'C:\\\\Users\\\\yf-su\\\\Desktop\\\\XAI\\\\df_oob\\\\openml_dataset', 'is_noisy': 0.1, 'model_family': 'Tree', 'run_id': 4}\n",
      "--------------------------------------------------\n",
      "creditcard\n",
      "--------------------------------------------------\n",
      "Train X: (1000, 23)\n",
      "Val X: (100, 23)\n",
      "Test X: (3000, 23)\n",
      "------------------------------\n",
      "Start: KNN_Shapley computation\n",
      "Done: KNN_Shapley computation\n",
      "Start: Data-OOB computation\n",
      "Done: Data-OOB computation\n",
      "Start: DF-OOB computation\n"
     ]
    },
    {
     "name": "stderr",
     "output_type": "stream",
     "text": [
      "\r",
      "  0%|                                                                                           | 0/40 [00:00<?, ?it/s]"
     ]
    },
    {
     "name": "stdout",
     "output_type": "stream",
     "text": [
      "Done: DF-OOB computation\n"
     ]
    },
    {
     "name": "stderr",
     "output_type": "stream",
     "text": [
      "100%|██████████████████████████████████████████████████████████████████████████████████| 40/40 [02:15<00:00,  3.38s/it]\n",
      "100%|██████████████████████████████████████████████████████████████████████████████████| 40/40 [02:10<00:00,  3.26s/it]\n",
      "100%|██████████████████████████████████████████████████████████████████████████████████| 40/40 [02:14<00:00,  3.37s/it]\n",
      "100%|██████████████████████████████████████████████████████████████████████████████████| 40/40 [02:31<00:00,  3.78s/it]"
     ]
    },
    {
     "name": "stdout",
     "output_type": "stream",
     "text": [
      "--------------------------------------------------\n",
      "Save results\n",
      "--------------------------------------------------\n",
      "Done! path: C:\\Users\\yf-su\\Desktop\\XAI\\experiments\\point_removal_experiments_creditcard, run_id: 4.\n"
     ]
    },
    {
     "name": "stderr",
     "output_type": "stream",
     "text": [
      "\n"
     ]
    },
    {
     "name": "stdout",
     "output_type": "stream",
     "text": [
      "5\n",
      "------------------------------\n",
      "{'experiment': 'noisy', 'n_train': 1000, 'n_val': 100, 'n_test': 3000, 'n_trees': 1000, 'clf_path': 'C:\\\\Users\\\\yf-su\\\\Desktop\\\\XAI\\\\df_oob\\\\openml_dataset', 'openml_clf_path': 'C:\\\\Users\\\\yf-su\\\\Desktop\\\\XAI\\\\df_oob\\\\openml_dataset', 'openml_reg_path': 'C:\\\\Users\\\\yf-su\\\\Desktop\\\\XAI\\\\df_oob\\\\openml_dataset', 'is_noisy': 0.1, 'model_family': 'Tree', 'run_id': 5}\n",
      "--------------------------------------------------\n",
      "creditcard\n",
      "--------------------------------------------------\n",
      "Train X: (1000, 23)\n",
      "Val X: (100, 23)\n",
      "Test X: (3000, 23)\n",
      "------------------------------\n",
      "Start: KNN_Shapley computation\n",
      "Done: KNN_Shapley computation\n",
      "Start: Data-OOB computation\n",
      "Done: Data-OOB computation\n",
      "Start: DF-OOB computation\n"
     ]
    },
    {
     "name": "stderr",
     "output_type": "stream",
     "text": [
      "\r",
      "  0%|                                                                                           | 0/40 [00:00<?, ?it/s]"
     ]
    },
    {
     "name": "stdout",
     "output_type": "stream",
     "text": [
      "Done: DF-OOB computation\n"
     ]
    },
    {
     "name": "stderr",
     "output_type": "stream",
     "text": [
      "100%|██████████████████████████████████████████████████████████████████████████████████| 40/40 [02:16<00:00,  3.41s/it]\n",
      "100%|██████████████████████████████████████████████████████████████████████████████████| 40/40 [02:08<00:00,  3.21s/it]\n",
      "100%|██████████████████████████████████████████████████████████████████████████████████| 40/40 [02:06<00:00,  3.17s/it]\n",
      "100%|██████████████████████████████████████████████████████████████████████████████████| 40/40 [02:25<00:00,  3.63s/it]"
     ]
    },
    {
     "name": "stdout",
     "output_type": "stream",
     "text": [
      "--------------------------------------------------\n",
      "Save results\n",
      "--------------------------------------------------\n",
      "Done! path: C:\\Users\\yf-su\\Desktop\\XAI\\experiments\\point_removal_experiments_creditcard, run_id: 5.\n"
     ]
    },
    {
     "name": "stderr",
     "output_type": "stream",
     "text": [
      "\n"
     ]
    },
    {
     "name": "stdout",
     "output_type": "stream",
     "text": [
      "6\n",
      "------------------------------\n",
      "{'experiment': 'noisy', 'n_train': 1000, 'n_val': 100, 'n_test': 3000, 'n_trees': 1000, 'clf_path': 'C:\\\\Users\\\\yf-su\\\\Desktop\\\\XAI\\\\df_oob\\\\openml_dataset', 'openml_clf_path': 'C:\\\\Users\\\\yf-su\\\\Desktop\\\\XAI\\\\df_oob\\\\openml_dataset', 'openml_reg_path': 'C:\\\\Users\\\\yf-su\\\\Desktop\\\\XAI\\\\df_oob\\\\openml_dataset', 'is_noisy': 0.1, 'model_family': 'Tree', 'run_id': 6}\n",
      "--------------------------------------------------\n",
      "creditcard\n",
      "--------------------------------------------------\n",
      "Train X: (1000, 23)\n",
      "Val X: (100, 23)\n",
      "Test X: (3000, 23)\n",
      "------------------------------\n",
      "Start: KNN_Shapley computation\n",
      "Done: KNN_Shapley computation\n",
      "Start: Data-OOB computation\n",
      "Done: Data-OOB computation\n",
      "Start: DF-OOB computation\n"
     ]
    },
    {
     "name": "stderr",
     "output_type": "stream",
     "text": [
      "\r",
      "  0%|                                                                                           | 0/40 [00:00<?, ?it/s]"
     ]
    },
    {
     "name": "stdout",
     "output_type": "stream",
     "text": [
      "Done: DF-OOB computation\n"
     ]
    },
    {
     "name": "stderr",
     "output_type": "stream",
     "text": [
      "100%|██████████████████████████████████████████████████████████████████████████████████| 40/40 [02:11<00:00,  3.28s/it]\n",
      "100%|██████████████████████████████████████████████████████████████████████████████████| 40/40 [02:04<00:00,  3.11s/it]\n",
      "100%|██████████████████████████████████████████████████████████████████████████████████| 40/40 [02:02<00:00,  3.06s/it]\n",
      "100%|██████████████████████████████████████████████████████████████████████████████████| 40/40 [02:26<00:00,  3.67s/it]"
     ]
    },
    {
     "name": "stdout",
     "output_type": "stream",
     "text": [
      "--------------------------------------------------\n",
      "Save results\n",
      "--------------------------------------------------\n",
      "Done! path: C:\\Users\\yf-su\\Desktop\\XAI\\experiments\\point_removal_experiments_creditcard, run_id: 6.\n"
     ]
    },
    {
     "name": "stderr",
     "output_type": "stream",
     "text": [
      "\n"
     ]
    },
    {
     "name": "stdout",
     "output_type": "stream",
     "text": [
      "7\n",
      "------------------------------\n",
      "{'experiment': 'noisy', 'n_train': 1000, 'n_val': 100, 'n_test': 3000, 'n_trees': 1000, 'clf_path': 'C:\\\\Users\\\\yf-su\\\\Desktop\\\\XAI\\\\df_oob\\\\openml_dataset', 'openml_clf_path': 'C:\\\\Users\\\\yf-su\\\\Desktop\\\\XAI\\\\df_oob\\\\openml_dataset', 'openml_reg_path': 'C:\\\\Users\\\\yf-su\\\\Desktop\\\\XAI\\\\df_oob\\\\openml_dataset', 'is_noisy': 0.1, 'model_family': 'Tree', 'run_id': 7}\n",
      "--------------------------------------------------\n",
      "creditcard\n",
      "--------------------------------------------------\n",
      "Train X: (1000, 23)\n",
      "Val X: (100, 23)\n",
      "Test X: (3000, 23)\n",
      "------------------------------\n",
      "Start: KNN_Shapley computation\n",
      "Done: KNN_Shapley computation\n",
      "Start: Data-OOB computation\n",
      "Done: Data-OOB computation\n",
      "Start: DF-OOB computation\n"
     ]
    },
    {
     "name": "stderr",
     "output_type": "stream",
     "text": [
      "\r",
      "  0%|                                                                                           | 0/40 [00:00<?, ?it/s]"
     ]
    },
    {
     "name": "stdout",
     "output_type": "stream",
     "text": [
      "Done: DF-OOB computation\n"
     ]
    },
    {
     "name": "stderr",
     "output_type": "stream",
     "text": [
      "100%|██████████████████████████████████████████████████████████████████████████████████| 40/40 [02:09<00:00,  3.23s/it]\n",
      "100%|██████████████████████████████████████████████████████████████████████████████████| 40/40 [02:06<00:00,  3.16s/it]\n",
      "100%|██████████████████████████████████████████████████████████████████████████████████| 40/40 [02:05<00:00,  3.14s/it]\n",
      "100%|██████████████████████████████████████████████████████████████████████████████████| 40/40 [02:24<00:00,  3.62s/it]"
     ]
    },
    {
     "name": "stdout",
     "output_type": "stream",
     "text": [
      "--------------------------------------------------\n",
      "Save results\n",
      "--------------------------------------------------\n",
      "Done! path: C:\\Users\\yf-su\\Desktop\\XAI\\experiments\\point_removal_experiments_creditcard, run_id: 7.\n"
     ]
    },
    {
     "name": "stderr",
     "output_type": "stream",
     "text": [
      "\n"
     ]
    },
    {
     "name": "stdout",
     "output_type": "stream",
     "text": [
      "8\n",
      "------------------------------\n",
      "{'experiment': 'noisy', 'n_train': 1000, 'n_val': 100, 'n_test': 3000, 'n_trees': 1000, 'clf_path': 'C:\\\\Users\\\\yf-su\\\\Desktop\\\\XAI\\\\df_oob\\\\openml_dataset', 'openml_clf_path': 'C:\\\\Users\\\\yf-su\\\\Desktop\\\\XAI\\\\df_oob\\\\openml_dataset', 'openml_reg_path': 'C:\\\\Users\\\\yf-su\\\\Desktop\\\\XAI\\\\df_oob\\\\openml_dataset', 'is_noisy': 0.1, 'model_family': 'Tree', 'run_id': 8}\n",
      "--------------------------------------------------\n",
      "creditcard\n",
      "--------------------------------------------------\n",
      "Train X: (1000, 23)\n",
      "Val X: (100, 23)\n",
      "Test X: (3000, 23)\n",
      "------------------------------\n",
      "Start: KNN_Shapley computation\n",
      "Done: KNN_Shapley computation\n",
      "Start: Data-OOB computation\n",
      "Done: Data-OOB computation\n",
      "Start: DF-OOB computation\n"
     ]
    },
    {
     "name": "stderr",
     "output_type": "stream",
     "text": [
      "\r",
      "  0%|                                                                                           | 0/40 [00:00<?, ?it/s]"
     ]
    },
    {
     "name": "stdout",
     "output_type": "stream",
     "text": [
      "Done: DF-OOB computation\n"
     ]
    },
    {
     "name": "stderr",
     "output_type": "stream",
     "text": [
      "100%|██████████████████████████████████████████████████████████████████████████████████| 40/40 [02:05<00:00,  3.14s/it]\n",
      "100%|██████████████████████████████████████████████████████████████████████████████████| 40/40 [02:00<00:00,  3.00s/it]\n",
      "100%|██████████████████████████████████████████████████████████████████████████████████| 40/40 [01:56<00:00,  2.91s/it]\n",
      "100%|██████████████████████████████████████████████████████████████████████████████████| 40/40 [02:21<00:00,  3.54s/it]"
     ]
    },
    {
     "name": "stdout",
     "output_type": "stream",
     "text": [
      "--------------------------------------------------\n",
      "Save results\n",
      "--------------------------------------------------\n",
      "Done! path: C:\\Users\\yf-su\\Desktop\\XAI\\experiments\\point_removal_experiments_creditcard, run_id: 8.\n"
     ]
    },
    {
     "name": "stderr",
     "output_type": "stream",
     "text": [
      "\n"
     ]
    },
    {
     "name": "stdout",
     "output_type": "stream",
     "text": [
      "9\n",
      "------------------------------\n",
      "{'experiment': 'noisy', 'n_train': 1000, 'n_val': 100, 'n_test': 3000, 'n_trees': 1000, 'clf_path': 'C:\\\\Users\\\\yf-su\\\\Desktop\\\\XAI\\\\df_oob\\\\openml_dataset', 'openml_clf_path': 'C:\\\\Users\\\\yf-su\\\\Desktop\\\\XAI\\\\df_oob\\\\openml_dataset', 'openml_reg_path': 'C:\\\\Users\\\\yf-su\\\\Desktop\\\\XAI\\\\df_oob\\\\openml_dataset', 'is_noisy': 0.1, 'model_family': 'Tree', 'run_id': 9}\n",
      "--------------------------------------------------\n",
      "creditcard\n",
      "--------------------------------------------------\n",
      "Train X: (1000, 23)\n",
      "Val X: (100, 23)\n",
      "Test X: (3000, 23)\n",
      "------------------------------\n",
      "Start: KNN_Shapley computation\n",
      "Done: KNN_Shapley computation\n",
      "Start: Data-OOB computation\n",
      "Done: Data-OOB computation\n",
      "Start: DF-OOB computation\n"
     ]
    },
    {
     "name": "stderr",
     "output_type": "stream",
     "text": [
      "\r",
      "  0%|                                                                                           | 0/40 [00:00<?, ?it/s]"
     ]
    },
    {
     "name": "stdout",
     "output_type": "stream",
     "text": [
      "Done: DF-OOB computation\n"
     ]
    },
    {
     "name": "stderr",
     "output_type": "stream",
     "text": [
      "100%|██████████████████████████████████████████████████████████████████████████████████| 40/40 [02:11<00:00,  3.29s/it]\n",
      "100%|██████████████████████████████████████████████████████████████████████████████████| 40/40 [02:08<00:00,  3.20s/it]\n",
      "100%|██████████████████████████████████████████████████████████████████████████████████| 40/40 [02:01<00:00,  3.03s/it]\n",
      "100%|██████████████████████████████████████████████████████████████████████████████████| 40/40 [02:29<00:00,  3.74s/it]"
     ]
    },
    {
     "name": "stdout",
     "output_type": "stream",
     "text": [
      "--------------------------------------------------\n",
      "Save results\n",
      "--------------------------------------------------\n",
      "Done! path: C:\\Users\\yf-su\\Desktop\\XAI\\experiments\\point_removal_experiments_creditcard, run_id: 9.\n"
     ]
    },
    {
     "name": "stderr",
     "output_type": "stream",
     "text": [
      "\n"
     ]
    },
    {
     "name": "stdout",
     "output_type": "stream",
     "text": [
      "0\n",
      "------------------------------\n",
      "{'experiment': 'noisy', 'n_train': 1000, 'n_val': 100, 'n_test': 3000, 'n_trees': 1000, 'clf_path': 'C:\\\\Users\\\\yf-su\\\\Desktop\\\\XAI\\\\df_oob\\\\openml_dataset', 'openml_clf_path': 'C:\\\\Users\\\\yf-su\\\\Desktop\\\\XAI\\\\df_oob\\\\openml_dataset', 'openml_reg_path': 'C:\\\\Users\\\\yf-su\\\\Desktop\\\\XAI\\\\df_oob\\\\openml_dataset', 'is_noisy': 0.1, 'model_family': 'Tree', 'run_id': 0}\n",
      "--------------------------------------------------\n",
      "nomao\n",
      "--------------------------------------------------\n",
      "Train X: (1000, 89)\n",
      "Val X: (100, 89)\n",
      "Test X: (3000, 89)\n",
      "------------------------------\n",
      "Start: KNN_Shapley computation\n",
      "Done: KNN_Shapley computation\n",
      "Start: Data-OOB computation\n",
      "Done: Data-OOB computation\n",
      "Start: DF-OOB computation\n"
     ]
    },
    {
     "name": "stderr",
     "output_type": "stream",
     "text": [
      "\r",
      "  0%|                                                                                           | 0/40 [00:00<?, ?it/s]"
     ]
    },
    {
     "name": "stdout",
     "output_type": "stream",
     "text": [
      "Done: DF-OOB computation\n"
     ]
    },
    {
     "name": "stderr",
     "output_type": "stream",
     "text": [
      "100%|██████████████████████████████████████████████████████████████████████████████████| 40/40 [01:59<00:00,  2.98s/it]\n",
      "100%|██████████████████████████████████████████████████████████████████████████████████| 40/40 [01:49<00:00,  2.75s/it]\n",
      "100%|██████████████████████████████████████████████████████████████████████████████████| 40/40 [01:50<00:00,  2.76s/it]\n",
      "100%|██████████████████████████████████████████████████████████████████████████████████| 40/40 [02:13<00:00,  3.33s/it]"
     ]
    },
    {
     "name": "stdout",
     "output_type": "stream",
     "text": [
      "--------------------------------------------------\n",
      "Save results\n",
      "--------------------------------------------------\n",
      "Done! path: C:\\Users\\yf-su\\Desktop\\XAI\\experiments\\point_removal_experiments_nomao, run_id: 0.\n"
     ]
    },
    {
     "name": "stderr",
     "output_type": "stream",
     "text": [
      "\n"
     ]
    },
    {
     "name": "stdout",
     "output_type": "stream",
     "text": [
      "1\n",
      "------------------------------\n",
      "{'experiment': 'noisy', 'n_train': 1000, 'n_val': 100, 'n_test': 3000, 'n_trees': 1000, 'clf_path': 'C:\\\\Users\\\\yf-su\\\\Desktop\\\\XAI\\\\df_oob\\\\openml_dataset', 'openml_clf_path': 'C:\\\\Users\\\\yf-su\\\\Desktop\\\\XAI\\\\df_oob\\\\openml_dataset', 'openml_reg_path': 'C:\\\\Users\\\\yf-su\\\\Desktop\\\\XAI\\\\df_oob\\\\openml_dataset', 'is_noisy': 0.1, 'model_family': 'Tree', 'run_id': 1}\n",
      "--------------------------------------------------\n",
      "nomao\n",
      "--------------------------------------------------\n",
      "Train X: (1000, 89)\n",
      "Val X: (100, 89)\n",
      "Test X: (3000, 89)\n",
      "------------------------------\n",
      "Start: KNN_Shapley computation\n",
      "Done: KNN_Shapley computation\n",
      "Start: Data-OOB computation\n",
      "Done: Data-OOB computation\n",
      "Start: DF-OOB computation\n"
     ]
    },
    {
     "name": "stderr",
     "output_type": "stream",
     "text": [
      "\r",
      "  0%|                                                                                           | 0/40 [00:00<?, ?it/s]"
     ]
    },
    {
     "name": "stdout",
     "output_type": "stream",
     "text": [
      "Done: DF-OOB computation\n"
     ]
    },
    {
     "name": "stderr",
     "output_type": "stream",
     "text": [
      "100%|██████████████████████████████████████████████████████████████████████████████████| 40/40 [01:56<00:00,  2.91s/it]\n",
      "100%|██████████████████████████████████████████████████████████████████████████████████| 40/40 [01:49<00:00,  2.74s/it]\n",
      "100%|██████████████████████████████████████████████████████████████████████████████████| 40/40 [01:48<00:00,  2.72s/it]\n",
      "100%|██████████████████████████████████████████████████████████████████████████████████| 40/40 [02:13<00:00,  3.33s/it]"
     ]
    },
    {
     "name": "stdout",
     "output_type": "stream",
     "text": [
      "--------------------------------------------------\n",
      "Save results\n",
      "--------------------------------------------------\n",
      "Done! path: C:\\Users\\yf-su\\Desktop\\XAI\\experiments\\point_removal_experiments_nomao, run_id: 1.\n"
     ]
    },
    {
     "name": "stderr",
     "output_type": "stream",
     "text": [
      "\n"
     ]
    },
    {
     "name": "stdout",
     "output_type": "stream",
     "text": [
      "2\n",
      "------------------------------\n",
      "{'experiment': 'noisy', 'n_train': 1000, 'n_val': 100, 'n_test': 3000, 'n_trees': 1000, 'clf_path': 'C:\\\\Users\\\\yf-su\\\\Desktop\\\\XAI\\\\df_oob\\\\openml_dataset', 'openml_clf_path': 'C:\\\\Users\\\\yf-su\\\\Desktop\\\\XAI\\\\df_oob\\\\openml_dataset', 'openml_reg_path': 'C:\\\\Users\\\\yf-su\\\\Desktop\\\\XAI\\\\df_oob\\\\openml_dataset', 'is_noisy': 0.1, 'model_family': 'Tree', 'run_id': 2}\n",
      "--------------------------------------------------\n",
      "nomao\n",
      "--------------------------------------------------\n",
      "Train X: (1000, 89)\n",
      "Val X: (100, 89)\n",
      "Test X: (3000, 89)\n",
      "------------------------------\n",
      "Start: KNN_Shapley computation\n",
      "Done: KNN_Shapley computation\n",
      "Start: Data-OOB computation\n",
      "Done: Data-OOB computation\n",
      "Start: DF-OOB computation\n"
     ]
    },
    {
     "name": "stderr",
     "output_type": "stream",
     "text": [
      "\r",
      "  0%|                                                                                           | 0/40 [00:00<?, ?it/s]"
     ]
    },
    {
     "name": "stdout",
     "output_type": "stream",
     "text": [
      "Done: DF-OOB computation\n"
     ]
    },
    {
     "name": "stderr",
     "output_type": "stream",
     "text": [
      "100%|██████████████████████████████████████████████████████████████████████████████████| 40/40 [02:07<00:00,  3.19s/it]\n",
      "100%|██████████████████████████████████████████████████████████████████████████████████| 40/40 [01:55<00:00,  2.89s/it]\n",
      "100%|██████████████████████████████████████████████████████████████████████████████████| 40/40 [01:54<00:00,  2.85s/it]\n",
      "100%|██████████████████████████████████████████████████████████████████████████████████| 40/40 [02:19<00:00,  3.50s/it]"
     ]
    },
    {
     "name": "stdout",
     "output_type": "stream",
     "text": [
      "--------------------------------------------------\n",
      "Save results\n",
      "--------------------------------------------------\n",
      "Done! path: C:\\Users\\yf-su\\Desktop\\XAI\\experiments\\point_removal_experiments_nomao, run_id: 2.\n"
     ]
    },
    {
     "name": "stderr",
     "output_type": "stream",
     "text": [
      "\n"
     ]
    },
    {
     "name": "stdout",
     "output_type": "stream",
     "text": [
      "3\n",
      "------------------------------\n",
      "{'experiment': 'noisy', 'n_train': 1000, 'n_val': 100, 'n_test': 3000, 'n_trees': 1000, 'clf_path': 'C:\\\\Users\\\\yf-su\\\\Desktop\\\\XAI\\\\df_oob\\\\openml_dataset', 'openml_clf_path': 'C:\\\\Users\\\\yf-su\\\\Desktop\\\\XAI\\\\df_oob\\\\openml_dataset', 'openml_reg_path': 'C:\\\\Users\\\\yf-su\\\\Desktop\\\\XAI\\\\df_oob\\\\openml_dataset', 'is_noisy': 0.1, 'model_family': 'Tree', 'run_id': 3}\n",
      "--------------------------------------------------\n",
      "nomao\n",
      "--------------------------------------------------\n",
      "Train X: (1000, 89)\n",
      "Val X: (100, 89)\n",
      "Test X: (3000, 89)\n",
      "------------------------------\n",
      "Start: KNN_Shapley computation\n",
      "Done: KNN_Shapley computation\n",
      "Start: Data-OOB computation\n",
      "Done: Data-OOB computation\n",
      "Start: DF-OOB computation\n"
     ]
    },
    {
     "name": "stderr",
     "output_type": "stream",
     "text": [
      "\r",
      "  0%|                                                                                           | 0/40 [00:00<?, ?it/s]"
     ]
    },
    {
     "name": "stdout",
     "output_type": "stream",
     "text": [
      "Done: DF-OOB computation\n"
     ]
    },
    {
     "name": "stderr",
     "output_type": "stream",
     "text": [
      "100%|██████████████████████████████████████████████████████████████████████████████████| 40/40 [01:55<00:00,  2.90s/it]\n",
      "100%|██████████████████████████████████████████████████████████████████████████████████| 40/40 [01:49<00:00,  2.74s/it]\n",
      "100%|██████████████████████████████████████████████████████████████████████████████████| 40/40 [01:54<00:00,  2.86s/it]\n",
      "100%|██████████████████████████████████████████████████████████████████████████████████| 40/40 [02:17<00:00,  3.44s/it]"
     ]
    },
    {
     "name": "stdout",
     "output_type": "stream",
     "text": [
      "--------------------------------------------------\n",
      "Save results\n",
      "--------------------------------------------------\n",
      "Done! path: C:\\Users\\yf-su\\Desktop\\XAI\\experiments\\point_removal_experiments_nomao, run_id: 3.\n"
     ]
    },
    {
     "name": "stderr",
     "output_type": "stream",
     "text": [
      "\n"
     ]
    },
    {
     "name": "stdout",
     "output_type": "stream",
     "text": [
      "4\n",
      "------------------------------\n",
      "{'experiment': 'noisy', 'n_train': 1000, 'n_val': 100, 'n_test': 3000, 'n_trees': 1000, 'clf_path': 'C:\\\\Users\\\\yf-su\\\\Desktop\\\\XAI\\\\df_oob\\\\openml_dataset', 'openml_clf_path': 'C:\\\\Users\\\\yf-su\\\\Desktop\\\\XAI\\\\df_oob\\\\openml_dataset', 'openml_reg_path': 'C:\\\\Users\\\\yf-su\\\\Desktop\\\\XAI\\\\df_oob\\\\openml_dataset', 'is_noisy': 0.1, 'model_family': 'Tree', 'run_id': 4}\n",
      "--------------------------------------------------\n",
      "nomao\n",
      "--------------------------------------------------\n",
      "Train X: (1000, 89)\n",
      "Val X: (100, 89)\n",
      "Test X: (3000, 89)\n",
      "------------------------------\n",
      "Start: KNN_Shapley computation\n",
      "Done: KNN_Shapley computation\n",
      "Start: Data-OOB computation\n",
      "Done: Data-OOB computation\n",
      "Start: DF-OOB computation\n"
     ]
    },
    {
     "name": "stderr",
     "output_type": "stream",
     "text": [
      "\r",
      "  0%|                                                                                           | 0/40 [00:00<?, ?it/s]"
     ]
    },
    {
     "name": "stdout",
     "output_type": "stream",
     "text": [
      "Done: DF-OOB computation\n"
     ]
    },
    {
     "name": "stderr",
     "output_type": "stream",
     "text": [
      "100%|██████████████████████████████████████████████████████████████████████████████████| 40/40 [01:56<00:00,  2.91s/it]\n",
      "100%|██████████████████████████████████████████████████████████████████████████████████| 40/40 [01:51<00:00,  2.80s/it]\n",
      "100%|██████████████████████████████████████████████████████████████████████████████████| 40/40 [01:47<00:00,  2.69s/it]\n",
      "100%|██████████████████████████████████████████████████████████████████████████████████| 40/40 [02:20<00:00,  3.51s/it]"
     ]
    },
    {
     "name": "stdout",
     "output_type": "stream",
     "text": [
      "--------------------------------------------------\n",
      "Save results\n",
      "--------------------------------------------------\n",
      "Done! path: C:\\Users\\yf-su\\Desktop\\XAI\\experiments\\point_removal_experiments_nomao, run_id: 4.\n"
     ]
    },
    {
     "name": "stderr",
     "output_type": "stream",
     "text": [
      "\n"
     ]
    },
    {
     "name": "stdout",
     "output_type": "stream",
     "text": [
      "5\n",
      "------------------------------\n",
      "{'experiment': 'noisy', 'n_train': 1000, 'n_val': 100, 'n_test': 3000, 'n_trees': 1000, 'clf_path': 'C:\\\\Users\\\\yf-su\\\\Desktop\\\\XAI\\\\df_oob\\\\openml_dataset', 'openml_clf_path': 'C:\\\\Users\\\\yf-su\\\\Desktop\\\\XAI\\\\df_oob\\\\openml_dataset', 'openml_reg_path': 'C:\\\\Users\\\\yf-su\\\\Desktop\\\\XAI\\\\df_oob\\\\openml_dataset', 'is_noisy': 0.1, 'model_family': 'Tree', 'run_id': 5}\n",
      "--------------------------------------------------\n",
      "nomao\n",
      "--------------------------------------------------\n",
      "Train X: (1000, 89)\n",
      "Val X: (100, 89)\n",
      "Test X: (3000, 89)\n",
      "------------------------------\n",
      "Start: KNN_Shapley computation\n",
      "Done: KNN_Shapley computation\n",
      "Start: Data-OOB computation\n",
      "Done: Data-OOB computation\n",
      "Start: DF-OOB computation\n"
     ]
    },
    {
     "name": "stderr",
     "output_type": "stream",
     "text": [
      "\r",
      "  0%|                                                                                           | 0/40 [00:00<?, ?it/s]"
     ]
    },
    {
     "name": "stdout",
     "output_type": "stream",
     "text": [
      "Done: DF-OOB computation\n"
     ]
    },
    {
     "name": "stderr",
     "output_type": "stream",
     "text": [
      "100%|██████████████████████████████████████████████████████████████████████████████████| 40/40 [01:59<00:00,  2.98s/it]\n",
      "100%|██████████████████████████████████████████████████████████████████████████████████| 40/40 [01:50<00:00,  2.77s/it]\n",
      "100%|██████████████████████████████████████████████████████████████████████████████████| 40/40 [01:50<00:00,  2.77s/it]\n",
      "100%|██████████████████████████████████████████████████████████████████████████████████| 40/40 [02:11<00:00,  3.29s/it]"
     ]
    },
    {
     "name": "stdout",
     "output_type": "stream",
     "text": [
      "--------------------------------------------------\n",
      "Save results\n",
      "--------------------------------------------------\n",
      "Done! path: C:\\Users\\yf-su\\Desktop\\XAI\\experiments\\point_removal_experiments_nomao, run_id: 5.\n"
     ]
    },
    {
     "name": "stderr",
     "output_type": "stream",
     "text": [
      "\n"
     ]
    },
    {
     "name": "stdout",
     "output_type": "stream",
     "text": [
      "6\n",
      "------------------------------\n",
      "{'experiment': 'noisy', 'n_train': 1000, 'n_val': 100, 'n_test': 3000, 'n_trees': 1000, 'clf_path': 'C:\\\\Users\\\\yf-su\\\\Desktop\\\\XAI\\\\df_oob\\\\openml_dataset', 'openml_clf_path': 'C:\\\\Users\\\\yf-su\\\\Desktop\\\\XAI\\\\df_oob\\\\openml_dataset', 'openml_reg_path': 'C:\\\\Users\\\\yf-su\\\\Desktop\\\\XAI\\\\df_oob\\\\openml_dataset', 'is_noisy': 0.1, 'model_family': 'Tree', 'run_id': 6}\n",
      "--------------------------------------------------\n",
      "nomao\n",
      "--------------------------------------------------\n",
      "Train X: (1000, 89)\n",
      "Val X: (100, 89)\n",
      "Test X: (3000, 89)\n",
      "------------------------------\n",
      "Start: KNN_Shapley computation\n",
      "Done: KNN_Shapley computation\n",
      "Start: Data-OOB computation\n",
      "Done: Data-OOB computation\n",
      "Start: DF-OOB computation\n"
     ]
    },
    {
     "name": "stderr",
     "output_type": "stream",
     "text": [
      "\r",
      "  0%|                                                                                           | 0/40 [00:00<?, ?it/s]"
     ]
    },
    {
     "name": "stdout",
     "output_type": "stream",
     "text": [
      "Done: DF-OOB computation\n"
     ]
    },
    {
     "name": "stderr",
     "output_type": "stream",
     "text": [
      "100%|██████████████████████████████████████████████████████████████████████████████████| 40/40 [01:59<00:00,  2.99s/it]\n",
      "100%|██████████████████████████████████████████████████████████████████████████████████| 40/40 [01:55<00:00,  2.88s/it]\n",
      "100%|██████████████████████████████████████████████████████████████████████████████████| 40/40 [01:52<00:00,  2.82s/it]\n",
      "100%|██████████████████████████████████████████████████████████████████████████████████| 40/40 [02:17<00:00,  3.44s/it]"
     ]
    },
    {
     "name": "stdout",
     "output_type": "stream",
     "text": [
      "--------------------------------------------------\n",
      "Save results\n",
      "--------------------------------------------------\n",
      "Done! path: C:\\Users\\yf-su\\Desktop\\XAI\\experiments\\point_removal_experiments_nomao, run_id: 6.\n"
     ]
    },
    {
     "name": "stderr",
     "output_type": "stream",
     "text": [
      "\n"
     ]
    },
    {
     "name": "stdout",
     "output_type": "stream",
     "text": [
      "7\n",
      "------------------------------\n",
      "{'experiment': 'noisy', 'n_train': 1000, 'n_val': 100, 'n_test': 3000, 'n_trees': 1000, 'clf_path': 'C:\\\\Users\\\\yf-su\\\\Desktop\\\\XAI\\\\df_oob\\\\openml_dataset', 'openml_clf_path': 'C:\\\\Users\\\\yf-su\\\\Desktop\\\\XAI\\\\df_oob\\\\openml_dataset', 'openml_reg_path': 'C:\\\\Users\\\\yf-su\\\\Desktop\\\\XAI\\\\df_oob\\\\openml_dataset', 'is_noisy': 0.1, 'model_family': 'Tree', 'run_id': 7}\n",
      "--------------------------------------------------\n",
      "nomao\n",
      "--------------------------------------------------\n",
      "Train X: (1000, 89)\n",
      "Val X: (100, 89)\n",
      "Test X: (3000, 89)\n",
      "------------------------------\n",
      "Start: KNN_Shapley computation\n",
      "Done: KNN_Shapley computation\n",
      "Start: Data-OOB computation\n",
      "Done: Data-OOB computation\n",
      "Start: DF-OOB computation\n"
     ]
    },
    {
     "name": "stderr",
     "output_type": "stream",
     "text": [
      "\r",
      "  0%|                                                                                           | 0/40 [00:00<?, ?it/s]"
     ]
    },
    {
     "name": "stdout",
     "output_type": "stream",
     "text": [
      "Done: DF-OOB computation\n"
     ]
    },
    {
     "name": "stderr",
     "output_type": "stream",
     "text": [
      "100%|██████████████████████████████████████████████████████████████████████████████████| 40/40 [01:57<00:00,  2.93s/it]\n",
      "100%|██████████████████████████████████████████████████████████████████████████████████| 40/40 [01:54<00:00,  2.86s/it]\n",
      "100%|██████████████████████████████████████████████████████████████████████████████████| 40/40 [01:50<00:00,  2.77s/it]\n",
      "100%|██████████████████████████████████████████████████████████████████████████████████| 40/40 [02:20<00:00,  3.50s/it]"
     ]
    },
    {
     "name": "stdout",
     "output_type": "stream",
     "text": [
      "--------------------------------------------------\n",
      "Save results\n",
      "--------------------------------------------------\n",
      "Done! path: C:\\Users\\yf-su\\Desktop\\XAI\\experiments\\point_removal_experiments_nomao, run_id: 7.\n"
     ]
    },
    {
     "name": "stderr",
     "output_type": "stream",
     "text": [
      "\n"
     ]
    },
    {
     "name": "stdout",
     "output_type": "stream",
     "text": [
      "8\n",
      "------------------------------\n",
      "{'experiment': 'noisy', 'n_train': 1000, 'n_val': 100, 'n_test': 3000, 'n_trees': 1000, 'clf_path': 'C:\\\\Users\\\\yf-su\\\\Desktop\\\\XAI\\\\df_oob\\\\openml_dataset', 'openml_clf_path': 'C:\\\\Users\\\\yf-su\\\\Desktop\\\\XAI\\\\df_oob\\\\openml_dataset', 'openml_reg_path': 'C:\\\\Users\\\\yf-su\\\\Desktop\\\\XAI\\\\df_oob\\\\openml_dataset', 'is_noisy': 0.1, 'model_family': 'Tree', 'run_id': 8}\n",
      "--------------------------------------------------\n",
      "nomao\n",
      "--------------------------------------------------\n",
      "Train X: (1000, 89)\n",
      "Val X: (100, 89)\n",
      "Test X: (3000, 89)\n",
      "------------------------------\n",
      "Start: KNN_Shapley computation\n",
      "Done: KNN_Shapley computation\n",
      "Start: Data-OOB computation\n",
      "Done: Data-OOB computation\n",
      "Start: DF-OOB computation\n"
     ]
    },
    {
     "name": "stderr",
     "output_type": "stream",
     "text": [
      "\r",
      "  0%|                                                                                           | 0/40 [00:00<?, ?it/s]"
     ]
    },
    {
     "name": "stdout",
     "output_type": "stream",
     "text": [
      "Done: DF-OOB computation\n"
     ]
    },
    {
     "name": "stderr",
     "output_type": "stream",
     "text": [
      "100%|██████████████████████████████████████████████████████████████████████████████████| 40/40 [02:05<00:00,  3.14s/it]\n",
      "100%|██████████████████████████████████████████████████████████████████████████████████| 40/40 [01:52<00:00,  2.82s/it]\n",
      "100%|██████████████████████████████████████████████████████████████████████████████████| 40/40 [01:54<00:00,  2.87s/it]\n",
      "100%|██████████████████████████████████████████████████████████████████████████████████| 40/40 [02:08<00:00,  3.22s/it]"
     ]
    },
    {
     "name": "stdout",
     "output_type": "stream",
     "text": [
      "--------------------------------------------------\n",
      "Save results\n",
      "--------------------------------------------------\n",
      "Done! path: C:\\Users\\yf-su\\Desktop\\XAI\\experiments\\point_removal_experiments_nomao, run_id: 8.\n"
     ]
    },
    {
     "name": "stderr",
     "output_type": "stream",
     "text": [
      "\n"
     ]
    },
    {
     "name": "stdout",
     "output_type": "stream",
     "text": [
      "9\n",
      "------------------------------\n",
      "{'experiment': 'noisy', 'n_train': 1000, 'n_val': 100, 'n_test': 3000, 'n_trees': 1000, 'clf_path': 'C:\\\\Users\\\\yf-su\\\\Desktop\\\\XAI\\\\df_oob\\\\openml_dataset', 'openml_clf_path': 'C:\\\\Users\\\\yf-su\\\\Desktop\\\\XAI\\\\df_oob\\\\openml_dataset', 'openml_reg_path': 'C:\\\\Users\\\\yf-su\\\\Desktop\\\\XAI\\\\df_oob\\\\openml_dataset', 'is_noisy': 0.1, 'model_family': 'Tree', 'run_id': 9}\n",
      "--------------------------------------------------\n",
      "nomao\n",
      "--------------------------------------------------\n",
      "Train X: (1000, 89)\n",
      "Val X: (100, 89)\n",
      "Test X: (3000, 89)\n",
      "------------------------------\n",
      "Start: KNN_Shapley computation\n",
      "Done: KNN_Shapley computation\n",
      "Start: Data-OOB computation\n",
      "Done: Data-OOB computation\n",
      "Start: DF-OOB computation\n"
     ]
    },
    {
     "name": "stderr",
     "output_type": "stream",
     "text": [
      "\r",
      "  0%|                                                                                           | 0/40 [00:00<?, ?it/s]"
     ]
    },
    {
     "name": "stdout",
     "output_type": "stream",
     "text": [
      "Done: DF-OOB computation\n"
     ]
    },
    {
     "name": "stderr",
     "output_type": "stream",
     "text": [
      "100%|██████████████████████████████████████████████████████████████████████████████████| 40/40 [01:55<00:00,  2.89s/it]\n",
      "100%|██████████████████████████████████████████████████████████████████████████████████| 40/40 [01:55<00:00,  2.88s/it]\n",
      "100%|██████████████████████████████████████████████████████████████████████████████████| 40/40 [01:50<00:00,  2.75s/it]\n",
      "100%|██████████████████████████████████████████████████████████████████████████████████| 40/40 [02:18<00:00,  3.46s/it]"
     ]
    },
    {
     "name": "stdout",
     "output_type": "stream",
     "text": [
      "--------------------------------------------------\n",
      "Save results\n",
      "--------------------------------------------------\n",
      "Done! path: C:\\Users\\yf-su\\Desktop\\XAI\\experiments\\point_removal_experiments_nomao, run_id: 9.\n"
     ]
    },
    {
     "name": "stderr",
     "output_type": "stream",
     "text": [
      "\n"
     ]
    },
    {
     "name": "stdout",
     "output_type": "stream",
     "text": [
      "0\n",
      "------------------------------\n",
      "{'experiment': 'noisy', 'n_train': 1000, 'n_val': 100, 'n_test': 3000, 'n_trees': 1000, 'clf_path': 'C:\\\\Users\\\\yf-su\\\\Desktop\\\\XAI\\\\df_oob\\\\openml_dataset', 'openml_clf_path': 'C:\\\\Users\\\\yf-su\\\\Desktop\\\\XAI\\\\df_oob\\\\openml_dataset', 'openml_reg_path': 'C:\\\\Users\\\\yf-su\\\\Desktop\\\\XAI\\\\df_oob\\\\openml_dataset', 'is_noisy': 0.1, 'model_family': 'Tree', 'run_id': 0}\n",
      "--------------------------------------------------\n",
      "webdata_wXa\n",
      "--------------------------------------------------\n",
      "Train X: (1000, 123)\n",
      "Val X: (100, 123)\n",
      "Test X: (3000, 123)\n",
      "------------------------------\n",
      "Start: KNN_Shapley computation\n",
      "Done: KNN_Shapley computation\n",
      "Start: Data-OOB computation\n",
      "Done: Data-OOB computation\n",
      "Start: DF-OOB computation\n"
     ]
    },
    {
     "name": "stderr",
     "output_type": "stream",
     "text": [
      "\r",
      "  0%|                                                                                           | 0/40 [00:00<?, ?it/s]"
     ]
    },
    {
     "name": "stdout",
     "output_type": "stream",
     "text": [
      "Done: DF-OOB computation\n"
     ]
    },
    {
     "name": "stderr",
     "output_type": "stream",
     "text": [
      "100%|██████████████████████████████████████████████████████████████████████████████████| 40/40 [01:52<00:00,  2.82s/it]\n",
      "100%|██████████████████████████████████████████████████████████████████████████████████| 40/40 [01:49<00:00,  2.74s/it]\n",
      "100%|██████████████████████████████████████████████████████████████████████████████████| 40/40 [01:49<00:00,  2.74s/it]\n",
      "100%|██████████████████████████████████████████████████████████████████████████████████| 40/40 [02:05<00:00,  3.13s/it]"
     ]
    },
    {
     "name": "stdout",
     "output_type": "stream",
     "text": [
      "--------------------------------------------------\n",
      "Save results\n",
      "--------------------------------------------------\n",
      "Done! path: C:\\Users\\yf-su\\Desktop\\XAI\\experiments\\point_removal_experiments_webdata_wXa, run_id: 0.\n"
     ]
    },
    {
     "name": "stderr",
     "output_type": "stream",
     "text": [
      "\n"
     ]
    },
    {
     "name": "stdout",
     "output_type": "stream",
     "text": [
      "1\n",
      "------------------------------\n",
      "{'experiment': 'noisy', 'n_train': 1000, 'n_val': 100, 'n_test': 3000, 'n_trees': 1000, 'clf_path': 'C:\\\\Users\\\\yf-su\\\\Desktop\\\\XAI\\\\df_oob\\\\openml_dataset', 'openml_clf_path': 'C:\\\\Users\\\\yf-su\\\\Desktop\\\\XAI\\\\df_oob\\\\openml_dataset', 'openml_reg_path': 'C:\\\\Users\\\\yf-su\\\\Desktop\\\\XAI\\\\df_oob\\\\openml_dataset', 'is_noisy': 0.1, 'model_family': 'Tree', 'run_id': 1}\n",
      "--------------------------------------------------\n",
      "webdata_wXa\n",
      "--------------------------------------------------\n",
      "Train X: (1000, 123)\n",
      "Val X: (100, 123)\n",
      "Test X: (3000, 123)\n",
      "------------------------------\n",
      "Start: KNN_Shapley computation\n",
      "Done: KNN_Shapley computation\n",
      "Start: Data-OOB computation\n",
      "Done: Data-OOB computation\n",
      "Start: DF-OOB computation\n"
     ]
    },
    {
     "name": "stderr",
     "output_type": "stream",
     "text": [
      "\r",
      "  0%|                                                                                           | 0/40 [00:00<?, ?it/s]"
     ]
    },
    {
     "name": "stdout",
     "output_type": "stream",
     "text": [
      "Done: DF-OOB computation\n"
     ]
    },
    {
     "name": "stderr",
     "output_type": "stream",
     "text": [
      "100%|██████████████████████████████████████████████████████████████████████████████████| 40/40 [01:53<00:00,  2.83s/it]\n",
      "100%|██████████████████████████████████████████████████████████████████████████████████| 40/40 [01:47<00:00,  2.69s/it]\n",
      "100%|██████████████████████████████████████████████████████████████████████████████████| 40/40 [01:47<00:00,  2.70s/it]\n",
      "100%|██████████████████████████████████████████████████████████████████████████████████| 40/40 [02:05<00:00,  3.13s/it]"
     ]
    },
    {
     "name": "stdout",
     "output_type": "stream",
     "text": [
      "--------------------------------------------------\n",
      "Save results\n",
      "--------------------------------------------------\n",
      "Done! path: C:\\Users\\yf-su\\Desktop\\XAI\\experiments\\point_removal_experiments_webdata_wXa, run_id: 1.\n"
     ]
    },
    {
     "name": "stderr",
     "output_type": "stream",
     "text": [
      "\n"
     ]
    },
    {
     "name": "stdout",
     "output_type": "stream",
     "text": [
      "2\n",
      "------------------------------\n",
      "{'experiment': 'noisy', 'n_train': 1000, 'n_val': 100, 'n_test': 3000, 'n_trees': 1000, 'clf_path': 'C:\\\\Users\\\\yf-su\\\\Desktop\\\\XAI\\\\df_oob\\\\openml_dataset', 'openml_clf_path': 'C:\\\\Users\\\\yf-su\\\\Desktop\\\\XAI\\\\df_oob\\\\openml_dataset', 'openml_reg_path': 'C:\\\\Users\\\\yf-su\\\\Desktop\\\\XAI\\\\df_oob\\\\openml_dataset', 'is_noisy': 0.1, 'model_family': 'Tree', 'run_id': 2}\n",
      "--------------------------------------------------\n",
      "webdata_wXa\n",
      "--------------------------------------------------\n",
      "Train X: (1000, 123)\n",
      "Val X: (100, 123)\n",
      "Test X: (3000, 123)\n",
      "------------------------------\n",
      "Start: KNN_Shapley computation\n",
      "Done: KNN_Shapley computation\n",
      "Start: Data-OOB computation\n",
      "Done: Data-OOB computation\n",
      "Start: DF-OOB computation\n"
     ]
    },
    {
     "name": "stderr",
     "output_type": "stream",
     "text": [
      "\r",
      "  0%|                                                                                           | 0/40 [00:00<?, ?it/s]"
     ]
    },
    {
     "name": "stdout",
     "output_type": "stream",
     "text": [
      "Done: DF-OOB computation\n"
     ]
    },
    {
     "name": "stderr",
     "output_type": "stream",
     "text": [
      "100%|██████████████████████████████████████████████████████████████████████████████████| 40/40 [01:54<00:00,  2.86s/it]\n",
      "100%|██████████████████████████████████████████████████████████████████████████████████| 40/40 [01:58<00:00,  2.96s/it]\n",
      "100%|██████████████████████████████████████████████████████████████████████████████████| 40/40 [01:52<00:00,  2.81s/it]\n",
      "100%|██████████████████████████████████████████████████████████████████████████████████| 40/40 [02:03<00:00,  3.09s/it]"
     ]
    },
    {
     "name": "stdout",
     "output_type": "stream",
     "text": [
      "--------------------------------------------------\n",
      "Save results\n",
      "--------------------------------------------------\n",
      "Done! path: C:\\Users\\yf-su\\Desktop\\XAI\\experiments\\point_removal_experiments_webdata_wXa, run_id: 2.\n"
     ]
    },
    {
     "name": "stderr",
     "output_type": "stream",
     "text": [
      "\n"
     ]
    },
    {
     "name": "stdout",
     "output_type": "stream",
     "text": [
      "3\n",
      "------------------------------\n",
      "{'experiment': 'noisy', 'n_train': 1000, 'n_val': 100, 'n_test': 3000, 'n_trees': 1000, 'clf_path': 'C:\\\\Users\\\\yf-su\\\\Desktop\\\\XAI\\\\df_oob\\\\openml_dataset', 'openml_clf_path': 'C:\\\\Users\\\\yf-su\\\\Desktop\\\\XAI\\\\df_oob\\\\openml_dataset', 'openml_reg_path': 'C:\\\\Users\\\\yf-su\\\\Desktop\\\\XAI\\\\df_oob\\\\openml_dataset', 'is_noisy': 0.1, 'model_family': 'Tree', 'run_id': 3}\n",
      "--------------------------------------------------\n",
      "webdata_wXa\n",
      "--------------------------------------------------\n",
      "Train X: (1000, 123)\n",
      "Val X: (100, 123)\n",
      "Test X: (3000, 123)\n",
      "------------------------------\n",
      "Start: KNN_Shapley computation\n",
      "Done: KNN_Shapley computation\n",
      "Start: Data-OOB computation\n",
      "Done: Data-OOB computation\n",
      "Start: DF-OOB computation\n"
     ]
    },
    {
     "name": "stderr",
     "output_type": "stream",
     "text": [
      "\r",
      "  0%|                                                                                           | 0/40 [00:00<?, ?it/s]"
     ]
    },
    {
     "name": "stdout",
     "output_type": "stream",
     "text": [
      "Done: DF-OOB computation\n"
     ]
    },
    {
     "name": "stderr",
     "output_type": "stream",
     "text": [
      "100%|██████████████████████████████████████████████████████████████████████████████████| 40/40 [01:59<00:00,  2.98s/it]\n",
      "100%|██████████████████████████████████████████████████████████████████████████████████| 40/40 [01:53<00:00,  2.83s/it]\n",
      "100%|██████████████████████████████████████████████████████████████████████████████████| 40/40 [01:53<00:00,  2.83s/it]\n",
      "100%|██████████████████████████████████████████████████████████████████████████████████| 40/40 [02:09<00:00,  3.24s/it]"
     ]
    },
    {
     "name": "stdout",
     "output_type": "stream",
     "text": [
      "--------------------------------------------------\n",
      "Save results\n",
      "--------------------------------------------------\n",
      "Done! path: C:\\Users\\yf-su\\Desktop\\XAI\\experiments\\point_removal_experiments_webdata_wXa, run_id: 3.\n"
     ]
    },
    {
     "name": "stderr",
     "output_type": "stream",
     "text": [
      "\n"
     ]
    },
    {
     "name": "stdout",
     "output_type": "stream",
     "text": [
      "4\n",
      "------------------------------\n",
      "{'experiment': 'noisy', 'n_train': 1000, 'n_val': 100, 'n_test': 3000, 'n_trees': 1000, 'clf_path': 'C:\\\\Users\\\\yf-su\\\\Desktop\\\\XAI\\\\df_oob\\\\openml_dataset', 'openml_clf_path': 'C:\\\\Users\\\\yf-su\\\\Desktop\\\\XAI\\\\df_oob\\\\openml_dataset', 'openml_reg_path': 'C:\\\\Users\\\\yf-su\\\\Desktop\\\\XAI\\\\df_oob\\\\openml_dataset', 'is_noisy': 0.1, 'model_family': 'Tree', 'run_id': 4}\n",
      "--------------------------------------------------\n",
      "webdata_wXa\n",
      "--------------------------------------------------\n",
      "Train X: (1000, 123)\n",
      "Val X: (100, 123)\n",
      "Test X: (3000, 123)\n",
      "------------------------------\n",
      "Start: KNN_Shapley computation\n",
      "Done: KNN_Shapley computation\n",
      "Start: Data-OOB computation\n",
      "Done: Data-OOB computation\n",
      "Start: DF-OOB computation\n"
     ]
    },
    {
     "name": "stderr",
     "output_type": "stream",
     "text": [
      "\r",
      "  0%|                                                                                           | 0/40 [00:00<?, ?it/s]"
     ]
    },
    {
     "name": "stdout",
     "output_type": "stream",
     "text": [
      "Done: DF-OOB computation\n"
     ]
    },
    {
     "name": "stderr",
     "output_type": "stream",
     "text": [
      "100%|██████████████████████████████████████████████████████████████████████████████████| 40/40 [01:59<00:00,  2.99s/it]\n",
      "100%|██████████████████████████████████████████████████████████████████████████████████| 40/40 [01:53<00:00,  2.84s/it]\n",
      "100%|██████████████████████████████████████████████████████████████████████████████████| 40/40 [01:56<00:00,  2.91s/it]\n",
      "100%|██████████████████████████████████████████████████████████████████████████████████| 40/40 [02:03<00:00,  3.08s/it]"
     ]
    },
    {
     "name": "stdout",
     "output_type": "stream",
     "text": [
      "--------------------------------------------------\n",
      "Save results\n",
      "--------------------------------------------------\n",
      "Done! path: C:\\Users\\yf-su\\Desktop\\XAI\\experiments\\point_removal_experiments_webdata_wXa, run_id: 4.\n"
     ]
    },
    {
     "name": "stderr",
     "output_type": "stream",
     "text": [
      "\n"
     ]
    },
    {
     "name": "stdout",
     "output_type": "stream",
     "text": [
      "5\n",
      "------------------------------\n",
      "{'experiment': 'noisy', 'n_train': 1000, 'n_val': 100, 'n_test': 3000, 'n_trees': 1000, 'clf_path': 'C:\\\\Users\\\\yf-su\\\\Desktop\\\\XAI\\\\df_oob\\\\openml_dataset', 'openml_clf_path': 'C:\\\\Users\\\\yf-su\\\\Desktop\\\\XAI\\\\df_oob\\\\openml_dataset', 'openml_reg_path': 'C:\\\\Users\\\\yf-su\\\\Desktop\\\\XAI\\\\df_oob\\\\openml_dataset', 'is_noisy': 0.1, 'model_family': 'Tree', 'run_id': 5}\n",
      "--------------------------------------------------\n",
      "webdata_wXa\n",
      "--------------------------------------------------\n",
      "Train X: (1000, 123)\n",
      "Val X: (100, 123)\n",
      "Test X: (3000, 123)\n",
      "------------------------------\n",
      "Start: KNN_Shapley computation\n",
      "Done: KNN_Shapley computation\n",
      "Start: Data-OOB computation\n",
      "Done: Data-OOB computation\n",
      "Start: DF-OOB computation\n"
     ]
    },
    {
     "name": "stderr",
     "output_type": "stream",
     "text": [
      "\r",
      "  0%|                                                                                           | 0/40 [00:00<?, ?it/s]"
     ]
    },
    {
     "name": "stdout",
     "output_type": "stream",
     "text": [
      "Done: DF-OOB computation\n"
     ]
    },
    {
     "name": "stderr",
     "output_type": "stream",
     "text": [
      "100%|██████████████████████████████████████████████████████████████████████████████████| 40/40 [01:55<00:00,  2.88s/it]\n",
      "100%|██████████████████████████████████████████████████████████████████████████████████| 40/40 [01:51<00:00,  2.78s/it]\n",
      "100%|██████████████████████████████████████████████████████████████████████████████████| 40/40 [01:52<00:00,  2.81s/it]\n",
      "100%|██████████████████████████████████████████████████████████████████████████████████| 40/40 [02:02<00:00,  3.07s/it]"
     ]
    },
    {
     "name": "stdout",
     "output_type": "stream",
     "text": [
      "--------------------------------------------------\n",
      "Save results\n",
      "--------------------------------------------------\n",
      "Done! path: C:\\Users\\yf-su\\Desktop\\XAI\\experiments\\point_removal_experiments_webdata_wXa, run_id: 5.\n"
     ]
    },
    {
     "name": "stderr",
     "output_type": "stream",
     "text": [
      "\n"
     ]
    },
    {
     "name": "stdout",
     "output_type": "stream",
     "text": [
      "6\n",
      "------------------------------\n",
      "{'experiment': 'noisy', 'n_train': 1000, 'n_val': 100, 'n_test': 3000, 'n_trees': 1000, 'clf_path': 'C:\\\\Users\\\\yf-su\\\\Desktop\\\\XAI\\\\df_oob\\\\openml_dataset', 'openml_clf_path': 'C:\\\\Users\\\\yf-su\\\\Desktop\\\\XAI\\\\df_oob\\\\openml_dataset', 'openml_reg_path': 'C:\\\\Users\\\\yf-su\\\\Desktop\\\\XAI\\\\df_oob\\\\openml_dataset', 'is_noisy': 0.1, 'model_family': 'Tree', 'run_id': 6}\n",
      "--------------------------------------------------\n",
      "webdata_wXa\n",
      "--------------------------------------------------\n",
      "Train X: (1000, 123)\n",
      "Val X: (100, 123)\n",
      "Test X: (3000, 123)\n",
      "------------------------------\n",
      "Start: KNN_Shapley computation\n",
      "Done: KNN_Shapley computation\n",
      "Start: Data-OOB computation\n",
      "Done: Data-OOB computation\n",
      "Start: DF-OOB computation\n"
     ]
    },
    {
     "name": "stderr",
     "output_type": "stream",
     "text": [
      "\r",
      "  0%|                                                                                           | 0/40 [00:00<?, ?it/s]"
     ]
    },
    {
     "name": "stdout",
     "output_type": "stream",
     "text": [
      "Done: DF-OOB computation\n"
     ]
    },
    {
     "name": "stderr",
     "output_type": "stream",
     "text": [
      "100%|██████████████████████████████████████████████████████████████████████████████████| 40/40 [01:59<00:00,  2.99s/it]\n",
      "100%|██████████████████████████████████████████████████████████████████████████████████| 40/40 [01:50<00:00,  2.77s/it]\n",
      "100%|██████████████████████████████████████████████████████████████████████████████████| 40/40 [01:52<00:00,  2.82s/it]\n",
      "100%|██████████████████████████████████████████████████████████████████████████████████| 40/40 [02:06<00:00,  3.16s/it]"
     ]
    },
    {
     "name": "stdout",
     "output_type": "stream",
     "text": [
      "--------------------------------------------------\n",
      "Save results\n",
      "--------------------------------------------------\n",
      "Done! path: C:\\Users\\yf-su\\Desktop\\XAI\\experiments\\point_removal_experiments_webdata_wXa, run_id: 6.\n"
     ]
    },
    {
     "name": "stderr",
     "output_type": "stream",
     "text": [
      "\n"
     ]
    },
    {
     "name": "stdout",
     "output_type": "stream",
     "text": [
      "7\n",
      "------------------------------\n",
      "{'experiment': 'noisy', 'n_train': 1000, 'n_val': 100, 'n_test': 3000, 'n_trees': 1000, 'clf_path': 'C:\\\\Users\\\\yf-su\\\\Desktop\\\\XAI\\\\df_oob\\\\openml_dataset', 'openml_clf_path': 'C:\\\\Users\\\\yf-su\\\\Desktop\\\\XAI\\\\df_oob\\\\openml_dataset', 'openml_reg_path': 'C:\\\\Users\\\\yf-su\\\\Desktop\\\\XAI\\\\df_oob\\\\openml_dataset', 'is_noisy': 0.1, 'model_family': 'Tree', 'run_id': 7}\n",
      "--------------------------------------------------\n",
      "webdata_wXa\n",
      "--------------------------------------------------\n",
      "Train X: (1000, 123)\n",
      "Val X: (100, 123)\n",
      "Test X: (3000, 123)\n",
      "------------------------------\n",
      "Start: KNN_Shapley computation\n",
      "Done: KNN_Shapley computation\n",
      "Start: Data-OOB computation\n",
      "Done: Data-OOB computation\n",
      "Start: DF-OOB computation\n"
     ]
    },
    {
     "name": "stderr",
     "output_type": "stream",
     "text": [
      "\r",
      "  0%|                                                                                           | 0/40 [00:00<?, ?it/s]"
     ]
    },
    {
     "name": "stdout",
     "output_type": "stream",
     "text": [
      "Done: DF-OOB computation\n"
     ]
    },
    {
     "name": "stderr",
     "output_type": "stream",
     "text": [
      "100%|██████████████████████████████████████████████████████████████████████████████████| 40/40 [01:55<00:00,  2.88s/it]\n",
      "100%|██████████████████████████████████████████████████████████████████████████████████| 40/40 [01:48<00:00,  2.72s/it]\n",
      "100%|██████████████████████████████████████████████████████████████████████████████████| 40/40 [01:53<00:00,  2.83s/it]\n",
      "100%|██████████████████████████████████████████████████████████████████████████████████| 40/40 [02:05<00:00,  3.13s/it]"
     ]
    },
    {
     "name": "stdout",
     "output_type": "stream",
     "text": [
      "--------------------------------------------------\n",
      "Save results\n",
      "--------------------------------------------------\n",
      "Done! path: C:\\Users\\yf-su\\Desktop\\XAI\\experiments\\point_removal_experiments_webdata_wXa, run_id: 7.\n"
     ]
    },
    {
     "name": "stderr",
     "output_type": "stream",
     "text": [
      "\n"
     ]
    },
    {
     "name": "stdout",
     "output_type": "stream",
     "text": [
      "8\n",
      "------------------------------\n",
      "{'experiment': 'noisy', 'n_train': 1000, 'n_val': 100, 'n_test': 3000, 'n_trees': 1000, 'clf_path': 'C:\\\\Users\\\\yf-su\\\\Desktop\\\\XAI\\\\df_oob\\\\openml_dataset', 'openml_clf_path': 'C:\\\\Users\\\\yf-su\\\\Desktop\\\\XAI\\\\df_oob\\\\openml_dataset', 'openml_reg_path': 'C:\\\\Users\\\\yf-su\\\\Desktop\\\\XAI\\\\df_oob\\\\openml_dataset', 'is_noisy': 0.1, 'model_family': 'Tree', 'run_id': 8}\n",
      "--------------------------------------------------\n",
      "webdata_wXa\n",
      "--------------------------------------------------\n",
      "Train X: (1000, 123)\n",
      "Val X: (100, 123)\n",
      "Test X: (3000, 123)\n",
      "------------------------------\n",
      "Start: KNN_Shapley computation\n",
      "Done: KNN_Shapley computation\n",
      "Start: Data-OOB computation\n",
      "Done: Data-OOB computation\n",
      "Start: DF-OOB computation\n"
     ]
    },
    {
     "name": "stderr",
     "output_type": "stream",
     "text": [
      "\r",
      "  0%|                                                                                           | 0/40 [00:00<?, ?it/s]"
     ]
    },
    {
     "name": "stdout",
     "output_type": "stream",
     "text": [
      "Done: DF-OOB computation\n"
     ]
    },
    {
     "name": "stderr",
     "output_type": "stream",
     "text": [
      "100%|██████████████████████████████████████████████████████████████████████████████████| 40/40 [01:59<00:00,  2.98s/it]\n",
      "100%|██████████████████████████████████████████████████████████████████████████████████| 40/40 [01:53<00:00,  2.84s/it]\n",
      "100%|██████████████████████████████████████████████████████████████████████████████████| 40/40 [01:52<00:00,  2.80s/it]\n",
      "100%|██████████████████████████████████████████████████████████████████████████████████| 40/40 [02:05<00:00,  3.13s/it]"
     ]
    },
    {
     "name": "stdout",
     "output_type": "stream",
     "text": [
      "--------------------------------------------------\n",
      "Save results\n",
      "--------------------------------------------------\n",
      "Done! path: C:\\Users\\yf-su\\Desktop\\XAI\\experiments\\point_removal_experiments_webdata_wXa, run_id: 8.\n"
     ]
    },
    {
     "name": "stderr",
     "output_type": "stream",
     "text": [
      "\n"
     ]
    },
    {
     "name": "stdout",
     "output_type": "stream",
     "text": [
      "9\n",
      "------------------------------\n",
      "{'experiment': 'noisy', 'n_train': 1000, 'n_val': 100, 'n_test': 3000, 'n_trees': 1000, 'clf_path': 'C:\\\\Users\\\\yf-su\\\\Desktop\\\\XAI\\\\df_oob\\\\openml_dataset', 'openml_clf_path': 'C:\\\\Users\\\\yf-su\\\\Desktop\\\\XAI\\\\df_oob\\\\openml_dataset', 'openml_reg_path': 'C:\\\\Users\\\\yf-su\\\\Desktop\\\\XAI\\\\df_oob\\\\openml_dataset', 'is_noisy': 0.1, 'model_family': 'Tree', 'run_id': 9}\n",
      "--------------------------------------------------\n",
      "webdata_wXa\n",
      "--------------------------------------------------\n",
      "Train X: (1000, 123)\n",
      "Val X: (100, 123)\n",
      "Test X: (3000, 123)\n",
      "------------------------------\n",
      "Start: KNN_Shapley computation\n",
      "Done: KNN_Shapley computation\n",
      "Start: Data-OOB computation\n",
      "Done: Data-OOB computation\n",
      "Start: DF-OOB computation\n"
     ]
    },
    {
     "name": "stderr",
     "output_type": "stream",
     "text": [
      "\r",
      "  0%|                                                                                           | 0/40 [00:00<?, ?it/s]"
     ]
    },
    {
     "name": "stdout",
     "output_type": "stream",
     "text": [
      "Done: DF-OOB computation\n"
     ]
    },
    {
     "name": "stderr",
     "output_type": "stream",
     "text": [
      "100%|██████████████████████████████████████████████████████████████████████████████████| 40/40 [02:04<00:00,  3.12s/it]\n",
      "100%|██████████████████████████████████████████████████████████████████████████████████| 40/40 [02:01<00:00,  3.04s/it]\n",
      "100%|██████████████████████████████████████████████████████████████████████████████████| 40/40 [01:57<00:00,  2.93s/it]\n",
      "100%|██████████████████████████████████████████████████████████████████████████████████| 40/40 [02:12<00:00,  3.31s/it]"
     ]
    },
    {
     "name": "stdout",
     "output_type": "stream",
     "text": [
      "--------------------------------------------------\n",
      "Save results\n",
      "--------------------------------------------------\n",
      "Done! path: C:\\Users\\yf-su\\Desktop\\XAI\\experiments\\point_removal_experiments_webdata_wXa, run_id: 9.\n"
     ]
    },
    {
     "name": "stderr",
     "output_type": "stream",
     "text": [
      "\n"
     ]
    },
    {
     "name": "stdout",
     "output_type": "stream",
     "text": [
      "0\n",
      "------------------------------\n",
      "{'experiment': 'noisy', 'n_train': 1000, 'n_val': 100, 'n_test': 3000, 'n_trees': 1000, 'clf_path': 'C:\\\\Users\\\\yf-su\\\\Desktop\\\\XAI\\\\df_oob\\\\openml_dataset', 'openml_clf_path': 'C:\\\\Users\\\\yf-su\\\\Desktop\\\\XAI\\\\df_oob\\\\openml_dataset', 'openml_reg_path': 'C:\\\\Users\\\\yf-su\\\\Desktop\\\\XAI\\\\df_oob\\\\openml_dataset', 'is_noisy': 0.1, 'model_family': 'Tree', 'run_id': 0}\n",
      "--------------------------------------------------\n",
      "MiniBooNE\n",
      "--------------------------------------------------\n",
      "Train X: (1000, 50)\n",
      "Val X: (100, 50)\n",
      "Test X: (3000, 50)\n",
      "------------------------------\n",
      "Start: KNN_Shapley computation\n",
      "Done: KNN_Shapley computation\n",
      "Start: Data-OOB computation\n",
      "Done: Data-OOB computation\n",
      "Start: DF-OOB computation\n"
     ]
    },
    {
     "name": "stderr",
     "output_type": "stream",
     "text": [
      "\r",
      "  0%|                                                                                           | 0/40 [00:00<?, ?it/s]"
     ]
    },
    {
     "name": "stdout",
     "output_type": "stream",
     "text": [
      "Done: DF-OOB computation\n"
     ]
    },
    {
     "name": "stderr",
     "output_type": "stream",
     "text": [
      "100%|██████████████████████████████████████████████████████████████████████████████████| 40/40 [03:03<00:00,  4.59s/it]\n",
      "100%|██████████████████████████████████████████████████████████████████████████████████| 40/40 [02:53<00:00,  4.34s/it]\n",
      "100%|██████████████████████████████████████████████████████████████████████████████████| 40/40 [02:51<00:00,  4.29s/it]\n",
      "100%|██████████████████████████████████████████████████████████████████████████████████| 40/40 [03:04<00:00,  4.62s/it]"
     ]
    },
    {
     "name": "stdout",
     "output_type": "stream",
     "text": [
      "--------------------------------------------------\n",
      "Save results\n",
      "--------------------------------------------------\n",
      "Done! path: C:\\Users\\yf-su\\Desktop\\XAI\\experiments\\point_removal_experiments_MiniBooNE, run_id: 0.\n"
     ]
    },
    {
     "name": "stderr",
     "output_type": "stream",
     "text": [
      "\n"
     ]
    },
    {
     "name": "stdout",
     "output_type": "stream",
     "text": [
      "1\n",
      "------------------------------\n",
      "{'experiment': 'noisy', 'n_train': 1000, 'n_val': 100, 'n_test': 3000, 'n_trees': 1000, 'clf_path': 'C:\\\\Users\\\\yf-su\\\\Desktop\\\\XAI\\\\df_oob\\\\openml_dataset', 'openml_clf_path': 'C:\\\\Users\\\\yf-su\\\\Desktop\\\\XAI\\\\df_oob\\\\openml_dataset', 'openml_reg_path': 'C:\\\\Users\\\\yf-su\\\\Desktop\\\\XAI\\\\df_oob\\\\openml_dataset', 'is_noisy': 0.1, 'model_family': 'Tree', 'run_id': 1}\n",
      "--------------------------------------------------\n",
      "MiniBooNE\n",
      "--------------------------------------------------\n",
      "Train X: (1000, 50)\n",
      "Val X: (100, 50)\n",
      "Test X: (3000, 50)\n",
      "------------------------------\n",
      "Start: KNN_Shapley computation\n",
      "Done: KNN_Shapley computation\n",
      "Start: Data-OOB computation\n",
      "Done: Data-OOB computation\n",
      "Start: DF-OOB computation\n"
     ]
    },
    {
     "name": "stderr",
     "output_type": "stream",
     "text": [
      "\r",
      "  0%|                                                                                           | 0/40 [00:00<?, ?it/s]"
     ]
    },
    {
     "name": "stdout",
     "output_type": "stream",
     "text": [
      "Done: DF-OOB computation\n"
     ]
    },
    {
     "name": "stderr",
     "output_type": "stream",
     "text": [
      "100%|██████████████████████████████████████████████████████████████████████████████████| 40/40 [02:57<00:00,  4.45s/it]\n",
      "100%|██████████████████████████████████████████████████████████████████████████████████| 40/40 [02:48<00:00,  4.22s/it]\n",
      "100%|██████████████████████████████████████████████████████████████████████████████████| 40/40 [02:48<00:00,  4.21s/it]\n",
      "100%|██████████████████████████████████████████████████████████████████████████████████| 40/40 [03:04<00:00,  4.61s/it]"
     ]
    },
    {
     "name": "stdout",
     "output_type": "stream",
     "text": [
      "--------------------------------------------------\n",
      "Save results\n",
      "--------------------------------------------------\n",
      "Done! path: C:\\Users\\yf-su\\Desktop\\XAI\\experiments\\point_removal_experiments_MiniBooNE, run_id: 1.\n"
     ]
    },
    {
     "name": "stderr",
     "output_type": "stream",
     "text": [
      "\n"
     ]
    },
    {
     "name": "stdout",
     "output_type": "stream",
     "text": [
      "2\n",
      "------------------------------\n",
      "{'experiment': 'noisy', 'n_train': 1000, 'n_val': 100, 'n_test': 3000, 'n_trees': 1000, 'clf_path': 'C:\\\\Users\\\\yf-su\\\\Desktop\\\\XAI\\\\df_oob\\\\openml_dataset', 'openml_clf_path': 'C:\\\\Users\\\\yf-su\\\\Desktop\\\\XAI\\\\df_oob\\\\openml_dataset', 'openml_reg_path': 'C:\\\\Users\\\\yf-su\\\\Desktop\\\\XAI\\\\df_oob\\\\openml_dataset', 'is_noisy': 0.1, 'model_family': 'Tree', 'run_id': 2}\n",
      "--------------------------------------------------\n",
      "MiniBooNE\n",
      "--------------------------------------------------\n",
      "Train X: (1000, 50)\n",
      "Val X: (100, 50)\n",
      "Test X: (3000, 50)\n",
      "------------------------------\n",
      "Start: KNN_Shapley computation\n",
      "Done: KNN_Shapley computation\n",
      "Start: Data-OOB computation\n",
      "Done: Data-OOB computation\n",
      "Start: DF-OOB computation\n"
     ]
    },
    {
     "name": "stderr",
     "output_type": "stream",
     "text": [
      "\r",
      "  0%|                                                                                           | 0/40 [00:00<?, ?it/s]"
     ]
    },
    {
     "name": "stdout",
     "output_type": "stream",
     "text": [
      "Done: DF-OOB computation\n"
     ]
    },
    {
     "name": "stderr",
     "output_type": "stream",
     "text": [
      "100%|██████████████████████████████████████████████████████████████████████████████████| 40/40 [02:59<00:00,  4.48s/it]\n",
      "100%|██████████████████████████████████████████████████████████████████████████████████| 40/40 [02:47<00:00,  4.19s/it]\n",
      "100%|██████████████████████████████████████████████████████████████████████████████████| 40/40 [02:52<00:00,  4.30s/it]\n",
      "100%|██████████████████████████████████████████████████████████████████████████████████| 40/40 [03:07<00:00,  4.68s/it]"
     ]
    },
    {
     "name": "stdout",
     "output_type": "stream",
     "text": [
      "--------------------------------------------------\n",
      "Save results\n",
      "--------------------------------------------------\n",
      "Done! path: C:\\Users\\yf-su\\Desktop\\XAI\\experiments\\point_removal_experiments_MiniBooNE, run_id: 2.\n"
     ]
    },
    {
     "name": "stderr",
     "output_type": "stream",
     "text": [
      "\n"
     ]
    },
    {
     "name": "stdout",
     "output_type": "stream",
     "text": [
      "3\n",
      "------------------------------\n",
      "{'experiment': 'noisy', 'n_train': 1000, 'n_val': 100, 'n_test': 3000, 'n_trees': 1000, 'clf_path': 'C:\\\\Users\\\\yf-su\\\\Desktop\\\\XAI\\\\df_oob\\\\openml_dataset', 'openml_clf_path': 'C:\\\\Users\\\\yf-su\\\\Desktop\\\\XAI\\\\df_oob\\\\openml_dataset', 'openml_reg_path': 'C:\\\\Users\\\\yf-su\\\\Desktop\\\\XAI\\\\df_oob\\\\openml_dataset', 'is_noisy': 0.1, 'model_family': 'Tree', 'run_id': 3}\n",
      "--------------------------------------------------\n",
      "MiniBooNE\n",
      "--------------------------------------------------\n",
      "Train X: (1000, 50)\n",
      "Val X: (100, 50)\n",
      "Test X: (3000, 50)\n",
      "------------------------------\n",
      "Start: KNN_Shapley computation\n",
      "Done: KNN_Shapley computation\n",
      "Start: Data-OOB computation\n",
      "Done: Data-OOB computation\n",
      "Start: DF-OOB computation\n"
     ]
    },
    {
     "name": "stderr",
     "output_type": "stream",
     "text": [
      "\r",
      "  0%|                                                                                           | 0/40 [00:00<?, ?it/s]"
     ]
    },
    {
     "name": "stdout",
     "output_type": "stream",
     "text": [
      "Done: DF-OOB computation\n"
     ]
    },
    {
     "name": "stderr",
     "output_type": "stream",
     "text": [
      "100%|██████████████████████████████████████████████████████████████████████████████████| 40/40 [02:59<00:00,  4.48s/it]\n",
      "100%|██████████████████████████████████████████████████████████████████████████████████| 40/40 [02:50<00:00,  4.25s/it]\n",
      "100%|██████████████████████████████████████████████████████████████████████████████████| 40/40 [02:51<00:00,  4.28s/it]\n",
      "100%|██████████████████████████████████████████████████████████████████████████████████| 40/40 [03:00<00:00,  4.51s/it]"
     ]
    },
    {
     "name": "stdout",
     "output_type": "stream",
     "text": [
      "--------------------------------------------------\n",
      "Save results\n",
      "--------------------------------------------------\n",
      "Done! path: C:\\Users\\yf-su\\Desktop\\XAI\\experiments\\point_removal_experiments_MiniBooNE, run_id: 3.\n"
     ]
    },
    {
     "name": "stderr",
     "output_type": "stream",
     "text": [
      "\n"
     ]
    },
    {
     "name": "stdout",
     "output_type": "stream",
     "text": [
      "4\n",
      "------------------------------\n",
      "{'experiment': 'noisy', 'n_train': 1000, 'n_val': 100, 'n_test': 3000, 'n_trees': 1000, 'clf_path': 'C:\\\\Users\\\\yf-su\\\\Desktop\\\\XAI\\\\df_oob\\\\openml_dataset', 'openml_clf_path': 'C:\\\\Users\\\\yf-su\\\\Desktop\\\\XAI\\\\df_oob\\\\openml_dataset', 'openml_reg_path': 'C:\\\\Users\\\\yf-su\\\\Desktop\\\\XAI\\\\df_oob\\\\openml_dataset', 'is_noisy': 0.1, 'model_family': 'Tree', 'run_id': 4}\n",
      "--------------------------------------------------\n",
      "MiniBooNE\n",
      "--------------------------------------------------\n",
      "Train X: (1000, 50)\n",
      "Val X: (100, 50)\n",
      "Test X: (3000, 50)\n",
      "------------------------------\n",
      "Start: KNN_Shapley computation\n",
      "Done: KNN_Shapley computation\n",
      "Start: Data-OOB computation\n",
      "Done: Data-OOB computation\n",
      "Start: DF-OOB computation\n"
     ]
    },
    {
     "name": "stderr",
     "output_type": "stream",
     "text": [
      "\r",
      "  0%|                                                                                           | 0/40 [00:00<?, ?it/s]"
     ]
    },
    {
     "name": "stdout",
     "output_type": "stream",
     "text": [
      "Done: DF-OOB computation\n"
     ]
    },
    {
     "name": "stderr",
     "output_type": "stream",
     "text": [
      "100%|██████████████████████████████████████████████████████████████████████████████████| 40/40 [03:02<00:00,  4.55s/it]\n",
      "100%|██████████████████████████████████████████████████████████████████████████████████| 40/40 [02:49<00:00,  4.25s/it]\n",
      "100%|██████████████████████████████████████████████████████████████████████████████████| 40/40 [02:47<00:00,  4.18s/it]\n",
      "100%|██████████████████████████████████████████████████████████████████████████████████| 40/40 [03:01<00:00,  4.53s/it]"
     ]
    },
    {
     "name": "stdout",
     "output_type": "stream",
     "text": [
      "--------------------------------------------------\n",
      "Save results\n",
      "--------------------------------------------------\n",
      "Done! path: C:\\Users\\yf-su\\Desktop\\XAI\\experiments\\point_removal_experiments_MiniBooNE, run_id: 4.\n"
     ]
    },
    {
     "name": "stderr",
     "output_type": "stream",
     "text": [
      "\n"
     ]
    },
    {
     "name": "stdout",
     "output_type": "stream",
     "text": [
      "5\n",
      "------------------------------\n",
      "{'experiment': 'noisy', 'n_train': 1000, 'n_val': 100, 'n_test': 3000, 'n_trees': 1000, 'clf_path': 'C:\\\\Users\\\\yf-su\\\\Desktop\\\\XAI\\\\df_oob\\\\openml_dataset', 'openml_clf_path': 'C:\\\\Users\\\\yf-su\\\\Desktop\\\\XAI\\\\df_oob\\\\openml_dataset', 'openml_reg_path': 'C:\\\\Users\\\\yf-su\\\\Desktop\\\\XAI\\\\df_oob\\\\openml_dataset', 'is_noisy': 0.1, 'model_family': 'Tree', 'run_id': 5}\n",
      "--------------------------------------------------\n",
      "MiniBooNE\n",
      "--------------------------------------------------\n",
      "Train X: (1000, 50)\n",
      "Val X: (100, 50)\n",
      "Test X: (3000, 50)\n",
      "------------------------------\n",
      "Start: KNN_Shapley computation\n",
      "Done: KNN_Shapley computation\n",
      "Start: Data-OOB computation\n",
      "Done: Data-OOB computation\n",
      "Start: DF-OOB computation\n"
     ]
    },
    {
     "name": "stderr",
     "output_type": "stream",
     "text": [
      "\r",
      "  0%|                                                                                           | 0/40 [00:00<?, ?it/s]"
     ]
    },
    {
     "name": "stdout",
     "output_type": "stream",
     "text": [
      "Done: DF-OOB computation\n"
     ]
    },
    {
     "name": "stderr",
     "output_type": "stream",
     "text": [
      "100%|██████████████████████████████████████████████████████████████████████████████████| 40/40 [02:58<00:00,  4.47s/it]\n",
      "100%|██████████████████████████████████████████████████████████████████████████████████| 40/40 [02:48<00:00,  4.22s/it]\n",
      "100%|██████████████████████████████████████████████████████████████████████████████████| 40/40 [02:47<00:00,  4.18s/it]\n",
      "100%|██████████████████████████████████████████████████████████████████████████████████| 40/40 [03:02<00:00,  4.57s/it]"
     ]
    },
    {
     "name": "stdout",
     "output_type": "stream",
     "text": [
      "--------------------------------------------------\n",
      "Save results\n",
      "--------------------------------------------------\n",
      "Done! path: C:\\Users\\yf-su\\Desktop\\XAI\\experiments\\point_removal_experiments_MiniBooNE, run_id: 5.\n"
     ]
    },
    {
     "name": "stderr",
     "output_type": "stream",
     "text": [
      "\n"
     ]
    },
    {
     "name": "stdout",
     "output_type": "stream",
     "text": [
      "6\n",
      "------------------------------\n",
      "{'experiment': 'noisy', 'n_train': 1000, 'n_val': 100, 'n_test': 3000, 'n_trees': 1000, 'clf_path': 'C:\\\\Users\\\\yf-su\\\\Desktop\\\\XAI\\\\df_oob\\\\openml_dataset', 'openml_clf_path': 'C:\\\\Users\\\\yf-su\\\\Desktop\\\\XAI\\\\df_oob\\\\openml_dataset', 'openml_reg_path': 'C:\\\\Users\\\\yf-su\\\\Desktop\\\\XAI\\\\df_oob\\\\openml_dataset', 'is_noisy': 0.1, 'model_family': 'Tree', 'run_id': 6}\n",
      "--------------------------------------------------\n",
      "MiniBooNE\n",
      "--------------------------------------------------\n",
      "Train X: (1000, 50)\n",
      "Val X: (100, 50)\n",
      "Test X: (3000, 50)\n",
      "------------------------------\n",
      "Start: KNN_Shapley computation\n",
      "Done: KNN_Shapley computation\n",
      "Start: Data-OOB computation\n",
      "Done: Data-OOB computation\n",
      "Start: DF-OOB computation\n"
     ]
    },
    {
     "name": "stderr",
     "output_type": "stream",
     "text": [
      "\r",
      "  0%|                                                                                           | 0/40 [00:00<?, ?it/s]"
     ]
    },
    {
     "name": "stdout",
     "output_type": "stream",
     "text": [
      "Done: DF-OOB computation\n"
     ]
    },
    {
     "name": "stderr",
     "output_type": "stream",
     "text": [
      "100%|██████████████████████████████████████████████████████████████████████████████████| 40/40 [02:59<00:00,  4.48s/it]\n",
      "100%|██████████████████████████████████████████████████████████████████████████████████| 40/40 [02:51<00:00,  4.29s/it]\n",
      "100%|██████████████████████████████████████████████████████████████████████████████████| 40/40 [02:52<00:00,  4.30s/it]\n",
      "100%|██████████████████████████████████████████████████████████████████████████████████| 40/40 [03:05<00:00,  4.64s/it]"
     ]
    },
    {
     "name": "stdout",
     "output_type": "stream",
     "text": [
      "--------------------------------------------------\n",
      "Save results\n",
      "--------------------------------------------------\n",
      "Done! path: C:\\Users\\yf-su\\Desktop\\XAI\\experiments\\point_removal_experiments_MiniBooNE, run_id: 6.\n"
     ]
    },
    {
     "name": "stderr",
     "output_type": "stream",
     "text": [
      "\n"
     ]
    },
    {
     "name": "stdout",
     "output_type": "stream",
     "text": [
      "7\n",
      "------------------------------\n",
      "{'experiment': 'noisy', 'n_train': 1000, 'n_val': 100, 'n_test': 3000, 'n_trees': 1000, 'clf_path': 'C:\\\\Users\\\\yf-su\\\\Desktop\\\\XAI\\\\df_oob\\\\openml_dataset', 'openml_clf_path': 'C:\\\\Users\\\\yf-su\\\\Desktop\\\\XAI\\\\df_oob\\\\openml_dataset', 'openml_reg_path': 'C:\\\\Users\\\\yf-su\\\\Desktop\\\\XAI\\\\df_oob\\\\openml_dataset', 'is_noisy': 0.1, 'model_family': 'Tree', 'run_id': 7}\n",
      "--------------------------------------------------\n",
      "MiniBooNE\n",
      "--------------------------------------------------\n",
      "Train X: (1000, 50)\n",
      "Val X: (100, 50)\n",
      "Test X: (3000, 50)\n",
      "------------------------------\n",
      "Start: KNN_Shapley computation\n",
      "Done: KNN_Shapley computation\n",
      "Start: Data-OOB computation\n",
      "Done: Data-OOB computation\n",
      "Start: DF-OOB computation\n"
     ]
    },
    {
     "name": "stderr",
     "output_type": "stream",
     "text": [
      "\r",
      "  0%|                                                                                           | 0/40 [00:00<?, ?it/s]"
     ]
    },
    {
     "name": "stdout",
     "output_type": "stream",
     "text": [
      "Done: DF-OOB computation\n"
     ]
    },
    {
     "name": "stderr",
     "output_type": "stream",
     "text": [
      "100%|██████████████████████████████████████████████████████████████████████████████████| 40/40 [02:53<00:00,  4.33s/it]\n",
      "100%|██████████████████████████████████████████████████████████████████████████████████| 40/40 [02:55<00:00,  4.39s/it]\n",
      "100%|██████████████████████████████████████████████████████████████████████████████████| 40/40 [02:54<00:00,  4.37s/it]\n",
      "100%|██████████████████████████████████████████████████████████████████████████████████| 40/40 [03:02<00:00,  4.57s/it]"
     ]
    },
    {
     "name": "stdout",
     "output_type": "stream",
     "text": [
      "--------------------------------------------------\n",
      "Save results\n",
      "--------------------------------------------------\n",
      "Done! path: C:\\Users\\yf-su\\Desktop\\XAI\\experiments\\point_removal_experiments_MiniBooNE, run_id: 7.\n"
     ]
    },
    {
     "name": "stderr",
     "output_type": "stream",
     "text": [
      "\n"
     ]
    },
    {
     "name": "stdout",
     "output_type": "stream",
     "text": [
      "8\n",
      "------------------------------\n",
      "{'experiment': 'noisy', 'n_train': 1000, 'n_val': 100, 'n_test': 3000, 'n_trees': 1000, 'clf_path': 'C:\\\\Users\\\\yf-su\\\\Desktop\\\\XAI\\\\df_oob\\\\openml_dataset', 'openml_clf_path': 'C:\\\\Users\\\\yf-su\\\\Desktop\\\\XAI\\\\df_oob\\\\openml_dataset', 'openml_reg_path': 'C:\\\\Users\\\\yf-su\\\\Desktop\\\\XAI\\\\df_oob\\\\openml_dataset', 'is_noisy': 0.1, 'model_family': 'Tree', 'run_id': 8}\n",
      "--------------------------------------------------\n",
      "MiniBooNE\n",
      "--------------------------------------------------\n",
      "Train X: (1000, 50)\n",
      "Val X: (100, 50)\n",
      "Test X: (3000, 50)\n",
      "------------------------------\n",
      "Start: KNN_Shapley computation\n",
      "Done: KNN_Shapley computation\n",
      "Start: Data-OOB computation\n",
      "Done: Data-OOB computation\n",
      "Start: DF-OOB computation\n"
     ]
    },
    {
     "name": "stderr",
     "output_type": "stream",
     "text": [
      "\r",
      "  0%|                                                                                           | 0/40 [00:00<?, ?it/s]"
     ]
    },
    {
     "name": "stdout",
     "output_type": "stream",
     "text": [
      "Done: DF-OOB computation\n"
     ]
    },
    {
     "name": "stderr",
     "output_type": "stream",
     "text": [
      "100%|██████████████████████████████████████████████████████████████████████████████████| 40/40 [03:02<00:00,  4.57s/it]\n",
      "100%|██████████████████████████████████████████████████████████████████████████████████| 40/40 [02:51<00:00,  4.30s/it]\n",
      "100%|██████████████████████████████████████████████████████████████████████████████████| 40/40 [02:50<00:00,  4.26s/it]\n",
      "100%|██████████████████████████████████████████████████████████████████████████████████| 40/40 [03:05<00:00,  4.65s/it]"
     ]
    },
    {
     "name": "stdout",
     "output_type": "stream",
     "text": [
      "--------------------------------------------------\n",
      "Save results\n",
      "--------------------------------------------------\n",
      "Done! path: C:\\Users\\yf-su\\Desktop\\XAI\\experiments\\point_removal_experiments_MiniBooNE, run_id: 8.\n"
     ]
    },
    {
     "name": "stderr",
     "output_type": "stream",
     "text": [
      "\n"
     ]
    },
    {
     "name": "stdout",
     "output_type": "stream",
     "text": [
      "9\n",
      "------------------------------\n",
      "{'experiment': 'noisy', 'n_train': 1000, 'n_val': 100, 'n_test': 3000, 'n_trees': 1000, 'clf_path': 'C:\\\\Users\\\\yf-su\\\\Desktop\\\\XAI\\\\df_oob\\\\openml_dataset', 'openml_clf_path': 'C:\\\\Users\\\\yf-su\\\\Desktop\\\\XAI\\\\df_oob\\\\openml_dataset', 'openml_reg_path': 'C:\\\\Users\\\\yf-su\\\\Desktop\\\\XAI\\\\df_oob\\\\openml_dataset', 'is_noisy': 0.1, 'model_family': 'Tree', 'run_id': 9}\n",
      "--------------------------------------------------\n",
      "MiniBooNE\n",
      "--------------------------------------------------\n",
      "Train X: (1000, 50)\n",
      "Val X: (100, 50)\n",
      "Test X: (3000, 50)\n",
      "------------------------------\n",
      "Start: KNN_Shapley computation\n",
      "Done: KNN_Shapley computation\n",
      "Start: Data-OOB computation\n",
      "Done: Data-OOB computation\n",
      "Start: DF-OOB computation\n"
     ]
    },
    {
     "name": "stderr",
     "output_type": "stream",
     "text": [
      "\r",
      "  0%|                                                                                           | 0/40 [00:00<?, ?it/s]"
     ]
    },
    {
     "name": "stdout",
     "output_type": "stream",
     "text": [
      "Done: DF-OOB computation\n"
     ]
    },
    {
     "name": "stderr",
     "output_type": "stream",
     "text": [
      "100%|██████████████████████████████████████████████████████████████████████████████████| 40/40 [02:56<00:00,  4.42s/it]\n",
      "100%|██████████████████████████████████████████████████████████████████████████████████| 40/40 [02:49<00:00,  4.24s/it]\n",
      "100%|██████████████████████████████████████████████████████████████████████████████████| 40/40 [02:48<00:00,  4.21s/it]\n",
      "100%|██████████████████████████████████████████████████████████████████████████████████| 40/40 [03:04<00:00,  4.61s/it]"
     ]
    },
    {
     "name": "stdout",
     "output_type": "stream",
     "text": [
      "--------------------------------------------------\n",
      "Save results\n",
      "--------------------------------------------------\n",
      "Done! path: C:\\Users\\yf-su\\Desktop\\XAI\\experiments\\point_removal_experiments_MiniBooNE, run_id: 9.\n"
     ]
    },
    {
     "name": "stderr",
     "output_type": "stream",
     "text": [
      "\n"
     ]
    }
   ],
   "source": [
    "'''\n",
    "all experiments include: \n",
    "\"noisy\",\"mask&rank\",\"error\"\n",
    "\n",
    "all eval_experiments include: \n",
    "\"noisy\",\"point_removal\",\"mask\",\"rank\",\"feature_removal\",\"error\"\n",
    "'''\n",
    "\n",
    "experiment = 'noisy'\n",
    "eval_experiments = ['point_removal']\n",
    "\n",
    "for dataset_id, dataset_func in enumerate(all_datasets):\n",
    "    all_config = dataset_func(experiment)[1]\n",
    "    runpath = r'C:\\Users\\yf-su\\Desktop\\XAI\\experiments\\%s_experiments_%s'%(eval_experiments[0],dataset_names[dataset_id])\n",
    "    if not os.path.exists(runpath):\n",
    "        os.makedirs(runpath)\n",
    "\n",
    "    for run_id in range(len(all_config)):\n",
    "        config = all_config[run_id]\n",
    "        print(run_id)\n",
    "        problem = config['problem']\n",
    "        dataset = config['dataset']\n",
    "        dargs_list = config['dargs_list']\n",
    "\n",
    "        for dargs_ind in range(len(dargs_list)):\n",
    "            dargs = dargs_list[dargs_ind]\n",
    "            (X, y), (X_val, y_val), (X_test, y_test), \\\n",
    "                                    noisy_index, beta_true, error_index, \\\n",
    "                                    error_row_index, X_original = \\\n",
    "                                    datasets.load_data(problem,dataset,**dargs)\n",
    "            data_valuation_engine=DataValuation(X=X, y=y, \n",
    "                                                X_val=X_val, y_val=y_val, \n",
    "                                                X_test=X_test, y_test=y_test,\n",
    "                                                problem=problem, dargs=dargs)\n",
    "\n",
    "            if experiment == 'noisy':\n",
    "                data_valuation_engine.compute_data_shap()\n",
    "            data_valuation_engine.compute_feature_shap(subset_ratio_list=['varying'])\n",
    "            if experiment in ['mask&rank','feature_removal','error']:\n",
    "                data_valuation_engine.prepare_learn_oob()\n",
    "                data_valuation_engine.prepare_baseline(SHAP_size=1000)\n",
    "            data_valuation_engine.evaluate_data_values(noisy_index, beta_true, error_index, X_test, y_test, \n",
    "                                                        experiments=eval_experiments, error_row_index=error_row_index)\n",
    "            data_valuation_engine.save_results(runpath, dataset, dargs_ind, noisy_index, beta_true)"
   ]
  },
  {
   "cell_type": "code",
   "execution_count": null,
   "id": "31165982",
   "metadata": {},
   "outputs": [],
   "source": []
  },
  {
   "cell_type": "code",
   "execution_count": null,
   "id": "e42f9a0d",
   "metadata": {},
   "outputs": [],
   "source": []
  },
  {
   "cell_type": "code",
   "execution_count": null,
   "id": "3d259d3a",
   "metadata": {},
   "outputs": [],
   "source": []
  },
  {
   "cell_type": "code",
   "execution_count": null,
   "id": "bf32e07f",
   "metadata": {},
   "outputs": [],
   "source": []
  },
  {
   "cell_type": "code",
   "execution_count": null,
   "id": "10559497",
   "metadata": {},
   "outputs": [],
   "source": []
  },
  {
   "cell_type": "code",
   "execution_count": null,
   "id": "446aabec",
   "metadata": {},
   "outputs": [],
   "source": []
  },
  {
   "cell_type": "markdown",
   "id": "eff90e7a",
   "metadata": {},
   "source": [
    "# Check"
   ]
  },
  {
   "cell_type": "code",
   "execution_count": 4,
   "id": "adeeb3cd",
   "metadata": {},
   "outputs": [],
   "source": [
    "import pickle\n",
    "openml_path = r'C:\\Users\\yf-su\\Desktop\\XAI\\df_oob\\openml_dataset'\n",
    "data_dict=pickle.load(open(openml_path+'/law-school-admission-bianry_43890.pkl', 'rb'))\n",
    "data, target = data_dict['X_num'], data_dict['y'] "
   ]
  },
  {
   "cell_type": "code",
   "execution_count": 5,
   "id": "4dfc0dd7",
   "metadata": {},
   "outputs": [
    {
     "data": {
      "text/plain": [
       "array([[62. , 10. , 10. ,  5. , 44. ,  3.5],\n",
       "       [62. ,  5. ,  4. ,  4. , 29. ,  3.5],\n",
       "       [61. ,  8. ,  7. ,  3. , 37. ,  3.4],\n",
       "       ...,\n",
       "       [62. ,  1. ,  1. ,  3. , 33. ,  3.1],\n",
       "       [65. ,  4. ,  5. ,  3. , 32. ,  3. ],\n",
       "       [60. ,  9. ,  3. ,  3. , 36. ,  3.2]])"
      ]
     },
     "execution_count": 5,
     "metadata": {},
     "output_type": "execute_result"
    }
   ],
   "source": [
    "data"
   ]
  },
  {
   "cell_type": "code",
   "execution_count": null,
   "id": "5e44a3fa",
   "metadata": {},
   "outputs": [],
   "source": []
  },
  {
   "cell_type": "code",
   "execution_count": null,
   "id": "f99d5fe4",
   "metadata": {},
   "outputs": [],
   "source": []
  },
  {
   "cell_type": "code",
   "execution_count": null,
   "id": "9c5c5df8",
   "metadata": {},
   "outputs": [],
   "source": []
  },
  {
   "cell_type": "code",
   "execution_count": null,
   "id": "1d1fe989",
   "metadata": {},
   "outputs": [],
   "source": []
  },
  {
   "cell_type": "code",
   "execution_count": null,
   "id": "0a24c15f",
   "metadata": {},
   "outputs": [],
   "source": []
  },
  {
   "cell_type": "code",
   "execution_count": null,
   "id": "1ca62f9f",
   "metadata": {},
   "outputs": [],
   "source": []
  },
  {
   "cell_type": "code",
   "execution_count": null,
   "id": "84775fcd",
   "metadata": {},
   "outputs": [],
   "source": []
  },
  {
   "cell_type": "code",
   "execution_count": null,
   "id": "c15dbac3",
   "metadata": {},
   "outputs": [],
   "source": []
  },
  {
   "cell_type": "code",
   "execution_count": null,
   "id": "fb748452",
   "metadata": {},
   "outputs": [],
   "source": []
  },
  {
   "cell_type": "code",
   "execution_count": null,
   "id": "80a72de8",
   "metadata": {},
   "outputs": [],
   "source": []
  },
  {
   "cell_type": "code",
   "execution_count": null,
   "id": "bcf5bfa7",
   "metadata": {},
   "outputs": [],
   "source": []
  },
  {
   "cell_type": "code",
   "execution_count": null,
   "id": "c810dcaf",
   "metadata": {},
   "outputs": [],
   "source": []
  },
  {
   "cell_type": "code",
   "execution_count": null,
   "id": "0860955f",
   "metadata": {},
   "outputs": [],
   "source": []
  },
  {
   "cell_type": "code",
   "execution_count": null,
   "id": "a2c694c6",
   "metadata": {},
   "outputs": [],
   "source": []
  }
 ],
 "metadata": {
  "kernelspec": {
   "display_name": "Python 3",
   "language": "python",
   "name": "python3"
  },
  "language_info": {
   "codemirror_mode": {
    "name": "ipython",
    "version": 3
   },
   "file_extension": ".py",
   "mimetype": "text/x-python",
   "name": "python",
   "nbconvert_exporter": "python",
   "pygments_lexer": "ipython3",
   "version": "3.8.8"
  }
 },
 "nbformat": 4,
 "nbformat_minor": 5
}
